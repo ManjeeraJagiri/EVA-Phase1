{
  "nbformat": 4,
  "nbformat_minor": 0,
  "metadata": {
    "colab": {
      "name": "EVA7_S2_Assignment.ipynb",
      "provenance": [],
      "collapsed_sections": []
    },
    "kernelspec": {
      "name": "python3",
      "display_name": "Python 3"
    }
  },
  "cells": [
    {
      "cell_type": "markdown",
      "metadata": {
        "id": "_kYM3ylzYo1Q"
      },
      "source": [
        "![PyTorch](https://devblogs.nvidia.com/wp-content/uploads/2017/04/pytorch-logo-dark.png)\n",
        "\n",
        "An open source machine learning framework that accelerates the path from research prototyping to production deployment.\n",
        "\n"
      ]
    },
    {
      "cell_type": "markdown",
      "metadata": {
        "id": "WcVqSTrWY6oz"
      },
      "source": [
        "# Tensor - Pytorch's core data structure\n",
        "\n",
        "In Python we can create lists, lists of lists, lists of lists and so on. In NumPy there is a `numpy.ndarray` which represents `n`- dimensional array. In math there is a special name for the generalization of vectors and matrices to a higher dimensional space - a tensor\n",
        "\n",
        "Tensor is an entity with a defined number of dimensions called an order (rank). \n",
        "\n",
        "**Scalar** can be considered as a rank-0-tensor. \n",
        "\n",
        "**Vector** can be introduced as a rank-1-tensor. \n",
        "\n",
        "**Matrices** can be considered as a rank-2-tensor.\n",
        "\n",
        "# Tensor Basics\n",
        "\n",
        "Let's import the torch module first."
      ]
    },
    {
      "cell_type": "code",
      "metadata": {
        "id": "e-oFVL2tYYqp"
      },
      "source": [
        "import numpy as np\n",
        "import torch"
      ],
      "execution_count": null,
      "outputs": []
    },
    {
      "cell_type": "markdown",
      "metadata": {
        "id": "uGxuR5IEaFJa"
      },
      "source": [
        "## Tensor Creation\n",
        "Let's view examples of matrices and tensors generation\n",
        "\n",
        "2-dimensional (rank-2) tensor of zeros:"
      ]
    },
    {
      "cell_type": "code",
      "metadata": {
        "id": "897JQc25aD3E",
        "colab": {
          "base_uri": "https://localhost:8080/"
        },
        "outputId": "7d7610ea-d7a0-4a6a-c33e-fef7f54a42f8"
      },
      "source": [
        "torch.zeros(3, 4)"
      ],
      "execution_count": null,
      "outputs": [
        {
          "output_type": "execute_result",
          "data": {
            "text/plain": [
              "tensor([[0., 0., 0., 0.],\n",
              "        [0., 0., 0., 0.],\n",
              "        [0., 0., 0., 0.]])"
            ]
          },
          "metadata": {},
          "execution_count": 2
        }
      ]
    },
    {
      "cell_type": "markdown",
      "metadata": {
        "id": "pujmpEBhaPRA"
      },
      "source": [
        "Random rank-3 tensor:\n",
        "_read the print below and convince yourself how this is a rank-3-tensor and learn what those 2, 3, 4 values are there for_"
      ]
    },
    {
      "cell_type": "code",
      "metadata": {
        "id": "mBrznTNhaOL7",
        "colab": {
          "base_uri": "https://localhost:8080/"
        },
        "outputId": "cc89aaff-bd60-4f86-f29c-e89e7f053cb1"
      },
      "source": [
        "torch.rand(2, 3, 4)"
      ],
      "execution_count": null,
      "outputs": [
        {
          "output_type": "execute_result",
          "data": {
            "text/plain": [
              "tensor([[[0.1148, 0.2543, 0.7310, 0.6567],\n",
              "         [0.4707, 0.2020, 0.5631, 0.5483],\n",
              "         [0.4714, 0.1566, 0.2033, 0.7806]],\n",
              "\n",
              "        [[0.1998, 0.8805, 0.4942, 0.8079],\n",
              "         [0.6686, 0.3216, 0.1509, 0.7184],\n",
              "         [0.0572, 0.8401, 0.6763, 0.0141]]])"
            ]
          },
          "metadata": {},
          "execution_count": 3
        }
      ]
    },
    {
      "cell_type": "markdown",
      "metadata": {
        "id": "kO4fIr15asdi"
      },
      "source": [
        "I am hoping you have noticed 4-elements in a row, 3 rows making one block and there are 2 blocks. \n",
        "\n",
        "Random rank-4-tensor:"
      ]
    },
    {
      "cell_type": "code",
      "metadata": {
        "id": "KiCLvMGCaVZ3",
        "colab": {
          "base_uri": "https://localhost:8080/"
        },
        "outputId": "c7d2cea9-562a-4641-877c-bd66aa49a641"
      },
      "source": [
        "torch.rand(2, 2, 2, 3)"
      ],
      "execution_count": null,
      "outputs": [
        {
          "output_type": "execute_result",
          "data": {
            "text/plain": [
              "tensor([[[[0.8800, 0.3590, 0.7079],\n",
              "          [0.1624, 0.4920, 0.3815]],\n",
              "\n",
              "         [[0.3445, 0.6949, 0.3522],\n",
              "          [0.9417, 0.4152, 0.4956]]],\n",
              "\n",
              "\n",
              "        [[[0.5774, 0.3800, 0.1207],\n",
              "          [0.8322, 0.9045, 0.3491]],\n",
              "\n",
              "         [[0.4173, 0.5161, 0.2998],\n",
              "          [0.9009, 0.2438, 0.5980]]]])"
            ]
          },
          "metadata": {},
          "execution_count": 4
        }
      ]
    },
    {
      "cell_type": "markdown",
      "metadata": {
        "id": "lF6VL68s3AMV"
      },
      "source": [
        "## Question 1:\n",
        "\n",
        "How many dimensions are there in a tensor defined as below?<hr>\n",
        "4"
      ]
    },
    {
      "cell_type": "code",
      "metadata": {
        "id": "8IbXcI3x3Ibt",
        "colab": {
          "base_uri": "https://localhost:8080/"
        },
        "outputId": "99c0f52b-17e5-4019-a910-5bd85f3ed1ae"
      },
      "source": [
        "torch.rand(1, 1, 1, 1)"
      ],
      "execution_count": null,
      "outputs": [
        {
          "output_type": "execute_result",
          "data": {
            "text/plain": [
              "tensor([[[[0.8494]]]])"
            ]
          },
          "metadata": {},
          "execution_count": 5
        }
      ]
    },
    {
      "cell_type": "markdown",
      "metadata": {
        "id": "qmgpqssRa9jF"
      },
      "source": [
        ".\n",
        "\n",
        "---\n",
        "\n",
        "\n",
        "There are many more ways to create tensor using some restrictions on values it should contatn - for the full reference, please follow the [official docs](https://pytorch.org/docs/stable/torch.html#creation-ops). \n",
        "\n",
        "\n",
        ".\n",
        "---\n",
        "\n",
        "\n",
        "# Python / NumPy / Pytorch interoperability\n",
        "\n",
        "You can create tensors from python as well as numpy arrays. You can also convert torch tensors to numpy arrays. So, the interoperability between torch and numpy is pretty good. "
      ]
    },
    {
      "cell_type": "code",
      "metadata": {
        "id": "ipgpeWPfa6gE",
        "colab": {
          "base_uri": "https://localhost:8080/"
        },
        "outputId": "85015b31-28df-4bfa-bb65-e48b7d258b2c"
      },
      "source": [
        "# Simple Python List\n",
        "python_list = [1, 2]\n",
        "\n",
        "# Create a numpy array from python list\n",
        "numpy_array = np.array(python_list)\n",
        "\n",
        "# Create a torch Tensor from python list\n",
        "tensor_from_list = torch.tensor(python_list)\n",
        "\n",
        "# Create a torch Tensor from Numpy array\n",
        "tensor_from_array = torch.tensor(numpy_array)\n",
        "\n",
        "# Another way to create a torch Tensor from Numpy array (share same storage)\n",
        "tensor_from_array_v2 = torch.from_numpy(numpy_array)\n",
        "\n",
        "# Convert torch tensor to numpy array\n",
        "array_from_tensor = tensor_from_array.numpy()\n",
        "\n",
        "print('List:   ', python_list)\n",
        "print('Array:  ', numpy_array)\n",
        "print('Tensor: ', tensor_from_list)\n",
        "print('Tensor: ', tensor_from_array)\n",
        "print('Tensor: ', tensor_from_array_v2)\n",
        "print('Array:  ', array_from_tensor)"
      ],
      "execution_count": null,
      "outputs": [
        {
          "output_type": "stream",
          "name": "stdout",
          "text": [
            "List:    [1, 2]\n",
            "Array:   [1 2]\n",
            "Tensor:  tensor([1, 2])\n",
            "Tensor:  tensor([1, 2])\n",
            "Tensor:  tensor([1, 2])\n",
            "Array:   [1 2]\n"
          ]
        }
      ]
    },
    {
      "cell_type": "markdown",
      "metadata": {
        "id": "X_x-86B8gqik"
      },
      "source": [
        "**Difference between** `torch.Tensor` **and** `torch.from_numpy`\n",
        "\n",
        "Pytorch aims to be an effective library for computations. What does it mean? It means that pytorch avoids memory copying if it can. "
      ]
    },
    {
      "cell_type": "code",
      "metadata": {
        "id": "eHCKDGpygn_d",
        "colab": {
          "base_uri": "https://localhost:8080/"
        },
        "outputId": "c672bfb7-3dc0-49fd-afe1-62fd339b181e"
      },
      "source": [
        "numpy_array[0] = 10\n",
        "\n",
        "print('Array:  ', numpy_array)\n",
        "print('Tensor: ', tensor_from_array)\n",
        "print('Tensor: ', tensor_from_array_v2)"
      ],
      "execution_count": null,
      "outputs": [
        {
          "output_type": "stream",
          "name": "stdout",
          "text": [
            "Array:   [10  2]\n",
            "Tensor:  tensor([1, 2])\n",
            "Tensor:  tensor([10,  2])\n"
          ]
        }
      ]
    },
    {
      "cell_type": "markdown",
      "metadata": {
        "id": "-CKtdNRM3SMp"
      },
      "source": [
        "## Question 2:\n",
        "\n",
        "Assume that we moved our complete (cats vs dogs) image dataset to numpy arrays. Then we use torch.from_numpy to convert these images to tensor. Then we apply a specific data augmentation strategy called \"CutOut\" which blocks a portion of the image directly on these tensors. What will happen to the accuracy of a model trained on this strategy compared to the one without this strategy? CutOut strategy is shown below: <hr>\n",
        "Accuracy of a model trained on this strategy will be lower\n",
        "\n",
        "![CutOut](https://encrypted-tbn0.gstatic.com/images?q=tbn%3AANd9GcSnSyN835AmtQPKQbPjDHX-FmshNilbtexX95cRGQPwl56QCGDn)\n",
        "\n",
        "## Question 3:\n",
        "Why do you think we are observing this behavior? <hr>\n",
        "Since the tensor shares storage with numpy arrays, the CutOut will keep happening to the original image\n",
        "\n",
        "\n",
        "\n",
        "---\n",
        "\n",
        "\n"
      ]
    },
    {
      "cell_type": "markdown",
      "metadata": {
        "id": "dZq7O-aihSOA"
      },
      "source": [
        "We have two different ways to create tensor from its NumPy counterpart - one copies memory and another one shares the same underlying storage. It works in the opposite way:"
      ]
    },
    {
      "cell_type": "code",
      "metadata": {
        "id": "TNFOwV8EhPwQ",
        "colab": {
          "base_uri": "https://localhost:8080/"
        },
        "outputId": "6ad17012-5677-4105-ed7d-9b30d443de49"
      },
      "source": [
        "array_from_tensor = tensor_from_array.numpy()\n",
        "print('Tensor: ', tensor_from_array)\n",
        "print('Array: ', array_from_tensor)\n",
        "\n",
        "tensor_from_array[0] = 11\n",
        "print('Tensor: ', tensor_from_array)\n",
        "print('Array: ', array_from_tensor)"
      ],
      "execution_count": null,
      "outputs": [
        {
          "output_type": "stream",
          "name": "stdout",
          "text": [
            "Tensor:  tensor([1, 2])\n",
            "Array:  [1 2]\n",
            "Tensor:  tensor([11,  2])\n",
            "Array:  [11  2]\n"
          ]
        }
      ]
    },
    {
      "cell_type": "markdown",
      "metadata": {
        "id": "UM9ytbvKhtCw"
      },
      "source": [
        "## Data types\n",
        "\n",
        "The basic data type of all Deep Learning-related operations is float, but sometimes you may need something else. Pytorch support different number types for its tensors the same way NumPy does it - by specifying the data type on tensor creation or via casting. Ths full list of supported data types can be found [here](https://pytorch.org/docs/stable/tensors.html). "
      ]
    },
    {
      "cell_type": "code",
      "metadata": {
        "id": "Bd6WkzJ4hpYi",
        "colab": {
          "base_uri": "https://localhost:8080/"
        },
        "outputId": "c6000b1b-184d-4f87-c758-abc5d3fa2d17"
      },
      "source": [
        "tensor = torch.zeros(2, 2)\n",
        "print('Tensor with default type: ', tensor)\n",
        "tensor = torch.zeros(2, 2, dtype=torch.float16)\n",
        "print('Tensor with 16-bit float: ', tensor)\n",
        "tensor = torch.zeros(2, 2, dtype=torch.int16)\n",
        "print('Tensor with integers: ', tensor)\n",
        "tensor = torch.zeros(2, 2, dtype=torch.bool)\n",
        "print('Tensor with boolean data: ', tensor)"
      ],
      "execution_count": null,
      "outputs": [
        {
          "output_type": "stream",
          "name": "stdout",
          "text": [
            "Tensor with default type:  tensor([[0., 0.],\n",
            "        [0., 0.]])\n",
            "Tensor with 16-bit float:  tensor([[0., 0.],\n",
            "        [0., 0.]], dtype=torch.float16)\n",
            "Tensor with integers:  tensor([[0, 0],\n",
            "        [0, 0]], dtype=torch.int16)\n",
            "Tensor with boolean data:  tensor([[False, False],\n",
            "        [False, False]])\n"
          ]
        }
      ]
    },
    {
      "cell_type": "markdown",
      "metadata": {
        "id": "a9F4Dkdr40TE"
      },
      "source": [
        "\n",
        "\n",
        "---\n",
        "\n",
        "\n",
        "## Question 4:\n",
        "We saw above that some times numpy and tensors share same storage and changing one changes the other. \n",
        "If we define a rank-2-tensor with ones (dtype of f16), and then convert it into a numpy data type using tensor.numpy() and store it in a variable called \"num\", and then we perform this operation `num = num * 0.5`, will the original tensor have 1.0s or 0.5s as its element values? <hr>\n",
        "1.0s\n"
      ]
    },
    {
      "cell_type": "code",
      "metadata": {
        "colab": {
          "base_uri": "https://localhost:8080/"
        },
        "id": "NZtLcOg-QYQC",
        "outputId": "9be7f1b6-99ac-4890-ad84-23a318b7d554"
      },
      "source": [
        "tensor = torch.ones(2, 2, dtype=torch.float16)\n",
        "num = tensor.numpy()\n",
        "print('Tensor: ', tensor)\n",
        "print('Array: ', num)\n",
        "\n",
        "num = num * 0.5\n",
        "print('Tensor: ', tensor)\n",
        "print('Array: ', num)\n"
      ],
      "execution_count": null,
      "outputs": [
        {
          "output_type": "stream",
          "name": "stdout",
          "text": [
            "Tensor:  tensor([[1., 1.],\n",
            "        [1., 1.]], dtype=torch.float16)\n",
            "Array:  [[1. 1.]\n",
            " [1. 1.]]\n",
            "Tensor:  tensor([[1., 1.],\n",
            "        [1., 1.]], dtype=torch.float16)\n",
            "Array:  [[0.5 0.5]\n",
            " [0.5 0.5]]\n"
          ]
        }
      ]
    },
    {
      "cell_type": "markdown",
      "metadata": {
        "id": "OiQt8Mmm51OE"
      },
      "source": [
        "\n",
        "\n",
        "---\n",
        "\n",
        "## Question 5: \n",
        "If the operation `num = num*5` is changed to `num[:] = num*5` will the original tensor have 1.0s or 0.5s as its element values? <hr>\n",
        "0.5s\n",
        "\n",
        "\n",
        "\n",
        "---\n",
        "\n"
      ]
    },
    {
      "cell_type": "code",
      "metadata": {
        "colab": {
          "base_uri": "https://localhost:8080/"
        },
        "id": "10ask9RUSLML",
        "outputId": "f5c6847e-6a58-49de-cbfe-430b3a8900bc"
      },
      "source": [
        "tensor = torch.ones(2, 2, dtype=torch.float16)\n",
        "num = tensor.numpy()\n",
        "print('Tensor: ', tensor)\n",
        "print('Array: ', num)\n",
        "\n",
        "num[:] = num*5\n",
        "print('Tensor: ', tensor)\n",
        "print('Array: ', num)"
      ],
      "execution_count": null,
      "outputs": [
        {
          "output_type": "stream",
          "name": "stdout",
          "text": [
            "Tensor:  tensor([[1., 1.],\n",
            "        [1., 1.]], dtype=torch.float16)\n",
            "Array:  [[1. 1.]\n",
            " [1. 1.]]\n",
            "Tensor:  tensor([[5., 5.],\n",
            "        [5., 5.]], dtype=torch.float16)\n",
            "Array:  [[5. 5.]\n",
            " [5. 5.]]\n"
          ]
        }
      ]
    },
    {
      "cell_type": "markdown",
      "metadata": {
        "id": "vzh8UB8KiVmb"
      },
      "source": [
        "## Indexing\n",
        "\n",
        "Tensor provides access to its elements via the same `[]` operation as a regular python list or NumPy array. However, as you may recall from NumPy usage, the full power of math libraries is accessible only via vectorized operations, i.e. operations without explicit looping over all vector elements in python and using implicit optimized loops in C/C++/CUDA/Fortran/etc. available via special function calls. Pytorch employs the same paradigm and provides a wide range of vectorized operations. Let's take a look at some examples. \n",
        "\n",
        "Joining a list of tensors together with `torch.cat`"
      ]
    },
    {
      "cell_type": "code",
      "metadata": {
        "id": "GMaCDKPhiUAb",
        "colab": {
          "base_uri": "https://localhost:8080/"
        },
        "outputId": "2bcbf585-6992-41fc-cf56-4bdfcf43e66e"
      },
      "source": [
        "a = torch.zeros(3, 2)\n",
        "b = torch.ones(3, 2)\n",
        "print(torch.cat((a, b), dim=0))"
      ],
      "execution_count": null,
      "outputs": [
        {
          "output_type": "stream",
          "name": "stdout",
          "text": [
            "tensor([[0., 0.],\n",
            "        [0., 0.],\n",
            "        [0., 0.],\n",
            "        [1., 1.],\n",
            "        [1., 1.],\n",
            "        [1., 1.]])\n"
          ]
        }
      ]
    },
    {
      "cell_type": "markdown",
      "metadata": {
        "id": "5bj4aeE86zdH"
      },
      "source": [
        "\n",
        "\n",
        "---\n",
        "\n",
        "## Question 6: \n",
        "Is the transpose of concatenated a & b tensor on dimension 1, same as the contatenated tensor of a & b on dimension 0? <hr>\n",
        "No\n",
        "\n",
        "\n",
        "\n",
        "---\n",
        "\n"
      ]
    },
    {
      "cell_type": "code",
      "metadata": {
        "colab": {
          "base_uri": "https://localhost:8080/"
        },
        "id": "JfIFH314TP5I",
        "outputId": "99010e5d-12c7-4c4a-ca44-8394a71c6177"
      },
      "source": [
        "a = torch.zeros(3, 2)\n",
        "b = torch.ones(3, 2)\n",
        "print(torch.cat((a, b), dim=0))\n",
        "\n",
        "a = torch.zeros(3, 2)\n",
        "b = torch.ones(3, 2)\n",
        "concat_tensor = torch.cat((a, b), dim=1)\n",
        "print (concat_tensor)\n",
        "transp_tensor = torch.transpose(concat_tensor,0,1)\n",
        "print (transp_tensor)"
      ],
      "execution_count": null,
      "outputs": [
        {
          "output_type": "stream",
          "name": "stdout",
          "text": [
            "tensor([[0., 0.],\n",
            "        [0., 0.],\n",
            "        [0., 0.],\n",
            "        [1., 1.],\n",
            "        [1., 1.],\n",
            "        [1., 1.]])\n",
            "tensor([[0., 0., 1., 1.],\n",
            "        [0., 0., 1., 1.],\n",
            "        [0., 0., 1., 1.]])\n",
            "tensor([[0., 0., 0.],\n",
            "        [0., 0., 0.],\n",
            "        [1., 1., 1.],\n",
            "        [1., 1., 1.]])\n"
          ]
        }
      ]
    },
    {
      "cell_type": "markdown",
      "metadata": {
        "id": "0TXNne69j7LP"
      },
      "source": [
        "Indexing with another tenxor/array:"
      ]
    },
    {
      "cell_type": "code",
      "metadata": {
        "id": "KiE-Fsi4jVd6",
        "colab": {
          "base_uri": "https://localhost:8080/"
        },
        "outputId": "8fc2ccb8-7a40-4742-8dbf-4a10cd17173d"
      },
      "source": [
        "a = torch.arange(start=0, end=10)\n",
        "indices = np.arange(0, 10) > 5\n",
        "print(a)\n",
        "print(indices)\n",
        "print(a[indices])\n",
        "\n",
        "indices = torch.arange(start=0, end=10) %5\n",
        "print(indices)\n",
        "print(a[indices])"
      ],
      "execution_count": null,
      "outputs": [
        {
          "output_type": "stream",
          "name": "stdout",
          "text": [
            "tensor([0, 1, 2, 3, 4, 5, 6, 7, 8, 9])\n",
            "[False False False False False False  True  True  True  True]\n",
            "tensor([6, 7, 8, 9])\n",
            "tensor([0, 1, 2, 3, 4, 0, 1, 2, 3, 4])\n",
            "tensor([0, 1, 2, 3, 4, 0, 1, 2, 3, 4])\n"
          ]
        }
      ]
    },
    {
      "cell_type": "markdown",
      "metadata": {
        "id": "LS4dnlu47WQu"
      },
      "source": [
        "\n",
        "\n",
        "---\n",
        "\n",
        "## Question 7:\n",
        "\n",
        "`a` is defined as `torch.arange(start=0, end=10)`. We will create `b` using the two operations as below. In both cases do we get the same value?\n",
        "\n",
        "\n",
        "1.   indices variable created by the modulo operation on arange between 0 and 10. Then a new varialble `b` is created from `a` using the last 5 elements of indices. \n",
        "2.   indices variable created by the modulo operation on arange betwenn 1 and 11. Then a new varialble `b` is created from `a` using the last 5 elements of indices. <hr>\n",
        "No\n",
        "\n",
        "\n",
        "\n",
        "---\n",
        "\n",
        "\n"
      ]
    },
    {
      "cell_type": "code",
      "metadata": {
        "colab": {
          "base_uri": "https://localhost:8080/"
        },
        "id": "hxef572OGvXS",
        "outputId": "1d7237a6-01e0-4530-efd2-1ace21d25fee"
      },
      "source": [
        "a = torch.arange(start=0, end=10)\n",
        "indices = np.arange(0, 10) %5\n",
        "print(a)\n",
        "print(indices)\n",
        "print(a[indices])\n",
        "\n",
        "a = torch.arange(start=0, end=10)\n",
        "indices = np.arange(1, 11) %5\n",
        "print(a)\n",
        "print(indices)\n",
        "print(a[indices])"
      ],
      "execution_count": null,
      "outputs": [
        {
          "output_type": "stream",
          "name": "stdout",
          "text": [
            "tensor([0, 1, 2, 3, 4, 5, 6, 7, 8, 9])\n",
            "[0 1 2 3 4 0 1 2 3 4]\n",
            "tensor([0, 1, 2, 3, 4, 0, 1, 2, 3, 4])\n",
            "tensor([0, 1, 2, 3, 4, 5, 6, 7, 8, 9])\n",
            "[1 2 3 4 0 1 2 3 4 0]\n",
            "tensor([1, 2, 3, 4, 0, 1, 2, 3, 4, 0])\n"
          ]
        }
      ]
    },
    {
      "cell_type": "markdown",
      "metadata": {
        "id": "eQ4ZCVsTk-KH"
      },
      "source": [
        "What should we do if we have, say, rank-2-tensor and want to select only some rows?"
      ]
    },
    {
      "cell_type": "code",
      "metadata": {
        "id": "_GtRpotjkt1q",
        "colab": {
          "base_uri": "https://localhost:8080/"
        },
        "outputId": "b4ffecb7-3925-402e-8d03-d1fe19321d37"
      },
      "source": [
        "tensor = torch.rand((5, 3))\n",
        "rows = torch.tensor([0, 2])\n",
        "print(tensor)\n",
        "tensor[rows]"
      ],
      "execution_count": null,
      "outputs": [
        {
          "output_type": "stream",
          "name": "stdout",
          "text": [
            "tensor([[0.3337, 0.8904, 0.2443],\n",
            "        [0.9393, 0.3920, 0.5385],\n",
            "        [0.3464, 0.4526, 0.8416],\n",
            "        [0.6757, 0.1085, 0.5177],\n",
            "        [0.7293, 0.3921, 0.1802]])\n"
          ]
        },
        {
          "output_type": "execute_result",
          "data": {
            "text/plain": [
              "tensor([[0.3337, 0.8904, 0.2443],\n",
              "        [0.3464, 0.4526, 0.8416]])"
            ]
          },
          "metadata": {},
          "execution_count": 4
        }
      ]
    },
    {
      "cell_type": "markdown",
      "metadata": {
        "id": "zIJnr_N2_Qaf"
      },
      "source": [
        "\n",
        "\n",
        "---\n",
        "\n",
        "## Question 8: \n",
        "\n",
        "Consider a tensor defined as `torch.rand((6, 5))`. Is the shape of the new tensor created by taking the 0th, 2nd and 4th row of the old tensor same as the shape of the a newer tensor created by taking the 0th, 2nd and 4th row of the old tensor after transposing it by operation `torch.transpose(tensor, 0, 1)` ?<hr>\n",
        "No\n",
        "\n",
        "\n",
        "\n",
        "---\n",
        "\n",
        "\n"
      ]
    },
    {
      "cell_type": "code",
      "metadata": {
        "colab": {
          "base_uri": "https://localhost:8080/"
        },
        "id": "hI1Wuk7gIW9q",
        "outputId": "bd930810-de45-45d7-e57d-ac9b0321f4c9"
      },
      "source": [
        "tensor = torch.rand((6, 5))\n",
        "rows = torch.tensor([0, 2, 4])\n",
        "print(tensor)\n",
        "print (tensor[rows])\n",
        "\n",
        "transp_tensor = torch.transpose(tensor, 0, 1)\n",
        "rows = torch.tensor([0, 2, 4])\n",
        "print(transp_tensor)\n",
        "print (transp_tensor[rows])"
      ],
      "execution_count": null,
      "outputs": [
        {
          "output_type": "stream",
          "name": "stdout",
          "text": [
            "tensor([[0.4872, 0.0722, 0.0516, 0.0248, 0.4629],\n",
            "        [0.1509, 0.0473, 0.2833, 0.4541, 0.0765],\n",
            "        [0.6357, 0.1323, 0.5207, 0.8740, 0.3426],\n",
            "        [0.1914, 0.7065, 0.3073, 0.5239, 0.0078],\n",
            "        [0.3066, 0.9519, 0.7203, 0.6851, 0.4519],\n",
            "        [0.9503, 0.1457, 0.5038, 0.7593, 0.6557]])\n",
            "tensor([[0.4872, 0.0722, 0.0516, 0.0248, 0.4629],\n",
            "        [0.6357, 0.1323, 0.5207, 0.8740, 0.3426],\n",
            "        [0.3066, 0.9519, 0.7203, 0.6851, 0.4519]])\n",
            "tensor([[0.4872, 0.1509, 0.6357, 0.1914, 0.3066, 0.9503],\n",
            "        [0.0722, 0.0473, 0.1323, 0.7065, 0.9519, 0.1457],\n",
            "        [0.0516, 0.2833, 0.5207, 0.3073, 0.7203, 0.5038],\n",
            "        [0.0248, 0.4541, 0.8740, 0.5239, 0.6851, 0.7593],\n",
            "        [0.4629, 0.0765, 0.3426, 0.0078, 0.4519, 0.6557]])\n",
            "tensor([[0.4872, 0.1509, 0.6357, 0.1914, 0.3066, 0.9503],\n",
            "        [0.0516, 0.2833, 0.5207, 0.3073, 0.7203, 0.5038],\n",
            "        [0.4629, 0.0765, 0.3426, 0.0078, 0.4519, 0.6557]])\n"
          ]
        }
      ]
    },
    {
      "cell_type": "markdown",
      "metadata": {
        "id": "naDzFMkslU0b"
      },
      "source": [
        "## Tensor Shapes\n",
        "\n",
        "Reshaping a tensor is a frequently used operation. We can change the shape of a tensor without the memory copying overhead. There are two methods for that: `reshape` and `view`. \n",
        "\n",
        "The difference is the following: \n",
        "\n",
        "\n",
        "*   view tries to return a tensor, and it shares the same memory with the original tensor. In case, if it cannot reuse the same memory due to [some reason](https://pytorch.org/docs/stable/tensors.html?highlight=view#torch.Tensor.view), it just fails. \n",
        "*   reshape always returns the tensor with the desired shape and tries to reuse the memory. If it cannot, it creates a copy\n",
        "\n",
        "Let's see with the help of an example:"
      ]
    },
    {
      "cell_type": "code",
      "metadata": {
        "id": "HClDkqLLlMJh",
        "colab": {
          "base_uri": "https://localhost:8080/",
          "height": 179
        },
        "outputId": "703bf39f-96e5-4990-90bb-1b59b96a01fb"
      },
      "source": [
        "tensor = torch.rand(2, 3, 4)\n",
        "print('Pointer to data: ', tensor.data_ptr())\n",
        "print('Shape: ', tensor.shape)\n",
        "\n",
        "reshaped = tensor.reshape(24)\n",
        "\n",
        "view = tensor.view(3, 2, 4)\n",
        "print('Reshaped tensor - pointer to data', reshaped.data_ptr())\n",
        "print('Reshaped tensor shape ', reshaped.shape)\n",
        "\n",
        "print('Viewed tensor - pointer to data', view.data_ptr())\n",
        "print('Viewed tensor shape ', view.shape)\n",
        "\n",
        "assert tensor.data_ptr() == view.data_ptr()\n",
        "\n",
        "assert np.all(np.equal(tensor.numpy().flat, reshaped.numpy().flat))\n",
        "\n",
        "print('Original stride: ', tensor.stride())\n",
        "print('Reshaped stride: ', reshaped.stride())\n",
        "print('Viewed stride: ', view.stride())"
      ],
      "execution_count": null,
      "outputs": [
        {
          "output_type": "stream",
          "text": [
            "Pointer to data:  54042240\n",
            "Shape:  torch.Size([2, 3, 4])\n",
            "Reshaped tensor - pointer to data 54042240\n",
            "Reshaped tensor shape  torch.Size([24])\n",
            "Viewed tensor - pointer to data 54042240\n",
            "Viewed tensor shape  torch.Size([3, 2, 4])\n",
            "Original stride:  (12, 4, 1)\n",
            "Reshaped stride:  (1,)\n",
            "Viewed stride:  (8, 4, 1)\n"
          ],
          "name": "stdout"
        }
      ]
    },
    {
      "cell_type": "markdown",
      "metadata": {
        "id": "jIN5jSppm4yC"
      },
      "source": [
        "The basic rule about reshaping the tensor is definitely that you cannot change the total number of elements in it, so the product of all tensor's dimensions should always be the same. It gives us the ability to avoid specifying one dimension when reshaping the tensor - Pytorch can calculate it for us:"
      ]
    },
    {
      "cell_type": "code",
      "metadata": {
        "id": "e3D19ERFmzOl",
        "colab": {
          "base_uri": "https://localhost:8080/",
          "height": 71
        },
        "outputId": "b49f6393-7a79-4da7-bb31-b5d8cd885e3a"
      },
      "source": [
        "print(tensor.reshape(3, 2, 4).shape)\n",
        "print(tensor.reshape(3, 2, -1).shape)\n",
        "print(tensor.reshape(3, -1, 4).shape)"
      ],
      "execution_count": null,
      "outputs": [
        {
          "output_type": "stream",
          "text": [
            "torch.Size([3, 2, 4])\n",
            "torch.Size([3, 2, 4])\n",
            "torch.Size([3, 2, 4])\n"
          ],
          "name": "stdout"
        }
      ]
    },
    {
      "cell_type": "markdown",
      "metadata": {
        "id": "ObgCQKUiETak"
      },
      "source": [
        "\n",
        "\n",
        "---\n",
        "\n",
        "\n",
        "## Question 9:\n",
        "\n",
        "Consider a tensor `a` created with [1, 2, 3] and [1, 2, 3] of size (2, 3) is reshaped with operation `.reshape(-1, 2)`. Also consider a tensor `b` created with [[2, 1]] and of size (1, 2), later operated with `view(2, -1)` operation. \n",
        "\n",
        "If we do a dot product of a and b (using `torch.mm`) and perform the sum of all the elements (using `torch.sum`) what do we get? (enter int value without any decimal point in the quiz)\n",
        "<hr>\n",
        "18\n",
        "\n",
        "\n",
        "---\n",
        "\n"
      ]
    },
    {
      "cell_type": "code",
      "metadata": {
        "colab": {
          "base_uri": "https://localhost:8080/"
        },
        "id": "ldzV2Uc0J4Aa",
        "outputId": "4c9d93d6-b174-496f-9939-e3b499cf289b"
      },
      "source": [
        "a = torch.tensor([[1,2,3], [1,2,3]])\n",
        "print (a)\n",
        "a = a.reshape(-1,2)\n",
        "print (a)\n",
        "\n",
        "\n",
        "b = torch.tensor([[2,1]])\n",
        "print (b)\n",
        "b = b.view(2,-1)\n",
        "print (b)\n",
        "\n",
        "prod = torch.mm(a,b)\n",
        "print (prod)\n",
        "\n",
        "torch.sum(prod)\n",
        "\n"
      ],
      "execution_count": null,
      "outputs": [
        {
          "output_type": "stream",
          "name": "stdout",
          "text": [
            "tensor([[1, 2, 3],\n",
            "        [1, 2, 3]])\n",
            "tensor([[1, 2],\n",
            "        [3, 1],\n",
            "        [2, 3]])\n",
            "tensor([[2, 1]])\n",
            "tensor([[2],\n",
            "        [1]])\n",
            "tensor([[4],\n",
            "        [7],\n",
            "        [7]])\n"
          ]
        },
        {
          "output_type": "execute_result",
          "data": {
            "text/plain": [
              "tensor(18)"
            ]
          },
          "metadata": {},
          "execution_count": 14
        }
      ]
    },
    {
      "cell_type": "markdown",
      "metadata": {
        "id": "mza7QPg3ndeV"
      },
      "source": [
        "**Alternative ways to view tensors** - `expand` or `expand_as`.\n",
        "\n",
        "\n",
        "\n",
        "*   `expand` - requires the desired shape as an input\n",
        "*   `expand_as` - uses the shape of another tensor\n",
        "\n",
        "These operations \"repeat\" tensor's values along the specified axes without actually copying the data. \n",
        "\n",
        "As the documentation says, expand:\n",
        "\n",
        "\n",
        "> returns a new view of the self tensor with singleton dimensions expanded to a larger size. Tensor can be also expanded to a larger number of dimensions, and the new ones will be appended at the front. For the new dimensions, the size cannot be set to -1. \n",
        "\n",
        "**Use case:**\n",
        "\n",
        "\n",
        "\n",
        "*   index multi-channel tensor with single-channel mask - imagine a color image with 3 channels (RGB) and binary mask for the area of interest on that image. We cannot index the image with this kind of mask directly since the dimensions are different, but we can use `expand_as` operation to create a view of the mask that has the same dimensions as the image we want to apply it to, but has not copied the data. "
      ]
    },
    {
      "cell_type": "code",
      "metadata": {
        "id": "iz33E-V7nPQT",
        "colab": {
          "base_uri": "https://localhost:8080/",
          "height": 596
        },
        "outputId": "8bcfc71f-b0bb-4c37-e5e0-5c4ffa38aacb"
      },
      "source": [
        "%matplotlib inline\n",
        "from matplotlib import pyplot as plt\n",
        "\n",
        "# Create a black image\n",
        "image = torch.zeros(size=(3, 256, 256), dtype=torch.int)\n",
        "\n",
        "# Leave the borders and make the rest of the image Green\n",
        "image[1, 18:256 - 18, 18:256 - 18] = 255\n",
        "\n",
        "# Create a mask of the same size\n",
        "mask = torch.zeros(size=(256, 256), dtype=torch.bool)\n",
        "\n",
        "# Assuming the green region in the original image is the Region of interest, change the mask to white for that area\n",
        "mask[18:256 - 18, 18:256 - 18] = 1\n",
        "\n",
        "# Create a view of the mask with the same dimensions as the original image\n",
        "mask_expanded = mask.expand_as(image)\n",
        "print(mask_expanded.shape)\n",
        "\n",
        "mask_np = mask_expanded.numpy().transpose(1, 2, 0) * 255\n",
        "image_np = image.numpy().transpose(1, 2, 0)\n",
        "\n",
        "fig, ax = plt.subplots(1, 2)\n",
        "ax[0].imshow(image_np)\n",
        "ax[1].imshow(mask_np)\n",
        "plt.show()\n",
        "\n",
        "image[0, mask] += 128\n",
        "fig, ax = plt.subplots(1, 2)\n",
        "ax[0].imshow(image_np)\n",
        "ax[1].imshow(mask_np)\n",
        "plt.show()\n",
        "\n",
        "image[mask_expanded] += 128\n",
        "image.clamp_(0, 255)\n",
        "fig, ax = plt.subplots(1, 2)\n",
        "ax[0].imshow(image_np)\n",
        "ax[1].imshow(mask_np)\n",
        "plt.show()"
      ],
      "execution_count": null,
      "outputs": [
        {
          "output_type": "stream",
          "text": [
            "torch.Size([3, 256, 256])\n"
          ],
          "name": "stdout"
        },
        {
          "output_type": "display_data",
          "data": {
            "image/png": "[encoded data removed]",
            "text/plain": [
              "<Figure size 432x288 with 2 Axes>"
            ]
          },
          "metadata": {
            "tags": []
          }
        },
        {
          "output_type": "display_data",
          "data": {
            "image/png": "[encoded data removed]",
            "text/plain": [
              "<Figure size 432x288 with 2 Axes>"
            ]
          },
          "metadata": {
            "tags": []
          }
        },
        {
          "output_type": "display_data",
          "data": {
            "image/png": "[encoded data removed]",
            "text/plain": [
              "<Figure size 432x288 with 2 Axes>"
            ]
          },
          "metadata": {
            "tags": []
          }
        }
      ]
    },
    {
      "cell_type": "markdown",
      "metadata": {
        "id": "jiXBx0k3ptOI"
      },
      "source": [
        "In the example above, one can also find a couple of useful tricks:\n",
        "\n",
        "\n",
        "*   `clamp` method and function is a Pytorch's analogue of NumPy's `clip` function\n",
        "*   many operations on tensors have in-place form, that does not return modified data, but change values in the tensor. The in-place version of the operation has trailing underscore according to Pytorch's naming convension - in the exmaple above it is `clamp_`\n",
        "*   tensors have the same indexing as Numpy's arrays - one can use `:` seperated range, negative indexes and so on.\n",
        "\n",
        "\n",
        ".\n",
        "\n",
        "\n",
        "---\n",
        "\n",
        "# Images and their representations\n",
        "\n",
        "Now, let's discuss images, their representations and how different Python librarties work with them. \n",
        "\n",
        "Probably, the most well-known library for image loading and simple processing is [Pillow](https://pillow.readthedocs.io/en/stable/). \n",
        "\n",
        "However, many people in deep learning area stick with OpenCV for image loading and processing with some usage of another libraries when it is justified by performance/functionality. This is because OpenCV is in general much faster than the other libraries. Here you can find a couple of benchmarks: \n",
        "\n",
        "*   https://www.kaggle.com/zfturbo/benchmark-2019-speed-of-image-reading\n",
        "*   https://github.com/albumentations-team/albumentations#benchmarking-results\n",
        "\n",
        "To sum up the benchmarks above, there are two most common image formats, PNG and JPEGs. If your data is in PNG format - use OpenCV to read it. If it is in JPEG - use libturbojpeg. For image processing, use OpenCV if possible. _We will be using PIL a lot along with these._\n",
        "\n",
        "As you will read the code from others, you may find out that some of them use Pillow/something else to read data. You should know, that color image representations in OpenCV and other libraries are different - OpenCV uses \"BGR\" channel order, while others use \"RGB\" one. \n",
        "\n",
        "To change \"BRG\" <-> \"RGB\" the only thing we need to do it to change channel order."
      ]
    },
    {
      "cell_type": "code",
      "metadata": {
        "colab": {
          "base_uri": "https://localhost:8080/"
        },
        "id": "QrBM9FNhOn1f",
        "outputId": "6535d422-a108-48b8-d5e9-d92cadfcebec"
      },
      "source": [
        "from google.colab import drive\n",
        "drive.mount(\"/content/drive/\")"
      ],
      "execution_count": null,
      "outputs": [
        {
          "output_type": "stream",
          "name": "stdout",
          "text": [
            "Mounted at /content/drive/\n"
          ]
        }
      ]
    },
    {
      "cell_type": "code",
      "metadata": {
        "colab": {
          "base_uri": "https://localhost:8080/"
        },
        "id": "0c9uihzWPTfW",
        "outputId": "919b9f7d-4d59-48c3-9c87-55060113e49b"
      },
      "source": [
        "!ls \"/content/drive/My Drive/EVA7\""
      ],
      "execution_count": null,
      "outputs": [
        {
          "output_type": "stream",
          "name": "stdout",
          "text": [
            "EVA7_S2_Assignment.ipynb  mars.jpg\n"
          ]
        }
      ]
    },
    {
      "cell_type": "code",
      "metadata": {
        "id": "ZYv4sZMmpndu",
        "colab": {
          "base_uri": "https://localhost:8080/",
          "height": 152
        },
        "outputId": "68b03576-fabf-4a75-d13b-258bfda8683a"
      },
      "source": [
        "%matplotlib inline\n",
        "from matplotlib import pyplot as plt\n",
        "import cv2\n",
        "\n",
        "\n",
        "bgr_image = cv2.imread('/content/drive/My Drive/EVA7/mars.jpg') \n",
        "# remember to add your own image in case you run this block, if you want to use the same image, \n",
        "# download it from: https://encrypted-tbn0.gstatic.com/images?q=tbn%3AANd9GcRCA40ftnscVzfV8ft8e7vIzQXfXeZdtco8nknJrfCUW6INI40U\n",
        "rgb_image = bgr_image[..., ::-1]\n",
        "fig, ax = plt.subplots(1, 2)\n",
        "ax[0].imshow(bgr_image)\n",
        "ax[1].imshow(rgb_image)\n",
        "plt.show()"
      ],
      "execution_count": null,
      "outputs": [
        {
          "output_type": "display_data",
          "data": {
            "image/png": "[encoded data removed]",
            "text/plain": [
              "<Figure size 432x288 with 2 Axes>"
            ]
          },
          "metadata": {
            "needs_background": "light"
          }
        }
      ]
    },
    {
      "cell_type": "markdown",
      "metadata": {
        "id": "yoi4TeNBGHle"
      },
      "source": [
        "\n",
        "\n",
        "---\n",
        "\n",
        "## Question 10:\n",
        "\n",
        "Looking at the results above it can be said that the pixel values in the blue channels would be very small compared to red channel. True/False?\n",
        "<hr>\n",
        "True\n",
        "\n",
        "\n",
        "---\n",
        "\n",
        "\n"
      ]
    },
    {
      "cell_type": "markdown",
      "metadata": {
        "id": "b3ugFd57zNwa"
      },
      "source": [
        "# Autograd\n",
        "\n",
        "Pytorch supports automatic differentiation. The module which implements this is called **AutoGrad**. It calculates the gradients and keeps track in forward and backward passes. For primitive tensors, you need to enable or disable it using the `required_grad` flag. But, for advanced tensors, it is enabled by default"
      ]
    },
    {
      "cell_type": "code",
      "metadata": {
        "id": "VMOp4aiou6JR",
        "colab": {
          "base_uri": "https://localhost:8080/",
          "height": 197
        },
        "outputId": "e9a22acd-21b1-427d-c1c0-90302bc1c37a"
      },
      "source": [
        "a = torch.rand((3, 5), requires_grad = True)\n",
        "print(a)\n",
        "result = a * 5\n",
        "print(result)\n",
        "\n",
        "# grad can be implicitly created only for scalar outputs\n",
        "# so let's calculate the sum here so that the output becomes a scalar and we can apply a backward pass\n",
        "mean_result = result.sum()\n",
        "print(mean_result)\n",
        "# calculate gradient\n",
        "mean_result.backward()\n",
        "# print gradient of a\n",
        "print(a.grad)"
      ],
      "execution_count": null,
      "outputs": [
        {
          "output_type": "stream",
          "text": [
            "tensor([[0.1420, 0.0529, 0.6277, 0.6623, 0.4401],\n",
            "        [0.0893, 0.8400, 0.5712, 0.4038, 0.1173],\n",
            "        [0.3958, 0.8571, 0.1979, 0.5202, 0.4367]], requires_grad=True)\n",
            "tensor([[0.7102, 0.2647, 3.1385, 3.3117, 2.2004],\n",
            "        [0.4464, 4.2000, 2.8562, 2.0192, 0.5864],\n",
            "        [1.9788, 4.2853, 0.9895, 2.6009, 2.1835]], grad_fn=<MulBackward0>)\n",
            "tensor(31.7716, grad_fn=<SumBackward0>)\n",
            "tensor([[5., 5., 5., 5., 5.],\n",
            "        [5., 5., 5., 5., 5.],\n",
            "        [5., 5., 5., 5., 5.]])\n"
          ],
          "name": "stdout"
        }
      ]
    },
    {
      "cell_type": "markdown",
      "metadata": {
        "id": "ym0Amk2IGfLx"
      },
      "source": [
        "\n",
        "\n",
        "---\n",
        "\n",
        "## Question 11: \n",
        "\n",
        "Why the gradient of a is all 5s above?\n",
        "\n",
        "\n",
        "\n",
        "---\n",
        "\n"
      ]
    },
    {
      "cell_type": "markdown",
      "metadata": {
        "id": "7PDgGq2R0k7I"
      },
      "source": [
        "As we see, Pytorch automagically calculated the gradient value for us. It looks to be the correct value - we multiplied an input by 5, so the gradient of this operation equals to 5.\n",
        "\n",
        "# Disabling Autograd for tensors\n",
        "\n",
        "We don't need to compute gradients for all the variables that are involved in the pipeline. The Pytorch API provides 2 ways to disable autograd.\n",
        "\n",
        "`detach` - returns a copy of the tensor with autograd disabled. This \n",
        "\n",
        "1.   copy is built on the same memory as the original tensor, so in-place size / stride / storage changes (such as resize_ / resizeas / set / transpose) modifications are not allowed.\n",
        "2.   torch.no_grad() - It is a context manager that allows you to guard a series of operations from autograd without creating new tensors."
      ]
    },
    {
      "cell_type": "code",
      "metadata": {
        "id": "yqVG9fQb0cLW",
        "colab": {
          "base_uri": "https://localhost:8080/",
          "height": 71
        },
        "outputId": "2081f403-31a2-4296-c670-b899e246a8cc"
      },
      "source": [
        "a = torch.rand((3, 5), requires_grad=True)\n",
        "detached_a = a.detach()\n",
        "detached_result = detached_a * 5\n",
        "result = a * 10\n",
        "# we cannot do backward pass that is required for autograd using multideminsional output,\n",
        "# so let's calculate the sum here\n",
        "mean_result = result.sum()\n",
        "mean_result.backward()\n",
        "a.grad"
      ],
      "execution_count": null,
      "outputs": [
        {
          "output_type": "execute_result",
          "data": {
            "text/plain": [
              "tensor([[10., 10., 10., 10., 10.],\n",
              "        [10., 10., 10., 10., 10.],\n",
              "        [10., 10., 10., 10., 10.]])"
            ]
          },
          "metadata": {
            "tags": []
          },
          "execution_count": 37
        }
      ]
    },
    {
      "cell_type": "code",
      "metadata": {
        "id": "uqpch2Be02J7",
        "colab": {
          "base_uri": "https://localhost:8080/",
          "height": 71
        },
        "outputId": "0a5ee8e8-81b8-46f0-c7fc-ac406657e928"
      },
      "source": [
        "a = torch.rand((3, 5), requires_grad=True)\n",
        "with torch.no_grad():\n",
        "    detached_result = a * 5\n",
        "result = a * 10\n",
        "# we cannot do backward pass that is required for autograd using multideminsional output,\n",
        "# so let's calculate the sum here\n",
        "mean_result = result.sum()\n",
        "mean_result.backward()\n",
        "a.grad"
      ],
      "execution_count": null,
      "outputs": [
        {
          "output_type": "execute_result",
          "data": {
            "text/plain": [
              "tensor([[10., 10., 10., 10., 10.],\n",
              "        [10., 10., 10., 10., 10.],\n",
              "        [10., 10., 10., 10., 10.]])"
            ]
          },
          "metadata": {
            "tags": []
          },
          "execution_count": 38
        }
      ]
    },
    {
      "cell_type": "markdown",
      "metadata": {
        "id": "vjh2rYOPJUAZ"
      },
      "source": [
        "# Custom Network\n",
        "\n",
        "A fully-connected ReLU network with one hidden layer and no biases, trained to predict y from x by minimizing squared Euclidean distance.\n",
        "\n",
        "This implementation uses PyTorch tensors to manually compute the forward pass, loss, and backward pass.\n",
        "\n",
        "A PyTorch Tensor is basically the same as a numpy array: it does not know anything about deep learning or computational graphs or gradients, and is just a generic n-dimensional array to be used for arbitrary numeric computation.\n",
        "\n",
        "The biggest difference between a numpy array and a PyTorch Tensor is that a PyTorch Tensor can run on either CPU or GPU. To run operations on the GPU, just cast the Tensor to a cuda datatype."
      ]
    },
    {
      "cell_type": "code",
      "metadata": {
        "id": "0nf5RaB104Vp",
        "colab": {
          "base_uri": "https://localhost:8080/"
        },
        "outputId": "cdb185bc-92b4-4aba-8798-256b9072bbdf"
      },
      "source": [
        "dtype = torch.float\n",
        "device = torch.device(\"cpu\")\n",
        "# device = torch.device(\"cuda:0\") # Uncomment this to run on GPU\n",
        "\n",
        "# N is batch size; D_in is input dimension;\n",
        "# H is hidden dimension; D_out is output dimension.\n",
        "N, D_in, H, D_out = 64, 1000, 100, 10\n",
        "\n",
        "# Create random input and output data\n",
        "x = torch.randn(N, D_in, device=device, dtype=dtype)\n",
        "y = torch.randn(N, D_out, device=device, dtype=dtype)\n",
        "\n",
        "# Randomly initialize weights\n",
        "w1 = torch.randn(D_in, H, device=device, dtype=dtype)\n",
        "w2 = torch.randn(H, D_out, device=device, dtype=dtype)\n",
        "\n",
        "learning_rate = 1e-6\n",
        "for t in range(500):\n",
        "    # Forward pass: compute predicted y\n",
        "    h = x.mm(w1)\n",
        "    h_relu = h.clamp(min=0)\n",
        "    y_pred = h_relu.mm(w2)\n",
        "\n",
        "    # Compute and print loss\n",
        "    loss = (y_pred - y).pow(2).sum().item()\n",
        "    print(t, loss)\n",
        "\n",
        "    # Backprop to compute gradients of w1 and w2 with respect to loss\n",
        "    grad_y_pred = 2*(y_pred - y)\n",
        "    grad_w2 = h_relu.t().mm(grad_y_pred)\n",
        "    grad_h_relu = grad_y_pred.mm(w2.t())\n",
        "    grad_h = grad_h_relu.clone()\n",
        "    grad_h[h < 0] = 0\n",
        "    grad_w1 = x.t().mm(grad_h)\n",
        "\n",
        "    # Update weights using gradient descent\n",
        "    w1 -= learning_rate * grad_w1\n",
        "    w2 -= learning_rate * grad_w2"
      ],
      "execution_count": null,
      "outputs": [
        {
          "output_type": "stream",
          "name": "stdout",
          "text": [
            "0 27728448.0\n",
            "1 26851886.0\n",
            "2 31172524.0\n",
            "3 36286980.0\n",
            "4 36372524.0\n",
            "5 28601648.0\n",
            "6 16980198.0\n",
            "7 8279489.5\n",
            "8 3880792.0\n",
            "9 2069765.25\n",
            "10 1330616.625\n",
            "11 991062.25\n",
            "12 801250.1875\n",
            "13 674125.625\n",
            "14 578160.125\n",
            "15 501035.8125\n",
            "16 437209.9375\n",
            "17 383423.4375\n",
            "18 337697.09375\n",
            "19 298550.53125\n",
            "20 264834.875\n",
            "21 235659.546875\n",
            "22 210294.203125\n",
            "23 188154.1875\n",
            "24 168771.625\n",
            "25 151756.546875\n",
            "26 136750.5625\n",
            "27 123472.6484375\n",
            "28 111716.3671875\n",
            "29 101270.984375\n",
            "30 91965.1875\n",
            "31 83664.9609375\n",
            "32 76233.6484375\n",
            "33 69558.390625\n",
            "34 63538.16796875\n",
            "35 58115.40234375\n",
            "36 53218.375\n",
            "37 48790.2421875\n",
            "38 44779.75390625\n",
            "39 41143.5\n",
            "40 37842.6796875\n",
            "41 34841.7890625\n",
            "42 32107.2265625\n",
            "43 29613.904296875\n",
            "44 27337.7890625\n",
            "45 25257.60546875\n",
            "46 23353.888671875\n",
            "47 21611.3828125\n",
            "48 20013.12890625\n",
            "49 18550.5234375\n",
            "50 17206.03515625\n",
            "51 15969.76953125\n",
            "52 14831.78125\n",
            "53 13784.0791015625\n",
            "54 12816.9150390625\n",
            "55 11924.349609375\n",
            "56 11099.9013671875\n",
            "57 10338.0673828125\n",
            "58 9633.4765625\n",
            "59 8981.48046875\n",
            "60 8377.1591796875\n",
            "61 7817.19677734375\n",
            "62 7298.24267578125\n",
            "63 6816.57666015625\n",
            "64 6369.7392578125\n",
            "65 5954.61279296875\n",
            "66 5568.42431640625\n",
            "67 5209.2001953125\n",
            "68 4875.0400390625\n",
            "69 4563.931640625\n",
            "70 4274.3759765625\n",
            "71 4004.597412109375\n",
            "72 3753.05615234375\n",
            "73 3518.473388671875\n",
            "74 3299.537109375\n",
            "75 3095.169189453125\n",
            "76 2904.515625\n",
            "77 2726.51611328125\n",
            "78 2560.1435546875\n",
            "79 2404.538818359375\n",
            "80 2258.98779296875\n",
            "81 2122.904541015625\n",
            "82 1995.5498046875\n",
            "83 1876.21875\n",
            "84 1764.49560546875\n",
            "85 1659.816650390625\n",
            "86 1561.7169189453125\n",
            "87 1469.7655029296875\n",
            "88 1383.4708251953125\n",
            "89 1302.53125\n",
            "90 1226.6134033203125\n",
            "91 1155.3570556640625\n",
            "92 1088.503662109375\n",
            "93 1025.678466796875\n",
            "94 966.6693115234375\n",
            "95 911.2400512695312\n",
            "96 859.14599609375\n",
            "97 810.2122802734375\n",
            "98 764.1893310546875\n",
            "99 720.8975219726562\n",
            "100 680.1775512695312\n",
            "101 641.8634643554688\n",
            "102 605.818603515625\n",
            "103 571.9000244140625\n",
            "104 539.9489135742188\n",
            "105 509.864013671875\n",
            "106 481.5389709472656\n",
            "107 454.8831787109375\n",
            "108 429.7464294433594\n",
            "109 406.0559997558594\n",
            "110 383.73504638671875\n",
            "111 362.7198791503906\n",
            "112 342.89031982421875\n",
            "113 324.1952209472656\n",
            "114 306.5760192871094\n",
            "115 289.9417419433594\n",
            "116 274.2464599609375\n",
            "117 259.4280700683594\n",
            "118 245.44850158691406\n",
            "119 232.24742126464844\n",
            "120 219.79490661621094\n",
            "121 208.02366638183594\n",
            "122 196.90878295898438\n",
            "123 186.4141387939453\n",
            "124 176.5067901611328\n",
            "125 167.1317901611328\n",
            "126 158.27342224121094\n",
            "127 149.9081573486328\n",
            "128 142.00311279296875\n",
            "129 134.52638244628906\n",
            "130 127.45906066894531\n",
            "131 120.76878356933594\n",
            "132 114.45063781738281\n",
            "133 108.4666748046875\n",
            "134 102.81217193603516\n",
            "135 97.45960998535156\n",
            "136 92.39663696289062\n",
            "137 87.60406494140625\n",
            "138 83.06949615478516\n",
            "139 78.7743148803711\n",
            "140 74.71261596679688\n",
            "141 70.86373138427734\n",
            "142 67.21857452392578\n",
            "143 63.76879119873047\n",
            "144 60.50208282470703\n",
            "145 57.40964889526367\n",
            "146 54.47645568847656\n",
            "147 51.70027160644531\n",
            "148 49.06986618041992\n",
            "149 46.57585525512695\n",
            "150 44.213008880615234\n",
            "151 41.973724365234375\n",
            "152 39.85015869140625\n",
            "153 37.83811950683594\n",
            "154 35.92998504638672\n",
            "155 34.12189865112305\n",
            "156 32.40614700317383\n",
            "157 30.779396057128906\n",
            "158 29.23752212524414\n",
            "159 27.775245666503906\n",
            "160 26.387603759765625\n",
            "161 25.071128845214844\n",
            "162 23.822494506835938\n",
            "163 22.63796615600586\n",
            "164 21.51299285888672\n",
            "165 20.445938110351562\n",
            "166 19.43364906311035\n",
            "167 18.471542358398438\n",
            "168 17.559720993041992\n",
            "169 16.693696975708008\n",
            "170 15.871532440185547\n",
            "171 15.090553283691406\n",
            "172 14.349206924438477\n",
            "173 13.645315170288086\n",
            "174 12.977251052856445\n",
            "175 12.342586517333984\n",
            "176 11.739442825317383\n",
            "177 11.166200637817383\n",
            "178 10.622243881225586\n",
            "179 10.105524063110352\n",
            "180 9.614072799682617\n",
            "181 9.147530555725098\n",
            "182 8.704154968261719\n",
            "183 8.282634735107422\n",
            "184 7.881793022155762\n",
            "185 7.501204967498779\n",
            "186 7.139141082763672\n",
            "187 6.795079708099365\n",
            "188 6.468428134918213\n",
            "189 6.157524585723877\n",
            "190 5.862307071685791\n",
            "191 5.581362724304199\n",
            "192 5.314339637756348\n",
            "193 5.060612678527832\n",
            "194 4.8191022872924805\n",
            "195 4.58932638168335\n",
            "196 4.370878219604492\n",
            "197 4.1630120277404785\n",
            "198 3.965399742126465\n",
            "199 3.7770230770111084\n",
            "200 3.5980048179626465\n",
            "201 3.4276249408721924\n",
            "202 3.265580415725708\n",
            "203 3.111335039138794\n",
            "204 2.96492862701416\n",
            "205 2.824864149093628\n",
            "206 2.6920394897460938\n",
            "207 2.5653116703033447\n",
            "208 2.444700002670288\n",
            "209 2.3299288749694824\n",
            "210 2.221003293991089\n",
            "211 2.1169230937957764\n",
            "212 2.017775535583496\n",
            "213 1.9236528873443604\n",
            "214 1.833672285079956\n",
            "215 1.7482695579528809\n",
            "216 1.6667349338531494\n",
            "217 1.5893385410308838\n",
            "218 1.5155125856399536\n",
            "219 1.4449896812438965\n",
            "220 1.3778220415115356\n",
            "221 1.3141487836837769\n",
            "222 1.2532590627670288\n",
            "223 1.1952228546142578\n",
            "224 1.1401762962341309\n",
            "225 1.087509036064148\n",
            "226 1.0373703241348267\n",
            "227 0.9895204305648804\n",
            "228 0.944004237651825\n",
            "229 0.900579035282135\n",
            "230 0.8592406511306763\n",
            "231 0.8198118805885315\n",
            "232 0.7821362614631653\n",
            "233 0.7463361024856567\n",
            "234 0.712203323841095\n",
            "235 0.6795650720596313\n",
            "236 0.6485363245010376\n",
            "237 0.6188957095146179\n",
            "238 0.5907467603683472\n",
            "239 0.5638116002082825\n",
            "240 0.538219690322876\n",
            "241 0.513666033744812\n",
            "242 0.49035710096359253\n",
            "243 0.4681389033794403\n",
            "244 0.4469059705734253\n",
            "245 0.42663419246673584\n",
            "246 0.40731126070022583\n",
            "247 0.38885214924812317\n",
            "248 0.37125033140182495\n",
            "249 0.3545100688934326\n",
            "250 0.3385311961174011\n",
            "251 0.32326555252075195\n",
            "252 0.30865347385406494\n",
            "253 0.29474136233329773\n",
            "254 0.28147703409194946\n",
            "255 0.2688343822956085\n",
            "256 0.25671011209487915\n",
            "257 0.24519704282283783\n",
            "258 0.23423777520656586\n",
            "259 0.22372063994407654\n",
            "260 0.2137628048658371\n",
            "261 0.20421963930130005\n",
            "262 0.1950826644897461\n",
            "263 0.18636535108089447\n",
            "264 0.178039088845253\n",
            "265 0.17003051936626434\n",
            "266 0.16249941289424896\n",
            "267 0.1552153378725052\n",
            "268 0.14832179248332977\n",
            "269 0.14175060391426086\n",
            "270 0.1354498267173767\n",
            "271 0.1294623166322708\n",
            "272 0.12371903657913208\n",
            "273 0.11823859065771103\n",
            "274 0.11296737939119339\n",
            "275 0.10796457529067993\n",
            "276 0.10320034623146057\n",
            "277 0.09864449501037598\n",
            "278 0.09426471590995789\n",
            "279 0.09009494632482529\n",
            "280 0.0861305370926857\n",
            "281 0.08234462141990662\n",
            "282 0.07873302698135376\n",
            "283 0.07526884227991104\n",
            "284 0.0719662755727768\n",
            "285 0.06879415363073349\n",
            "286 0.06578748673200607\n",
            "287 0.06289838999509811\n",
            "288 0.060137636959552765\n",
            "289 0.05751925706863403\n",
            "290 0.05497864633798599\n",
            "291 0.05257504805922508\n",
            "292 0.0502731092274189\n",
            "293 0.04807554557919502\n",
            "294 0.04597512632608414\n",
            "295 0.04397445172071457\n",
            "296 0.04205066338181496\n",
            "297 0.040221527218818665\n",
            "298 0.03848050907254219\n",
            "299 0.0368172749876976\n",
            "300 0.03522449731826782\n",
            "301 0.03369438275694847\n",
            "302 0.03223556652665138\n",
            "303 0.030844932422041893\n",
            "304 0.029509669169783592\n",
            "305 0.028237367048859596\n",
            "306 0.027010470628738403\n",
            "307 0.025843024253845215\n",
            "308 0.024723965674638748\n",
            "309 0.0236660223454237\n",
            "310 0.02263561636209488\n",
            "311 0.021666184067726135\n",
            "312 0.020735759288072586\n",
            "313 0.019844558089971542\n",
            "314 0.019008591771125793\n",
            "315 0.01819881796836853\n",
            "316 0.017422882840037346\n",
            "317 0.016683852300047874\n",
            "318 0.01597519963979721\n",
            "319 0.015286463312804699\n",
            "320 0.014639964327216148\n",
            "321 0.014015540480613708\n",
            "322 0.013421873562037945\n",
            "323 0.012860097922384739\n",
            "324 0.0123165063560009\n",
            "325 0.011793551966547966\n",
            "326 0.011299753561615944\n",
            "327 0.010826573707163334\n",
            "328 0.010380927473306656\n",
            "329 0.009943747892975807\n",
            "330 0.009522596374154091\n",
            "331 0.009127965196967125\n",
            "332 0.0087536396458745\n",
            "333 0.00838862732052803\n",
            "334 0.008040845394134521\n",
            "335 0.007712835446000099\n",
            "336 0.0073980786837637424\n",
            "337 0.0070911976508796215\n",
            "338 0.006801958661526442\n",
            "339 0.006526436656713486\n",
            "340 0.006262088660150766\n",
            "341 0.006005661562085152\n",
            "342 0.00576331140473485\n",
            "343 0.005532946437597275\n",
            "344 0.0053100879304111\n",
            "345 0.0051005263812839985\n",
            "346 0.004899794235825539\n",
            "347 0.0047056423500180244\n",
            "348 0.004519036505371332\n",
            "349 0.004341467749327421\n",
            "350 0.004171848297119141\n",
            "351 0.004008457530289888\n",
            "352 0.0038505198899656534\n",
            "353 0.003704177215695381\n",
            "354 0.0035625267773866653\n",
            "355 0.0034270514734089375\n",
            "356 0.00329283787868917\n",
            "357 0.0031693943310528994\n",
            "358 0.0030477396212518215\n",
            "359 0.0029340877663344145\n",
            "360 0.0028262552805244923\n",
            "361 0.002722471719607711\n",
            "362 0.002621745690703392\n",
            "363 0.0025233214255422354\n",
            "364 0.002430401975288987\n",
            "365 0.0023437119089066982\n",
            "366 0.00226022582501173\n",
            "367 0.0021783330012112856\n",
            "368 0.0021021077409386635\n",
            "369 0.0020295665599405766\n",
            "370 0.0019575569313019514\n",
            "371 0.0018892319640144706\n",
            "372 0.0018231561407446861\n",
            "373 0.0017584770685061812\n",
            "374 0.0016985852271318436\n",
            "375 0.0016385877970606089\n",
            "376 0.001583414850756526\n",
            "377 0.001530685811303556\n",
            "378 0.0014789163833484054\n",
            "379 0.0014271883992478251\n",
            "380 0.0013798139989376068\n",
            "381 0.0013350730296224356\n",
            "382 0.001291767111979425\n",
            "383 0.001249475753866136\n",
            "384 0.0012090771924704313\n",
            "385 0.001169723691418767\n",
            "386 0.0011341135250404477\n",
            "387 0.0010954574681818485\n",
            "388 0.0010605102870613337\n",
            "389 0.0010283978190273046\n",
            "390 0.0009965358767658472\n",
            "391 0.0009670372237451375\n",
            "392 0.0009375557419843972\n",
            "393 0.0009092048276215792\n",
            "394 0.000880989246070385\n",
            "395 0.0008547877077944577\n",
            "396 0.0008287242380902171\n",
            "397 0.0008035325445234776\n",
            "398 0.0007810269016772509\n",
            "399 0.0007574478513561189\n",
            "400 0.0007359609589911997\n",
            "401 0.0007145411800593138\n",
            "402 0.0006941507454030216\n",
            "403 0.0006734393537044525\n",
            "404 0.0006540257018059492\n",
            "405 0.0006361179985105991\n",
            "406 0.0006186366081237793\n",
            "407 0.0006004690076224506\n",
            "408 0.0005852305912412703\n",
            "409 0.0005685745854862034\n",
            "410 0.0005525217275135219\n",
            "411 0.0005383245297707617\n",
            "412 0.0005239667952992022\n",
            "413 0.0005104385199956596\n",
            "414 0.0004960091901011765\n",
            "415 0.00048320365021936595\n",
            "416 0.00047109887236729264\n",
            "417 0.00045865244464948773\n",
            "418 0.0004473401349969208\n",
            "419 0.0004355846322141588\n",
            "420 0.00042430756730027497\n",
            "421 0.00041402046917937696\n",
            "422 0.00040325132431462407\n",
            "423 0.00039234652649611235\n",
            "424 0.00038262619636952877\n",
            "425 0.00037299765972420573\n",
            "426 0.00036386260762810707\n",
            "427 0.0003553256392478943\n",
            "428 0.00034639949444681406\n",
            "429 0.0003388544137123972\n",
            "430 0.00033078386331908405\n",
            "431 0.00032281159656122327\n",
            "432 0.00031469465466216207\n",
            "433 0.000307163194520399\n",
            "434 0.00030025059822946787\n",
            "435 0.00029319667373783886\n",
            "436 0.0002860348322428763\n",
            "437 0.000280019041383639\n",
            "438 0.0002739363117143512\n",
            "439 0.0002677080046851188\n",
            "440 0.0002614158729556948\n",
            "441 0.00025558285415172577\n",
            "442 0.0002493124338798225\n",
            "443 0.00024408883473370224\n",
            "444 0.00023910551681183279\n",
            "445 0.00023341909400187433\n",
            "446 0.00022846096544526517\n",
            "447 0.00022353287204168737\n",
            "448 0.00021932562231086195\n",
            "449 0.00021460781863424927\n",
            "450 0.0002109306224156171\n",
            "451 0.00020579977717716247\n",
            "452 0.000201402697712183\n",
            "453 0.0001969734876183793\n",
            "454 0.00019314994278829545\n",
            "455 0.00018980570894200355\n",
            "456 0.0001858034374890849\n",
            "457 0.00018186160014010966\n",
            "458 0.0001779625308699906\n",
            "459 0.00017488101730123162\n",
            "460 0.00017122653662227094\n",
            "461 0.00016808869258966297\n",
            "462 0.0001652091887081042\n",
            "463 0.00016187370056286454\n",
            "464 0.00015874563541729003\n",
            "465 0.0001554270857013762\n",
            "466 0.00015280784282367676\n",
            "467 0.00014989788178354502\n",
            "468 0.00014689353702124208\n",
            "469 0.00014435991761274636\n",
            "470 0.00014134882076177746\n",
            "471 0.00013867496454622597\n",
            "472 0.0001360688329441473\n",
            "473 0.00013369432417675853\n",
            "474 0.00013139797374606133\n",
            "475 0.00012904030154459178\n",
            "476 0.00012727886496577412\n",
            "477 0.00012493497342802584\n",
            "478 0.00012292993778828532\n",
            "479 0.00012036288535455242\n",
            "480 0.00011823200475191697\n",
            "481 0.00011640271259238943\n",
            "482 0.00011426482524257153\n",
            "483 0.00011276907025603577\n",
            "484 0.00011067694140365347\n",
            "485 0.00010886765085160732\n",
            "486 0.00010706179455155507\n",
            "487 0.00010506019316380844\n",
            "488 0.00010324323375243694\n",
            "489 0.00010160516831092536\n",
            "490 9.9995631899219e-05\n",
            "491 9.870795474853367e-05\n",
            "492 9.720797243062407e-05\n",
            "493 9.58090167841874e-05\n",
            "494 9.410200436832383e-05\n",
            "495 9.240605140803382e-05\n",
            "496 9.084045450435951e-05\n",
            "497 8.932295895647258e-05\n",
            "498 8.821023220662028e-05\n",
            "499 8.678618905832991e-05\n"
          ]
        }
      ]
    },
    {
      "cell_type": "markdown",
      "metadata": {
        "id": "ycwxAPHZLNST"
      },
      "source": [
        "\n",
        "\n",
        "---\n",
        "## Question 12\n",
        "\n",
        "In the code above, why do we have 2 in '2.0*(y_pred - y)`?<hr>\n",
        "Gradient of loss\n",
        "\n",
        "## Question 13\n",
        "In the code above, what does `grad_h[h < 0] = 0` signify?<hr>\n",
        "ReLU function\n",
        "\n",
        "## Question 14\n",
        "In the code above, how many \"epochs\" have we trained the model for? <hr>\n",
        "500\n",
        "\n",
        "## Question 15\n",
        "In the code above, if we take the trained model, and run it on fresh  inputs, the trained model will be able to predict fresh output with high accuracy. <hr>\n",
        "No\n",
        "\n",
        "## Question 16\n",
        "In the code above, if we dont use clone in `grad_h = grad_h_relu.clone()` the model will still train without any issues. <hr>\n",
        "<font color='red'>Model will still run, not clear about how it affects the results</font>"
      ]
    }
  ]
}