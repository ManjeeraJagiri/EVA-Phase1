{
  "nbformat": 4,
  "nbformat_minor": 0,
  "metadata": {
    "kernelspec": {
      "name": "python3",
      "display_name": "Python 3"
    },
    "language_info": {
      "codemirror_mode": {
        "name": "ipython",
        "version": 3
      },
      "file_extension": ".py",
      "mimetype": "text/x-python",
      "name": "python",
      "nbconvert_exporter": "python",
      "pygments_lexer": "ipython3",
      "version": "3.6.6"
    },
    "colab": {
      "name": "EVA6_Session7_Assignment.ipynb",
      "provenance": [],
      "collapsed_sections": []
    },
    "accelerator": "GPU"
  },
  "cells": [
    {
      "cell_type": "markdown",
      "metadata": {
        "id": "FvQHQkOun4yw"
      },
      "source": [
        "\n",
        "Import packages\n",
        "----------------"
      ]
    },
    {
      "cell_type": "code",
      "metadata": {
        "colab": {
          "base_uri": "https://localhost:8080/"
        },
        "id": "wDtk_R8ubEON",
        "outputId": "3c31dc71-be62-4c2d-bc37-8a71f2b9a96c"
      },
      "source": [
        "!pip install --upgrade albumentations\n",
        "# !pip install -U git+https://github.com/albu/albumentations --no-cache-dir\n",
        "!pip install torchsummary"
      ],
      "execution_count": 1,
      "outputs": [
        {
          "output_type": "stream",
          "text": [
            "Requirement already up-to-date: albumentations in /usr/local/lib/python3.7/dist-packages (1.0.0)\n",
            "Requirement already satisfied, skipping upgrade: PyYAML in /usr/local/lib/python3.7/dist-packages (from albumentations) (3.13)\n",
            "Requirement already satisfied, skipping upgrade: opencv-python-headless>=4.1.1 in /usr/local/lib/python3.7/dist-packages (from albumentations) (4.5.2.54)\n",
            "Requirement already satisfied, skipping upgrade: scipy in /usr/local/lib/python3.7/dist-packages (from albumentations) (1.4.1)\n",
            "Requirement already satisfied, skipping upgrade: numpy>=1.11.1 in /usr/local/lib/python3.7/dist-packages (from albumentations) (1.19.5)\n",
            "Requirement already satisfied, skipping upgrade: scikit-image>=0.16.1 in /usr/local/lib/python3.7/dist-packages (from albumentations) (0.16.2)\n",
            "Requirement already satisfied, skipping upgrade: networkx>=2.0 in /usr/local/lib/python3.7/dist-packages (from scikit-image>=0.16.1->albumentations) (2.5.1)\n",
            "Requirement already satisfied, skipping upgrade: pillow>=4.3.0 in /usr/local/lib/python3.7/dist-packages (from scikit-image>=0.16.1->albumentations) (7.1.2)\n",
            "Requirement already satisfied, skipping upgrade: PyWavelets>=0.4.0 in /usr/local/lib/python3.7/dist-packages (from scikit-image>=0.16.1->albumentations) (1.1.1)\n",
            "Requirement already satisfied, skipping upgrade: imageio>=2.3.0 in /usr/local/lib/python3.7/dist-packages (from scikit-image>=0.16.1->albumentations) (2.4.1)\n",
            "Requirement already satisfied, skipping upgrade: matplotlib!=3.0.0,>=2.0.0 in /usr/local/lib/python3.7/dist-packages (from scikit-image>=0.16.1->albumentations) (3.2.2)\n",
            "Requirement already satisfied, skipping upgrade: decorator<5,>=4.3 in /usr/local/lib/python3.7/dist-packages (from networkx>=2.0->scikit-image>=0.16.1->albumentations) (4.4.2)\n",
            "Requirement already satisfied, skipping upgrade: cycler>=0.10 in /usr/local/lib/python3.7/dist-packages (from matplotlib!=3.0.0,>=2.0.0->scikit-image>=0.16.1->albumentations) (0.10.0)\n",
            "Requirement already satisfied, skipping upgrade: pyparsing!=2.0.4,!=2.1.2,!=2.1.6,>=2.0.1 in /usr/local/lib/python3.7/dist-packages (from matplotlib!=3.0.0,>=2.0.0->scikit-image>=0.16.1->albumentations) (2.4.7)\n",
            "Requirement already satisfied, skipping upgrade: kiwisolver>=1.0.1 in /usr/local/lib/python3.7/dist-packages (from matplotlib!=3.0.0,>=2.0.0->scikit-image>=0.16.1->albumentations) (1.3.1)\n",
            "Requirement already satisfied, skipping upgrade: python-dateutil>=2.1 in /usr/local/lib/python3.7/dist-packages (from matplotlib!=3.0.0,>=2.0.0->scikit-image>=0.16.1->albumentations) (2.8.1)\n",
            "Requirement already satisfied, skipping upgrade: six in /usr/local/lib/python3.7/dist-packages (from cycler>=0.10->matplotlib!=3.0.0,>=2.0.0->scikit-image>=0.16.1->albumentations) (1.15.0)\n",
            "Requirement already satisfied: torchsummary in /usr/local/lib/python3.7/dist-packages (1.5.1)\n"
          ],
          "name": "stdout"
        }
      ]
    },
    {
      "cell_type": "code",
      "metadata": {
        "colab": {
          "base_uri": "https://localhost:8080/"
        },
        "id": "BDOc7I1-iHTf",
        "outputId": "0497cbfe-7064-425d-a7dd-211618375ecd"
      },
      "source": [
        "from google.colab import drive\n",
        "drive.mount('/content/drive')"
      ],
      "execution_count": 15,
      "outputs": [
        {
          "output_type": "stream",
          "text": [
            "Mounted at /content/drive\n"
          ],
          "name": "stdout"
        }
      ]
    },
    {
      "cell_type": "code",
      "metadata": {
        "colab": {
          "base_uri": "https://localhost:8080/"
        },
        "id": "E1yuUUwpia_t",
        "outputId": "bf632b72-9233-4bce-a079-4cfa40f8c72c"
      },
      "source": [
        "%cd /content/drive/MyDrive/\n",
        "import model"
      ],
      "execution_count": 16,
      "outputs": [
        {
          "output_type": "stream",
          "text": [
            "/content/drive/MyDrive\n"
          ],
          "name": "stdout"
        }
      ]
    },
    {
      "cell_type": "code",
      "metadata": {
        "id": "tJ3yVzP_n01h"
      },
      "source": [
        "%matplotlib inline\n",
        "import torch\n",
        "import torch.nn as nn\n",
        "import torch.nn.functional as F\n",
        "import torch.optim as optim\n",
        "import torchvision\n",
        "import torchvision.transforms as transforms\n",
        "from torch.utils.data import Dataset, TensorDataset\n",
        "from torch.utils.data import DataLoader\n",
        "\n",
        "import matplotlib.pyplot as plt\n",
        "import numpy as np\n",
        "\n",
        "import random\n",
        "\n",
        "import albumentations as A\n",
        "\n",
        "from torchsummary import summary\n",
        "\n",
        "from tqdm import tqdm"
      ],
      "execution_count": 2,
      "outputs": []
    },
    {
      "cell_type": "markdown",
      "metadata": {
        "id": "fPogbueepoCh"
      },
      "source": [
        "\n",
        "Device type\n",
        "----------------"
      ]
    },
    {
      "cell_type": "code",
      "metadata": {
        "colab": {
          "base_uri": "https://localhost:8080/"
        },
        "id": "S5eEtZK4o_-k",
        "outputId": "87385d7a-9f21-4718-ded9-b1ce5e7201d8"
      },
      "source": [
        "SEED = 1\n",
        "\n",
        "use_cuda = torch.cuda.is_available()\n",
        "\n",
        "torch.manual_seed(SEED)\n",
        "\n",
        "if use_cuda:\n",
        "  torch.cuda.manual_seed(SEED)\n",
        "  device = torch.device(\"cuda\")\n",
        "else:\n",
        "  device = torch.device(\"cpu\")\n",
        "device"
      ],
      "execution_count": 3,
      "outputs": [
        {
          "output_type": "execute_result",
          "data": {
            "text/plain": [
              "device(type='cuda')"
            ]
          },
          "metadata": {
            "tags": []
          },
          "execution_count": 3
        }
      ]
    },
    {
      "cell_type": "markdown",
      "metadata": {
        "id": "bQnjOSAUpL8p"
      },
      "source": [
        "Load and Prepare dataset\n",
        "----------------"
      ]
    },
    {
      "cell_type": "code",
      "metadata": {
        "colab": {
          "base_uri": "https://localhost:8080/"
        },
        "id": "hgXQ_Q_brcke",
        "outputId": "a05935bf-7436-4f3b-c7f4-de52ba939131"
      },
      "source": [
        "'''Before any image transformations'''\n",
        "\n",
        "simple_transforms = transforms.Compose([transforms.ToTensor(), # Automatically converts it between 0-1. ?\n",
        "                                      #  transforms.Normalize((0.1307,), (0.3081,)) \n",
        "                                       ])\n",
        "exp = torchvision.datasets.CIFAR10(root='./data', train=True,\n",
        "                                        download=True, transform=simple_transforms)\n",
        "exp_loader = torch.utils.data.DataLoader(exp, batch_size=16,\n",
        "                                          shuffle=True, num_workers=2)\n",
        "\n",
        "# avg(std(minibatch_1) + std(minibatch_2) + .. ) != std(dataset). Need to check further\n",
        "mean = 0.\n",
        "std = 0.\n",
        "for images, _ in exp_loader:\n",
        "    batch_samples = images.size(0) # batch size (the last batch can have smaller size!) ; images of torch.Size([16, 3, 32, 32])\n",
        "    images = images.view(batch_samples, images.size(1), -1) # ; images of torch.Size([16, 3, 1024])\n",
        "    mean += images.mean(2).sum(0) # Mean is calculated image-channel, and [16,3]. It is then summed across the images for each channel, and [3]\n",
        "    std += images.std(2).sum(0)\n",
        "\n",
        "mean /= len(exp_loader.dataset) # This gives number of total images\n",
        "std /= len(exp_loader.dataset)\n",
        "\n",
        "print (f'mean: {mean}')\n",
        "print (f'std: {std}')"
      ],
      "execution_count": 4,
      "outputs": [
        {
          "output_type": "stream",
          "text": [
            "Files already downloaded and verified\n",
            "mean: tensor([0.4914, 0.4822, 0.4465])\n",
            "std: tensor([0.2023, 0.1994, 0.2010])\n"
          ],
          "name": "stdout"
        }
      ]
    },
    {
      "cell_type": "code",
      "metadata": {
        "colab": {
          "base_uri": "https://localhost:8080/",
          "height": 154
        },
        "id": "m3FCQPRgTdTT",
        "outputId": "ae18e714-b658-4e97-81db-62b84f6d50f1"
      },
      "source": [
        "import matplotlib.pyplot as plt\n",
        "import numpy as np\n",
        "\n",
        "# functions to show an image\n",
        "classes = ('plane', 'car', 'bird', 'cat',\n",
        "           'deer', 'dog', 'frog', 'horse', 'ship', 'truck')\n",
        "\n",
        "def imshow(img):\n",
        "    # print (img.shape) # [3, 70, 274]\n",
        "    # img = img / 2 + 0.5     # unnormalize\n",
        "    npimg = img.numpy() # (3, 70, 274)\n",
        "    temp=np.transpose(npimg, (1, 2, 0))\n",
        "    plt.imshow(np.transpose(npimg, (1, 2, 0))) # (70, 274, 3)\n",
        "\n",
        "\n",
        "# get some random training images\n",
        "dataiter = iter(exp_loader)\n",
        "images, labels = dataiter.next()\n",
        "\n",
        "# show images\n",
        "imshow(torchvision.utils.make_grid(images))\n",
        "# print labels\n",
        "print(' : '.join('%5s' % classes[labels[j]] for j in range(16)))"
      ],
      "execution_count": 5,
      "outputs": [
        {
          "output_type": "stream",
          "text": [
            "horse :   car :   car :  deer :  ship : plane : horse :  bird : plane :   dog :  ship :  bird :   car :  deer :   car :   car\n"
          ],
          "name": "stdout"
        },
        {
          "output_type": "display_data",
          "data": {
            "image/png": "[encoded data removed]",
            "text/plain": [
              "<Figure size 432x288 with 1 Axes>"
            ]
          },
          "metadata": {
            "tags": [],
            "needs_background": "light"
          }
        }
      ]
    },
    {
      "cell_type": "code",
      "metadata": {
        "colab": {
          "base_uri": "https://localhost:8080/",
          "height": 35
        },
        "id": "VpUUjHE6Eva9",
        "outputId": "66f28e8e-8ce3-4a4f-f9b2-9af11ea0821a"
      },
      "source": [
        "'''simple image transformations'''\n",
        "\n",
        "# # Train Phase transformations\n",
        "# train_transforms = transforms.Compose([\n",
        "#                                        transforms.ToTensor(),\n",
        "#                                        transforms.Normalize((0.5, 0.5, 0.5), (0.5, 0.5, 0.5)) \n",
        "#                                        ])\n",
        "\n",
        "# # Test Phase transformations\n",
        "# test_transforms = transforms.Compose([\n",
        "#                                        transforms.ToTensor(),\n",
        "#                                        transforms.Normalize((0.5, 0.5, 0.5), (0.5, 0.5, 0.5))\n",
        "#                                        ])\n",
        "\n",
        "# train = torchvision.datasets.CIFAR10('./data', train=True, download=True, transform=train_transforms)\n",
        "# test = torchvision.datasets.CIFAR10('./data', train=False, download=True, transform=test_transforms) \n",
        "\n",
        "# dataloader_args = dict(shuffle=True, batch_size=64, num_workers=4, pin_memory=True) if use_cuda else dict(shuffle=True, batch_size=16)\n",
        "\n",
        "# # train dataloader\n",
        "# train_loader = torch.utils.data.DataLoader(train, **dataloader_args)\n",
        "\n",
        "# # test dataloader\n",
        "# test_loader = torch.utils.data.DataLoader(test, **dataloader_args)\n",
        "\n",
        "# classes = ('plane', 'car', 'bird', 'cat',\n",
        "#            'deer', 'dog', 'frog', 'horse', 'ship', 'truck')"
      ],
      "execution_count": 6,
      "outputs": [
        {
          "output_type": "execute_result",
          "data": {
            "application/vnd.google.colaboratory.intrinsic+json": {
              "type": "string"
            },
            "text/plain": [
              "'simple image transformations'"
            ]
          },
          "metadata": {
            "tags": []
          },
          "execution_count": 6
        }
      ]
    },
    {
      "cell_type": "code",
      "metadata": {
        "colab": {
          "base_uri": "https://localhost:8080/"
        },
        "id": "iYAFJv0gE8I7",
        "outputId": "c4d007b0-86a1-4bc6-ed46-09741e988d63"
      },
      "source": [
        "'''image transformations'''\n",
        "\n",
        "# Test Phase transformations\n",
        "test_transforms = transforms.Compose([\n",
        "                                       transforms.ToTensor(),\n",
        "                                       transforms.Normalize((0.5, 0.5, 0.5), (0.5, 0.5, 0.5))\n",
        "                                       ])\n",
        "\n",
        "# custom dataset class for albumentations library. Normalize, and then perform augmentions? or reverse?\n",
        "class AlbumentationImageDataset(Dataset):\n",
        "  def __init__(self, image_list):\n",
        "      self.image_list = image_list\n",
        "      self.aug = A.Compose({\n",
        "      A.HorizontalFlip(p=0.5),\n",
        "      A.ShiftScaleRotate(),\n",
        "      A.CoarseDropout(max_holes=1, max_height=16, max_width=16, min_holes=1, min_height=16, min_width=16, fill_value=[0.5, 0.5, 0.5],mask_fill_value=None, always_apply=False, p=0.5),\n",
        "      A.Normalize((0.5, 0.5, 0.5), (0.5, 0.5, 0.5), always_apply=False, p=1.0),\n",
        "      })\n",
        "        \n",
        "  def __len__(self):\n",
        "      return (len(self.image_list))\n",
        "  \n",
        "  def __getitem__(self, i):\n",
        "\n",
        "      image = self.image_list[i][0]\n",
        "      label = self.image_list[i][1]\n",
        "\n",
        "      image = self.aug(image=np.array(image))['image'] # send as numpy array\n",
        "      # print (image.shape)\n",
        "      image = np.transpose(image, (2, 0, 1)).astype(np.float32)\n",
        "      # print (image.shape)\n",
        "          \n",
        "      return torch.tensor(image, dtype=torch.float), label\n",
        "\n",
        "train = torchvision.datasets.CIFAR10('./data', train=True, download=True)\n",
        "test = torchvision.datasets.CIFAR10('./data', train=False, download=True, transform=test_transforms) \n",
        "\n",
        "dataloader_args = dict(shuffle=True, batch_size=64, num_workers=4, pin_memory=True) if use_cuda else dict(shuffle=True, batch_size=16)\n",
        "\n",
        "# train dataloader\n",
        "train_dataset = AlbumentationImageDataset(train)\n",
        "train_loader = torch.utils.data.DataLoader(train_dataset, **dataloader_args)\n",
        "\n",
        "# test dataloader\n",
        "test_loader = torch.utils.data.DataLoader(test, **dataloader_args)\n",
        "\n",
        "classes = ('plane', 'car', 'bird', 'cat',\n",
        "           'deer', 'dog', 'frog', 'horse', 'ship', 'truck')\n"
      ],
      "execution_count": 7,
      "outputs": [
        {
          "output_type": "stream",
          "text": [
            "Files already downloaded and verified\n",
            "Files already downloaded and verified\n"
          ],
          "name": "stdout"
        },
        {
          "output_type": "stream",
          "text": [
            "/usr/local/lib/python3.7/dist-packages/torch/utils/data/dataloader.py:481: UserWarning: This DataLoader will create 4 worker processes in total. Our suggested max number of worker in current system is 2, which is smaller than what this DataLoader is going to create. Please be aware that excessive worker creation might get DataLoader running slow or even freeze, lower the worker number to avoid potential slowness/freeze if necessary.\n",
            "  cpuset_checked))\n"
          ],
          "name": "stderr"
        }
      ]
    },
    {
      "cell_type": "markdown",
      "metadata": {
        "id": "NwE8biIJj8qk"
      },
      "source": [
        "Defining the model\n",
        "----------------"
      ]
    },
    {
      "cell_type": "code",
      "metadata": {
        "id": "hLKs296gcHCQ"
      },
      "source": [
        "'''\n",
        "class Net(nn.Module):\n",
        "    def __init__(self):\n",
        "        super(Net, self).__init__()\n",
        "\n",
        "        self.convblock1 = nn.Sequential(\n",
        "            nn.Conv2d(in_channels=3, out_channels=16, kernel_size=3, padding=1, bias=False), # 32x32x3 --- 3x3x16 --- 32x32x16, RF : 3x3\n",
        "            nn.ReLU(),\n",
        "            # nn.BatchNorm2d(16),\n",
        "            # nn.Dropout(0.1),\n",
        "\n",
        "            nn.Conv2d(in_channels=16, out_channels=16, kernel_size=3, padding=1, bias=False), # 32x32x16 --- 3x3x16 --- 32x32x16, RF : 5x5\n",
        "            nn.ReLU(),\n",
        "            # nn.BatchNorm2d(16),\n",
        "            # nn.Dropout(0.1),     \n",
        "\n",
        "            nn.Conv2d(in_channels=16, out_channels=16, kernel_size=3, padding=1, bias=False), # 32x32x16 --- 3x3x16 --- 32x32x16, RF : 7x7\n",
        "            nn.ReLU(),\n",
        "            # nn.BatchNorm2d(16),\n",
        "            # nn.Dropout(0.1), \n",
        "        ) \n",
        "        \n",
        "        self.transblock1 = nn.Sequential(\n",
        "            nn.MaxPool2d(kernel_size=2, stride=2), # 32x32x16 --- MP --- 16x16x16, RF : 14x14 (Old calculation)\n",
        "\n",
        "            nn.Conv2d(in_channels=16, out_channels=32, kernel_size=1, padding=0, bias=False), # 16x16x16 --- 1x1x32 --- 16x16x32, RF : 14x14. ReLU, BN, Dropout?\n",
        "        ) \n",
        "\n",
        "        self.convblock2 = nn.Sequential(\n",
        "            nn.Conv2d(in_channels=32, out_channels=32, kernel_size=3, padding=1, bias=False), # 16x16x32 --- 3x3x32 --- 16x16x32, RF : 16x16\n",
        "            nn.ReLU(),\n",
        "            # nn.BatchNorm2d(16),\n",
        "            # nn.Dropout(0.1),\n",
        "\n",
        "            nn.Conv2d(in_channels=32, out_channels=32, kernel_size=3, padding=1, bias=False), # 16x16x32 --- 3x3x32 --- 16x16x32, RF : 18x18\n",
        "            nn.ReLU(),\n",
        "            # nn.BatchNorm2d(16),\n",
        "            # nn.Dropout(0.1),     \n",
        "\n",
        "            nn.Conv2d(in_channels=32, out_channels=32, kernel_size=3, padding=1, bias=False), # 16x16x32 --- 33x3x32 --- 16x16x32, RF : 20x20\n",
        "            nn.ReLU(),\n",
        "            # nn.BatchNorm2d(16),\n",
        "            # nn.Dropout(0.1), \n",
        "        ) \n",
        "\n",
        "        self.transblock2 = nn.Sequential(\n",
        "            nn.MaxPool2d(kernel_size=2, stride=2), # 16x16x32 --- MP --- 8x8x32, RF : 40x40 (Old calculation)\n",
        "\n",
        "            nn.Conv2d(in_channels=32, out_channels=64, kernel_size=1, padding=0, bias=False), # 8x8x32 --- 1x1x64 --- 8x8x64, RF : 40x40. ReLU, BN, Dropout?\n",
        "        )\n",
        "\n",
        "        self.convblock3 = nn.Sequential(\n",
        "            nn.Conv2d(in_channels=64, out_channels=64, kernel_size=3, padding=0, bias=False), # 8x8x64 --- 3x3x64 --- 8x8x64, RF : 42x42\n",
        "            nn.ReLU(),\n",
        "            # nn.BatchNorm2d(16),\n",
        "            # nn.Dropout(0.1),\n",
        "\n",
        "            nn.Conv2d(in_channels=64, out_channels=64, kernel_size=3, padding=0, bias=False), # 8x8x64 --- 3x3x64 --- 8x8x64, RF : 44x44\n",
        "            nn.ReLU(),\n",
        "            # nn.BatchNorm2d(16),\n",
        "            # nn.Dropout(0.1),     \n",
        "\n",
        "            nn.Conv2d(in_channels=64, out_channels=64, kernel_size=3, padding=0, bias=False), # 8x8x64 --- 3x3x64 --- 8x8x64, RF : 46x46\n",
        "            nn.ReLU(),\n",
        "            # nn.BatchNorm2d(16),\n",
        "            # nn.Dropout(0.1), \n",
        "        ) \n",
        "\n",
        "        self.transblock3 = nn.Sequential(\n",
        "            nn.MaxPool2d(kernel_size=2, stride=2), # 8x8x64 --- MP --- 4x4x64, RF : 92x92 (Old calculation)\n",
        "\n",
        "            nn.Conv2d(in_channels=64, out_channels=128, kernel_size=1, padding=0, bias=False), # 4x4x64 --- 1x1x128 --- 4x4x128, RF : 92x92. ReLU, BN, Dropout?\n",
        "        )\n",
        "\n",
        "        self.convblock4 = nn.Sequential(\n",
        "            nn.Conv2d(in_channels=128, out_channels=128, kernel_size=3, padding=1, bias=False), # 4x4x128 --- 3x3x128 --- 4x4x128, RF : 94x94\n",
        "            nn.ReLU(),\n",
        "            # nn.BatchNorm2d(16),\n",
        "            # nn.Dropout(0.1),\n",
        "\n",
        "            nn.AvgPool2d(4), # 4x4x128 --- GAP --- 1x1x128, RF : 94x94\n",
        "\n",
        "            nn.Conv2d(in_channels=128, out_channels=10, kernel_size=1, padding=0, bias=False), # 1x1x128 --- 1x1x10 --- 1x1x10, RF : 94x94\n",
        "\n",
        "        ) \n",
        "\n",
        "    def forward(self, x):\n",
        "        x = self.convblock1(x)\n",
        "        x = self.transblock1(x)\n",
        "        x = self.convblock2(x)\n",
        "        x = self.transblock2(x)\n",
        "        x = self.convblock3(x)\n",
        "        x = self.transblock3(x)\n",
        "        x = self.convblock4(x)\n",
        "        x = x.reshape(-1, 10)\n",
        "        return F.log_softmax(x, dim=-1)'''"
      ],
      "execution_count": 8,
      "outputs": []
    },
    {
      "cell_type": "code",
      "metadata": {
        "id": "t6Y2-10Kepjs"
      },
      "source": [
        "'''\n",
        "class depthwise_separable_conv(nn.Module):\n",
        "    def __init__(self, nin, nout):\n",
        "        super(depthwise_separable_conv, self).__init__()\n",
        "        self.depthwise = nn.Conv2d(nin, nin, kernel_size=3, padding=1, groups=nin, bias=False)\n",
        "        self.pointwise = nn.Conv2d(nin, nout, kernel_size=1, bias=False)\n",
        "\n",
        "    def forward(self, x):\n",
        "        out = self.depthwise(x)\n",
        "        out = self.pointwise(out)\n",
        "        return out\n",
        "\n",
        "class Net(nn.Module):\n",
        "  def __init__(self):\n",
        "    super(Net, self).__init__()\n",
        "\n",
        "    self.convblock1 = nn.Sequential(\n",
        "        nn.Conv2d(in_channels=3, out_channels=16, kernel_size=3, padding=1, bias=False), # 32x32x3 --- 3x3x16 --- 32x32x16, RF : 3x3\n",
        "        nn.ReLU(),\n",
        "        nn.BatchNorm2d(16),\n",
        "        nn.Dropout(0.01),\n",
        "\n",
        "        nn.Conv2d(in_channels=16, out_channels=16, kernel_size=3, padding=1, bias=False), # 32x32x16 --- 3x3x16 --- 32x32x16, RF : 5x5\n",
        "        nn.ReLU(),\n",
        "        nn.BatchNorm2d(16),\n",
        "        nn.Dropout(0.01),     \n",
        "\n",
        "        nn.Conv2d(in_channels=16, out_channels=16, kernel_size=3, padding=1, bias=False), # 32x32x16 --- 3x3x16 --- 32x32x16, RF : 7x7\n",
        "        nn.ReLU(),\n",
        "        nn.BatchNorm2d(16),\n",
        "        nn.Dropout(0.01), \n",
        "    ) \n",
        "\n",
        "    self.transblock1 = nn.Sequential(\n",
        "        nn.Conv2d(in_channels=16, out_channels=16, kernel_size=2, padding=0, stride=2, bias=False), # 32x32x16 --- MP --- 16x16x16, RF : 14x14 (Old calculation)\n",
        "        nn.ReLU(),\n",
        "        nn.BatchNorm2d(16),\n",
        "        nn.Dropout(0.01),\n",
        "\n",
        "        # nn.Conv2d(in_channels=16, out_channels=32, kernel_size=1, padding=0, bias=False), # 16x16x16 --- 1x1x32 --- 16x16x32, RF : 14x14. ReLU, BN, Dropout?\n",
        "    ) \n",
        "\n",
        "    self.convblock2 = nn.Sequential(\n",
        "        nn.Conv2d(in_channels=16, out_channels=32, kernel_size=3, padding=1, bias=False), # 16x16x32 --- 3x3x32 --- 16x16x32, RF : 16x16\n",
        "        nn.ReLU(),\n",
        "        nn.BatchNorm2d(32),\n",
        "        nn.Dropout(0.01),\n",
        "\n",
        "        nn.Conv2d(in_channels=32, out_channels=32, kernel_size=3, padding=1, bias=False), # 16x16x32 --- 3x3x32 --- 16x16x32, RF : 18x18\n",
        "        nn.ReLU(),\n",
        "        nn.BatchNorm2d(32),\n",
        "        nn.Dropout(0.01),     \n",
        "\n",
        "        nn.Conv2d(in_channels=32, out_channels=32, kernel_size=3, padding=1, bias=False), # 16x16x32 --- 33x3x32 --- 16x16x32, RF : 20x20\n",
        "        nn.ReLU(),\n",
        "        nn.BatchNorm2d(32),\n",
        "        nn.Dropout(0.01), \n",
        "    ) \n",
        "\n",
        "    self.transblock2 = nn.Sequential(\n",
        "        nn.Conv2d(in_channels=32, out_channels=32, kernel_size=2, padding=0, stride=2, bias=False), # 16x16x32 --- MP --- 8x8x32, RF : 40x40 (Old calculation)\n",
        "\n",
        "        # nn.Conv2d(in_channels=32, out_channels=64, kernel_size=1, padding=0, bias=False), # 8x8x32 --- 1x1x64 --- 8x8x64, RF : 40x40. ReLU, BN, Dropout?\n",
        "    )\n",
        "\n",
        "    self.convblock3 = nn.Sequential(\n",
        "        depthwise_separable_conv(32, 64), # 8x8x64 --- 3x3x64 --- 8x8x64, RF : 42x42\n",
        "        nn.ReLU(),\n",
        "        nn.BatchNorm2d(64),\n",
        "        nn.Dropout(0.01),\n",
        "\n",
        "        nn.Conv2d(in_channels=64, out_channels=64, kernel_size=3, padding=0, dilation=2, bias=False), # 8x8x64 --- 3x3x64 --- 8x8x64, RF : 44x44\n",
        "        nn.ReLU(),\n",
        "        nn.BatchNorm2d(64),\n",
        "        nn.Dropout(0.01),     \n",
        "\n",
        "        # nn.Conv2d(in_channels=64, out_channels=64, kernel_size=3, padding=0, bias=False), # 8x8x64 --- 3x3x64 --- 8x8x64, RF : 46x46\n",
        "        # nn.ReLU(),\n",
        "        # nn.BatchNorm2d(64),\n",
        "        # nn.Dropout(0.01), \n",
        "    ) \n",
        "    '''\n",
        "    self.transblock3 = nn.Sequential(\n",
        "        nn.Conv2d(in_channels=64, out_channels=64, kernel_size=2, padding=0, stride=2, bias=False), # 8x8x64 --- MP --- 4x4x64, RF : 92x92 (Old calculation)\n",
        "\n",
        "        # nn.Conv2d(in_channels=64, out_channels=128, kernel_size=1, padding=0, bias=False), # 4x4x64 --- 1x1x128 --- 4x4x128, RF : 92x92. ReLU, BN, Dropout?\n",
        "    )\n",
        "\n",
        "    self.convblock4 = nn.Sequential(\n",
        "        nn.Conv2d(in_channels=64, out_channels=128, kernel_size=3, padding=1, bias=False), # 4x4x128 --- 3x3x128 --- 4x4x128, RF : 94x94\n",
        "        nn.ReLU(),\n",
        "        # nn.BatchNorm2d(16),\n",
        "        # nn.Dropout(0.1),\n",
        "\n",
        "        nn.AvgPool2d(4), # 4x4x128 --- GAP --- 1x1x128, RF : 94x94\n",
        "\n",
        "        nn.Conv2d(in_channels=128, out_channels=10, kernel_size=1, padding=0, bias=False), # 1x1x128 --- 1x1x10 --- 1x1x10, RF : 94x94\n",
        "\n",
        "    ) '''\n",
        "\n",
        "    self.convblock4 = nn.Sequential(\n",
        "            nn.Conv2d(in_channels=64, out_channels=10, kernel_size=1, padding=0, bias=False), # 1x1x128 --- 1x1x10 --- 1x1x10, RF : 94x94\n",
        "\n",
        "            nn.AvgPool2d(4),\n",
        "    )\n",
        "\n",
        "  def forward(self, x):\n",
        "      x = self.convblock1(x)\n",
        "      x = self.transblock1(x)\n",
        "      x = self.convblock2(x)\n",
        "      x = self.transblock2(x)\n",
        "      x = self.convblock3(x)\n",
        "      # x = self.transblock3(x)\n",
        "      x = self.convblock4(x)\n",
        "      x = x.reshape(-1, 10)\n",
        "      return F.log_softmax(x, dim=-1)'''"
      ],
      "execution_count": 9,
      "outputs": []
    },
    {
      "cell_type": "markdown",
      "metadata": {
        "id": "nS8Qs6AotL52"
      },
      "source": [
        "Model Summary\n",
        "----------------"
      ]
    },
    {
      "cell_type": "code",
      "metadata": {
        "colab": {
          "base_uri": "https://localhost:8080/"
        },
        "id": "HixpxIUrtiz6",
        "outputId": "6100d880-e94b-44f9-8f9f-8ab6307af99e"
      },
      "source": [
        "model = model.Net().to(device)\n",
        "summary(model, input_size=(3, 32, 32))"
      ],
      "execution_count": 10,
      "outputs": [
        {
          "output_type": "stream",
          "text": [
            "----------------------------------------------------------------\n",
            "        Layer (type)               Output Shape         Param #\n",
            "================================================================\n",
            "            Conv2d-1           [-1, 16, 32, 32]             432\n",
            "              ReLU-2           [-1, 16, 32, 32]               0\n",
            "       BatchNorm2d-3           [-1, 16, 32, 32]              32\n",
            "           Dropout-4           [-1, 16, 32, 32]               0\n",
            "            Conv2d-5           [-1, 16, 32, 32]           2,304\n",
            "              ReLU-6           [-1, 16, 32, 32]               0\n",
            "       BatchNorm2d-7           [-1, 16, 32, 32]              32\n",
            "           Dropout-8           [-1, 16, 32, 32]               0\n",
            "            Conv2d-9           [-1, 16, 32, 32]           2,304\n",
            "             ReLU-10           [-1, 16, 32, 32]               0\n",
            "      BatchNorm2d-11           [-1, 16, 32, 32]              32\n",
            "          Dropout-12           [-1, 16, 32, 32]               0\n",
            "           Conv2d-13           [-1, 16, 16, 16]           1,024\n",
            "             ReLU-14           [-1, 16, 16, 16]               0\n",
            "      BatchNorm2d-15           [-1, 16, 16, 16]              32\n",
            "          Dropout-16           [-1, 16, 16, 16]               0\n",
            "           Conv2d-17           [-1, 32, 16, 16]           4,608\n",
            "             ReLU-18           [-1, 32, 16, 16]               0\n",
            "      BatchNorm2d-19           [-1, 32, 16, 16]              64\n",
            "          Dropout-20           [-1, 32, 16, 16]               0\n",
            "           Conv2d-21           [-1, 32, 16, 16]           9,216\n",
            "             ReLU-22           [-1, 32, 16, 16]               0\n",
            "      BatchNorm2d-23           [-1, 32, 16, 16]              64\n",
            "          Dropout-24           [-1, 32, 16, 16]               0\n",
            "           Conv2d-25           [-1, 32, 16, 16]           9,216\n",
            "             ReLU-26           [-1, 32, 16, 16]               0\n",
            "      BatchNorm2d-27           [-1, 32, 16, 16]              64\n",
            "          Dropout-28           [-1, 32, 16, 16]               0\n",
            "           Conv2d-29             [-1, 32, 8, 8]           4,096\n",
            "           Conv2d-30             [-1, 32, 8, 8]             288\n",
            "           Conv2d-31             [-1, 64, 8, 8]           2,048\n",
            "depthwise_separable_conv-32             [-1, 64, 8, 8]               0\n",
            "             ReLU-33             [-1, 64, 8, 8]               0\n",
            "      BatchNorm2d-34             [-1, 64, 8, 8]             128\n",
            "          Dropout-35             [-1, 64, 8, 8]               0\n",
            "           Conv2d-36             [-1, 64, 4, 4]          36,864\n",
            "             ReLU-37             [-1, 64, 4, 4]               0\n",
            "      BatchNorm2d-38             [-1, 64, 4, 4]             128\n",
            "          Dropout-39             [-1, 64, 4, 4]               0\n",
            "           Conv2d-40             [-1, 10, 4, 4]             640\n",
            "        AvgPool2d-41             [-1, 10, 1, 1]               0\n",
            "================================================================\n",
            "Total params: 73,616\n",
            "Trainable params: 73,616\n",
            "Non-trainable params: 0\n",
            "----------------------------------------------------------------\n",
            "Input size (MB): 0.01\n",
            "Forward/backward pass size (MB): 2.60\n",
            "Params size (MB): 0.28\n",
            "Estimated Total Size (MB): 2.89\n",
            "----------------------------------------------------------------\n"
          ],
          "name": "stdout"
        }
      ]
    },
    {
      "cell_type": "markdown",
      "metadata": {
        "id": "re29yv-3z8vc"
      },
      "source": [
        "Train and Test Functions\n",
        "----------------"
      ]
    },
    {
      "cell_type": "code",
      "metadata": {
        "id": "Bt0RjTKH0LH0"
      },
      "source": [
        "def train(model, device, train_loader, optimizer):\n",
        "  model.train()\n",
        "  pbar = tqdm(train_loader)\n",
        "  \n",
        "  correct = 0\n",
        "  processed = 0\n",
        "  epoch_loss = 0\n",
        "\n",
        "  for batch_idx, (data, target) in enumerate(pbar):\n",
        "\n",
        "    data, target = data.to(device), target.to(device)\n",
        "    optimizer.zero_grad()\n",
        "    y_pred = model(data)\n",
        "    loss = F.nll_loss(y_pred, target)\n",
        "    loss.backward()\n",
        "    optimizer.step()\n",
        "\n",
        "    epoch_loss+=loss.item()\n",
        "\n",
        "    pred = y_pred.argmax(dim=1, keepdim=True) \n",
        "    correct += pred.eq(target.view_as(pred)).sum().item()\n",
        "    processed += len(data)\n",
        "\n",
        "    pbar.set_description(desc= f'Loss={loss.item()} Batch_id={batch_idx} Accuracy={100*correct/processed:0.2f}')\n",
        "\n",
        "  return epoch_loss / len(train_loader), 100*correct/processed\n",
        "\n",
        "def test(model, device, test_loader):\n",
        "  model.eval()\n",
        "\n",
        "  correct = 0\n",
        "  test_loss = 0\n",
        "\n",
        "  with torch.no_grad():\n",
        "    for data, target in test_loader:\n",
        "\n",
        "      data, target = data.to(device), target.to(device)\n",
        "      output = model(data)\n",
        "      test_loss += F.nll_loss(output, target, reduction='sum').item() \n",
        "      pred = output.argmax(dim=1, keepdim=True)  \n",
        "      correct += pred.eq(target.view_as(pred)).sum().item() \n",
        "\n",
        "  test_loss /= len(test_loader.dataset) # Should this be changed to len(test_loader) ?\n",
        "\n",
        "  print('\\nTest set: Average loss: {:.4f}, Accuracy: {}/{} ({:.0f}%)\\n'.format(\n",
        "      test_loss, correct, len(test_loader.dataset),\n",
        "      100. * correct / len(test_loader.dataset)))\n",
        "  \n",
        "  return test_loss, 100. * correct / len(test_loader.dataset)\n"
      ],
      "execution_count": 11,
      "outputs": []
    },
    {
      "cell_type": "markdown",
      "metadata": {
        "id": "XSx88eBFGRbw"
      },
      "source": [
        "Train the model\n",
        "-----------------"
      ]
    },
    {
      "cell_type": "code",
      "metadata": {
        "colab": {
          "base_uri": "https://localhost:8080/"
        },
        "id": "DQP36UIYCGw5",
        "outputId": "e27f0d55-c589-4365-9f0e-189cd9bf6db5"
      },
      "source": [
        "model = Net().to(device)\n",
        "optimizer = optim.SGD(model.parameters(), lr=0.01, momentum=0.7)\n",
        "\n",
        "# set the number of epochs to train for\n",
        "num_epoch = 100\n",
        "\n",
        "train_losses = []\n",
        "test_losses = []\n",
        "train_accuracies = []\n",
        "test_accuracies = []\n",
        "\n",
        "for epoch in range(1, num_epoch+1):\n",
        "    print('Epoch:',epoch)\n",
        "\n",
        "    train_loss, train_acc  = train(model, device, train_loader, optimizer)\n",
        "    test_loss, test_acc = test(model, device, test_loader)\n",
        "\n",
        "    train_losses.append(train_loss)\n",
        "    test_losses.append(test_loss)\n",
        "    train_accuracies.append(train_acc)\n",
        "    test_accuracies.append(test_acc)\n"
      ],
      "execution_count": 14,
      "outputs": [
        {
          "output_type": "stream",
          "text": [
            "\r  0%|          | 0/782 [00:00<?, ?it/s]"
          ],
          "name": "stderr"
        },
        {
          "output_type": "stream",
          "text": [
            "Epoch: 1\n"
          ],
          "name": "stdout"
        },
        {
          "output_type": "stream",
          "text": [
            "/usr/local/lib/python3.7/dist-packages/torch/utils/data/dataloader.py:481: UserWarning: This DataLoader will create 4 worker processes in total. Our suggested max number of worker in current system is 2, which is smaller than what this DataLoader is going to create. Please be aware that excessive worker creation might get DataLoader running slow or even freeze, lower the worker number to avoid potential slowness/freeze if necessary.\n",
            "  cpuset_checked))\n",
            "Loss=1.2606877088546753 Batch_id=781 Accuracy=39.48: 100%|██████████| 782/782 [00:18<00:00, 42.01it/s]\n",
            "  0%|          | 0/782 [00:00<?, ?it/s]"
          ],
          "name": "stderr"
        },
        {
          "output_type": "stream",
          "text": [
            "\n",
            "Test set: Average loss: 1.3759, Accuracy: 5077/10000 (51%)\n",
            "\n",
            "Epoch: 2\n"
          ],
          "name": "stdout"
        },
        {
          "output_type": "stream",
          "text": [
            "Loss=1.161672592163086 Batch_id=781 Accuracy=49.33: 100%|██████████| 782/782 [00:18<00:00, 42.26it/s]\n",
            "  0%|          | 0/782 [00:00<?, ?it/s]"
          ],
          "name": "stderr"
        },
        {
          "output_type": "stream",
          "text": [
            "\n",
            "Test set: Average loss: 1.1347, Accuracy: 5975/10000 (60%)\n",
            "\n",
            "Epoch: 3\n"
          ],
          "name": "stdout"
        },
        {
          "output_type": "stream",
          "text": [
            "Loss=1.7876131534576416 Batch_id=781 Accuracy=54.42: 100%|██████████| 782/782 [00:18<00:00, 41.60it/s]\n",
            "  0%|          | 0/782 [00:00<?, ?it/s]"
          ],
          "name": "stderr"
        },
        {
          "output_type": "stream",
          "text": [
            "\n",
            "Test set: Average loss: 1.0431, Accuracy: 6387/10000 (64%)\n",
            "\n",
            "Epoch: 4\n"
          ],
          "name": "stdout"
        },
        {
          "output_type": "stream",
          "text": [
            "Loss=1.0483026504516602 Batch_id=781 Accuracy=57.63: 100%|██████████| 782/782 [00:18<00:00, 42.06it/s]\n",
            "  0%|          | 0/782 [00:00<?, ?it/s]"
          ],
          "name": "stderr"
        },
        {
          "output_type": "stream",
          "text": [
            "\n",
            "Test set: Average loss: 0.9573, Accuracy: 6560/10000 (66%)\n",
            "\n",
            "Epoch: 5\n"
          ],
          "name": "stdout"
        },
        {
          "output_type": "stream",
          "text": [
            "Loss=1.066549301147461 Batch_id=781 Accuracy=60.32: 100%|██████████| 782/782 [00:18<00:00, 42.36it/s]\n",
            "  0%|          | 0/782 [00:00<?, ?it/s]"
          ],
          "name": "stderr"
        },
        {
          "output_type": "stream",
          "text": [
            "\n",
            "Test set: Average loss: 0.8516, Accuracy: 6961/10000 (70%)\n",
            "\n",
            "Epoch: 6\n"
          ],
          "name": "stdout"
        },
        {
          "output_type": "stream",
          "text": [
            "Loss=1.1722708940505981 Batch_id=781 Accuracy=62.21: 100%|██████████| 782/782 [00:18<00:00, 41.72it/s]\n",
            "  0%|          | 0/782 [00:00<?, ?it/s]"
          ],
          "name": "stderr"
        },
        {
          "output_type": "stream",
          "text": [
            "\n",
            "Test set: Average loss: 0.8067, Accuracy: 7127/10000 (71%)\n",
            "\n",
            "Epoch: 7\n"
          ],
          "name": "stdout"
        },
        {
          "output_type": "stream",
          "text": [
            "Loss=1.4307243824005127 Batch_id=781 Accuracy=63.44: 100%|██████████| 782/782 [00:18<00:00, 42.26it/s]\n",
            "  0%|          | 0/782 [00:00<?, ?it/s]"
          ],
          "name": "stderr"
        },
        {
          "output_type": "stream",
          "text": [
            "\n",
            "Test set: Average loss: 0.7773, Accuracy: 7272/10000 (73%)\n",
            "\n",
            "Epoch: 8\n"
          ],
          "name": "stdout"
        },
        {
          "output_type": "stream",
          "text": [
            "Loss=1.7181817293167114 Batch_id=781 Accuracy=65.08: 100%|██████████| 782/782 [00:18<00:00, 42.21it/s]\n",
            "  0%|          | 0/782 [00:00<?, ?it/s]"
          ],
          "name": "stderr"
        },
        {
          "output_type": "stream",
          "text": [
            "\n",
            "Test set: Average loss: 0.7545, Accuracy: 7377/10000 (74%)\n",
            "\n",
            "Epoch: 9\n"
          ],
          "name": "stdout"
        },
        {
          "output_type": "stream",
          "text": [
            "Loss=1.2867517471313477 Batch_id=781 Accuracy=65.83: 100%|██████████| 782/782 [00:18<00:00, 41.86it/s]\n",
            "  0%|          | 0/782 [00:00<?, ?it/s]"
          ],
          "name": "stderr"
        },
        {
          "output_type": "stream",
          "text": [
            "\n",
            "Test set: Average loss: 0.7451, Accuracy: 7367/10000 (74%)\n",
            "\n",
            "Epoch: 10\n"
          ],
          "name": "stdout"
        },
        {
          "output_type": "stream",
          "text": [
            "Loss=1.114356279373169 Batch_id=781 Accuracy=66.90: 100%|██████████| 782/782 [00:18<00:00, 41.94it/s]\n",
            "  0%|          | 0/782 [00:00<?, ?it/s]"
          ],
          "name": "stderr"
        },
        {
          "output_type": "stream",
          "text": [
            "\n",
            "Test set: Average loss: 0.6927, Accuracy: 7549/10000 (75%)\n",
            "\n",
            "Epoch: 11\n"
          ],
          "name": "stdout"
        },
        {
          "output_type": "stream",
          "text": [
            "Loss=0.8428760766983032 Batch_id=781 Accuracy=67.66: 100%|██████████| 782/782 [00:18<00:00, 42.28it/s]\n",
            "  0%|          | 0/782 [00:00<?, ?it/s]"
          ],
          "name": "stderr"
        },
        {
          "output_type": "stream",
          "text": [
            "\n",
            "Test set: Average loss: 0.6813, Accuracy: 7611/10000 (76%)\n",
            "\n",
            "Epoch: 12\n"
          ],
          "name": "stdout"
        },
        {
          "output_type": "stream",
          "text": [
            "Loss=0.6374810338020325 Batch_id=781 Accuracy=68.18: 100%|██████████| 782/782 [00:18<00:00, 42.25it/s]\n",
            "  0%|          | 0/782 [00:00<?, ?it/s]"
          ],
          "name": "stderr"
        },
        {
          "output_type": "stream",
          "text": [
            "\n",
            "Test set: Average loss: 0.6611, Accuracy: 7696/10000 (77%)\n",
            "\n",
            "Epoch: 13\n"
          ],
          "name": "stdout"
        },
        {
          "output_type": "stream",
          "text": [
            "Loss=1.1641852855682373 Batch_id=781 Accuracy=68.76: 100%|██████████| 782/782 [00:18<00:00, 41.86it/s]\n",
            "  0%|          | 0/782 [00:00<?, ?it/s]"
          ],
          "name": "stderr"
        },
        {
          "output_type": "stream",
          "text": [
            "\n",
            "Test set: Average loss: 0.6697, Accuracy: 7661/10000 (77%)\n",
            "\n",
            "Epoch: 14\n"
          ],
          "name": "stdout"
        },
        {
          "output_type": "stream",
          "text": [
            "Loss=0.7343208193778992 Batch_id=781 Accuracy=69.17: 100%|██████████| 782/782 [00:18<00:00, 42.59it/s]\n",
            "  0%|          | 0/782 [00:00<?, ?it/s]"
          ],
          "name": "stderr"
        },
        {
          "output_type": "stream",
          "text": [
            "\n",
            "Test set: Average loss: 0.6497, Accuracy: 7746/10000 (77%)\n",
            "\n",
            "Epoch: 15\n"
          ],
          "name": "stdout"
        },
        {
          "output_type": "stream",
          "text": [
            "Loss=2.012012243270874 Batch_id=781 Accuracy=69.85: 100%|██████████| 782/782 [00:18<00:00, 42.12it/s]\n",
            "  0%|          | 0/782 [00:00<?, ?it/s]"
          ],
          "name": "stderr"
        },
        {
          "output_type": "stream",
          "text": [
            "\n",
            "Test set: Average loss: 0.6398, Accuracy: 7836/10000 (78%)\n",
            "\n",
            "Epoch: 16\n"
          ],
          "name": "stdout"
        },
        {
          "output_type": "stream",
          "text": [
            "Loss=0.9485390782356262 Batch_id=781 Accuracy=70.35: 100%|██████████| 782/782 [00:18<00:00, 41.50it/s]\n",
            "  0%|          | 0/782 [00:00<?, ?it/s]"
          ],
          "name": "stderr"
        },
        {
          "output_type": "stream",
          "text": [
            "\n",
            "Test set: Average loss: 0.6185, Accuracy: 7881/10000 (79%)\n",
            "\n",
            "Epoch: 17\n"
          ],
          "name": "stdout"
        },
        {
          "output_type": "stream",
          "text": [
            "Loss=1.0395419597625732 Batch_id=781 Accuracy=70.82: 100%|██████████| 782/782 [00:18<00:00, 41.94it/s]\n",
            "  0%|          | 0/782 [00:00<?, ?it/s]"
          ],
          "name": "stderr"
        },
        {
          "output_type": "stream",
          "text": [
            "\n",
            "Test set: Average loss: 0.6060, Accuracy: 7954/10000 (80%)\n",
            "\n",
            "Epoch: 18\n"
          ],
          "name": "stdout"
        },
        {
          "output_type": "stream",
          "text": [
            "Loss=0.5291470289230347 Batch_id=781 Accuracy=70.80: 100%|██████████| 782/782 [00:18<00:00, 42.22it/s]\n",
            "  0%|          | 0/782 [00:00<?, ?it/s]"
          ],
          "name": "stderr"
        },
        {
          "output_type": "stream",
          "text": [
            "\n",
            "Test set: Average loss: 0.6038, Accuracy: 7918/10000 (79%)\n",
            "\n",
            "Epoch: 19\n"
          ],
          "name": "stdout"
        },
        {
          "output_type": "stream",
          "text": [
            "Loss=0.9685276746749878 Batch_id=781 Accuracy=71.36: 100%|██████████| 782/782 [00:18<00:00, 41.98it/s]\n",
            "  0%|          | 0/782 [00:00<?, ?it/s]"
          ],
          "name": "stderr"
        },
        {
          "output_type": "stream",
          "text": [
            "\n",
            "Test set: Average loss: 0.5941, Accuracy: 7951/10000 (80%)\n",
            "\n",
            "Epoch: 20\n"
          ],
          "name": "stdout"
        },
        {
          "output_type": "stream",
          "text": [
            "Loss=1.4263899326324463 Batch_id=781 Accuracy=71.79: 100%|██████████| 782/782 [00:18<00:00, 41.85it/s]\n",
            "  0%|          | 0/782 [00:00<?, ?it/s]"
          ],
          "name": "stderr"
        },
        {
          "output_type": "stream",
          "text": [
            "\n",
            "Test set: Average loss: 0.5898, Accuracy: 7988/10000 (80%)\n",
            "\n",
            "Epoch: 21\n"
          ],
          "name": "stdout"
        },
        {
          "output_type": "stream",
          "text": [
            "Loss=1.3582674264907837 Batch_id=781 Accuracy=71.59: 100%|██████████| 782/782 [00:18<00:00, 41.52it/s]\n",
            "  0%|          | 0/782 [00:00<?, ?it/s]"
          ],
          "name": "stderr"
        },
        {
          "output_type": "stream",
          "text": [
            "\n",
            "Test set: Average loss: 0.5972, Accuracy: 7964/10000 (80%)\n",
            "\n",
            "Epoch: 22\n"
          ],
          "name": "stdout"
        },
        {
          "output_type": "stream",
          "text": [
            "Loss=0.3601420521736145 Batch_id=781 Accuracy=72.46: 100%|██████████| 782/782 [00:18<00:00, 41.63it/s]\n",
            "  0%|          | 0/782 [00:00<?, ?it/s]"
          ],
          "name": "stderr"
        },
        {
          "output_type": "stream",
          "text": [
            "\n",
            "Test set: Average loss: 0.5745, Accuracy: 8061/10000 (81%)\n",
            "\n",
            "Epoch: 23\n"
          ],
          "name": "stdout"
        },
        {
          "output_type": "stream",
          "text": [
            "Loss=1.3902316093444824 Batch_id=781 Accuracy=72.63: 100%|██████████| 782/782 [00:18<00:00, 42.00it/s]\n",
            "  0%|          | 0/782 [00:00<?, ?it/s]"
          ],
          "name": "stderr"
        },
        {
          "output_type": "stream",
          "text": [
            "\n",
            "Test set: Average loss: 0.5792, Accuracy: 8008/10000 (80%)\n",
            "\n",
            "Epoch: 24\n"
          ],
          "name": "stdout"
        },
        {
          "output_type": "stream",
          "text": [
            "Loss=0.9603317379951477 Batch_id=781 Accuracy=72.90: 100%|██████████| 782/782 [00:19<00:00, 40.97it/s]\n",
            "  0%|          | 0/782 [00:00<?, ?it/s]"
          ],
          "name": "stderr"
        },
        {
          "output_type": "stream",
          "text": [
            "\n",
            "Test set: Average loss: 0.5634, Accuracy: 8045/10000 (80%)\n",
            "\n",
            "Epoch: 25\n"
          ],
          "name": "stdout"
        },
        {
          "output_type": "stream",
          "text": [
            "Loss=0.6067687273025513 Batch_id=781 Accuracy=73.34: 100%|██████████| 782/782 [00:18<00:00, 41.90it/s]\n",
            "  0%|          | 0/782 [00:00<?, ?it/s]"
          ],
          "name": "stderr"
        },
        {
          "output_type": "stream",
          "text": [
            "\n",
            "Test set: Average loss: 0.5479, Accuracy: 8156/10000 (82%)\n",
            "\n",
            "Epoch: 26\n"
          ],
          "name": "stdout"
        },
        {
          "output_type": "stream",
          "text": [
            "Loss=0.7102828025817871 Batch_id=781 Accuracy=73.05: 100%|██████████| 782/782 [00:18<00:00, 41.82it/s]\n",
            "  0%|          | 0/782 [00:00<?, ?it/s]"
          ],
          "name": "stderr"
        },
        {
          "output_type": "stream",
          "text": [
            "\n",
            "Test set: Average loss: 0.5449, Accuracy: 8098/10000 (81%)\n",
            "\n",
            "Epoch: 27\n"
          ],
          "name": "stdout"
        },
        {
          "output_type": "stream",
          "text": [
            "Loss=1.1607425212860107 Batch_id=781 Accuracy=73.36: 100%|██████████| 782/782 [00:18<00:00, 41.43it/s]\n",
            "  0%|          | 0/782 [00:00<?, ?it/s]"
          ],
          "name": "stderr"
        },
        {
          "output_type": "stream",
          "text": [
            "\n",
            "Test set: Average loss: 0.5530, Accuracy: 8065/10000 (81%)\n",
            "\n",
            "Epoch: 28\n"
          ],
          "name": "stdout"
        },
        {
          "output_type": "stream",
          "text": [
            "Loss=1.1430283784866333 Batch_id=781 Accuracy=73.95: 100%|██████████| 782/782 [00:18<00:00, 41.31it/s]\n",
            "  0%|          | 0/782 [00:00<?, ?it/s]"
          ],
          "name": "stderr"
        },
        {
          "output_type": "stream",
          "text": [
            "\n",
            "Test set: Average loss: 0.5447, Accuracy: 8151/10000 (82%)\n",
            "\n",
            "Epoch: 29\n"
          ],
          "name": "stdout"
        },
        {
          "output_type": "stream",
          "text": [
            "Loss=0.6919323801994324 Batch_id=781 Accuracy=73.74: 100%|██████████| 782/782 [00:18<00:00, 41.43it/s]\n",
            "  0%|          | 0/782 [00:00<?, ?it/s]"
          ],
          "name": "stderr"
        },
        {
          "output_type": "stream",
          "text": [
            "\n",
            "Test set: Average loss: 0.5260, Accuracy: 8168/10000 (82%)\n",
            "\n",
            "Epoch: 30\n"
          ],
          "name": "stdout"
        },
        {
          "output_type": "stream",
          "text": [
            "Loss=0.8805546760559082 Batch_id=781 Accuracy=74.30: 100%|██████████| 782/782 [00:18<00:00, 41.24it/s]\n",
            "  0%|          | 0/782 [00:00<?, ?it/s]"
          ],
          "name": "stderr"
        },
        {
          "output_type": "stream",
          "text": [
            "\n",
            "Test set: Average loss: 0.5213, Accuracy: 8204/10000 (82%)\n",
            "\n",
            "Epoch: 31\n"
          ],
          "name": "stdout"
        },
        {
          "output_type": "stream",
          "text": [
            "Loss=0.2534288763999939 Batch_id=781 Accuracy=74.21: 100%|██████████| 782/782 [00:18<00:00, 41.47it/s]\n",
            "  0%|          | 0/782 [00:00<?, ?it/s]"
          ],
          "name": "stderr"
        },
        {
          "output_type": "stream",
          "text": [
            "\n",
            "Test set: Average loss: 0.5166, Accuracy: 8212/10000 (82%)\n",
            "\n",
            "Epoch: 32\n"
          ],
          "name": "stdout"
        },
        {
          "output_type": "stream",
          "text": [
            "Loss=0.5237772464752197 Batch_id=781 Accuracy=74.44: 100%|██████████| 782/782 [00:18<00:00, 41.33it/s]\n",
            "  0%|          | 0/782 [00:00<?, ?it/s]"
          ],
          "name": "stderr"
        },
        {
          "output_type": "stream",
          "text": [
            "\n",
            "Test set: Average loss: 0.5272, Accuracy: 8210/10000 (82%)\n",
            "\n",
            "Epoch: 33\n"
          ],
          "name": "stdout"
        },
        {
          "output_type": "stream",
          "text": [
            "Loss=0.3946118950843811 Batch_id=781 Accuracy=74.54: 100%|██████████| 782/782 [00:18<00:00, 41.60it/s]\n",
            "  0%|          | 0/782 [00:00<?, ?it/s]"
          ],
          "name": "stderr"
        },
        {
          "output_type": "stream",
          "text": [
            "\n",
            "Test set: Average loss: 0.5152, Accuracy: 8243/10000 (82%)\n",
            "\n",
            "Epoch: 34\n"
          ],
          "name": "stdout"
        },
        {
          "output_type": "stream",
          "text": [
            "Loss=0.6599379777908325 Batch_id=781 Accuracy=74.98: 100%|██████████| 782/782 [00:18<00:00, 41.72it/s]\n",
            "  0%|          | 0/782 [00:00<?, ?it/s]"
          ],
          "name": "stderr"
        },
        {
          "output_type": "stream",
          "text": [
            "\n",
            "Test set: Average loss: 0.5195, Accuracy: 8199/10000 (82%)\n",
            "\n",
            "Epoch: 35\n"
          ],
          "name": "stdout"
        },
        {
          "output_type": "stream",
          "text": [
            "Loss=0.5108648538589478 Batch_id=781 Accuracy=74.99: 100%|██████████| 782/782 [00:18<00:00, 41.36it/s]\n",
            "  0%|          | 0/782 [00:00<?, ?it/s]"
          ],
          "name": "stderr"
        },
        {
          "output_type": "stream",
          "text": [
            "\n",
            "Test set: Average loss: 0.4953, Accuracy: 8289/10000 (83%)\n",
            "\n",
            "Epoch: 36\n"
          ],
          "name": "stdout"
        },
        {
          "output_type": "stream",
          "text": [
            "Loss=0.7100592255592346 Batch_id=781 Accuracy=74.97: 100%|██████████| 782/782 [00:18<00:00, 41.29it/s]\n",
            "  0%|          | 0/782 [00:00<?, ?it/s]"
          ],
          "name": "stderr"
        },
        {
          "output_type": "stream",
          "text": [
            "\n",
            "Test set: Average loss: 0.5027, Accuracy: 8256/10000 (83%)\n",
            "\n",
            "Epoch: 37\n"
          ],
          "name": "stdout"
        },
        {
          "output_type": "stream",
          "text": [
            "Loss=0.48309749364852905 Batch_id=781 Accuracy=74.82: 100%|██████████| 782/782 [00:18<00:00, 41.34it/s]\n",
            "  0%|          | 0/782 [00:00<?, ?it/s]"
          ],
          "name": "stderr"
        },
        {
          "output_type": "stream",
          "text": [
            "\n",
            "Test set: Average loss: 0.5125, Accuracy: 8252/10000 (83%)\n",
            "\n",
            "Epoch: 38\n"
          ],
          "name": "stdout"
        },
        {
          "output_type": "stream",
          "text": [
            "Loss=0.8837501406669617 Batch_id=781 Accuracy=75.46: 100%|██████████| 782/782 [00:19<00:00, 41.12it/s]\n",
            "  0%|          | 0/782 [00:00<?, ?it/s]"
          ],
          "name": "stderr"
        },
        {
          "output_type": "stream",
          "text": [
            "\n",
            "Test set: Average loss: 0.4969, Accuracy: 8266/10000 (83%)\n",
            "\n",
            "Epoch: 39\n"
          ],
          "name": "stdout"
        },
        {
          "output_type": "stream",
          "text": [
            "Loss=0.768663763999939 Batch_id=781 Accuracy=75.52: 100%|██████████| 782/782 [00:18<00:00, 41.44it/s]\n",
            "  0%|          | 0/782 [00:00<?, ?it/s]"
          ],
          "name": "stderr"
        },
        {
          "output_type": "stream",
          "text": [
            "\n",
            "Test set: Average loss: 0.4956, Accuracy: 8277/10000 (83%)\n",
            "\n",
            "Epoch: 40\n"
          ],
          "name": "stdout"
        },
        {
          "output_type": "stream",
          "text": [
            "Loss=1.002925157546997 Batch_id=781 Accuracy=75.23: 100%|██████████| 782/782 [00:19<00:00, 41.08it/s]\n",
            "  0%|          | 0/782 [00:00<?, ?it/s]"
          ],
          "name": "stderr"
        },
        {
          "output_type": "stream",
          "text": [
            "\n",
            "Test set: Average loss: 0.4988, Accuracy: 8282/10000 (83%)\n",
            "\n",
            "Epoch: 41\n"
          ],
          "name": "stdout"
        },
        {
          "output_type": "stream",
          "text": [
            "Loss=0.5054243206977844 Batch_id=781 Accuracy=75.61: 100%|██████████| 782/782 [00:19<00:00, 41.01it/s]\n",
            "  0%|          | 0/782 [00:00<?, ?it/s]"
          ],
          "name": "stderr"
        },
        {
          "output_type": "stream",
          "text": [
            "\n",
            "Test set: Average loss: 0.4830, Accuracy: 8329/10000 (83%)\n",
            "\n",
            "Epoch: 42\n"
          ],
          "name": "stdout"
        },
        {
          "output_type": "stream",
          "text": [
            "Loss=0.5376115441322327 Batch_id=781 Accuracy=75.87: 100%|██████████| 782/782 [00:19<00:00, 41.04it/s]\n",
            "  0%|          | 0/782 [00:00<?, ?it/s]"
          ],
          "name": "stderr"
        },
        {
          "output_type": "stream",
          "text": [
            "\n",
            "Test set: Average loss: 0.4798, Accuracy: 8347/10000 (83%)\n",
            "\n",
            "Epoch: 43\n"
          ],
          "name": "stdout"
        },
        {
          "output_type": "stream",
          "text": [
            "Loss=0.8940845131874084 Batch_id=781 Accuracy=76.01: 100%|██████████| 782/782 [00:19<00:00, 41.00it/s]\n",
            "  0%|          | 0/782 [00:00<?, ?it/s]"
          ],
          "name": "stderr"
        },
        {
          "output_type": "stream",
          "text": [
            "\n",
            "Test set: Average loss: 0.4779, Accuracy: 8330/10000 (83%)\n",
            "\n",
            "Epoch: 44\n"
          ],
          "name": "stdout"
        },
        {
          "output_type": "stream",
          "text": [
            "Loss=0.47314006090164185 Batch_id=781 Accuracy=75.75: 100%|██████████| 782/782 [00:19<00:00, 41.01it/s]\n",
            "  0%|          | 0/782 [00:00<?, ?it/s]"
          ],
          "name": "stderr"
        },
        {
          "output_type": "stream",
          "text": [
            "\n",
            "Test set: Average loss: 0.4781, Accuracy: 8349/10000 (83%)\n",
            "\n",
            "Epoch: 45\n"
          ],
          "name": "stdout"
        },
        {
          "output_type": "stream",
          "text": [
            "Loss=0.6149790287017822 Batch_id=781 Accuracy=76.19: 100%|██████████| 782/782 [00:18<00:00, 41.40it/s]\n",
            "  0%|          | 0/782 [00:00<?, ?it/s]"
          ],
          "name": "stderr"
        },
        {
          "output_type": "stream",
          "text": [
            "\n",
            "Test set: Average loss: 0.4718, Accuracy: 8368/10000 (84%)\n",
            "\n",
            "Epoch: 46\n"
          ],
          "name": "stdout"
        },
        {
          "output_type": "stream",
          "text": [
            "Loss=0.7026861310005188 Batch_id=781 Accuracy=76.26: 100%|██████████| 782/782 [00:18<00:00, 41.42it/s]\n",
            "  0%|          | 0/782 [00:00<?, ?it/s]"
          ],
          "name": "stderr"
        },
        {
          "output_type": "stream",
          "text": [
            "\n",
            "Test set: Average loss: 0.4734, Accuracy: 8391/10000 (84%)\n",
            "\n",
            "Epoch: 47\n"
          ],
          "name": "stdout"
        },
        {
          "output_type": "stream",
          "text": [
            "Loss=1.0475455522537231 Batch_id=781 Accuracy=76.14: 100%|██████████| 782/782 [00:19<00:00, 40.95it/s]\n",
            "  0%|          | 0/782 [00:00<?, ?it/s]"
          ],
          "name": "stderr"
        },
        {
          "output_type": "stream",
          "text": [
            "\n",
            "Test set: Average loss: 0.4778, Accuracy: 8358/10000 (84%)\n",
            "\n",
            "Epoch: 48\n"
          ],
          "name": "stdout"
        },
        {
          "output_type": "stream",
          "text": [
            "Loss=0.5403318405151367 Batch_id=781 Accuracy=76.86: 100%|██████████| 782/782 [00:18<00:00, 41.35it/s]\n",
            "  0%|          | 0/782 [00:00<?, ?it/s]"
          ],
          "name": "stderr"
        },
        {
          "output_type": "stream",
          "text": [
            "\n",
            "Test set: Average loss: 0.4717, Accuracy: 8384/10000 (84%)\n",
            "\n",
            "Epoch: 49\n"
          ],
          "name": "stdout"
        },
        {
          "output_type": "stream",
          "text": [
            "Loss=1.0924955606460571 Batch_id=781 Accuracy=76.50: 100%|██████████| 782/782 [00:19<00:00, 40.65it/s]\n",
            "  0%|          | 0/782 [00:00<?, ?it/s]"
          ],
          "name": "stderr"
        },
        {
          "output_type": "stream",
          "text": [
            "\n",
            "Test set: Average loss: 0.4701, Accuracy: 8361/10000 (84%)\n",
            "\n",
            "Epoch: 50\n"
          ],
          "name": "stdout"
        },
        {
          "output_type": "stream",
          "text": [
            "Loss=0.8912194967269897 Batch_id=781 Accuracy=76.43: 100%|██████████| 782/782 [00:18<00:00, 41.17it/s]\n",
            "  0%|          | 0/782 [00:00<?, ?it/s]"
          ],
          "name": "stderr"
        },
        {
          "output_type": "stream",
          "text": [
            "\n",
            "Test set: Average loss: 0.4822, Accuracy: 8361/10000 (84%)\n",
            "\n",
            "Epoch: 51\n"
          ],
          "name": "stdout"
        },
        {
          "output_type": "stream",
          "text": [
            "Loss=0.7428035140037537 Batch_id=781 Accuracy=76.69: 100%|██████████| 782/782 [00:19<00:00, 40.94it/s]\n",
            "  0%|          | 0/782 [00:00<?, ?it/s]"
          ],
          "name": "stderr"
        },
        {
          "output_type": "stream",
          "text": [
            "\n",
            "Test set: Average loss: 0.4692, Accuracy: 8382/10000 (84%)\n",
            "\n",
            "Epoch: 52\n"
          ],
          "name": "stdout"
        },
        {
          "output_type": "stream",
          "text": [
            "Loss=0.924680769443512 Batch_id=781 Accuracy=76.54: 100%|██████████| 782/782 [00:19<00:00, 40.83it/s]\n",
            "  0%|          | 0/782 [00:00<?, ?it/s]"
          ],
          "name": "stderr"
        },
        {
          "output_type": "stream",
          "text": [
            "\n",
            "Test set: Average loss: 0.4697, Accuracy: 8390/10000 (84%)\n",
            "\n",
            "Epoch: 53\n"
          ],
          "name": "stdout"
        },
        {
          "output_type": "stream",
          "text": [
            "Loss=0.6734523773193359 Batch_id=781 Accuracy=77.01: 100%|██████████| 782/782 [00:19<00:00, 40.70it/s]\n",
            "  0%|          | 0/782 [00:00<?, ?it/s]"
          ],
          "name": "stderr"
        },
        {
          "output_type": "stream",
          "text": [
            "\n",
            "Test set: Average loss: 0.4552, Accuracy: 8435/10000 (84%)\n",
            "\n",
            "Epoch: 54\n"
          ],
          "name": "stdout"
        },
        {
          "output_type": "stream",
          "text": [
            "Loss=0.24359536170959473 Batch_id=781 Accuracy=77.07: 100%|██████████| 782/782 [00:19<00:00, 40.63it/s]\n",
            "  0%|          | 0/782 [00:00<?, ?it/s]"
          ],
          "name": "stderr"
        },
        {
          "output_type": "stream",
          "text": [
            "\n",
            "Test set: Average loss: 0.4565, Accuracy: 8439/10000 (84%)\n",
            "\n",
            "Epoch: 55\n"
          ],
          "name": "stdout"
        },
        {
          "output_type": "stream",
          "text": [
            "Loss=0.5637433528900146 Batch_id=781 Accuracy=76.84: 100%|██████████| 782/782 [00:19<00:00, 40.55it/s]\n",
            "  0%|          | 0/782 [00:00<?, ?it/s]"
          ],
          "name": "stderr"
        },
        {
          "output_type": "stream",
          "text": [
            "\n",
            "Test set: Average loss: 0.4604, Accuracy: 8393/10000 (84%)\n",
            "\n",
            "Epoch: 56\n"
          ],
          "name": "stdout"
        },
        {
          "output_type": "stream",
          "text": [
            "Loss=0.9755420684814453 Batch_id=781 Accuracy=76.92: 100%|██████████| 782/782 [00:19<00:00, 41.07it/s]\n",
            "  0%|          | 0/782 [00:00<?, ?it/s]"
          ],
          "name": "stderr"
        },
        {
          "output_type": "stream",
          "text": [
            "\n",
            "Test set: Average loss: 0.4589, Accuracy: 8419/10000 (84%)\n",
            "\n",
            "Epoch: 57\n"
          ],
          "name": "stdout"
        },
        {
          "output_type": "stream",
          "text": [
            "Loss=0.792567253112793 Batch_id=781 Accuracy=77.16: 100%|██████████| 782/782 [00:19<00:00, 40.68it/s]\n",
            "  0%|          | 0/782 [00:00<?, ?it/s]"
          ],
          "name": "stderr"
        },
        {
          "output_type": "stream",
          "text": [
            "\n",
            "Test set: Average loss: 0.4585, Accuracy: 8427/10000 (84%)\n",
            "\n",
            "Epoch: 58\n"
          ],
          "name": "stdout"
        },
        {
          "output_type": "stream",
          "text": [
            "Loss=0.7931519746780396 Batch_id=781 Accuracy=77.35: 100%|██████████| 782/782 [00:19<00:00, 40.28it/s]\n",
            "  0%|          | 0/782 [00:00<?, ?it/s]"
          ],
          "name": "stderr"
        },
        {
          "output_type": "stream",
          "text": [
            "\n",
            "Test set: Average loss: 0.4619, Accuracy: 8393/10000 (84%)\n",
            "\n",
            "Epoch: 59\n"
          ],
          "name": "stdout"
        },
        {
          "output_type": "stream",
          "text": [
            "Loss=0.755946695804596 Batch_id=781 Accuracy=77.45: 100%|██████████| 782/782 [00:19<00:00, 40.89it/s]\n",
            "  0%|          | 0/782 [00:00<?, ?it/s]"
          ],
          "name": "stderr"
        },
        {
          "output_type": "stream",
          "text": [
            "\n",
            "Test set: Average loss: 0.4482, Accuracy: 8436/10000 (84%)\n",
            "\n",
            "Epoch: 60\n"
          ],
          "name": "stdout"
        },
        {
          "output_type": "stream",
          "text": [
            "Loss=0.8197323679924011 Batch_id=781 Accuracy=77.53: 100%|██████████| 782/782 [00:19<00:00, 40.90it/s]\n",
            "  0%|          | 0/782 [00:00<?, ?it/s]"
          ],
          "name": "stderr"
        },
        {
          "output_type": "stream",
          "text": [
            "\n",
            "Test set: Average loss: 0.4545, Accuracy: 8417/10000 (84%)\n",
            "\n",
            "Epoch: 61\n"
          ],
          "name": "stdout"
        },
        {
          "output_type": "stream",
          "text": [
            "Loss=0.8531884551048279 Batch_id=781 Accuracy=77.73: 100%|██████████| 782/782 [00:19<00:00, 40.49it/s]\n",
            "  0%|          | 0/782 [00:00<?, ?it/s]"
          ],
          "name": "stderr"
        },
        {
          "output_type": "stream",
          "text": [
            "\n",
            "Test set: Average loss: 0.4463, Accuracy: 8460/10000 (85%)\n",
            "\n",
            "Epoch: 62\n"
          ],
          "name": "stdout"
        },
        {
          "output_type": "stream",
          "text": [
            "Loss=0.5450985431671143 Batch_id=781 Accuracy=77.38: 100%|██████████| 782/782 [00:19<00:00, 40.75it/s]\n",
            "  0%|          | 0/782 [00:00<?, ?it/s]"
          ],
          "name": "stderr"
        },
        {
          "output_type": "stream",
          "text": [
            "\n",
            "Test set: Average loss: 0.4444, Accuracy: 8440/10000 (84%)\n",
            "\n",
            "Epoch: 63\n"
          ],
          "name": "stdout"
        },
        {
          "output_type": "stream",
          "text": [
            "Loss=0.7506168484687805 Batch_id=781 Accuracy=77.59: 100%|██████████| 782/782 [00:19<00:00, 40.19it/s]\n",
            "  0%|          | 0/782 [00:00<?, ?it/s]"
          ],
          "name": "stderr"
        },
        {
          "output_type": "stream",
          "text": [
            "\n",
            "Test set: Average loss: 0.4464, Accuracy: 8483/10000 (85%)\n",
            "\n",
            "Epoch: 64\n"
          ],
          "name": "stdout"
        },
        {
          "output_type": "stream",
          "text": [
            "Loss=0.3538845479488373 Batch_id=781 Accuracy=77.86: 100%|██████████| 782/782 [00:19<00:00, 40.66it/s]\n",
            "  0%|          | 0/782 [00:00<?, ?it/s]"
          ],
          "name": "stderr"
        },
        {
          "output_type": "stream",
          "text": [
            "\n",
            "Test set: Average loss: 0.4558, Accuracy: 8461/10000 (85%)\n",
            "\n",
            "Epoch: 65\n"
          ],
          "name": "stdout"
        },
        {
          "output_type": "stream",
          "text": [
            "Loss=1.1370902061462402 Batch_id=781 Accuracy=77.64: 100%|██████████| 782/782 [00:19<00:00, 40.70it/s]\n",
            "  0%|          | 0/782 [00:00<?, ?it/s]"
          ],
          "name": "stderr"
        },
        {
          "output_type": "stream",
          "text": [
            "\n",
            "Test set: Average loss: 0.4605, Accuracy: 8432/10000 (84%)\n",
            "\n",
            "Epoch: 66\n"
          ],
          "name": "stdout"
        },
        {
          "output_type": "stream",
          "text": [
            "Loss=0.552440881729126 Batch_id=781 Accuracy=78.05: 100%|██████████| 782/782 [00:19<00:00, 39.93it/s]\n",
            "  0%|          | 0/782 [00:00<?, ?it/s]"
          ],
          "name": "stderr"
        },
        {
          "output_type": "stream",
          "text": [
            "\n",
            "Test set: Average loss: 0.4438, Accuracy: 8494/10000 (85%)\n",
            "\n",
            "Epoch: 67\n"
          ],
          "name": "stdout"
        },
        {
          "output_type": "stream",
          "text": [
            "Loss=0.9224295020103455 Batch_id=781 Accuracy=77.68: 100%|██████████| 782/782 [00:19<00:00, 40.45it/s]\n",
            "  0%|          | 0/782 [00:00<?, ?it/s]"
          ],
          "name": "stderr"
        },
        {
          "output_type": "stream",
          "text": [
            "\n",
            "Test set: Average loss: 0.4465, Accuracy: 8479/10000 (85%)\n",
            "\n",
            "Epoch: 68\n"
          ],
          "name": "stdout"
        },
        {
          "output_type": "stream",
          "text": [
            "Loss=0.782529354095459 Batch_id=781 Accuracy=78.01: 100%|██████████| 782/782 [00:19<00:00, 40.26it/s]\n",
            "  0%|          | 0/782 [00:00<?, ?it/s]"
          ],
          "name": "stderr"
        },
        {
          "output_type": "stream",
          "text": [
            "\n",
            "Test set: Average loss: 0.4441, Accuracy: 8479/10000 (85%)\n",
            "\n",
            "Epoch: 69\n"
          ],
          "name": "stdout"
        },
        {
          "output_type": "stream",
          "text": [
            "Loss=0.8232539892196655 Batch_id=781 Accuracy=78.19: 100%|██████████| 782/782 [00:19<00:00, 40.17it/s]\n",
            "  0%|          | 0/782 [00:00<?, ?it/s]"
          ],
          "name": "stderr"
        },
        {
          "output_type": "stream",
          "text": [
            "\n",
            "Test set: Average loss: 0.4445, Accuracy: 8471/10000 (85%)\n",
            "\n",
            "Epoch: 70\n"
          ],
          "name": "stdout"
        },
        {
          "output_type": "stream",
          "text": [
            "Loss=0.402693510055542 Batch_id=781 Accuracy=78.33: 100%|██████████| 782/782 [00:19<00:00, 40.30it/s]\n",
            "  0%|          | 0/782 [00:00<?, ?it/s]"
          ],
          "name": "stderr"
        },
        {
          "output_type": "stream",
          "text": [
            "\n",
            "Test set: Average loss: 0.4440, Accuracy: 8468/10000 (85%)\n",
            "\n",
            "Epoch: 71\n"
          ],
          "name": "stdout"
        },
        {
          "output_type": "stream",
          "text": [
            "Loss=1.505517601966858 Batch_id=781 Accuracy=78.42: 100%|██████████| 782/782 [00:19<00:00, 40.34it/s]\n",
            "  0%|          | 0/782 [00:00<?, ?it/s]"
          ],
          "name": "stderr"
        },
        {
          "output_type": "stream",
          "text": [
            "\n",
            "Test set: Average loss: 0.4331, Accuracy: 8543/10000 (85%)\n",
            "\n",
            "Epoch: 72\n"
          ],
          "name": "stdout"
        },
        {
          "output_type": "stream",
          "text": [
            "Loss=0.42857784032821655 Batch_id=781 Accuracy=78.36: 100%|██████████| 782/782 [00:19<00:00, 40.11it/s]\n",
            "  0%|          | 0/782 [00:00<?, ?it/s]"
          ],
          "name": "stderr"
        },
        {
          "output_type": "stream",
          "text": [
            "\n",
            "Test set: Average loss: 0.4381, Accuracy: 8534/10000 (85%)\n",
            "\n",
            "Epoch: 73\n"
          ],
          "name": "stdout"
        },
        {
          "output_type": "stream",
          "text": [
            "Loss=0.6086395978927612 Batch_id=781 Accuracy=78.35: 100%|██████████| 782/782 [00:19<00:00, 40.40it/s]\n",
            "  0%|          | 0/782 [00:00<?, ?it/s]"
          ],
          "name": "stderr"
        },
        {
          "output_type": "stream",
          "text": [
            "\n",
            "Test set: Average loss: 0.4364, Accuracy: 8505/10000 (85%)\n",
            "\n",
            "Epoch: 74\n"
          ],
          "name": "stdout"
        },
        {
          "output_type": "stream",
          "text": [
            "Loss=0.2357768714427948 Batch_id=781 Accuracy=78.32: 100%|██████████| 782/782 [00:19<00:00, 40.01it/s]\n",
            "  0%|          | 0/782 [00:00<?, ?it/s]"
          ],
          "name": "stderr"
        },
        {
          "output_type": "stream",
          "text": [
            "\n",
            "Test set: Average loss: 0.4405, Accuracy: 8489/10000 (85%)\n",
            "\n",
            "Epoch: 75\n"
          ],
          "name": "stdout"
        },
        {
          "output_type": "stream",
          "text": [
            "Loss=1.4447169303894043 Batch_id=781 Accuracy=78.56: 100%|██████████| 782/782 [00:19<00:00, 40.13it/s]\n",
            "  0%|          | 0/782 [00:00<?, ?it/s]"
          ],
          "name": "stderr"
        },
        {
          "output_type": "stream",
          "text": [
            "\n",
            "Test set: Average loss: 0.4289, Accuracy: 8532/10000 (85%)\n",
            "\n",
            "Epoch: 76\n"
          ],
          "name": "stdout"
        },
        {
          "output_type": "stream",
          "text": [
            "Loss=0.6197686791419983 Batch_id=781 Accuracy=78.59: 100%|██████████| 782/782 [00:19<00:00, 40.34it/s]\n",
            "  0%|          | 0/782 [00:00<?, ?it/s]"
          ],
          "name": "stderr"
        },
        {
          "output_type": "stream",
          "text": [
            "\n",
            "Test set: Average loss: 0.4331, Accuracy: 8519/10000 (85%)\n",
            "\n",
            "Epoch: 77\n"
          ],
          "name": "stdout"
        },
        {
          "output_type": "stream",
          "text": [
            "Loss=0.49291127920150757 Batch_id=781 Accuracy=78.84: 100%|██████████| 782/782 [00:19<00:00, 40.23it/s]\n",
            "  0%|          | 0/782 [00:00<?, ?it/s]"
          ],
          "name": "stderr"
        },
        {
          "output_type": "stream",
          "text": [
            "\n",
            "Test set: Average loss: 0.4367, Accuracy: 8492/10000 (85%)\n",
            "\n",
            "Epoch: 78\n"
          ],
          "name": "stdout"
        },
        {
          "output_type": "stream",
          "text": [
            "Loss=0.4548797905445099 Batch_id=781 Accuracy=78.83: 100%|██████████| 782/782 [00:19<00:00, 39.64it/s]\n",
            "  0%|          | 0/782 [00:00<?, ?it/s]"
          ],
          "name": "stderr"
        },
        {
          "output_type": "stream",
          "text": [
            "\n",
            "Test set: Average loss: 0.4276, Accuracy: 8515/10000 (85%)\n",
            "\n",
            "Epoch: 79\n"
          ],
          "name": "stdout"
        },
        {
          "output_type": "stream",
          "text": [
            "Loss=0.7496145367622375 Batch_id=781 Accuracy=78.59: 100%|██████████| 782/782 [00:19<00:00, 40.33it/s]\n",
            "  0%|          | 0/782 [00:00<?, ?it/s]"
          ],
          "name": "stderr"
        },
        {
          "output_type": "stream",
          "text": [
            "\n",
            "Test set: Average loss: 0.4309, Accuracy: 8537/10000 (85%)\n",
            "\n",
            "Epoch: 80\n"
          ],
          "name": "stdout"
        },
        {
          "output_type": "stream",
          "text": [
            "Loss=0.6977660059928894 Batch_id=781 Accuracy=78.65: 100%|██████████| 782/782 [00:19<00:00, 40.18it/s]\n",
            "  0%|          | 0/782 [00:00<?, ?it/s]"
          ],
          "name": "stderr"
        },
        {
          "output_type": "stream",
          "text": [
            "\n",
            "Test set: Average loss: 0.4303, Accuracy: 8513/10000 (85%)\n",
            "\n",
            "Epoch: 81\n"
          ],
          "name": "stdout"
        },
        {
          "output_type": "stream",
          "text": [
            "Loss=0.6251769065856934 Batch_id=781 Accuracy=78.53: 100%|██████████| 782/782 [00:19<00:00, 40.11it/s]\n",
            "  0%|          | 0/782 [00:00<?, ?it/s]"
          ],
          "name": "stderr"
        },
        {
          "output_type": "stream",
          "text": [
            "\n",
            "Test set: Average loss: 0.4259, Accuracy: 8568/10000 (86%)\n",
            "\n",
            "Epoch: 82\n"
          ],
          "name": "stdout"
        },
        {
          "output_type": "stream",
          "text": [
            "Loss=0.3814528286457062 Batch_id=781 Accuracy=78.68: 100%|██████████| 782/782 [00:19<00:00, 40.49it/s]\n",
            "  0%|          | 0/782 [00:00<?, ?it/s]"
          ],
          "name": "stderr"
        },
        {
          "output_type": "stream",
          "text": [
            "\n",
            "Test set: Average loss: 0.4273, Accuracy: 8540/10000 (85%)\n",
            "\n",
            "Epoch: 83\n"
          ],
          "name": "stdout"
        },
        {
          "output_type": "stream",
          "text": [
            "Loss=0.8741500377655029 Batch_id=781 Accuracy=78.71: 100%|██████████| 782/782 [00:19<00:00, 39.96it/s]\n",
            "  0%|          | 0/782 [00:00<?, ?it/s]"
          ],
          "name": "stderr"
        },
        {
          "output_type": "stream",
          "text": [
            "\n",
            "Test set: Average loss: 0.4263, Accuracy: 8524/10000 (85%)\n",
            "\n",
            "Epoch: 84\n"
          ],
          "name": "stdout"
        },
        {
          "output_type": "stream",
          "text": [
            "Loss=0.9993168115615845 Batch_id=781 Accuracy=78.73: 100%|██████████| 782/782 [00:19<00:00, 40.13it/s]\n",
            "  0%|          | 0/782 [00:00<?, ?it/s]"
          ],
          "name": "stderr"
        },
        {
          "output_type": "stream",
          "text": [
            "\n",
            "Test set: Average loss: 0.4226, Accuracy: 8556/10000 (86%)\n",
            "\n",
            "Epoch: 85\n"
          ],
          "name": "stdout"
        },
        {
          "output_type": "stream",
          "text": [
            "Loss=0.5677241086959839 Batch_id=781 Accuracy=78.74: 100%|██████████| 782/782 [00:19<00:00, 39.81it/s]\n",
            "  0%|          | 0/782 [00:00<?, ?it/s]"
          ],
          "name": "stderr"
        },
        {
          "output_type": "stream",
          "text": [
            "\n",
            "Test set: Average loss: 0.4244, Accuracy: 8570/10000 (86%)\n",
            "\n",
            "Epoch: 86\n"
          ],
          "name": "stdout"
        },
        {
          "output_type": "stream",
          "text": [
            "Loss=1.3861863613128662 Batch_id=781 Accuracy=78.96: 100%|██████████| 782/782 [00:19<00:00, 39.95it/s]\n",
            "  0%|          | 0/782 [00:00<?, ?it/s]"
          ],
          "name": "stderr"
        },
        {
          "output_type": "stream",
          "text": [
            "\n",
            "Test set: Average loss: 0.4317, Accuracy: 8527/10000 (85%)\n",
            "\n",
            "Epoch: 87\n"
          ],
          "name": "stdout"
        },
        {
          "output_type": "stream",
          "text": [
            "Loss=0.32318082451820374 Batch_id=781 Accuracy=79.04: 100%|██████████| 782/782 [00:19<00:00, 40.25it/s]\n",
            "  0%|          | 0/782 [00:00<?, ?it/s]"
          ],
          "name": "stderr"
        },
        {
          "output_type": "stream",
          "text": [
            "\n",
            "Test set: Average loss: 0.4321, Accuracy: 8526/10000 (85%)\n",
            "\n",
            "Epoch: 88\n"
          ],
          "name": "stdout"
        },
        {
          "output_type": "stream",
          "text": [
            "Loss=0.6984806060791016 Batch_id=781 Accuracy=78.97: 100%|██████████| 782/782 [00:19<00:00, 39.91it/s]\n",
            "  0%|          | 0/782 [00:00<?, ?it/s]"
          ],
          "name": "stderr"
        },
        {
          "output_type": "stream",
          "text": [
            "\n",
            "Test set: Average loss: 0.4166, Accuracy: 8585/10000 (86%)\n",
            "\n",
            "Epoch: 89\n"
          ],
          "name": "stdout"
        },
        {
          "output_type": "stream",
          "text": [
            "Loss=0.6636987924575806 Batch_id=781 Accuracy=78.96: 100%|██████████| 782/782 [00:19<00:00, 39.46it/s]\n",
            "  0%|          | 0/782 [00:00<?, ?it/s]"
          ],
          "name": "stderr"
        },
        {
          "output_type": "stream",
          "text": [
            "\n",
            "Test set: Average loss: 0.4146, Accuracy: 8581/10000 (86%)\n",
            "\n",
            "Epoch: 90\n"
          ],
          "name": "stdout"
        },
        {
          "output_type": "stream",
          "text": [
            "Loss=0.7295807600021362 Batch_id=781 Accuracy=79.13: 100%|██████████| 782/782 [00:19<00:00, 40.18it/s]\n",
            "  0%|          | 0/782 [00:00<?, ?it/s]"
          ],
          "name": "stderr"
        },
        {
          "output_type": "stream",
          "text": [
            "\n",
            "Test set: Average loss: 0.4260, Accuracy: 8535/10000 (85%)\n",
            "\n",
            "Epoch: 91\n"
          ],
          "name": "stdout"
        },
        {
          "output_type": "stream",
          "text": [
            "Loss=0.6589689254760742 Batch_id=781 Accuracy=79.06: 100%|██████████| 782/782 [00:19<00:00, 40.16it/s]\n",
            "  0%|          | 0/782 [00:00<?, ?it/s]"
          ],
          "name": "stderr"
        },
        {
          "output_type": "stream",
          "text": [
            "\n",
            "Test set: Average loss: 0.4137, Accuracy: 8608/10000 (86%)\n",
            "\n",
            "Epoch: 92\n"
          ],
          "name": "stdout"
        },
        {
          "output_type": "stream",
          "text": [
            "Loss=0.6612673401832581 Batch_id=781 Accuracy=79.26: 100%|██████████| 782/782 [00:19<00:00, 39.39it/s]\n",
            "  0%|          | 0/782 [00:00<?, ?it/s]"
          ],
          "name": "stderr"
        },
        {
          "output_type": "stream",
          "text": [
            "\n",
            "Test set: Average loss: 0.4119, Accuracy: 8638/10000 (86%)\n",
            "\n",
            "Epoch: 93\n"
          ],
          "name": "stdout"
        },
        {
          "output_type": "stream",
          "text": [
            "Loss=0.5731875896453857 Batch_id=781 Accuracy=79.49: 100%|██████████| 782/782 [00:19<00:00, 40.01it/s]\n",
            "  0%|          | 0/782 [00:00<?, ?it/s]"
          ],
          "name": "stderr"
        },
        {
          "output_type": "stream",
          "text": [
            "\n",
            "Test set: Average loss: 0.4092, Accuracy: 8617/10000 (86%)\n",
            "\n",
            "Epoch: 94\n"
          ],
          "name": "stdout"
        },
        {
          "output_type": "stream",
          "text": [
            "Loss=1.6776431798934937 Batch_id=781 Accuracy=79.58: 100%|██████████| 782/782 [00:19<00:00, 39.19it/s]\n",
            "  0%|          | 0/782 [00:00<?, ?it/s]"
          ],
          "name": "stderr"
        },
        {
          "output_type": "stream",
          "text": [
            "\n",
            "Test set: Average loss: 0.4166, Accuracy: 8589/10000 (86%)\n",
            "\n",
            "Epoch: 95\n"
          ],
          "name": "stdout"
        },
        {
          "output_type": "stream",
          "text": [
            "Loss=0.6058226227760315 Batch_id=781 Accuracy=79.87: 100%|██████████| 782/782 [00:19<00:00, 39.50it/s]\n",
            "  0%|          | 0/782 [00:00<?, ?it/s]"
          ],
          "name": "stderr"
        },
        {
          "output_type": "stream",
          "text": [
            "\n",
            "Test set: Average loss: 0.4151, Accuracy: 8571/10000 (86%)\n",
            "\n",
            "Epoch: 96\n"
          ],
          "name": "stdout"
        },
        {
          "output_type": "stream",
          "text": [
            "Loss=0.5978845357894897 Batch_id=781 Accuracy=79.36: 100%|██████████| 782/782 [00:19<00:00, 39.78it/s]\n",
            "  0%|          | 0/782 [00:00<?, ?it/s]"
          ],
          "name": "stderr"
        },
        {
          "output_type": "stream",
          "text": [
            "\n",
            "Test set: Average loss: 0.4074, Accuracy: 8618/10000 (86%)\n",
            "\n",
            "Epoch: 97\n"
          ],
          "name": "stdout"
        },
        {
          "output_type": "stream",
          "text": [
            "Loss=0.5926452875137329 Batch_id=781 Accuracy=78.97: 100%|██████████| 782/782 [00:19<00:00, 39.44it/s]\n",
            "  0%|          | 0/782 [00:00<?, ?it/s]"
          ],
          "name": "stderr"
        },
        {
          "output_type": "stream",
          "text": [
            "\n",
            "Test set: Average loss: 0.4224, Accuracy: 8568/10000 (86%)\n",
            "\n",
            "Epoch: 98\n"
          ],
          "name": "stdout"
        },
        {
          "output_type": "stream",
          "text": [
            "Loss=0.3167649507522583 Batch_id=781 Accuracy=79.45: 100%|██████████| 782/782 [00:19<00:00, 39.42it/s]\n",
            "  0%|          | 0/782 [00:00<?, ?it/s]"
          ],
          "name": "stderr"
        },
        {
          "output_type": "stream",
          "text": [
            "\n",
            "Test set: Average loss: 0.4244, Accuracy: 8561/10000 (86%)\n",
            "\n",
            "Epoch: 99\n"
          ],
          "name": "stdout"
        },
        {
          "output_type": "stream",
          "text": [
            "Loss=0.5024046897888184 Batch_id=781 Accuracy=79.67: 100%|██████████| 782/782 [00:19<00:00, 39.30it/s]\n",
            "  0%|          | 0/782 [00:00<?, ?it/s]"
          ],
          "name": "stderr"
        },
        {
          "output_type": "stream",
          "text": [
            "\n",
            "Test set: Average loss: 0.4187, Accuracy: 8591/10000 (86%)\n",
            "\n",
            "Epoch: 100\n"
          ],
          "name": "stdout"
        },
        {
          "output_type": "stream",
          "text": [
            "Loss=0.2952866852283478 Batch_id=781 Accuracy=79.40: 100%|██████████| 782/782 [00:19<00:00, 39.30it/s]\n"
          ],
          "name": "stderr"
        },
        {
          "output_type": "stream",
          "text": [
            "\n",
            "Test set: Average loss: 0.4111, Accuracy: 8575/10000 (86%)\n",
            "\n"
          ],
          "name": "stdout"
        }
      ]
    },
    {
      "cell_type": "markdown",
      "metadata": {
        "id": "T2dlkg7jGre3"
      },
      "source": [
        "Model Evaluation\n",
        "-------------------------"
      ]
    },
    {
      "cell_type": "code",
      "metadata": {
        "id": "Rr-objKsGuey",
        "colab": {
          "base_uri": "https://localhost:8080/",
          "height": 624
        },
        "outputId": "e067eb68-bc2e-4e8b-f632-07ae68c07923"
      },
      "source": [
        "fig, axs = plt.subplots(2,2,figsize=(15,10))\n",
        "axs[0, 0].plot(train_losses)\n",
        "axs[0, 0].set_title(\"Training Loss\")\n",
        "axs[1, 0].plot(train_accuracies)\n",
        "axs[1, 0].set_title(\"Training Accuracy\")\n",
        "axs[0, 1].plot(test_losses)\n",
        "axs[0, 1].set_title(\"Test Loss\")\n",
        "axs[1, 1].plot(test_accuracies)\n",
        "axs[1, 1].set_title(\"Test Accuracy\")"
      ],
      "execution_count": 17,
      "outputs": [
        {
          "output_type": "execute_result",
          "data": {
            "text/plain": [
              "Text(0.5, 1.0, 'Test Accuracy')"
            ]
          },
          "metadata": {
            "tags": []
          },
          "execution_count": 17
        },
        {
          "output_type": "display_data",
          "data": {
            "image/png": "[encoded data removed]",
            "text/plain": [
              "<Figure size 1080x720 with 4 Axes>"
            ]
          },
          "metadata": {
            "tags": [],
            "needs_background": "light"
          }
        }
      ]
    },
    {
      "cell_type": "markdown",
      "metadata": {
        "id": "2bw53pWYOQ9j"
      },
      "source": [
        "Misclassified Images\n",
        "-----------------------------"
      ]
    },
    {
      "cell_type": "code",
      "metadata": {
        "id": "D_xczDJJKPDt"
      },
      "source": [
        ""
      ],
      "execution_count": 13,
      "outputs": []
    }
  ]
}