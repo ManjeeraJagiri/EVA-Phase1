{
  "nbformat": 4,
  "nbformat_minor": 0,
  "metadata": {
    "colab": {
      "name": "EVA6_Phase1_Session4_Assignment.ipynb",
      "provenance": [],
      "collapsed_sections": []
    },
    "kernelspec": {
      "name": "python3",
      "display_name": "Python 3"
    },
    "accelerator": "GPU"
  },
  "cells": [
    {
      "cell_type": "code",
      "metadata": {
        "id": "0m2JWFliFfKT"
      },
      "source": [
        "from __future__ import print_function\n",
        "import torch\n",
        "import torch.nn as nn\n",
        "import torch.nn.functional as F\n",
        "import torch.optim as optim\n",
        "from torchvision import datasets, transforms"
      ],
      "execution_count": null,
      "outputs": []
    },
    {
      "cell_type": "code",
      "metadata": {
        "id": "h_Cx9q2QFgM7"
      },
      "source": [
        "dropout_value = 0.05\n",
        "class Net(nn.Module):\n",
        "    def __init__(self):\n",
        "        super(Net, self).__init__()\n",
        "        # Input Block\n",
        "        self.convblock1 = nn.Sequential(\n",
        "            nn.Conv2d(in_channels=1, out_channels=16, kernel_size=(3, 3), padding=0, bias=False),\n",
        "            nn.ReLU(),\n",
        "            nn.BatchNorm2d(16),\n",
        "            nn.Dropout(dropout_value)\n",
        "        ) # in = 28x28x1 , out = 26x26x16, RF = 3\n",
        "\n",
        "        # CONVOLUTION BLOCK 1\n",
        "        self.convblock2 = nn.Sequential(\n",
        "            nn.Conv2d(in_channels=16, out_channels=16, kernel_size=(3, 3), padding=0, bias=False),\n",
        "            nn.ReLU(),\n",
        "            nn.BatchNorm2d(16),\n",
        "            nn.Dropout(dropout_value)\n",
        "        ) # in = 26x26x16 , out = 24x24x16, RF = 5\n",
        " \n",
        "        # TRANSITION BLOCK 1\n",
        "        self.pool1 = nn.MaxPool2d(2, 2) # in = 24x24x16 , out = 12x12x16, RF = 6\n",
        "\n",
        "        # CONVOLUTION BLOCK 2\n",
        "        self.convblock3 = nn.Sequential(\n",
        "            nn.Conv2d(in_channels=16, out_channels=16, kernel_size=(3, 3), padding=0, bias=False),\n",
        "            nn.ReLU(),\n",
        "            nn.BatchNorm2d(16),\n",
        "            nn.Dropout(dropout_value)\n",
        "        ) # in = 12x12x16 , out = 10x10x16, RF = 10\n",
        "        self.convblock4 = nn.Sequential(\n",
        "            nn.Conv2d(in_channels=16, out_channels=16, kernel_size=(3, 3), padding=0, bias=False),\n",
        "            nn.ReLU(),\n",
        "            nn.BatchNorm2d(16),\n",
        "            nn.Dropout(dropout_value)\n",
        "        ) # in = 10x10x16 , out = 8x8x16, RF = 14\n",
        "\n",
        "        # OUTPUT BLOCK\n",
        "        self.convblock5 = nn.Sequential(\n",
        "            nn.Conv2d(in_channels=16, out_channels=16, kernel_size=(3, 3), padding=0, bias=False),\n",
        "            nn.ReLU(),\n",
        "            nn.BatchNorm2d(16),\n",
        "            nn.Dropout(dropout_value)\n",
        "        ) # in = 8x8x16 , out = 6x6x16, RF = 18\n",
        "        self.Gap1 = nn.Sequential(\n",
        "            nn.AvgPool2d(kernel_size=6)\n",
        "        ) # in = 6x6x16 , out = 1x1x16, RF = 28\t\n",
        "        self.fc1 = nn.Sequential(\n",
        "            nn.Conv2d(in_channels=16, out_channels=10, kernel_size=(1, 1), padding=0, bias=False)\n",
        "        ) # in = 1x1x16 , out = 1x1x10, RF = 28\n",
        "\n",
        "    def forward(self, x):\n",
        "        x = self.convblock2(self.convblock1(x))\n",
        "        x = self.pool1(x)\n",
        "        x = self.convblock4(self.convblock3(x))\n",
        "        x = self.Gap1(self.convblock5(x)) # torch.Size([64, 16, 1, 1])\n",
        "        x = self.fc1(x) # torch.Size([64, 10, 1, 1])\n",
        "        x = x.view(-1, 10) # torch.Size([64, 10])\n",
        "        return F.log_softmax(x, dim=-1) #  torch.Size([64, 10])"
      ],
      "execution_count": null,
      "outputs": []
    },
    {
      "cell_type": "code",
      "metadata": {
        "id": "xdydjYTZFyi3",
        "colab": {
          "base_uri": "https://localhost:8080/"
        },
        "outputId": "3dbec243-3574-4efd-cc4e-137d5ba54fd3"
      },
      "source": [
        "!pip install torchsummary\n",
        "from torchsummary import summary\n",
        "use_cuda = torch.cuda.is_available()\n",
        "device = torch.device(\"cuda\" if use_cuda else \"cpu\")\n",
        "model = Net().to(device)\n",
        "summary(model, input_size=(1, 28, 28))"
      ],
      "execution_count": null,
      "outputs": [
        {
          "output_type": "stream",
          "text": [
            "Requirement already satisfied: torchsummary in /usr/local/lib/python3.7/dist-packages (1.5.1)\n",
            "Gap\n",
            "torch.Size([2, 16, 1, 1])\n",
            "FC\n",
            "torch.Size([2, 10, 1, 1])\n",
            "----------------------------------------------------------------\n",
            "        Layer (type)               Output Shape         Param #\n",
            "================================================================\n",
            "            Conv2d-1           [-1, 16, 26, 26]             144\n",
            "              ReLU-2           [-1, 16, 26, 26]               0\n",
            "       BatchNorm2d-3           [-1, 16, 26, 26]              32\n",
            "           Dropout-4           [-1, 16, 26, 26]               0\n",
            "            Conv2d-5           [-1, 16, 24, 24]           2,304\n",
            "              ReLU-6           [-1, 16, 24, 24]               0\n",
            "       BatchNorm2d-7           [-1, 16, 24, 24]              32\n",
            "           Dropout-8           [-1, 16, 24, 24]               0\n",
            "         MaxPool2d-9           [-1, 16, 12, 12]               0\n",
            "           Conv2d-10           [-1, 16, 10, 10]           2,304\n",
            "             ReLU-11           [-1, 16, 10, 10]               0\n",
            "      BatchNorm2d-12           [-1, 16, 10, 10]              32\n",
            "          Dropout-13           [-1, 16, 10, 10]               0\n",
            "           Conv2d-14             [-1, 16, 8, 8]           2,304\n",
            "             ReLU-15             [-1, 16, 8, 8]               0\n",
            "      BatchNorm2d-16             [-1, 16, 8, 8]              32\n",
            "          Dropout-17             [-1, 16, 8, 8]               0\n",
            "           Conv2d-18             [-1, 16, 6, 6]           2,304\n",
            "             ReLU-19             [-1, 16, 6, 6]               0\n",
            "      BatchNorm2d-20             [-1, 16, 6, 6]              32\n",
            "          Dropout-21             [-1, 16, 6, 6]               0\n",
            "        AvgPool2d-22             [-1, 16, 1, 1]               0\n",
            "           Conv2d-23             [-1, 10, 1, 1]             160\n",
            "================================================================\n",
            "Total params: 9,680\n",
            "Trainable params: 9,680\n",
            "Non-trainable params: 0\n",
            "----------------------------------------------------------------\n",
            "Input size (MB): 0.00\n",
            "Forward/backward pass size (MB): 0.73\n",
            "Params size (MB): 0.04\n",
            "Estimated Total Size (MB): 0.77\n",
            "----------------------------------------------------------------\n"
          ],
          "name": "stdout"
        }
      ]
    },
    {
      "cell_type": "code",
      "metadata": {
        "id": "DqTWLaM5GHgH"
      },
      "source": [
        "torch.manual_seed(1)\n",
        "batch_size = 64\n",
        "\n",
        "# transforms and DataLoader were written as seperate functions\n",
        "kwargs = {'num_workers': 1, 'pin_memory': True} if use_cuda else {}\n",
        "train_loader = torch.utils.data.DataLoader(\n",
        "    datasets.MNIST('../data', train=True, download=True,\n",
        "                    transform=transforms.Compose([\n",
        "                        transforms.ToTensor(),\n",
        "                        transforms.Normalize((0.1307,), (0.3081,))\n",
        "                    ])),\n",
        "    batch_size=batch_size, shuffle=True, **kwargs)\n",
        "test_loader = torch.utils.data.DataLoader(\n",
        "    datasets.MNIST('../data', train=False, transform=transforms.Compose([\n",
        "                        transforms.ToTensor(),\n",
        "                        transforms.Normalize((0.1307,), (0.3081,))\n",
        "                    ])),\n",
        "    batch_size=batch_size, shuffle=True, **kwargs)\n"
      ],
      "execution_count": null,
      "outputs": []
    },
    {
      "cell_type": "code",
      "metadata": {
        "id": "8fDefDhaFlwH"
      },
      "source": [
        "from tqdm import tqdm\n",
        "def train(model, device, train_loader, optimizer, epoch):\n",
        "    model.train()\n",
        "    pbar = tqdm(train_loader)\n",
        "    for batch_idx, (data, target) in enumerate(pbar):\n",
        "        data, target = data.to(device), target.to(device)\n",
        "        optimizer.zero_grad()\n",
        "        output = model(data)\n",
        "        loss = F.nll_loss(output, target)\n",
        "        loss.backward()\n",
        "        optimizer.step()\n",
        "        pbar.set_description(desc= f'loss={loss.item()} batch_id={batch_idx}')\n",
        "\n",
        "\n",
        "def test(model, device, test_loader):\n",
        "    model.eval()\n",
        "    test_loss = 0\n",
        "    correct = 0\n",
        "    with torch.no_grad():\n",
        "        for data, target in test_loader:\n",
        "            data, target = data.to(device), target.to(device)\n",
        "            output = model(data)\n",
        "            test_loss += F.nll_loss(output, target, reduction='sum').item()  # sum up batch loss\n",
        "            pred = output.argmax(dim=1, keepdim=True)  # get the index of the max log-probability\n",
        "            correct += pred.eq(target.view_as(pred)).sum().item()\n",
        "\n",
        "    test_loss /= len(test_loader.dataset)\n",
        "\n",
        "    print('\\nTest set: Average loss: {:.4f}, Accuracy: {}/{} ({:.0f}%)\\n'.format(\n",
        "        test_loss, correct, len(test_loader.dataset),\n",
        "        100. * correct / len(test_loader.dataset)))"
      ],
      "execution_count": null,
      "outputs": []
    },
    {
      "cell_type": "code",
      "metadata": {
        "id": "MMWbLWO6FuHb",
        "colab": {
          "base_uri": "https://localhost:8080/",
          "height": 1000
        },
        "outputId": "904f0cdb-2f84-4242-eded-f2703de3da87"
      },
      "source": [
        "model = Net().to(device)\n",
        "optimizer = optim.SGD(model.parameters(), lr=0.03, momentum=0.9)\n",
        "\n",
        "for epoch in range(0, 20):\n",
        "    print('Epoch:',epoch)\n",
        "    train(model, device, train_loader, optimizer, epoch)\n",
        "    test(model, device, test_loader)\n",
        "    break"
      ],
      "execution_count": null,
      "outputs": [
        {
          "output_type": "stream",
          "text": [
            "\r  0%|          | 0/938 [00:00<?, ?it/s]"
          ],
          "name": "stderr"
        },
        {
          "output_type": "stream",
          "text": [
            "Epoch: 0\n"
          ],
          "name": "stdout"
        },
        {
          "output_type": "stream",
          "text": [
            "loss=2.1648025512695312 batch_id=7:   0%|          | 3/938 [00:00<00:32, 29.08it/s]"
          ],
          "name": "stderr"
        },
        {
          "output_type": "stream",
          "text": [
            "Gap\n",
            "torch.Size([64, 16, 1, 1])\n",
            "FC\n",
            "torch.Size([64, 10, 1, 1])\n",
            "Gap\n",
            "torch.Size([64, 16, 1, 1])\n",
            "FC\n",
            "torch.Size([64, 10, 1, 1])\n",
            "Gap\n",
            "torch.Size([64, 16, 1, 1])\n",
            "FC\n",
            "torch.Size([64, 10, 1, 1])\n",
            "Gap\n",
            "torch.Size([64, 16, 1, 1])\n",
            "FC\n",
            "torch.Size([64, 10, 1, 1])\n",
            "Gap\n",
            "torch.Size([64, 16, 1, 1])\n",
            "FC\n",
            "torch.Size([64, 10, 1, 1])\n",
            "Gap\n",
            "torch.Size([64, 16, 1, 1])\n",
            "FC\n",
            "torch.Size([64, 10, 1, 1])\n",
            "Gap\n",
            "torch.Size([64, 16, 1, 1])\n",
            "FC\n",
            "torch.Size([64, 10, 1, 1])\n",
            "Gap\n",
            "torch.Size([64, 16, 1, 1])\n",
            "FC\n",
            "torch.Size([64, 10, 1, 1])\n",
            "Gap\n",
            "torch.Size([64, 16, 1, 1])\n",
            "FC\n",
            "torch.Size([64, 10, 1, 1])\n"
          ],
          "name": "stdout"
        },
        {
          "output_type": "stream",
          "text": [
            "loss=1.948926329612732 batch_id=11:   1%|          | 10/938 [00:00<00:26, 34.46it/s]"
          ],
          "name": "stderr"
        },
        {
          "output_type": "stream",
          "text": [
            "Gap\n",
            "torch.Size([64, 16, 1, 1])\n",
            "FC\n",
            "torch.Size([64, 10, 1, 1])\n",
            "Gap\n",
            "torch.Size([64, 16, 1, 1])\n",
            "FC\n",
            "torch.Size([64, 10, 1, 1])\n",
            "Gap\n",
            "torch.Size([64, 16, 1, 1])\n",
            "FC\n",
            "torch.Size([64, 10, 1, 1])\n"
          ],
          "name": "stdout"
        },
        {
          "output_type": "stream",
          "text": [
            "loss=1.5468462705612183 batch_id=19:   2%|▏         | 16/938 [00:00<00:23, 39.02it/s]"
          ],
          "name": "stderr"
        },
        {
          "output_type": "stream",
          "text": [
            "Gap\n",
            "torch.Size([64, 16, 1, 1])\n",
            "FC\n",
            "torch.Size([64, 10, 1, 1])\n",
            "Gap\n",
            "torch.Size([64, 16, 1, 1])\n",
            "FC\n",
            "torch.Size([64, 10, 1, 1])\n",
            "Gap\n",
            "torch.Size([64, 16, 1, 1])\n",
            "FC\n",
            "torch.Size([64, 10, 1, 1])\n",
            "Gap\n",
            "torch.Size([64, 16, 1, 1])\n",
            "FC\n",
            "torch.Size([64, 10, 1, 1])\n",
            "Gap\n",
            "torch.Size([64, 16, 1, 1])\n",
            "FC\n",
            "torch.Size([64, 10, 1, 1])\n",
            "Gap\n",
            "torch.Size([64, 16, 1, 1])\n",
            "FC\n",
            "torch.Size([64, 10, 1, 1])\n",
            "Gap\n",
            "torch.Size([64, 16, 1, 1])\n",
            "FC\n",
            "torch.Size([64, 10, 1, 1])\n",
            "Gap\n",
            "torch.Size([64, 16, 1, 1])\n",
            "FC\n",
            "torch.Size([64, 10, 1, 1])\n"
          ],
          "name": "stdout"
        },
        {
          "output_type": "stream",
          "text": [
            "loss=1.6277883052825928 batch_id=22:   2%|▏         | 21/938 [00:00<00:22, 41.59it/s]"
          ],
          "name": "stderr"
        },
        {
          "output_type": "stream",
          "text": [
            "Gap\n",
            "torch.Size([64, 16, 1, 1])\n",
            "FC\n",
            "torch.Size([64, 10, 1, 1])\n",
            "Gap\n",
            "torch.Size([64, 16, 1, 1])\n",
            "FC\n",
            "torch.Size([64, 10, 1, 1])\n",
            "Gap\n",
            "torch.Size([64, 16, 1, 1])\n",
            "FC\n",
            "torch.Size([64, 10, 1, 1])\n"
          ],
          "name": "stdout"
        },
        {
          "output_type": "stream",
          "text": [
            "loss=1.2183359861373901 batch_id=31:   3%|▎         | 27/938 [00:00<00:20, 45.29it/s]"
          ],
          "name": "stderr"
        },
        {
          "output_type": "stream",
          "text": [
            "Gap\n",
            "torch.Size([64, 16, 1, 1])\n",
            "FC\n",
            "torch.Size([64, 10, 1, 1])\n",
            "Gap\n",
            "torch.Size([64, 16, 1, 1])\n",
            "FC\n",
            "torch.Size([64, 10, 1, 1])\n",
            "Gap\n",
            "torch.Size([64, 16, 1, 1])\n",
            "FC\n",
            "torch.Size([64, 10, 1, 1])\n",
            "Gap\n",
            "torch.Size([64, 16, 1, 1])\n",
            "FC\n",
            "torch.Size([64, 10, 1, 1])\n",
            "Gap\n",
            "torch.Size([64, 16, 1, 1])\n",
            "FC\n",
            "torch.Size([64, 10, 1, 1])\n",
            "Gap\n",
            "torch.Size([64, 16, 1, 1])\n",
            "FC\n",
            "torch.Size([64, 10, 1, 1])\n",
            "Gap\n",
            "torch.Size([64, 16, 1, 1])\n",
            "FC\n",
            "torch.Size([64, 10, 1, 1])\n",
            "Gap\n",
            "torch.Size([64, 16, 1, 1])\n",
            "FC\n",
            "torch.Size([64, 10, 1, 1])\n",
            "Gap\n",
            "torch.Size([64, 16, 1, 1])\n",
            "FC\n",
            "torch.Size([64, 10, 1, 1])\n",
            "Gap\n"
          ],
          "name": "stdout"
        },
        {
          "output_type": "stream",
          "text": [
            "loss=1.1584229469299316 batch_id=34:   4%|▎         | 34/938 [00:00<00:18, 49.26it/s]"
          ],
          "name": "stderr"
        },
        {
          "output_type": "stream",
          "text": [
            "torch.Size([64, 16, 1, 1])\n",
            "FC\n",
            "torch.Size([64, 10, 1, 1])\n",
            "Gap\n",
            "torch.Size([64, 16, 1, 1])\n",
            "FC\n",
            "torch.Size([64, 10, 1, 1])\n",
            "Gap\n",
            "torch.Size([64, 16, 1, 1])\n",
            "FC\n",
            "torch.Size([64, 10, 1, 1])\n",
            "Gap\n",
            "torch.Size([64, 16, 1, 1])\n",
            "FC\n",
            "torch.Size([64, 10, 1, 1])\n"
          ],
          "name": "stdout"
        },
        {
          "output_type": "stream",
          "text": [
            "loss=0.9432722330093384 batch_id=43:   4%|▍         | 40/938 [00:00<00:17, 51.63it/s]"
          ],
          "name": "stderr"
        },
        {
          "output_type": "stream",
          "text": [
            "Gap\n",
            "torch.Size([64, 16, 1, 1])\n",
            "FC\n",
            "torch.Size([64, 10, 1, 1])\n",
            "Gap\n",
            "torch.Size([64, 16, 1, 1])\n",
            "FC\n",
            "torch.Size([64, 10, 1, 1])\n",
            "Gap\n",
            "torch.Size([64, 16, 1, 1])\n",
            "FC\n",
            "torch.Size([64, 10, 1, 1])\n",
            "Gap\n",
            "torch.Size([64, 16, 1, 1])\n",
            "FC\n",
            "torch.Size([64, 10, 1, 1])\n",
            "Gap\n",
            "torch.Size([64, 16, 1, 1])\n",
            "FC\n",
            "torch.Size([64, 10, 1, 1])\n",
            "Gap\n",
            "torch.Size([64, 16, 1, 1])\n",
            "FC\n",
            "torch.Size([64, 10, 1, 1])\n",
            "Gap\n",
            "torch.Size([64, 16, 1, 1])\n",
            "FC\n",
            "torch.Size([64, 10, 1, 1])\n",
            "Gap\n",
            "torch.Size([64, 16, 1, 1])\n",
            "FC\n",
            "torch.Size([64, 10, 1, 1])\n",
            "Gap\n",
            "torch.Size([64, 16, 1, 1])\n",
            "FC\n",
            "torch.Size([64, 10, 1, 1])\n"
          ],
          "name": "stdout"
        },
        {
          "output_type": "stream",
          "text": [
            "loss=0.6285837292671204 batch_id=47:   5%|▌         | 47/938 [00:00<00:16, 54.39it/s]"
          ],
          "name": "stderr"
        },
        {
          "output_type": "stream",
          "text": [
            "Gap\n",
            "torch.Size([64, 16, 1, 1])\n",
            "FC\n",
            "torch.Size([64, 10, 1, 1])\n",
            "Gap\n",
            "torch.Size([64, 16, 1, 1])\n",
            "FC\n",
            "torch.Size([64, 10, 1, 1])\n",
            "Gap\n",
            "torch.Size([64, 16, 1, 1])\n",
            "FC\n",
            "torch.Size([64, 10, 1, 1])\n"
          ],
          "name": "stdout"
        },
        {
          "output_type": "stream",
          "text": [
            "loss=0.53065425157547 batch_id=55:   6%|▌         | 53/938 [00:01<00:16, 54.05it/s]  "
          ],
          "name": "stderr"
        },
        {
          "output_type": "stream",
          "text": [
            "Gap\n",
            "torch.Size([64, 16, 1, 1])\n",
            "FC\n",
            "torch.Size([64, 10, 1, 1])\n",
            "Gap\n",
            "torch.Size([64, 16, 1, 1])\n",
            "FC\n",
            "torch.Size([64, 10, 1, 1])\n",
            "Gap\n",
            "torch.Size([64, 16, 1, 1])\n",
            "FC\n",
            "torch.Size([64, 10, 1, 1])\n",
            "Gap\n",
            "torch.Size([64, 16, 1, 1])\n",
            "FC\n",
            "torch.Size([64, 10, 1, 1])\n",
            "Gap\n",
            "torch.Size([64, 16, 1, 1])\n",
            "FC\n",
            "torch.Size([64, 10, 1, 1])\n",
            "Gap\n",
            "torch.Size([64, 16, 1, 1])\n",
            "FC\n",
            "torch.Size([64, 10, 1, 1])\n",
            "Gap\n",
            "torch.Size([64, 16, 1, 1])\n",
            "FC\n",
            "torch.Size([64, 10, 1, 1])\n",
            "Gap\n",
            "torch.Size([64, 16, 1, 1])\n",
            "FC\n",
            "torch.Size([64, 10, 1, 1])\n",
            "Gap\n",
            "torch.Size([64, 16, 1, 1])\n",
            "FC\n",
            "torch.Size([64, 10, 1, 1])\n"
          ],
          "name": "stdout"
        },
        {
          "output_type": "stream",
          "text": [
            "loss=0.5596784949302673 batch_id=58:   6%|▋         | 59/938 [00:01<00:16, 53.96it/s]"
          ],
          "name": "stderr"
        },
        {
          "output_type": "stream",
          "text": [
            "Gap\n",
            "torch.Size([64, 16, 1, 1])\n",
            "FC\n",
            "torch.Size([64, 10, 1, 1])\n",
            "Gap\n",
            "torch.Size([64, 16, 1, 1])\n",
            "FC\n",
            "torch.Size([64, 10, 1, 1])\n"
          ],
          "name": "stdout"
        },
        {
          "output_type": "stream",
          "text": [
            "loss=0.5159770846366882 batch_id=69:   7%|▋         | 66/938 [00:01<00:15, 56.59it/s]"
          ],
          "name": "stderr"
        },
        {
          "output_type": "stream",
          "text": [
            "Gap\n",
            "torch.Size([64, 16, 1, 1])\n",
            "FC\n",
            "torch.Size([64, 10, 1, 1])\n",
            "Gap\n",
            "torch.Size([64, 16, 1, 1])\n",
            "FC\n",
            "torch.Size([64, 10, 1, 1])\n",
            "Gap\n",
            "torch.Size([64, 16, 1, 1])\n",
            "FC\n",
            "torch.Size([64, 10, 1, 1])\n",
            "Gap\n",
            "torch.Size([64, 16, 1, 1])\n",
            "FC\n",
            "torch.Size([64, 10, 1, 1])\n",
            "Gap\n",
            "torch.Size([64, 16, 1, 1])\n",
            "FC\n",
            "torch.Size([64, 10, 1, 1])\n",
            "Gap\n",
            "torch.Size([64, 16, 1, 1])\n",
            "FC\n",
            "torch.Size([64, 10, 1, 1])\n",
            "Gap\n",
            "torch.Size([64, 16, 1, 1])\n",
            "FC\n",
            "torch.Size([64, 10, 1, 1])\n",
            "Gap\n",
            "torch.Size([64, 16, 1, 1])\n",
            "FC\n",
            "torch.Size([64, 10, 1, 1])\n",
            "Gap\n",
            "torch.Size([64, 16, 1, 1])\n",
            "FC\n",
            "torch.Size([64, 10, 1, 1])\n",
            "Gap\n",
            "torch.Size([64, 16, 1, 1])\n",
            "FC\n",
            "torch.Size([64, 10, 1, 1])\n",
            "Gap\n",
            "torch.Size([64, 16, 1, 1])\n",
            "FC\n",
            "torch.Size([64, 10, 1, 1])\n"
          ],
          "name": "stdout"
        },
        {
          "output_type": "stream",
          "text": [
            "loss=0.35872912406921387 batch_id=71:   8%|▊         | 72/938 [00:01<00:15, 57.00it/s]"
          ],
          "name": "stderr"
        },
        {
          "output_type": "stream",
          "text": [
            "Gap\n",
            "torch.Size([64, 16, 1, 1])\n",
            "FC\n",
            "torch.Size([64, 10, 1, 1])\n",
            "Gap\n",
            "torch.Size([64, 16, 1, 1])\n",
            "FC\n",
            "torch.Size([64, 10, 1, 1])\n"
          ],
          "name": "stdout"
        },
        {
          "output_type": "stream",
          "text": [
            "loss=0.5093950629234314 batch_id=81:   8%|▊         | 78/938 [00:01<00:14, 57.49it/s] "
          ],
          "name": "stderr"
        },
        {
          "output_type": "stream",
          "text": [
            "Gap\n",
            "torch.Size([64, 16, 1, 1])\n",
            "FC\n",
            "torch.Size([64, 10, 1, 1])\n",
            "Gap\n",
            "torch.Size([64, 16, 1, 1])\n",
            "FC\n",
            "torch.Size([64, 10, 1, 1])\n",
            "Gap\n",
            "torch.Size([64, 16, 1, 1])\n",
            "FC\n",
            "torch.Size([64, 10, 1, 1])\n",
            "Gap\n",
            "torch.Size([64, 16, 1, 1])\n",
            "FC\n",
            "torch.Size([64, 10, 1, 1])\n",
            "Gap\n",
            "torch.Size([64, 16, 1, 1])\n",
            "FC\n",
            "torch.Size([64, 10, 1, 1])\n",
            "Gap\n",
            "torch.Size([64, 16, 1, 1])\n",
            "FC\n",
            "torch.Size([64, 10, 1, 1])\n",
            "Gap\n",
            "torch.Size([64, 16, 1, 1])\n",
            "FC\n",
            "torch.Size([64, 10, 1, 1])\n",
            "Gap\n",
            "torch.Size([64, 16, 1, 1])\n",
            "FC\n",
            "torch.Size([64, 10, 1, 1])\n",
            "Gap\n",
            "torch.Size([64, 16, 1, 1])\n",
            "FC\n",
            "torch.Size([64, 10, 1, 1])\n",
            "Gap\n",
            "torch.Size([64, 16, 1, 1])\n",
            "FC\n",
            "torch.Size([64, 10, 1, 1])\n"
          ],
          "name": "stdout"
        },
        {
          "output_type": "stream",
          "text": [
            "loss=0.38278207182884216 batch_id=83:   9%|▉         | 84/938 [00:01<00:14, 58.04it/s]"
          ],
          "name": "stderr"
        },
        {
          "output_type": "stream",
          "text": [
            "Gap\n",
            "torch.Size([64, 16, 1, 1])\n",
            "FC\n",
            "torch.Size([64, 10, 1, 1])\n",
            "Gap\n",
            "torch.Size([64, 16, 1, 1])\n",
            "FC\n",
            "torch.Size([64, 10, 1, 1])\n"
          ],
          "name": "stdout"
        },
        {
          "output_type": "stream",
          "text": [
            "loss=0.36391445994377136 batch_id=93:  10%|▉         | 90/938 [00:01<00:14, 57.72it/s]"
          ],
          "name": "stderr"
        },
        {
          "output_type": "stream",
          "text": [
            "Gap\n",
            "torch.Size([64, 16, 1, 1])\n",
            "FC\n",
            "torch.Size([64, 10, 1, 1])\n",
            "Gap\n",
            "torch.Size([64, 16, 1, 1])\n",
            "FC\n",
            "torch.Size([64, 10, 1, 1])\n",
            "Gap\n",
            "torch.Size([64, 16, 1, 1])\n",
            "FC\n",
            "torch.Size([64, 10, 1, 1])\n",
            "Gap\n",
            "torch.Size([64, 16, 1, 1])\n",
            "FC\n",
            "torch.Size([64, 10, 1, 1])\n",
            "Gap\n",
            "torch.Size([64, 16, 1, 1])\n",
            "FC\n",
            "torch.Size([64, 10, 1, 1])\n",
            "Gap\n",
            "torch.Size([64, 16, 1, 1])\n",
            "FC\n",
            "torch.Size([64, 10, 1, 1])\n",
            "Gap\n",
            "torch.Size([64, 16, 1, 1])\n",
            "FC\n",
            "torch.Size([64, 10, 1, 1])\n",
            "Gap\n",
            "torch.Size([64, 16, 1, 1])\n",
            "FC\n",
            "torch.Size([64, 10, 1, 1])\n",
            "Gap\n",
            "torch.Size([64, 16, 1, 1])\n",
            "FC\n",
            "torch.Size([64, 10, 1, 1])\n",
            "Gap\n",
            "torch.Size([64, 16, 1, 1])\n",
            "FC\n",
            "torch.Size([64, 10, 1, 1])\n",
            "Gap\n",
            "torch.Size([64, 16, 1, 1])\n",
            "FC\n",
            "torch.Size([64, 10, 1, 1])\n"
          ],
          "name": "stdout"
        },
        {
          "output_type": "stream",
          "text": [
            "loss=0.32517969608306885 batch_id=95:  10%|▉         | 90/938 [00:01<00:14, 57.72it/s]"
          ],
          "name": "stderr"
        },
        {
          "output_type": "stream",
          "text": [
            "Gap\n",
            "torch.Size([64, 16, 1, 1])\n",
            "FC\n",
            "torch.Size([64, 10, 1, 1])\n",
            "Gap\n",
            "torch.Size([64, 16, 1, 1])\n",
            "FC"
          ],
          "name": "stdout"
        },
        {
          "output_type": "stream",
          "text": [
            "loss=0.20628376305103302 batch_id=107:  11%|█         | 104/938 [00:01<00:13, 60.35it/s]"
          ],
          "name": "stderr"
        },
        {
          "output_type": "stream",
          "text": [
            "\n",
            "torch.Size([64, 10, 1, 1])\n",
            "Gap\n",
            "torch.Size([64, 16, 1, 1])\n",
            "FC\n",
            "torch.Size([64, 10, 1, 1])\n",
            "Gap\n",
            "torch.Size([64, 16, 1, 1])\n",
            "FC\n",
            "torch.Size([64, 10, 1, 1])\n",
            "Gap\n",
            "torch.Size([64, 16, 1, 1])\n",
            "FC\n",
            "torch.Size([64, 10, 1, 1])\n",
            "Gap\n",
            "torch.Size([64, 16, 1, 1])\n",
            "FC\n",
            "torch.Size([64, 10, 1, 1])\n",
            "Gap\n",
            "torch.Size([64, 16, 1, 1])\n",
            "FC\n",
            "torch.Size([64, 10, 1, 1])\n",
            "Gap\n",
            "torch.Size([64, 16, 1, 1])\n",
            "FC\n",
            "torch.Size([64, 10, 1, 1])\n",
            "Gap\n",
            "torch.Size([64, 16, 1, 1])\n",
            "FC\n",
            "torch.Size([64, 10, 1, 1])\n",
            "Gap\n",
            "torch.Size([64, 16, 1, 1])\n",
            "FC\n",
            "torch.Size([64, 10, 1, 1])\n",
            "Gap\n",
            "torch.Size([64, 16, 1, 1])\n",
            "FC\n",
            "torch.Size([64, 10, 1, 1])\n",
            "Gap\n",
            "torch.Size([64, 16, 1, 1])\n",
            "FC\n",
            "torch.Size([64, 10, 1, 1])\n",
            "Gap\n",
            "torch.Size([64, 16, 1, 1])\n",
            "FC\n",
            "torch.Size([64, 10, 1, 1])\n"
          ],
          "name": "stdout"
        },
        {
          "output_type": "stream",
          "text": [
            "\rloss=0.26396310329437256 batch_id=108:  11%|█         | 104/938 [00:01<00:13, 60.35it/s]"
          ],
          "name": "stderr"
        },
        {
          "output_type": "stream",
          "text": [
            "Gap\n",
            "torch.Size([64, 16, 1, 1])\n",
            "FC\n",
            "torch.Size([64, 10, 1, 1])\n",
            "Gap\n",
            "torch.Size([64, 16, 1, 1])\n",
            "FC\n",
            "torch.Size([64, 10, 1, 1])\n"
          ],
          "name": "stdout"
        },
        {
          "output_type": "stream",
          "text": [
            "loss=0.19382597506046295 batch_id=119:  13%|█▎        | 118/938 [00:02<00:13, 61.59it/s]"
          ],
          "name": "stderr"
        },
        {
          "output_type": "stream",
          "text": [
            "Gap\n",
            "torch.Size([64, 16, 1, 1])\n",
            "FC\n",
            "torch.Size([64, 10, 1, 1])\n",
            "Gap\n",
            "torch.Size([64, 16, 1, 1])\n",
            "FC\n",
            "torch.Size([64, 10, 1, 1])\n",
            "Gap\n",
            "torch.Size([64, 16, 1, 1])\n",
            "FC\n",
            "torch.Size([64, 10, 1, 1])\n",
            "Gap\n",
            "torch.Size([64, 16, 1, 1])\n",
            "FC\n",
            "torch.Size([64, 10, 1, 1])\n",
            "Gap\n",
            "torch.Size([64, 16, 1, 1])\n",
            "FC\n",
            "torch.Size([64, 10, 1, 1])\n",
            "Gap\n",
            "torch.Size([64, 16, 1, 1])\n",
            "FC\n",
            "torch.Size([64, 10, 1, 1])\n",
            "Gap\n",
            "torch.Size([64, 16, 1, 1])\n",
            "FC\n",
            "torch.Size([64, 10, 1, 1])\n",
            "Gap\n",
            "torch.Size([64, 16, 1, 1])\n",
            "FC\n",
            "torch.Size([64, 10, 1, 1])\n",
            "Gap\n",
            "torch.Size([64, 16, 1, 1])\n",
            "FC\n",
            "torch.Size([64, 10, 1, 1])\n",
            "Gap\n",
            "torch.Size([64, 16, 1, 1])\n",
            "FC\n",
            "torch.Size([64, 10, 1, 1])\n"
          ],
          "name": "stdout"
        },
        {
          "output_type": "stream",
          "text": [
            "loss=0.31766897439956665 batch_id=121:  13%|█▎        | 118/938 [00:02<00:13, 61.59it/s]"
          ],
          "name": "stderr"
        },
        {
          "output_type": "stream",
          "text": [
            "Gap\n",
            "torch.Size([64, 16, 1, 1])\n",
            "FC\n",
            "torch.Size([64, 10, 1, 1])\n",
            "Gap\n",
            "torch.Size([64, 16, 1, 1])\n",
            "FC\n",
            "torch.Size([64, 10, 1, 1])\n"
          ],
          "name": "stdout"
        },
        {
          "output_type": "stream",
          "text": [
            "loss=0.18506374955177307 batch_id=131:  14%|█▍        | 132/938 [00:02<00:13, 60.08it/s]"
          ],
          "name": "stderr"
        },
        {
          "output_type": "stream",
          "text": [
            "Gap\n",
            "torch.Size([64, 16, 1, 1])\n",
            "FC\n",
            "torch.Size([64, 10, 1, 1])\n",
            "Gap\n",
            "torch.Size([64, 16, 1, 1])\n",
            "FC\n",
            "torch.Size([64, 10, 1, 1])\n",
            "Gap\n",
            "torch.Size([64, 16, 1, 1])\n",
            "FC\n",
            "torch.Size([64, 10, 1, 1])\n",
            "Gap\n",
            "torch.Size([64, 16, 1, 1])\n",
            "FC\n",
            "torch.Size([64, 10, 1, 1])\n",
            "Gap\n",
            "torch.Size([64, 16, 1, 1])\n",
            "FC\n",
            "torch.Size([64, 10, 1, 1])\n",
            "Gap\n",
            "torch.Size([64, 16, 1, 1])\n",
            "FC\n",
            "torch.Size([64, 10, 1, 1])\n",
            "Gap\n",
            "torch.Size([64, 16, 1, 1])\n",
            "FC\n",
            "torch.Size([64, 10, 1, 1])\n",
            "Gap\n",
            "torch.Size([64, 16, 1, 1])\n",
            "FC\n",
            "torch.Size([64, 10, 1, 1])\n",
            "Gap\n",
            "torch.Size([64, 16, 1, 1])\n",
            "FC\n",
            "torch.Size([64, 10, 1, 1])\n",
            "Gap\n",
            "torch.Size([64, 16, 1, 1])\n",
            "FC\n",
            "torch.Size([64, 10, 1, 1])\n"
          ],
          "name": "stdout"
        },
        {
          "output_type": "stream",
          "text": [
            "loss=0.1787228137254715 batch_id=133:  14%|█▍        | 132/938 [00:02<00:13, 60.08it/s] "
          ],
          "name": "stderr"
        },
        {
          "output_type": "stream",
          "text": [
            "Gap\n",
            "torch.Size([64, 16, 1, 1])\n",
            "FC\n",
            "torch.Size([64, 10, 1, 1])\n",
            "Gap\n",
            "torch.Size([64, 16, 1, 1])\n",
            "FC\n",
            "torch.Size([64, 10, 1, 1])\n"
          ],
          "name": "stdout"
        },
        {
          "output_type": "stream",
          "text": [
            "loss=0.2665345370769501 batch_id=144:  15%|█▍        | 139/938 [00:02<00:13, 60.25it/s] "
          ],
          "name": "stderr"
        },
        {
          "output_type": "stream",
          "text": [
            "Gap\n",
            "torch.Size([64, 16, 1, 1])\n",
            "FC\n",
            "torch.Size([64, 10, 1, 1])\n",
            "Gap\n",
            "torch.Size([64, 16, 1, 1])\n",
            "FC\n",
            "torch.Size([64, 10, 1, 1])\n",
            "Gap\n",
            "torch.Size([64, 16, 1, 1])\n",
            "FC\n",
            "torch.Size([64, 10, 1, 1])\n",
            "Gap\n",
            "torch.Size([64, 16, 1, 1])\n",
            "FC\n",
            "torch.Size([64, 10, 1, 1])\n",
            "Gap\n",
            "torch.Size([64, 16, 1, 1])\n",
            "FC\n",
            "torch.Size([64, 10, 1, 1])\n",
            "Gap\n",
            "torch.Size([64, 16, 1, 1])\n",
            "FC\n",
            "torch.Size([64, 10, 1, 1])\n",
            "Gap\n",
            "torch.Size([64, 16, 1, 1])\n",
            "FC\n",
            "torch.Size([64, 10, 1, 1])\n",
            "Gap\n",
            "torch.Size([64, 16, 1, 1])\n",
            "FC\n",
            "torch.Size([64, 10, 1, 1])\n",
            "Gap\n",
            "torch.Size([64, 16, 1, 1])\n",
            "FC\n",
            "torch.Size([64, 10, 1, 1])\n",
            "Gap\n",
            "torch.Size([64, 16, 1, 1])\n",
            "FC\n",
            "torch.Size([64, 10, 1, 1])\n",
            "Gap\n",
            "torch.Size([64, 16, 1, 1])\n",
            "FC\n",
            "torch.Size([64, 10, 1, 1])\n"
          ],
          "name": "stdout"
        },
        {
          "output_type": "stream",
          "text": [
            "loss=0.17067767679691315 batch_id=145:  16%|█▌        | 146/938 [00:02<00:13, 60.54it/s]"
          ],
          "name": "stderr"
        },
        {
          "output_type": "stream",
          "text": [
            "Gap\n",
            "torch.Size([64, 16, 1, 1])\n",
            "FC\n",
            "torch.Size([64, 10, 1, 1])\n",
            "Gap\n",
            "torch.Size([64, 16, 1, 1])\n",
            "FC\n",
            "torch.Size([64, 10, 1, 1])\n"
          ],
          "name": "stdout"
        },
        {
          "output_type": "stream",
          "text": [
            "loss=0.11894992738962173 batch_id=156:  16%|█▋        | 153/938 [00:02<00:13, 59.96it/s]"
          ],
          "name": "stderr"
        },
        {
          "output_type": "stream",
          "text": [
            "Gap\n",
            "torch.Size([64, 16, 1, 1])\n",
            "FC\n",
            "torch.Size([64, 10, 1, 1])\n",
            "Gap\n",
            "torch.Size([64, 16, 1, 1])\n",
            "FC\n",
            "torch.Size([64, 10, 1, 1])\n",
            "Gap\n",
            "torch.Size([64, 16, 1, 1])\n",
            "FC\n",
            "torch.Size([64, 10, 1, 1])\n",
            "Gap\n",
            "torch.Size([64, 16, 1, 1])\n",
            "FC\n",
            "torch.Size([64, 10, 1, 1])\n",
            "Gap\n",
            "torch.Size([64, 16, 1, 1])\n",
            "FC\n",
            "torch.Size([64, 10, 1, 1])\n",
            "Gap\n",
            "torch.Size([64, 16, 1, 1])\n",
            "FC\n",
            "torch.Size([64, 10, 1, 1])\n",
            "Gap\n",
            "torch.Size([64, 16, 1, 1])\n",
            "FC\n",
            "torch.Size([64, 10, 1, 1])\n",
            "Gap\n",
            "torch.Size([64, 16, 1, 1])\n",
            "FC\n",
            "torch.Size([64, 10, 1, 1])\n",
            "Gap\n",
            "torch.Size([64, 16, 1, 1])\n",
            "FC\n",
            "torch.Size([64, 10, 1, 1])\n",
            "Gap\n",
            "torch.Size([64, 16, 1, 1])\n",
            "FC\n",
            "torch.Size([64, 10, 1, 1])\n"
          ],
          "name": "stdout"
        },
        {
          "output_type": "stream",
          "text": [
            "loss=0.19082514941692352 batch_id=158:  16%|█▋        | 153/938 [00:02<00:13, 59.96it/s]"
          ],
          "name": "stderr"
        },
        {
          "output_type": "stream",
          "text": [
            "Gap\n",
            "torch.Size([64, 16, 1, 1])\n",
            "FC\n",
            "torch.Size([64, 10, 1, 1])\n",
            "Gap\n",
            "torch.Size([64, 16, 1, 1])\n",
            "FC\n",
            "torch.Size([64, 10, 1, 1])\n"
          ],
          "name": "stdout"
        },
        {
          "output_type": "stream",
          "text": [
            "loss=0.14291337132453918 batch_id=168:  18%|█▊        | 167/938 [00:02<00:12, 59.94it/s]"
          ],
          "name": "stderr"
        },
        {
          "output_type": "stream",
          "text": [
            "Gap\n",
            "torch.Size([64, 16, 1, 1])\n",
            "FC\n",
            "torch.Size([64, 10, 1, 1])\n",
            "Gap\n",
            "torch.Size([64, 16, 1, 1])\n",
            "FC\n",
            "torch.Size([64, 10, 1, 1])\n",
            "Gap\n",
            "torch.Size([64, 16, 1, 1])\n",
            "FC\n",
            "torch.Size([64, 10, 1, 1])\n",
            "Gap\n",
            "torch.Size([64, 16, 1, 1])\n",
            "FC\n",
            "torch.Size([64, 10, 1, 1])\n",
            "Gap\n",
            "torch.Size([64, 16, 1, 1])\n",
            "FC\n",
            "torch.Size([64, 10, 1, 1])\n",
            "Gap\n",
            "torch.Size([64, 16, 1, 1])\n",
            "FC\n",
            "torch.Size([64, 10, 1, 1])\n",
            "Gap\n",
            "torch.Size([64, 16, 1, 1])\n",
            "FC\n",
            "torch.Size([64, 10, 1, 1])\n",
            "Gap\n",
            "torch.Size([64, 16, 1, 1])\n",
            "FC\n",
            "torch.Size([64, 10, 1, 1])\n",
            "Gap\n",
            "torch.Size([64, 16, 1, 1])\n",
            "FC\n",
            "torch.Size([64, 10, 1, 1])\n",
            "Gap\n",
            "torch.Size([64, 16, 1, 1])\n",
            "FC\n",
            "torch.Size([64, 10, 1, 1])\n"
          ],
          "name": "stdout"
        },
        {
          "output_type": "stream",
          "text": [
            "loss=0.20667295157909393 batch_id=170:  18%|█▊        | 167/938 [00:02<00:12, 59.94it/s]"
          ],
          "name": "stderr"
        },
        {
          "output_type": "stream",
          "text": [
            "Gap\n",
            "torch.Size([64, 16, 1, 1])\n",
            "FC\n",
            "torch.Size([64, 10, 1, 1])\n",
            "Gap\n",
            "torch.Size([64, 16, 1, 1])\n",
            "FC\n",
            "torch.Size([64, 10, 1, 1])\n",
            "Gap\n",
            "torch.Size([64, 16, 1, 1])\n",
            "FC\n",
            "torch.Size([64, 10, 1, 1])\n"
          ],
          "name": "stdout"
        },
        {
          "output_type": "stream",
          "text": [
            "loss=0.07512529194355011 batch_id=181:  19%|█▉        | 180/938 [00:03<00:12, 58.95it/s]"
          ],
          "name": "stderr"
        },
        {
          "output_type": "stream",
          "text": [
            "Gap\n",
            "torch.Size([64, 16, 1, 1])\n",
            "FC\n",
            "torch.Size([64, 10, 1, 1])\n",
            "Gap\n",
            "torch.Size([64, 16, 1, 1])\n",
            "FC\n",
            "torch.Size([64, 10, 1, 1])\n",
            "Gap\n",
            "torch.Size([64, 16, 1, 1])\n",
            "FC\n",
            "torch.Size([64, 10, 1, 1])\n",
            "Gap\n",
            "torch.Size([64, 16, 1, 1])\n",
            "FC\n",
            "torch.Size([64, 10, 1, 1])\n",
            "Gap\n",
            "torch.Size([64, 16, 1, 1])\n",
            "FC\n",
            "torch.Size([64, 10, 1, 1])\n",
            "Gap\n",
            "torch.Size([64, 16, 1, 1])\n",
            "FC\n",
            "torch.Size([64, 10, 1, 1])\n",
            "Gap\n",
            "torch.Size([64, 16, 1, 1])\n",
            "FC\n",
            "torch.Size([64, 10, 1, 1])\n",
            "Gap\n",
            "torch.Size([64, 16, 1, 1])\n",
            "FC\n",
            "torch.Size([64, 10, 1, 1])\n",
            "Gap\n",
            "torch.Size([64, 16, 1, 1])\n",
            "FC\n",
            "torch.Size([64, 10, 1, 1])\n",
            "Gap\n",
            "torch.Size([64, 16, 1, 1])\n",
            "FC\n",
            "torch.Size([64, 10, 1, 1])\n"
          ],
          "name": "stdout"
        },
        {
          "output_type": "stream",
          "text": [
            "\rloss=0.15002816915512085 batch_id=182:  19%|█▉        | 180/938 [00:03<00:12, 58.95it/s]"
          ],
          "name": "stderr"
        },
        {
          "output_type": "stream",
          "text": [
            "Gap\n",
            "torch.Size([64, 16, 1, 1])\n",
            "FC\n",
            "torch.Size([64, 10, 1, 1])\n"
          ],
          "name": "stdout"
        },
        {
          "output_type": "stream",
          "text": [
            "loss=0.12471088021993637 batch_id=192:  21%|██        | 193/938 [00:03<00:13, 55.31it/s]"
          ],
          "name": "stderr"
        },
        {
          "output_type": "stream",
          "text": [
            "Gap\n",
            "torch.Size([64, 16, 1, 1])\n",
            "FC\n",
            "torch.Size([64, 10, 1, 1])\n",
            "Gap\n",
            "torch.Size([64, 16, 1, 1])\n",
            "FC\n",
            "torch.Size([64, 10, 1, 1])\n",
            "Gap\n",
            "torch.Size([64, 16, 1, 1])\n",
            "FC\n",
            "torch.Size([64, 10, 1, 1])\n",
            "Gap\n",
            "torch.Size([64, 16, 1, 1])\n",
            "FC\n",
            "torch.Size([64, 10, 1, 1])\n",
            "Gap\n",
            "torch.Size([64, 16, 1, 1])\n",
            "FC\n",
            "torch.Size([64, 10, 1, 1])\n",
            "Gap\n",
            "torch.Size([64, 16, 1, 1])\n",
            "FC\n",
            "torch.Size([64, 10, 1, 1])\n",
            "Gap\n",
            "torch.Size([64, 16, 1, 1])\n",
            "FC\n",
            "torch.Size([64, 10, 1, 1])\n",
            "Gap\n",
            "torch.Size([64, 16, 1, 1])\n",
            "FC\n",
            "torch.Size([64, 10, 1, 1])\n",
            "Gap\n",
            "torch.Size([64, 16, 1, 1])\n",
            "FC\n",
            "torch.Size([64, 10, 1, 1])\n",
            "Gap\n",
            "torch.Size([64, 16, 1, 1])\n",
            "FC\n",
            "torch.Size([64, 10, 1, 1])\n",
            "Gap\n"
          ],
          "name": "stdout"
        },
        {
          "output_type": "stream",
          "text": [
            "\rloss=0.06798601150512695 batch_id=193:  21%|██        | 193/938 [00:03<00:13, 55.31it/s]"
          ],
          "name": "stderr"
        },
        {
          "output_type": "stream",
          "text": [
            "torch.Size([64, 16, 1, 1])\n",
            "FC\n",
            "torch.Size([64, 10, 1, 1])\n",
            "Gap\n",
            "torch.Size([64, 16, 1, 1])\n",
            "FC\n",
            "torch.Size([64, 10, 1, 1])\n"
          ],
          "name": "stdout"
        },
        {
          "output_type": "stream",
          "text": [
            "loss=0.10228760540485382 batch_id=204:  22%|██▏       | 205/938 [00:03<00:12, 56.65it/s]"
          ],
          "name": "stderr"
        },
        {
          "output_type": "stream",
          "text": [
            "Gap\n",
            "torch.Size([64, 16, 1, 1])\n",
            "FC\n",
            "torch.Size([64, 10, 1, 1])\n",
            "Gap\n",
            "torch.Size([64, 16, 1, 1])\n",
            "FC\n",
            "torch.Size([64, 10, 1, 1])\n",
            "Gap\n",
            "torch.Size([64, 16, 1, 1])\n",
            "FC\n",
            "torch.Size([64, 10, 1, 1])\n",
            "Gap\n",
            "torch.Size([64, 16, 1, 1])\n",
            "FC\n",
            "torch.Size([64, 10, 1, 1])\n",
            "Gap\n",
            "torch.Size([64, 16, 1, 1])\n",
            "FC\n",
            "torch.Size([64, 10, 1, 1])\n",
            "Gap\n",
            "torch.Size([64, 16, 1, 1])\n",
            "FC\n",
            "torch.Size([64, 10, 1, 1])\n",
            "Gap\n",
            "torch.Size([64, 16, 1, 1])\n",
            "FC\n",
            "torch.Size([64, 10, 1, 1])\n",
            "Gap\n",
            "torch.Size([64, 16, 1, 1])\n",
            "FC\n",
            "torch.Size([64, 10, 1, 1])\n",
            "Gap\n",
            "torch.Size([64, 16, 1, 1])\n",
            "FC\n",
            "torch.Size([64, 10, 1, 1])\n",
            "Gap\n",
            "torch.Size([64, 16, 1, 1])\n",
            "FC\n",
            "torch.Size([64, 10, 1, 1])\n"
          ],
          "name": "stdout"
        },
        {
          "output_type": "stream",
          "text": [
            "loss=0.17168910801410675 batch_id=206:  22%|██▏       | 205/938 [00:03<00:12, 56.65it/s]"
          ],
          "name": "stderr"
        },
        {
          "output_type": "stream",
          "text": [
            "Gap\n",
            "torch.Size([64, 16, 1, 1])\n",
            "FC\n",
            "torch.Size([64, 10, 1, 1])\n",
            "Gap\n",
            "torch.Size([64, 16, 1, 1])\n",
            "FC\n",
            "torch.Size([64, 10, 1, 1])\n"
          ],
          "name": "stdout"
        },
        {
          "output_type": "stream",
          "text": [
            "loss=0.1803690493106842 batch_id=216:  22%|██▏       | 211/938 [00:03<00:13, 54.46it/s] "
          ],
          "name": "stderr"
        },
        {
          "output_type": "stream",
          "text": [
            "Gap\n",
            "torch.Size([64, 16, 1, 1])\n",
            "FC\n",
            "torch.Size([64, 10, 1, 1])\n",
            "Gap\n",
            "torch.Size([64, 16, 1, 1])\n",
            "FC\n",
            "torch.Size([64, 10, 1, 1])\n",
            "Gap\n",
            "torch.Size([64, 16, 1, 1])\n",
            "FC\n",
            "torch.Size([64, 10, 1, 1])\n",
            "Gap\n",
            "torch.Size([64, 16, 1, 1])\n",
            "FC\n",
            "torch.Size([64, 10, 1, 1])\n",
            "Gap\n",
            "torch.Size([64, 16, 1, 1])\n",
            "FC\n",
            "torch.Size([64, 10, 1, 1])\n",
            "Gap\n",
            "torch.Size([64, 16, 1, 1])\n",
            "FC\n",
            "torch.Size([64, 10, 1, 1])\n",
            "Gap\n",
            "torch.Size([64, 16, 1, 1])\n",
            "FC\n",
            "torch.Size([64, 10, 1, 1])\n",
            "Gap\n",
            "torch.Size([64, 16, 1, 1])\n",
            "FC\n",
            "torch.Size([64, 10, 1, 1])\n",
            "Gap\n",
            "torch.Size([64, 16, 1, 1])\n",
            "FC\n",
            "torch.Size([64, 10, 1, 1])\n",
            "Gap\n",
            "torch.Size([64, 16, 1, 1])\n",
            "FC\n",
            "torch.Size([64, 10, 1, 1])\n"
          ],
          "name": "stdout"
        },
        {
          "output_type": "stream",
          "text": [
            "loss=0.11777537316083908 batch_id=218:  23%|██▎       | 218/938 [00:03<00:12, 55.86it/s]"
          ],
          "name": "stderr"
        },
        {
          "output_type": "stream",
          "text": [
            "Gap\n",
            "torch.Size([64, 16, 1, 1])\n",
            "FC\n",
            "torch.Size([64, 10, 1, 1])\n",
            "Gap\n",
            "torch.Size([64, 16, 1, 1])\n",
            "FC\n",
            "torch.Size([64, 10, 1, 1])\n"
          ],
          "name": "stdout"
        },
        {
          "output_type": "stream",
          "text": [
            "loss=0.2531796991825104 batch_id=228:  24%|██▍       | 225/938 [00:03<00:12, 57.26it/s] "
          ],
          "name": "stderr"
        },
        {
          "output_type": "stream",
          "text": [
            "Gap\n",
            "torch.Size([64, 16, 1, 1])\n",
            "FC\n",
            "torch.Size([64, 10, 1, 1])\n",
            "Gap\n",
            "torch.Size([64, 16, 1, 1])\n",
            "FC\n",
            "torch.Size([64, 10, 1, 1])\n",
            "Gap\n",
            "torch.Size([64, 16, 1, 1])\n",
            "FC\n",
            "torch.Size([64, 10, 1, 1])\n",
            "Gap\n",
            "torch.Size([64, 16, 1, 1])\n",
            "FC\n",
            "torch.Size([64, 10, 1, 1])\n",
            "Gap\n",
            "torch.Size([64, 16, 1, 1])\n",
            "FC\n",
            "torch.Size([64, 10, 1, 1])\n",
            "Gap\n",
            "torch.Size([64, 16, 1, 1])\n",
            "FC\n",
            "torch.Size([64, 10, 1, 1])\n",
            "Gap\n",
            "torch.Size([64, 16, 1, 1])\n",
            "FC\n",
            "torch.Size([64, 10, 1, 1])\n",
            "Gap\n",
            "torch.Size([64, 16, 1, 1])\n",
            "FC\n",
            "torch.Size([64, 10, 1, 1])\n",
            "Gap\n",
            "torch.Size([64, 16, 1, 1])\n",
            "FC\n",
            "torch.Size([64, 10, 1, 1])\n",
            "Gap\n",
            "torch.Size([64, 16, 1, 1])\n",
            "FC\n",
            "torch.Size([64, 10, 1, 1])\n"
          ],
          "name": "stdout"
        },
        {
          "output_type": "stream",
          "text": [
            "loss=0.13569872081279755 batch_id=230:  25%|██▍       | 231/938 [00:04<00:12, 57.33it/s]"
          ],
          "name": "stderr"
        },
        {
          "output_type": "stream",
          "text": [
            "Gap\n",
            "torch.Size([64, 16, 1, 1])\n",
            "FC\n",
            "torch.Size([64, 10, 1, 1])\n",
            "Gap\n",
            "torch.Size([64, 16, 1, 1])\n",
            "FC\n",
            "torch.Size([64, 10, 1, 1])\n"
          ],
          "name": "stdout"
        },
        {
          "output_type": "stream",
          "text": [
            "loss=0.18236397206783295 batch_id=239:  25%|██▌       | 237/938 [00:04<00:12, 56.55it/s]"
          ],
          "name": "stderr"
        },
        {
          "output_type": "stream",
          "text": [
            "Gap\n",
            "torch.Size([64, 16, 1, 1])\n",
            "FC\n",
            "torch.Size([64, 10, 1, 1])\n",
            "Gap\n",
            "torch.Size([64, 16, 1, 1])\n",
            "FC\n",
            "torch.Size([64, 10, 1, 1])\n",
            "Gap\n",
            "torch.Size([64, 16, 1, 1])\n",
            "FC\n",
            "torch.Size([64, 10, 1, 1])\n",
            "Gap\n",
            "torch.Size([64, 16, 1, 1])\n",
            "FC\n",
            "torch.Size([64, 10, 1, 1])\n",
            "Gap\n",
            "torch.Size([64, 16, 1, 1])\n",
            "FC\n",
            "torch.Size([64, 10, 1, 1])\n",
            "Gap\n",
            "torch.Size([64, 16, 1, 1])\n",
            "FC\n",
            "torch.Size([64, 10, 1, 1])\n",
            "Gap\n",
            "torch.Size([64, 16, 1, 1])\n",
            "FC\n",
            "torch.Size([64, 10, 1, 1])\n",
            "Gap\n",
            "torch.Size([64, 16, 1, 1])\n",
            "FC\n",
            "torch.Size([64, 10, 1, 1])\n",
            "Gap\n",
            "torch.Size([64, 16, 1, 1])\n",
            "FC\n",
            "torch.Size([64, 10, 1, 1])\n",
            "Gap\n",
            "torch.Size([64, 16, 1, 1])\n",
            "FC\n",
            "torch.Size([64, 10, 1, 1])\n"
          ],
          "name": "stdout"
        },
        {
          "output_type": "stream",
          "text": [
            "loss=0.11575264483690262 batch_id=241:  25%|██▌       | 237/938 [00:04<00:12, 56.55it/s]"
          ],
          "name": "stderr"
        },
        {
          "output_type": "stream",
          "text": [
            "Gap\n",
            "torch.Size([64, 16, 1, 1])\n",
            "FC\n",
            "torch.Size([64, 10, 1, 1])\n",
            "Gap\n",
            "torch.Size([64, 16, 1, 1])\n",
            "FC\n",
            "torch.Size([64, 10, 1, 1])\n"
          ],
          "name": "stdout"
        },
        {
          "output_type": "stream",
          "text": [
            "loss=0.052190810441970825 batch_id=251:  27%|██▋       | 249/938 [00:04<00:12, 55.23it/s]"
          ],
          "name": "stderr"
        },
        {
          "output_type": "stream",
          "text": [
            "Gap\n",
            "torch.Size([64, 16, 1, 1])\n",
            "FC\n",
            "torch.Size([64, 10, 1, 1])\n",
            "Gap\n",
            "torch.Size([64, 16, 1, 1])\n",
            "FC\n",
            "torch.Size([64, 10, 1, 1])\n",
            "Gap\n",
            "torch.Size([64, 16, 1, 1])\n",
            "FC\n",
            "torch.Size([64, 10, 1, 1])\n",
            "Gap\n",
            "torch.Size([64, 16, 1, 1])\n",
            "FC\n",
            "torch.Size([64, 10, 1, 1])\n",
            "Gap\n",
            "torch.Size([64, 16, 1, 1])\n",
            "FC\n",
            "torch.Size([64, 10, 1, 1])\n",
            "Gap\n",
            "torch.Size([64, 16, 1, 1])\n",
            "FC\n",
            "torch.Size([64, 10, 1, 1])\n",
            "Gap\n",
            "torch.Size([64, 16, 1, 1])\n",
            "FC\n",
            "torch.Size([64, 10, 1, 1])\n",
            "Gap\n",
            "torch.Size([64, 16, 1, 1])\n",
            "FC\n",
            "torch.Size([64, 10, 1, 1])\n",
            "Gap\n",
            "torch.Size([64, 16, 1, 1])\n",
            "FC\n",
            "torch.Size([64, 10, 1, 1])\n"
          ],
          "name": "stdout"
        },
        {
          "output_type": "stream",
          "text": [
            "loss=0.18501016497612 batch_id=253:  27%|██▋       | 249/938 [00:04<00:12, 55.23it/s]   "
          ],
          "name": "stderr"
        },
        {
          "output_type": "stream",
          "text": [
            "Gap\n",
            "torch.Size([64, 16, 1, 1])\n",
            "FC\n",
            "torch.Size([64, 10, 1, 1])\n",
            "Gap\n",
            "torch.Size([64, 16, 1, 1])\n",
            "FC\n",
            "torch.Size([64, 10, 1, 1])\n"
          ],
          "name": "stdout"
        },
        {
          "output_type": "stream",
          "text": [
            "loss=0.15606863796710968 batch_id=263:  28%|██▊       | 261/938 [00:04<00:12, 55.75it/s]"
          ],
          "name": "stderr"
        },
        {
          "output_type": "stream",
          "text": [
            "Gap\n",
            "torch.Size([64, 16, 1, 1])\n",
            "FC\n",
            "torch.Size([64, 10, 1, 1])\n",
            "Gap\n",
            "torch.Size([64, 16, 1, 1])\n",
            "FC\n",
            "torch.Size([64, 10, 1, 1])\n",
            "Gap\n",
            "torch.Size([64, 16, 1, 1])\n",
            "FC\n",
            "torch.Size([64, 10, 1, 1])\n",
            "Gap\n",
            "torch.Size([64, 16, 1, 1])\n",
            "FC\n",
            "torch.Size([64, 10, 1, 1])\n",
            "Gap\n",
            "torch.Size([64, 16, 1, 1])\n",
            "FC\n",
            "torch.Size([64, 10, 1, 1])\n",
            "Gap\n",
            "torch.Size([64, 16, 1, 1])\n",
            "FC\n",
            "torch.Size([64, 10, 1, 1])\n",
            "Gap\n",
            "torch.Size([64, 16, 1, 1])\n",
            "FC\n",
            "torch.Size([64, 10, 1, 1])\n",
            "Gap\n",
            "torch.Size([64, 16, 1, 1])\n",
            "FC\n",
            "torch.Size([64, 10, 1, 1])\n",
            "Gap\n",
            "torch.Size([64, 16, 1, 1])\n",
            "FC\n",
            "torch.Size([64, 10, 1, 1])\n",
            "Gap\n",
            "torch.Size([64, 16, 1, 1])\n",
            "FC\n",
            "torch.Size([64, 10, 1, 1])\n",
            "Gap\n",
            "torch.Size([64, 16, 1, 1])\n",
            "FC\n",
            "torch.Size([64, 10, 1, 1])\n"
          ],
          "name": "stdout"
        },
        {
          "output_type": "stream",
          "text": [
            "loss=0.16388419270515442 batch_id=265:  28%|██▊       | 261/938 [00:04<00:12, 55.75it/s]"
          ],
          "name": "stderr"
        },
        {
          "output_type": "stream",
          "text": [
            "Gap\n",
            "torch.Size([64, 16, 1, 1])\n",
            "FC\n",
            "torch.Size([64, 10, 1, 1])\n",
            "Gap\n",
            "torch.Size([64, 16, 1, 1])\n",
            "FC\n",
            "torch.Size([64, 10, 1, 1])\n"
          ],
          "name": "stdout"
        },
        {
          "output_type": "stream",
          "text": [
            "loss=0.08240196108818054 batch_id=276:  29%|██▉       | 274/938 [00:04<00:11, 55.69it/s]"
          ],
          "name": "stderr"
        },
        {
          "output_type": "stream",
          "text": [
            "Gap\n",
            "torch.Size([64, 16, 1, 1])\n",
            "FC\n",
            "torch.Size([64, 10, 1, 1])\n",
            "Gap\n",
            "torch.Size([64, 16, 1, 1])\n",
            "FC\n",
            "torch.Size([64, 10, 1, 1])\n",
            "Gap\n",
            "torch.Size([64, 16, 1, 1])\n",
            "FC\n",
            "torch.Size([64, 10, 1, 1])\n",
            "Gap\n",
            "torch.Size([64, 16, 1, 1])\n",
            "FC\n",
            "torch.Size([64, 10, 1, 1])\n",
            "Gap\n",
            "torch.Size([64, 16, 1, 1])\n",
            "FC\n",
            "torch.Size([64, 10, 1, 1])\n",
            "Gap\n",
            "torch.Size([64, 16, 1, 1])\n",
            "FC\n",
            "torch.Size([64, 10, 1, 1])\n",
            "Gap\n",
            "torch.Size([64, 16, 1, 1])\n",
            "FC\n",
            "torch.Size([64, 10, 1, 1])\n",
            "Gap\n",
            "torch.Size([64, 16, 1, 1])\n",
            "FC\n",
            "torch.Size([64, 10, 1, 1])\n",
            "Gap\n",
            "torch.Size([64, 16, 1, 1])\n",
            "FC\n",
            "torch.Size([64, 10, 1, 1])\n",
            "Gap\n",
            "torch.Size([64, 16, 1, 1])\n",
            "FC\n",
            "torch.Size([64, 10, 1, 1])\n"
          ],
          "name": "stdout"
        },
        {
          "output_type": "stream",
          "text": [
            "loss=0.1107838824391365 batch_id=278:  29%|██▉       | 274/938 [00:04<00:11, 55.69it/s]"
          ],
          "name": "stderr"
        },
        {
          "output_type": "stream",
          "text": [
            "Gap\n",
            "torch.Size([64, 16, 1, 1])\n",
            "FC\n",
            "torch.Size([64, 10, 1, 1])\n",
            "Gap\n",
            "torch.Size([64, 16, 1, 1])\n",
            "FC\n",
            "torch.Size([64, 10, 1, 1])\n"
          ],
          "name": "stdout"
        },
        {
          "output_type": "stream",
          "text": [
            "loss=0.1509219855070114 batch_id=288:  31%|███       | 287/938 [00:05<00:11, 56.65it/s] "
          ],
          "name": "stderr"
        },
        {
          "output_type": "stream",
          "text": [
            "Gap\n",
            "torch.Size([64, 16, 1, 1])\n",
            "FC\n",
            "torch.Size([64, 10, 1, 1])\n",
            "Gap\n",
            "torch.Size([64, 16, 1, 1])\n",
            "FC\n",
            "torch.Size([64, 10, 1, 1])\n",
            "Gap\n",
            "torch.Size([64, 16, 1, 1])\n",
            "FC\n",
            "torch.Size([64, 10, 1, 1])\n",
            "Gap\n",
            "torch.Size([64, 16, 1, 1])\n",
            "FC\n",
            "torch.Size([64, 10, 1, 1])\n",
            "Gap\n",
            "torch.Size([64, 16, 1, 1])\n",
            "FC\n",
            "torch.Size([64, 10, 1, 1])\n",
            "Gap\n",
            "torch.Size([64, 16, 1, 1])\n",
            "FC\n",
            "torch.Size([64, 10, 1, 1])\n",
            "Gap\n",
            "torch.Size([64, 16, 1, 1])\n",
            "FC\n",
            "torch.Size([64, 10, 1, 1])\n",
            "Gap\n",
            "torch.Size([64, 16, 1, 1])\n",
            "FC\n",
            "torch.Size([64, 10, 1, 1])\n",
            "Gap\n",
            "torch.Size([64, 16, 1, 1])\n",
            "FC\n",
            "torch.Size([64, 10, 1, 1])\n",
            "Gap\n",
            "torch.Size([64, 16, 1, 1])\n",
            "FC\n",
            "torch.Size([64, 10, 1, 1])\n"
          ],
          "name": "stdout"
        },
        {
          "output_type": "stream",
          "text": [
            "\rloss=0.07915090024471283 batch_id=289:  31%|███       | 287/938 [00:05<00:11, 56.65it/s]"
          ],
          "name": "stderr"
        },
        {
          "output_type": "stream",
          "text": [
            "Gap\n",
            "torch.Size([64, 16, 1, 1])\n",
            "FC\n",
            "torch.Size([64, 10, 1, 1])\n",
            "Gap\n",
            "torch.Size([64, 16, 1, 1])\n",
            "FC\n",
            "torch.Size([64, 10, 1, 1])\n"
          ],
          "name": "stdout"
        },
        {
          "output_type": "stream",
          "text": [
            "loss=0.1976815164089203 batch_id=299:  32%|███▏      | 299/938 [00:05<00:11, 55.72it/s]"
          ],
          "name": "stderr"
        },
        {
          "output_type": "stream",
          "text": [
            "Gap\n",
            "torch.Size([64, 16, 1, 1])\n",
            "FC\n",
            "torch.Size([64, 10, 1, 1])\n",
            "Gap\n",
            "torch.Size([64, 16, 1, 1])\n",
            "FC\n",
            "torch.Size([64, 10, 1, 1])\n",
            "Gap\n",
            "torch.Size([64, 16, 1, 1])\n",
            "FC\n",
            "torch.Size([64, 10, 1, 1])\n",
            "Gap\n",
            "torch.Size([64, 16, 1, 1])\n",
            "FC\n",
            "torch.Size([64, 10, 1, 1])\n",
            "Gap\n",
            "torch.Size([64, 16, 1, 1])\n",
            "FC\n",
            "torch.Size([64, 10, 1, 1])\n",
            "Gap\n",
            "torch.Size([64, 16, 1, 1])\n",
            "FC\n",
            "torch.Size([64, 10, 1, 1])\n",
            "Gap\n",
            "torch.Size([64, 16, 1, 1])\n",
            "FC\n",
            "torch.Size([64, 10, 1, 1])\n",
            "Gap\n",
            "torch.Size([64, 16, 1, 1])\n",
            "FC\n",
            "torch.Size([64, 10, 1, 1])\n",
            "Gap\n",
            "torch.Size([64, 16, 1, 1])\n",
            "FC\n",
            "torch.Size([64, 10, 1, 1])\n"
          ],
          "name": "stdout"
        },
        {
          "output_type": "stream",
          "text": [
            "loss=0.08930644392967224 batch_id=302:  32%|███▏      | 299/938 [00:05<00:11, 55.72it/s]"
          ],
          "name": "stderr"
        },
        {
          "output_type": "stream",
          "text": [
            "Gap\n",
            "torch.Size([64, 16, 1, 1])\n",
            "FC\n",
            "torch.Size([64, 10, 1, 1])\n",
            "Gap\n",
            "torch.Size([64, 16, 1, 1])\n",
            "FC\n",
            "torch.Size([64, 10, 1, 1])\n",
            "Gap\n",
            "torch.Size([64, 16, 1, 1])\n",
            "FC\n",
            "torch.Size([64, 10, 1, 1])\n"
          ],
          "name": "stdout"
        },
        {
          "output_type": "stream",
          "text": [
            "loss=0.17396928369998932 batch_id=311:  33%|███▎      | 311/938 [00:05<00:11, 56.38it/s]"
          ],
          "name": "stderr"
        },
        {
          "output_type": "stream",
          "text": [
            "Gap\n",
            "torch.Size([64, 16, 1, 1])\n",
            "FC\n",
            "torch.Size([64, 10, 1, 1])\n",
            "Gap\n",
            "torch.Size([64, 16, 1, 1])\n",
            "FC\n",
            "torch.Size([64, 10, 1, 1])\n",
            "Gap\n",
            "torch.Size([64, 16, 1, 1])\n",
            "FC\n",
            "torch.Size([64, 10, 1, 1])\n",
            "Gap\n",
            "torch.Size([64, 16, 1, 1])\n",
            "FC\n",
            "torch.Size([64, 10, 1, 1])\n",
            "Gap\n",
            "torch.Size([64, 16, 1, 1])\n",
            "FC\n",
            "torch.Size([64, 10, 1, 1])\n",
            "Gap\n",
            "torch.Size([64, 16, 1, 1])\n",
            "FC\n",
            "torch.Size([64, 10, 1, 1])\n",
            "Gap\n",
            "torch.Size([64, 16, 1, 1])\n",
            "FC\n",
            "torch.Size([64, 10, 1, 1])\n",
            "Gap\n",
            "torch.Size([64, 16, 1, 1])\n",
            "FC\n",
            "torch.Size([64, 10, 1, 1])\n",
            "Gap\n",
            "torch.Size([64, 16, 1, 1])\n",
            "FC\n",
            "torch.Size([64, 10, 1, 1])\n"
          ],
          "name": "stdout"
        },
        {
          "output_type": "stream",
          "text": [
            "loss=0.0825098305940628 batch_id=313:  33%|███▎      | 311/938 [00:05<00:11, 56.38it/s] "
          ],
          "name": "stderr"
        },
        {
          "output_type": "stream",
          "text": [
            "Gap\n",
            "torch.Size([64, 16, 1, 1])\n",
            "FC\n",
            "torch.Size([64, 10, 1, 1])\n",
            "Gap\n",
            "torch.Size([64, 16, 1, 1])\n",
            "FC\n",
            "torch.Size([64, 10, 1, 1])\n"
          ],
          "name": "stdout"
        },
        {
          "output_type": "stream",
          "text": [
            "loss=0.040105897933244705 batch_id=322:  34%|███▍      | 323/938 [00:05<00:11, 54.16it/s]"
          ],
          "name": "stderr"
        },
        {
          "output_type": "stream",
          "text": [
            "Gap\n",
            "torch.Size([64, 16, 1, 1])\n",
            "FC\n",
            "torch.Size([64, 10, 1, 1])\n",
            "Gap\n",
            "torch.Size([64, 16, 1, 1])\n",
            "FC\n",
            "torch.Size([64, 10, 1, 1])\n",
            "Gap\n",
            "torch.Size([64, 16, 1, 1])\n",
            "FC\n",
            "torch.Size([64, 10, 1, 1])\n",
            "Gap\n",
            "torch.Size([64, 16, 1, 1])\n",
            "FC\n",
            "torch.Size([64, 10, 1, 1])\n",
            "Gap\n",
            "torch.Size([64, 16, 1, 1])\n",
            "FC\n",
            "torch.Size([64, 10, 1, 1])\n",
            "Gap\n",
            "torch.Size([64, 16, 1, 1])\n",
            "FC\n",
            "torch.Size([64, 10, 1, 1])\n",
            "Gap\n",
            "torch.Size([64, 16, 1, 1])\n",
            "FC\n",
            "torch.Size([64, 10, 1, 1])\n",
            "Gap\n",
            "torch.Size([64, 16, 1, 1])\n",
            "FC\n",
            "torch.Size([64, 10, 1, 1])\n",
            "Gap\n",
            "torch.Size([64, 16, 1, 1])\n",
            "FC\n",
            "torch.Size([64, 10, 1, 1])\n",
            "Gap\n",
            "torch.Size([64, 16, 1, 1])\n"
          ],
          "name": "stdout"
        },
        {
          "output_type": "stream",
          "text": [
            "loss=0.08458554744720459 batch_id=324:  34%|███▍      | 323/938 [00:05<00:11, 54.16it/s]"
          ],
          "name": "stderr"
        },
        {
          "output_type": "stream",
          "text": [
            "FC\n",
            "torch.Size([64, 10, 1, 1])\n",
            "Gap\n",
            "torch.Size([64, 16, 1, 1])\n",
            "FC\n",
            "torch.Size([64, 10, 1, 1])\n",
            "Gap\n",
            "torch.Size([64, 16, 1, 1])\n",
            "FC\n",
            "torch.Size([64, 10, 1, 1])\n"
          ],
          "name": "stdout"
        },
        {
          "output_type": "stream",
          "text": [
            "loss=0.04839953035116196 batch_id=335:  36%|███▌      | 336/938 [00:05<00:10, 57.21it/s]"
          ],
          "name": "stderr"
        },
        {
          "output_type": "stream",
          "text": [
            "Gap\n",
            "torch.Size([64, 16, 1, 1])\n",
            "FC\n",
            "torch.Size([64, 10, 1, 1])\n",
            "Gap\n",
            "torch.Size([64, 16, 1, 1])\n",
            "FC\n",
            "torch.Size([64, 10, 1, 1])\n",
            "Gap\n",
            "torch.Size([64, 16, 1, 1])\n",
            "FC\n",
            "torch.Size([64, 10, 1, 1])\n",
            "Gap\n",
            "torch.Size([64, 16, 1, 1])\n",
            "FC\n",
            "torch.Size([64, 10, 1, 1])\n",
            "Gap\n",
            "torch.Size([64, 16, 1, 1])\n",
            "FC\n",
            "torch.Size([64, 10, 1, 1])\n",
            "Gap\n",
            "torch.Size([64, 16, 1, 1])\n",
            "FC\n",
            "torch.Size([64, 10, 1, 1])\n",
            "Gap\n",
            "torch.Size([64, 16, 1, 1])\n",
            "FC\n",
            "torch.Size([64, 10, 1, 1])\n",
            "Gap\n",
            "torch.Size([64, 16, 1, 1])\n",
            "FC\n",
            "torch.Size([64, 10, 1, 1])\n",
            "Gap\n",
            "torch.Size([64, 16, 1, 1])\n",
            "FC\n",
            "torch.Size([64, 10, 1, 1])\n",
            "Gap\n",
            "torch.Size([64, 16, 1, 1])\n",
            "FC\n",
            "torch.Size([64, 10, 1, 1])\n"
          ],
          "name": "stdout"
        },
        {
          "output_type": "stream",
          "text": [
            "loss=0.10566892474889755 batch_id=337:  36%|███▌      | 336/938 [00:05<00:10, 57.21it/s]"
          ],
          "name": "stderr"
        },
        {
          "output_type": "stream",
          "text": [
            "Gap\n",
            "torch.Size([64, 16, 1, 1])\n",
            "FC\n",
            "torch.Size([64, 10, 1, 1])\n",
            "Gap\n",
            "torch.Size([64, 16, 1, 1])\n",
            "FC\n",
            "torch.Size([64, 10, 1, 1])\n",
            "Gap\n",
            "torch.Size([64, 16, 1, 1])\n",
            "FC\n",
            "torch.Size([64, 10, 1, 1])\n"
          ],
          "name": "stdout"
        },
        {
          "output_type": "stream",
          "text": [
            "loss=0.09775132685899734 batch_id=346:  36%|███▋      | 342/938 [00:06<00:10, 54.66it/s]"
          ],
          "name": "stderr"
        },
        {
          "output_type": "stream",
          "text": [
            "Gap\n",
            "torch.Size([64, 16, 1, 1])\n",
            "FC\n",
            "torch.Size([64, 10, 1, 1])\n",
            "Gap\n",
            "torch.Size([64, 16, 1, 1])\n",
            "FC\n",
            "torch.Size([64, 10, 1, 1])\n",
            "Gap\n",
            "torch.Size([64, 16, 1, 1])\n",
            "FC\n",
            "torch.Size([64, 10, 1, 1])\n",
            "Gap\n",
            "torch.Size([64, 16, 1, 1])\n",
            "FC\n",
            "torch.Size([64, 10, 1, 1])\n",
            "Gap\n",
            "torch.Size([64, 16, 1, 1])\n",
            "FC\n",
            "torch.Size([64, 10, 1, 1])\n",
            "Gap\n",
            "torch.Size([64, 16, 1, 1])\n",
            "FC\n",
            "torch.Size([64, 10, 1, 1])\n",
            "Gap\n",
            "torch.Size([64, 16, 1, 1])\n",
            "FC\n",
            "torch.Size([64, 10, 1, 1])\n",
            "Gap\n",
            "torch.Size([64, 16, 1, 1])\n",
            "FC\n",
            "torch.Size([64, 10, 1, 1])\n",
            "Gap\n",
            "torch.Size([64, 16, 1, 1])\n",
            "FC\n",
            "torch.Size([64, 10, 1, 1])"
          ],
          "name": "stdout"
        },
        {
          "output_type": "stream",
          "text": [
            "loss=0.07736550271511078 batch_id=349:  37%|███▋      | 348/938 [00:06<00:10, 54.02it/s]"
          ],
          "name": "stderr"
        },
        {
          "output_type": "stream",
          "text": [
            "\n",
            "Gap\n",
            "torch.Size([64, 16, 1, 1])\n",
            "FC\n",
            "torch.Size([64, 10, 1, 1])\n",
            "Gap\n",
            "torch.Size([64, 16, 1, 1])\n",
            "FC\n",
            "torch.Size([64, 10, 1, 1])\n",
            "Gap\n",
            "torch.Size([64, 16, 1, 1])\n",
            "FC\n",
            "torch.Size([64, 10, 1, 1])\n"
          ],
          "name": "stdout"
        },
        {
          "output_type": "stream",
          "text": [
            "loss=0.07415805757045746 batch_id=358:  38%|███▊      | 354/938 [00:06<00:10, 55.28it/s]"
          ],
          "name": "stderr"
        },
        {
          "output_type": "stream",
          "text": [
            "Gap\n",
            "torch.Size([64, 16, 1, 1])\n",
            "FC\n",
            "torch.Size([64, 10, 1, 1])\n",
            "Gap\n",
            "torch.Size([64, 16, 1, 1])\n",
            "FC\n",
            "torch.Size([64, 10, 1, 1])\n",
            "Gap\n",
            "torch.Size([64, 16, 1, 1])\n",
            "FC\n",
            "torch.Size([64, 10, 1, 1])\n",
            "Gap\n",
            "torch.Size([64, 16, 1, 1])\n",
            "FC\n",
            "torch.Size([64, 10, 1, 1])\n",
            "Gap\n",
            "torch.Size([64, 16, 1, 1])\n",
            "FC\n",
            "torch.Size([64, 10, 1, 1])\n",
            "Gap\n",
            "torch.Size([64, 16, 1, 1])\n",
            "FC\n",
            "torch.Size([64, 10, 1, 1])\n",
            "Gap\n",
            "torch.Size([64, 16, 1, 1])\n",
            "FC\n",
            "torch.Size([64, 10, 1, 1])\n",
            "Gap\n",
            "torch.Size([64, 16, 1, 1])\n",
            "FC\n",
            "torch.Size([64, 10, 1, 1])\n"
          ],
          "name": "stdout"
        },
        {
          "output_type": "stream",
          "text": [
            "loss=0.07036988437175751 batch_id=362:  38%|███▊      | 360/938 [00:06<00:10, 55.59it/s]"
          ],
          "name": "stderr"
        },
        {
          "output_type": "stream",
          "text": [
            "Gap\n",
            "torch.Size([64, 16, 1, 1])\n",
            "FC\n",
            "torch.Size([64, 10, 1, 1])\n",
            "Gap\n",
            "torch.Size([64, 16, 1, 1])\n",
            "FC\n",
            "torch.Size([64, 10, 1, 1])\n",
            "Gap\n",
            "torch.Size([64, 16, 1, 1])\n",
            "FC\n",
            "torch.Size([64, 10, 1, 1])\n",
            "Gap\n",
            "torch.Size([64, 16, 1, 1])\n",
            "FC\n",
            "torch.Size([64, 10, 1, 1])\n"
          ],
          "name": "stdout"
        },
        {
          "output_type": "stream",
          "text": [
            "loss=0.11583749204874039 batch_id=369:  39%|███▉      | 366/938 [00:06<00:10, 55.91it/s]"
          ],
          "name": "stderr"
        },
        {
          "output_type": "stream",
          "text": [
            "Gap\n",
            "torch.Size([64, 16, 1, 1])\n",
            "FC\n",
            "torch.Size([64, 10, 1, 1])\n",
            "Gap\n",
            "torch.Size([64, 16, 1, 1])\n",
            "FC\n",
            "torch.Size([64, 10, 1, 1])\n",
            "Gap\n",
            "torch.Size([64, 16, 1, 1])\n",
            "FC\n",
            "torch.Size([64, 10, 1, 1])\n",
            "Gap\n",
            "torch.Size([64, 16, 1, 1])\n",
            "FC\n",
            "torch.Size([64, 10, 1, 1])\n",
            "Gap\n",
            "torch.Size([64, 16, 1, 1])\n",
            "FC\n",
            "torch.Size([64, 10, 1, 1])\n",
            "Gap\n",
            "torch.Size([64, 16, 1, 1])\n",
            "FC\n",
            "torch.Size([64, 10, 1, 1])\n",
            "Gap\n",
            "torch.Size([64, 16, 1, 1])\n",
            "FC\n",
            "torch.Size([64, 10, 1, 1])\n",
            "Gap\n",
            "torch.Size([64, 16, 1, 1])\n",
            "FC\n"
          ],
          "name": "stdout"
        },
        {
          "output_type": "stream",
          "text": [
            "loss=0.107759989798069 batch_id=374:  40%|███▉      | 372/938 [00:06<00:10, 56.54it/s] "
          ],
          "name": "stderr"
        },
        {
          "output_type": "stream",
          "text": [
            "torch.Size([64, 10, 1, 1])\n",
            "Gap\n",
            "torch.Size([64, 16, 1, 1])\n",
            "FC\n",
            "torch.Size([64, 10, 1, 1])\n",
            "Gap\n",
            "torch.Size([64, 16, 1, 1])\n",
            "FC\n",
            "torch.Size([64, 10, 1, 1])\n",
            "Gap\n",
            "torch.Size([64, 16, 1, 1])\n",
            "FC\n",
            "torch.Size([64, 10, 1, 1])\n",
            "Gap\n",
            "torch.Size([64, 16, 1, 1])\n",
            "FC\n",
            "torch.Size([64, 10, 1, 1])\n"
          ],
          "name": "stdout"
        },
        {
          "output_type": "stream",
          "text": [
            "loss=0.1430377960205078 batch_id=380:  40%|████      | 378/938 [00:06<00:09, 57.22it/s] "
          ],
          "name": "stderr"
        },
        {
          "output_type": "stream",
          "text": [
            "Gap\n",
            "torch.Size([64, 16, 1, 1])\n",
            "FC\n",
            "torch.Size([64, 10, 1, 1])\n",
            "Gap\n",
            "torch.Size([64, 16, 1, 1])\n",
            "FC\n",
            "torch.Size([64, 10, 1, 1])\n",
            "Gap\n",
            "torch.Size([64, 16, 1, 1])\n",
            "FC\n",
            "torch.Size([64, 10, 1, 1])\n",
            "Gap\n",
            "torch.Size([64, 16, 1, 1])\n",
            "FC\n",
            "torch.Size([64, 10, 1, 1])\n",
            "Gap\n",
            "torch.Size([64, 16, 1, 1])\n",
            "FC\n",
            "torch.Size([64, 10, 1, 1])\n",
            "Gap\n",
            "torch.Size([64, 16, 1, 1])\n",
            "FC\n",
            "torch.Size([64, 10, 1, 1])\n",
            "Gap\n",
            "torch.Size([64, 16, 1, 1])\n",
            "FC\n",
            "torch.Size([64, 10, 1, 1])\n"
          ],
          "name": "stdout"
        },
        {
          "output_type": "stream",
          "text": [
            "loss=0.13016080856323242 batch_id=385:  41%|████      | 384/938 [00:06<00:09, 55.51it/s] "
          ],
          "name": "stderr"
        },
        {
          "output_type": "stream",
          "text": [
            "Gap\n",
            "torch.Size([64, 16, 1, 1])\n",
            "FC\n",
            "torch.Size([64, 10, 1, 1])\n",
            "Gap\n",
            "torch.Size([64, 16, 1, 1])\n",
            "FC\n",
            "torch.Size([64, 10, 1, 1])\n",
            "Gap\n",
            "torch.Size([64, 16, 1, 1])\n",
            "FC\n",
            "torch.Size([64, 10, 1, 1])\n",
            "Gap\n",
            "torch.Size([64, 16, 1, 1])\n",
            "FC\n",
            "torch.Size([64, 10, 1, 1])\n"
          ],
          "name": "stdout"
        },
        {
          "output_type": "stream",
          "text": [
            "loss=0.06821146607398987 batch_id=392:  42%|████▏     | 390/938 [00:06<00:10, 54.65it/s]"
          ],
          "name": "stderr"
        },
        {
          "output_type": "stream",
          "text": [
            "Gap\n",
            "torch.Size([64, 16, 1, 1])\n",
            "FC\n",
            "torch.Size([64, 10, 1, 1])\n",
            "Gap\n",
            "torch.Size([64, 16, 1, 1])\n",
            "FC\n",
            "torch.Size([64, 10, 1, 1])\n",
            "Gap\n",
            "torch.Size([64, 16, 1, 1])\n",
            "FC\n",
            "torch.Size([64, 10, 1, 1])\n",
            "Gap\n",
            "torch.Size([64, 16, 1, 1])\n",
            "FC\n",
            "torch.Size([64, 10, 1, 1])\n",
            "Gap\n",
            "torch.Size([64, 16, 1, 1])\n",
            "FC\n",
            "torch.Size([64, 10, 1, 1])\n",
            "Gap\n",
            "torch.Size([64, 16, 1, 1])\n",
            "FC\n",
            "torch.Size([64, 10, 1, 1])\n",
            "Gap\n",
            "torch.Size([64, 16, 1, 1])\n",
            "FC\n",
            "torch.Size([64, 10, 1, 1])\n"
          ],
          "name": "stdout"
        },
        {
          "output_type": "stream",
          "text": [
            "loss=0.07948727160692215 batch_id=396:  42%|████▏     | 396/938 [00:07<00:10, 53.71it/s]"
          ],
          "name": "stderr"
        },
        {
          "output_type": "stream",
          "text": [
            "Gap\n",
            "torch.Size([64, 16, 1, 1])\n",
            "FC\n",
            "torch.Size([64, 10, 1, 1])\n",
            "Gap\n",
            "torch.Size([64, 16, 1, 1])\n",
            "FC\n",
            "torch.Size([64, 10, 1, 1])\n",
            "Gap\n",
            "torch.Size([64, 16, 1, 1])\n",
            "FC\n",
            "torch.Size([64, 10, 1, 1])\n",
            "Gap\n",
            "torch.Size([64, 16, 1, 1])\n",
            "FC\n",
            "torch.Size([64, 10, 1, 1])\n"
          ],
          "name": "stdout"
        },
        {
          "output_type": "stream",
          "text": [
            "loss=0.035269178450107574 batch_id=403:  43%|████▎     | 402/938 [00:07<00:10, 52.47it/s]"
          ],
          "name": "stderr"
        },
        {
          "output_type": "stream",
          "text": [
            "Gap\n",
            "torch.Size([64, 16, 1, 1])\n",
            "FC\n",
            "torch.Size([64, 10, 1, 1])\n",
            "Gap\n",
            "torch.Size([64, 16, 1, 1])\n",
            "FC\n",
            "torch.Size([64, 10, 1, 1])\n",
            "Gap\n",
            "torch.Size([64, 16, 1, 1])\n",
            "FC\n",
            "torch.Size([64, 10, 1, 1])\n",
            "Gap\n",
            "torch.Size([64, 16, 1, 1])\n",
            "FC\n",
            "torch.Size([64, 10, 1, 1])\n",
            "Gap\n",
            "torch.Size([64, 16, 1, 1])\n",
            "FC\n",
            "torch.Size([64, 10, 1, 1])\n",
            "Gap\n",
            "torch.Size([64, 16, 1, 1])\n",
            "FC\n",
            "torch.Size([64, 10, 1, 1])\n",
            "Gap\n",
            "torch.Size([64, 16, 1, 1])\n",
            "FC\n",
            "torch.Size([64, 10, 1, 1])\n",
            "Gap\n",
            "torch.Size([64, 16, 1, 1])\n",
            "FC\n",
            "torch.Size([64, 10, 1, 1])\n"
          ],
          "name": "stdout"
        },
        {
          "output_type": "stream",
          "text": [
            "loss=0.09282147884368896 batch_id=407:  43%|████▎     | 408/938 [00:07<00:09, 53.17it/s]"
          ],
          "name": "stderr"
        },
        {
          "output_type": "stream",
          "text": [
            "Gap\n",
            "torch.Size([64, 16, 1, 1])\n",
            "FC\n",
            "torch.Size([64, 10, 1, 1])\n",
            "Gap\n",
            "torch.Size([64, 16, 1, 1])\n",
            "FC\n",
            "torch.Size([64, 10, 1, 1])\n",
            "Gap\n",
            "torch.Size([64, 16, 1, 1])\n",
            "FC\n",
            "torch.Size([64, 10, 1, 1])\n"
          ],
          "name": "stdout"
        },
        {
          "output_type": "stream",
          "text": [
            "loss=0.0765051543712616 batch_id=415:  44%|████▍     | 414/938 [00:07<00:09, 54.41it/s] "
          ],
          "name": "stderr"
        },
        {
          "output_type": "stream",
          "text": [
            "Gap\n",
            "torch.Size([64, 16, 1, 1])\n",
            "FC\n",
            "torch.Size([64, 10, 1, 1])\n",
            "Gap\n",
            "torch.Size([64, 16, 1, 1])\n",
            "FC\n",
            "torch.Size([64, 10, 1, 1])\n",
            "Gap\n",
            "torch.Size([64, 16, 1, 1])\n",
            "FC\n",
            "torch.Size([64, 10, 1, 1])\n",
            "Gap\n",
            "torch.Size([64, 16, 1, 1])\n",
            "FC\n",
            "torch.Size([64, 10, 1, 1])\n",
            "Gap\n",
            "torch.Size([64, 16, 1, 1])\n",
            "FC\n",
            "torch.Size([64, 10, 1, 1])\n",
            "Gap\n",
            "torch.Size([64, 16, 1, 1])\n",
            "FC\n",
            "torch.Size([64, 10, 1, 1])\n",
            "Gap\n",
            "torch.Size([64, 16, 1, 1])\n",
            "FC\n",
            "torch.Size([64, 10, 1, 1])\n",
            "Gap\n",
            "torch.Size([64, 16, 1, 1])\n",
            "FC\n",
            "torch.Size([64, 10, 1, 1])\n",
            "Gap\n",
            "torch.Size([64, 16, 1, 1])\n",
            "FC\n",
            "torch.Size([64, 10, 1, 1])\n"
          ],
          "name": "stdout"
        },
        {
          "output_type": "stream",
          "text": [
            "loss=0.058043982833623886 batch_id=419:  45%|████▍     | 420/938 [00:07<00:09, 53.94it/s]"
          ],
          "name": "stderr"
        },
        {
          "output_type": "stream",
          "text": [
            "Gap\n",
            "torch.Size([64, 16, 1, 1])\n",
            "FC\n",
            "torch.Size([64, 10, 1, 1])\n",
            "Gap\n",
            "torch.Size([64, 16, 1, 1])\n",
            "FC\n",
            "torch.Size([64, 10, 1, 1])\n",
            "Gap\n",
            "torch.Size([64, 16, 1, 1])\n",
            "FC\n",
            "torch.Size([64, 10, 1, 1])\n"
          ],
          "name": "stdout"
        },
        {
          "output_type": "stream",
          "text": [
            "loss=0.12403591722249985 batch_id=427:  45%|████▌     | 426/938 [00:07<00:09, 54.26it/s]"
          ],
          "name": "stderr"
        },
        {
          "output_type": "stream",
          "text": [
            "Gap\n",
            "torch.Size([64, 16, 1, 1])\n",
            "FC\n",
            "torch.Size([64, 10, 1, 1])\n",
            "Gap\n",
            "torch.Size([64, 16, 1, 1])\n",
            "FC\n",
            "torch.Size([64, 10, 1, 1])\n",
            "Gap\n",
            "torch.Size([64, 16, 1, 1])\n",
            "FC\n",
            "torch.Size([64, 10, 1, 1])\n",
            "Gap\n",
            "torch.Size([64, 16, 1, 1])\n",
            "FC\n",
            "torch.Size([64, 10, 1, 1])\n",
            "Gap\n",
            "torch.Size([64, 16, 1, 1])\n",
            "FC\n",
            "torch.Size([64, 10, 1, 1])\n",
            "Gap\n",
            "torch.Size([64, 16, 1, 1])\n",
            "FC\n",
            "torch.Size([64, 10, 1, 1])\n",
            "Gap\n",
            "torch.Size([64, 16, 1, 1])\n",
            "FC\n",
            "torch.Size([64, 10, 1, 1])\n",
            "Gap\n",
            "torch.Size([64, 16, 1, 1])\n",
            "FC\n",
            "torch.Size([64, 10, 1, 1])\n"
          ],
          "name": "stdout"
        },
        {
          "output_type": "stream",
          "text": [
            "loss=0.1008918359875679 batch_id=431:  46%|████▌     | 432/938 [00:07<00:09, 54.73it/s]"
          ],
          "name": "stderr"
        },
        {
          "output_type": "stream",
          "text": [
            "Gap\n",
            "torch.Size([64, 16, 1, 1])\n",
            "FC\n",
            "torch.Size([64, 10, 1, 1])\n",
            "Gap\n",
            "torch.Size([64, 16, 1, 1])\n",
            "FC\n",
            "torch.Size([64, 10, 1, 1])\n",
            "Gap\n",
            "torch.Size([64, 16, 1, 1])\n",
            "FC\n",
            "torch.Size([64, 10, 1, 1])\n",
            "Gap\n",
            "torch.Size([64, 16, 1, 1])\n",
            "FC\n",
            "torch.Size([64, 10, 1, 1])\n"
          ],
          "name": "stdout"
        },
        {
          "output_type": "stream",
          "text": [
            "loss=0.05405733734369278 batch_id=438:  47%|████▋     | 438/938 [00:07<00:09, 53.60it/s]"
          ],
          "name": "stderr"
        },
        {
          "output_type": "stream",
          "text": [
            "Gap\n",
            "torch.Size([64, 16, 1, 1])\n",
            "FC\n",
            "torch.Size([64, 10, 1, 1])\n",
            "Gap\n",
            "torch.Size([64, 16, 1, 1])\n",
            "FC\n",
            "torch.Size([64, 10, 1, 1])\n",
            "Gap\n",
            "torch.Size([64, 16, 1, 1])\n",
            "FC\n",
            "torch.Size([64, 10, 1, 1])\n",
            "Gap\n",
            "torch.Size([64, 16, 1, 1])\n",
            "FC\n",
            "torch.Size([64, 10, 1, 1])\n",
            "Gap\n",
            "torch.Size([64, 16, 1, 1])\n",
            "FC\n",
            "torch.Size([64, 10, 1, 1])\n",
            "Gap\n",
            "torch.Size([64, 16, 1, 1])\n",
            "FC\n",
            "torch.Size([64, 10, 1, 1])\n",
            "Gap\n",
            "torch.Size([64, 16, 1, 1])\n",
            "FC\n",
            "torch.Size([64, 10, 1, 1])\n"
          ],
          "name": "stdout"
        },
        {
          "output_type": "stream",
          "text": [
            "loss=0.07580121606588364 batch_id=442:  47%|████▋     | 438/938 [00:07<00:09, 53.60it/s]"
          ],
          "name": "stderr"
        },
        {
          "output_type": "stream",
          "text": [
            "Gap\n",
            "torch.Size([64, 16, 1, 1])\n",
            "FC\n",
            "torch.Size([64, 10, 1, 1])\n",
            "Gap\n",
            "torch.Size([64, 16, 1, 1])\n",
            "FC\n",
            "torch.Size([64, 10, 1, 1])\n",
            "Gap\n",
            "torch.Size([64, 16, 1, 1])\n",
            "FC\n",
            "torch.Size([64, 10, 1, 1])\n",
            "Gap\n",
            "torch.Size([64, 16, 1, 1])\n",
            "FC\n",
            "torch.Size([64, 10, 1, 1])\n",
            "Gap\n",
            "torch.Size([64, 16, 1, 1])\n",
            "FC\n",
            "torch.Size([64, 10, 1, 1])\n"
          ],
          "name": "stdout"
        },
        {
          "output_type": "stream",
          "text": [
            "loss=0.025546837598085403 batch_id=450:  48%|████▊     | 450/938 [00:08<00:08, 54.67it/s]"
          ],
          "name": "stderr"
        },
        {
          "output_type": "stream",
          "text": [
            "Gap\n",
            "torch.Size([64, 16, 1, 1])\n",
            "FC\n",
            "torch.Size([64, 10, 1, 1])\n",
            "Gap\n",
            "torch.Size([64, 16, 1, 1])\n",
            "FC\n",
            "torch.Size([64, 10, 1, 1])\n",
            "Gap\n",
            "torch.Size([64, 16, 1, 1])\n",
            "FC\n",
            "torch.Size([64, 10, 1, 1])\n",
            "Gap\n",
            "torch.Size([64, 16, 1, 1])\n",
            "FC\n",
            "torch.Size([64, 10, 1, 1])\n",
            "Gap\n",
            "torch.Size([64, 16, 1, 1])\n",
            "FC\n",
            "torch.Size([64, 10, 1, 1])\n",
            "Gap\n",
            "torch.Size([64, 16, 1, 1])\n",
            "FC\n",
            "torch.Size([64, 10, 1, 1])\n",
            "Gap\n",
            "torch.Size([64, 16, 1, 1])\n",
            "FC\n",
            "torch.Size([64, 10, 1, 1])\n"
          ],
          "name": "stdout"
        },
        {
          "output_type": "stream",
          "text": [
            "loss=0.07511062175035477 batch_id=455:  49%|████▊     | 456/938 [00:08<00:08, 55.02it/s]"
          ],
          "name": "stderr"
        },
        {
          "output_type": "stream",
          "text": [
            "Gap\n",
            "torch.Size([64, 16, 1, 1])\n",
            "FC\n",
            "torch.Size([64, 10, 1, 1])\n",
            "Gap\n",
            "torch.Size([64, 16, 1, 1])\n",
            "FC\n",
            "torch.Size([64, 10, 1, 1])\n",
            "Gap\n",
            "torch.Size([64, 16, 1, 1])\n",
            "FC\n",
            "torch.Size([64, 10, 1, 1])\n",
            "Gap\n",
            "torch.Size([64, 16, 1, 1])\n",
            "FC\n",
            "torch.Size([64, 10, 1, 1])\n",
            "Gap\n",
            "torch.Size([64, 16, 1, 1])\n",
            "FC\n",
            "torch.Size([64, 10, 1, 1])\n"
          ],
          "name": "stdout"
        },
        {
          "output_type": "stream",
          "text": [
            "loss=0.045806415379047394 batch_id=461:  49%|████▉     | 462/938 [00:08<00:08, 53.35it/s]"
          ],
          "name": "stderr"
        },
        {
          "output_type": "stream",
          "text": [
            "Gap\n",
            "torch.Size([64, 16, 1, 1])\n",
            "FC\n",
            "torch.Size([64, 10, 1, 1])\n",
            "Gap\n",
            "torch.Size([64, 16, 1, 1])\n",
            "FC\n",
            "torch.Size([64, 10, 1, 1])\n",
            "Gap\n",
            "torch.Size([64, 16, 1, 1])\n",
            "FC\n",
            "torch.Size([64, 10, 1, 1])\n",
            "Gap\n",
            "torch.Size([64, 16, 1, 1])\n",
            "FC\n",
            "torch.Size([64, 10, 1, 1])\n",
            "Gap\n",
            "torch.Size([64, 16, 1, 1])\n",
            "FC\n",
            "torch.Size([64, 10, 1, 1])\n",
            "Gap\n",
            "torch.Size([64, 16, 1, 1])\n",
            "FC\n",
            "torch.Size([64, 10, 1, 1])\n"
          ],
          "name": "stdout"
        },
        {
          "output_type": "stream",
          "text": [
            "loss=0.09074220061302185 batch_id=466:  49%|████▉     | 462/938 [00:08<00:08, 53.35it/s]"
          ],
          "name": "stderr"
        },
        {
          "output_type": "stream",
          "text": [
            "Gap\n",
            "torch.Size([64, 16, 1, 1])\n",
            "FC\n",
            "torch.Size([64, 10, 1, 1])\n",
            "Gap\n",
            "torch.Size([64, 16, 1, 1])\n",
            "FC\n",
            "torch.Size([64, 10, 1, 1])\n",
            "Gap\n",
            "torch.Size([64, 16, 1, 1])\n",
            "FC\n",
            "torch.Size([64, 10, 1, 1])\n",
            "Gap\n",
            "torch.Size([64, 16, 1, 1])\n",
            "FC\n",
            "torch.Size([64, 10, 1, 1])\n",
            "Gap\n",
            "torch.Size([64, 16, 1, 1])\n",
            "FC\n",
            "torch.Size([64, 10, 1, 1])\n"
          ],
          "name": "stdout"
        },
        {
          "output_type": "stream",
          "text": [
            "loss=0.10039326548576355 batch_id=473:  50%|████▉     | 468/938 [00:08<00:09, 52.20it/s]"
          ],
          "name": "stderr"
        },
        {
          "output_type": "stream",
          "text": [
            "Gap\n",
            "torch.Size([64, 16, 1, 1])\n",
            "FC\n",
            "torch.Size([64, 10, 1, 1])\n",
            "Gap\n",
            "torch.Size([64, 16, 1, 1])\n",
            "FC\n",
            "torch.Size([64, 10, 1, 1])\n",
            "Gap\n",
            "torch.Size([64, 16, 1, 1])\n",
            "FC\n",
            "torch.Size([64, 10, 1, 1])\n",
            "Gap\n",
            "torch.Size([64, 16, 1, 1])\n",
            "FC\n",
            "torch.Size([64, 10, 1, 1])\n",
            "Gap\n",
            "torch.Size([64, 16, 1, 1])\n",
            "FC\n",
            "torch.Size([64, 10, 1, 1])\n",
            "Gap\n",
            "torch.Size([64, 16, 1, 1])\n",
            "FC\n",
            "torch.Size([64, 10, 1, 1])\n",
            "Gap\n",
            "torch.Size([64, 16, 1, 1])\n",
            "FC\n",
            "torch.Size([64, 10, 1, 1])\n",
            "Gap\n",
            "torch.Size([64, 16, 1, 1])\n",
            "FC\n",
            "torch.Size([64, 10, 1, 1])\n"
          ],
          "name": "stdout"
        },
        {
          "output_type": "stream",
          "text": [
            "loss=0.07790981233119965 batch_id=477:  51%|█████     | 475/938 [00:08<00:08, 55.23it/s]"
          ],
          "name": "stderr"
        },
        {
          "output_type": "stream",
          "text": [
            "Gap\n",
            "torch.Size([64, 16, 1, 1])\n",
            "FC\n",
            "torch.Size([64, 10, 1, 1])\n",
            "Gap\n",
            "torch.Size([64, 16, 1, 1])\n",
            "FC\n",
            "torch.Size([64, 10, 1, 1])\n",
            "Gap\n",
            "torch.Size([64, 16, 1, 1])\n",
            "FC\n",
            "torch.Size([64, 10, 1, 1])\n",
            "Gap\n",
            "torch.Size([64, 16, 1, 1])\n",
            "FC\n",
            "torch.Size([64, 10, 1, 1])\n"
          ],
          "name": "stdout"
        },
        {
          "output_type": "stream",
          "text": [
            "loss=0.1222924068570137 batch_id=485:  51%|█████▏    | 481/938 [00:08<00:08, 54.06it/s] "
          ],
          "name": "stderr"
        },
        {
          "output_type": "stream",
          "text": [
            "Gap\n",
            "torch.Size([64, 16, 1, 1])\n",
            "FC\n",
            "torch.Size([64, 10, 1, 1])\n",
            "Gap\n",
            "torch.Size([64, 16, 1, 1])\n",
            "FC\n",
            "torch.Size([64, 10, 1, 1])\n",
            "Gap\n",
            "torch.Size([64, 16, 1, 1])\n",
            "FC\n",
            "torch.Size([64, 10, 1, 1])\n",
            "Gap\n",
            "torch.Size([64, 16, 1, 1])\n",
            "FC\n",
            "torch.Size([64, 10, 1, 1])\n",
            "Gap\n",
            "torch.Size([64, 16, 1, 1])\n",
            "FC\n",
            "torch.Size([64, 10, 1, 1])\n",
            "Gap\n",
            "torch.Size([64, 16, 1, 1])\n",
            "FC\n",
            "torch.Size([64, 10, 1, 1])\n",
            "Gap\n",
            "torch.Size([64, 16, 1, 1])\n",
            "FC\n",
            "torch.Size([64, 10, 1, 1])\n",
            "Gap\n",
            "torch.Size([64, 16, 1, 1])\n",
            "FC\n",
            "torch.Size([64, 10, 1, 1])\n"
          ],
          "name": "stdout"
        },
        {
          "output_type": "stream",
          "text": [
            "loss=0.07871042191982269 batch_id=489:  52%|█████▏    | 487/938 [00:08<00:08, 54.28it/s]"
          ],
          "name": "stderr"
        },
        {
          "output_type": "stream",
          "text": [
            "Gap\n",
            "torch.Size([64, 16, 1, 1])\n",
            "FC\n",
            "torch.Size([64, 10, 1, 1])\n",
            "Gap\n",
            "torch.Size([64, 16, 1, 1])\n",
            "FC\n",
            "torch.Size([64, 10, 1, 1])\n",
            "Gap\n",
            "torch.Size([64, 16, 1, 1])\n",
            "FC\n",
            "torch.Size([64, 10, 1, 1])\n",
            "Gap\n",
            "torch.Size([64, 16, 1, 1])\n",
            "FC\n",
            "torch.Size([64, 10, 1, 1])\n"
          ],
          "name": "stdout"
        },
        {
          "output_type": "error",
          "ename": "KeyboardInterrupt",
          "evalue": "ignored",
          "traceback": [
            "\u001b[0;31m---------------------------------------------------------------------------\u001b[0m",
            "\u001b[0;31mKeyboardInterrupt\u001b[0m                         Traceback (most recent call last)",
            "\u001b[0;32m<ipython-input-17-cd33349376eb>\u001b[0m in \u001b[0;36m<module>\u001b[0;34m()\u001b[0m\n\u001b[1;32m      4\u001b[0m \u001b[0;32mfor\u001b[0m \u001b[0mepoch\u001b[0m \u001b[0;32min\u001b[0m \u001b[0mrange\u001b[0m\u001b[0;34m(\u001b[0m\u001b[0;36m0\u001b[0m\u001b[0;34m,\u001b[0m \u001b[0;36m20\u001b[0m\u001b[0;34m)\u001b[0m\u001b[0;34m:\u001b[0m\u001b[0;34m\u001b[0m\u001b[0;34m\u001b[0m\u001b[0m\n\u001b[1;32m      5\u001b[0m     \u001b[0mprint\u001b[0m\u001b[0;34m(\u001b[0m\u001b[0;34m'Epoch:'\u001b[0m\u001b[0;34m,\u001b[0m\u001b[0mepoch\u001b[0m\u001b[0;34m)\u001b[0m\u001b[0;34m\u001b[0m\u001b[0;34m\u001b[0m\u001b[0m\n\u001b[0;32m----> 6\u001b[0;31m     \u001b[0mtrain\u001b[0m\u001b[0;34m(\u001b[0m\u001b[0mmodel\u001b[0m\u001b[0;34m,\u001b[0m \u001b[0mdevice\u001b[0m\u001b[0;34m,\u001b[0m \u001b[0mtrain_loader\u001b[0m\u001b[0;34m,\u001b[0m \u001b[0moptimizer\u001b[0m\u001b[0;34m,\u001b[0m \u001b[0mepoch\u001b[0m\u001b[0;34m)\u001b[0m\u001b[0;34m\u001b[0m\u001b[0;34m\u001b[0m\u001b[0m\n\u001b[0m\u001b[1;32m      7\u001b[0m     \u001b[0mtest\u001b[0m\u001b[0;34m(\u001b[0m\u001b[0mmodel\u001b[0m\u001b[0;34m,\u001b[0m \u001b[0mdevice\u001b[0m\u001b[0;34m,\u001b[0m \u001b[0mtest_loader\u001b[0m\u001b[0;34m)\u001b[0m\u001b[0;34m\u001b[0m\u001b[0;34m\u001b[0m\u001b[0m\n\u001b[1;32m      8\u001b[0m     \u001b[0;32mbreak\u001b[0m\u001b[0;34m\u001b[0m\u001b[0;34m\u001b[0m\u001b[0m\n",
            "\u001b[0;32m<ipython-input-16-606770246a31>\u001b[0m in \u001b[0;36mtrain\u001b[0;34m(model, device, train_loader, optimizer, epoch)\u001b[0m\n\u001b[1;32m      8\u001b[0m         \u001b[0moutput\u001b[0m \u001b[0;34m=\u001b[0m \u001b[0mmodel\u001b[0m\u001b[0;34m(\u001b[0m\u001b[0mdata\u001b[0m\u001b[0;34m)\u001b[0m\u001b[0;34m\u001b[0m\u001b[0;34m\u001b[0m\u001b[0m\n\u001b[1;32m      9\u001b[0m         \u001b[0mloss\u001b[0m \u001b[0;34m=\u001b[0m \u001b[0mF\u001b[0m\u001b[0;34m.\u001b[0m\u001b[0mnll_loss\u001b[0m\u001b[0;34m(\u001b[0m\u001b[0moutput\u001b[0m\u001b[0;34m,\u001b[0m \u001b[0mtarget\u001b[0m\u001b[0;34m)\u001b[0m\u001b[0;34m\u001b[0m\u001b[0;34m\u001b[0m\u001b[0m\n\u001b[0;32m---> 10\u001b[0;31m         \u001b[0mloss\u001b[0m\u001b[0;34m.\u001b[0m\u001b[0mbackward\u001b[0m\u001b[0;34m(\u001b[0m\u001b[0;34m)\u001b[0m\u001b[0;34m\u001b[0m\u001b[0;34m\u001b[0m\u001b[0m\n\u001b[0m\u001b[1;32m     11\u001b[0m         \u001b[0moptimizer\u001b[0m\u001b[0;34m.\u001b[0m\u001b[0mstep\u001b[0m\u001b[0;34m(\u001b[0m\u001b[0;34m)\u001b[0m\u001b[0;34m\u001b[0m\u001b[0;34m\u001b[0m\u001b[0m\n\u001b[1;32m     12\u001b[0m         \u001b[0mpbar\u001b[0m\u001b[0;34m.\u001b[0m\u001b[0mset_description\u001b[0m\u001b[0;34m(\u001b[0m\u001b[0mdesc\u001b[0m\u001b[0;34m=\u001b[0m \u001b[0;34mf'loss={loss.item()} batch_id={batch_idx}'\u001b[0m\u001b[0;34m)\u001b[0m\u001b[0;34m\u001b[0m\u001b[0;34m\u001b[0m\u001b[0m\n",
            "\u001b[0;32m/usr/local/lib/python3.7/dist-packages/torch/tensor.py\u001b[0m in \u001b[0;36mbackward\u001b[0;34m(self, gradient, retain_graph, create_graph, inputs)\u001b[0m\n\u001b[1;32m    243\u001b[0m                 \u001b[0mcreate_graph\u001b[0m\u001b[0;34m=\u001b[0m\u001b[0mcreate_graph\u001b[0m\u001b[0;34m,\u001b[0m\u001b[0;34m\u001b[0m\u001b[0;34m\u001b[0m\u001b[0m\n\u001b[1;32m    244\u001b[0m                 inputs=inputs)\n\u001b[0;32m--> 245\u001b[0;31m         \u001b[0mtorch\u001b[0m\u001b[0;34m.\u001b[0m\u001b[0mautograd\u001b[0m\u001b[0;34m.\u001b[0m\u001b[0mbackward\u001b[0m\u001b[0;34m(\u001b[0m\u001b[0mself\u001b[0m\u001b[0;34m,\u001b[0m \u001b[0mgradient\u001b[0m\u001b[0;34m,\u001b[0m \u001b[0mretain_graph\u001b[0m\u001b[0;34m,\u001b[0m \u001b[0mcreate_graph\u001b[0m\u001b[0;34m,\u001b[0m \u001b[0minputs\u001b[0m\u001b[0;34m=\u001b[0m\u001b[0minputs\u001b[0m\u001b[0;34m)\u001b[0m\u001b[0;34m\u001b[0m\u001b[0;34m\u001b[0m\u001b[0m\n\u001b[0m\u001b[1;32m    246\u001b[0m \u001b[0;34m\u001b[0m\u001b[0m\n\u001b[1;32m    247\u001b[0m     \u001b[0;32mdef\u001b[0m \u001b[0mregister_hook\u001b[0m\u001b[0;34m(\u001b[0m\u001b[0mself\u001b[0m\u001b[0;34m,\u001b[0m \u001b[0mhook\u001b[0m\u001b[0;34m)\u001b[0m\u001b[0;34m:\u001b[0m\u001b[0;34m\u001b[0m\u001b[0;34m\u001b[0m\u001b[0m\n",
            "\u001b[0;32m/usr/local/lib/python3.7/dist-packages/torch/autograd/__init__.py\u001b[0m in \u001b[0;36mbackward\u001b[0;34m(tensors, grad_tensors, retain_graph, create_graph, grad_variables, inputs)\u001b[0m\n\u001b[1;32m    145\u001b[0m     Variable._execution_engine.run_backward(\n\u001b[1;32m    146\u001b[0m         \u001b[0mtensors\u001b[0m\u001b[0;34m,\u001b[0m \u001b[0mgrad_tensors_\u001b[0m\u001b[0;34m,\u001b[0m \u001b[0mretain_graph\u001b[0m\u001b[0;34m,\u001b[0m \u001b[0mcreate_graph\u001b[0m\u001b[0;34m,\u001b[0m \u001b[0minputs\u001b[0m\u001b[0;34m,\u001b[0m\u001b[0;34m\u001b[0m\u001b[0;34m\u001b[0m\u001b[0m\n\u001b[0;32m--> 147\u001b[0;31m         allow_unreachable=True, accumulate_grad=True)  # allow_unreachable flag\n\u001b[0m\u001b[1;32m    148\u001b[0m \u001b[0;34m\u001b[0m\u001b[0m\n\u001b[1;32m    149\u001b[0m \u001b[0;34m\u001b[0m\u001b[0m\n",
            "\u001b[0;31mKeyboardInterrupt\u001b[0m: "
          ]
        }
      ]
    },
    {
      "cell_type": "code",
      "metadata": {
        "id": "So5uk4EkHW6R"
      },
      "source": [
        ""
      ],
      "execution_count": null,
      "outputs": []
    }
  ]
}