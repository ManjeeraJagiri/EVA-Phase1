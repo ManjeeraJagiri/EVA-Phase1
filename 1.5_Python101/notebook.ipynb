{
 "cells": [
  {
   "cell_type": "markdown",
   "source": "## Multi-line statements and strings",
   "metadata": {
    "tags": [],
    "cell_id": "00000-4e1e4f14-86c4-48c9-8cbb-b4d3b068864d",
    "deepnote_cell_type": "markdown"
   }
  },
  {
   "cell_type": "code",
   "metadata": {
    "tags": [],
    "cell_id": "00000-7d70e1a9-6cd5-4fb4-99a0-5dfebd6796b5",
    "deepnote_to_be_reexecuted": false,
    "source_hash": "7852b4da",
    "execution_start": 1622613358809,
    "execution_millis": 1,
    "deepnote_cell_type": "code"
   },
   "source": "# Single line\na = [1, 'c', 'rohan', 3 + 4j]",
   "execution_count": null,
   "outputs": []
  },
  {
   "cell_type": "code",
   "metadata": {
    "tags": [],
    "cell_id": "00002-86d4f031-527d-4d26-a67a-0f27b92132c3",
    "deepnote_to_be_reexecuted": false,
    "source_hash": "2378da5",
    "execution_start": 1622613423418,
    "execution_millis": 2,
    "deepnote_cell_type": "code"
   },
   "source": "# Python removes the new lines for us. Handles it implicitly\na = [1, \n    'c', \n    'rohan', \n    3 + 4j]",
   "execution_count": null,
   "outputs": []
  },
  {
   "cell_type": "code",
   "metadata": {
    "tags": [],
    "cell_id": "00003-512feea7-6955-4441-88d8-d246e24df1fe",
    "deepnote_to_be_reexecuted": false,
    "source_hash": "ef4233c",
    "execution_start": 1622613424839,
    "execution_millis": 6,
    "deepnote_cell_type": "code"
   },
   "source": "a",
   "execution_count": null,
   "outputs": [
    {
     "output_type": "execute_result",
     "execution_count": 5,
     "data": {
      "text/plain": "[1, 'c', 'rohan', (3+4j)]"
     },
     "metadata": {}
    }
   ]
  },
  {
   "cell_type": "code",
   "metadata": {
    "tags": [],
    "cell_id": "00005-3bde684a-6920-4cb7-8b7f-424d866e12d3",
    "deepnote_to_be_reexecuted": false,
    "source_hash": "6dee9434",
    "execution_start": 1622613437406,
    "execution_millis": 0,
    "deepnote_cell_type": "code"
   },
   "source": "a = \"This is a sentence said by Shashi Tharoor, and he is going to use worlds like entshuldiging and words imported from thesaurus which none of us can really understand. \"",
   "execution_count": null,
   "outputs": []
  },
  {
   "cell_type": "code",
   "metadata": {
    "tags": [],
    "cell_id": "00006-8b9fe5cf-0cf2-436f-812c-5e12e91465de",
    "deepnote_to_be_reexecuted": false,
    "source_hash": "82d72d09",
    "execution_start": 1622613531265,
    "execution_millis": 8,
    "deepnote_cell_type": "code"
   },
   "source": "# Satement is very long, so broke it\na = \"This is a sentence said by Shashi Tharoor, and he is going to use worlds like entshuldiging and words \nimported from thesaurus which none of us can really understand. \"",
   "execution_count": null,
   "outputs": [
    {
     "output_type": "error",
     "ename": "SyntaxError",
     "evalue": "EOL while scanning string literal (<ipython-input-9-cd1c90d951ce>, line 2)",
     "traceback": [
      "\u001b[0;36m  File \u001b[0;32m\"<ipython-input-9-cd1c90d951ce>\"\u001b[0;36m, line \u001b[0;32m2\u001b[0m\n\u001b[0;31m    a = \"This is a sentence said by Shashi Tharoor, and he is going to use worlds like entshuldiging and words\u001b[0m\n\u001b[0m                                                                                                               ^\u001b[0m\n\u001b[0;31mSyntaxError\u001b[0m\u001b[0;31m:\u001b[0m EOL while scanning string literal\n"
     ]
    }
   ]
  },
  {
   "cell_type": "code",
   "metadata": {
    "tags": [],
    "cell_id": "00007-b6a46186-2346-40bb-8a03-7d3cfa03e83c",
    "deepnote_to_be_reexecuted": false,
    "source_hash": "b5e3971a",
    "execution_start": 1622613596640,
    "execution_millis": 1,
    "deepnote_cell_type": "code"
   },
   "source": "# In some cases, Python handles it implicitly, the new line characters. But in cases like above, we have to mention explicitly\na = \"This is a sentence said by Shashi Tharoor, and he is going to use worlds like entshuldiging and words \\\nimported from thesaurus which none of us can really understand. \"",
   "execution_count": null,
   "outputs": []
  },
  {
   "cell_type": "code",
   "metadata": {
    "tags": [],
    "cell_id": "00008-1bdaab1c-5a5c-4fad-946d-8cf013080668",
    "deepnote_to_be_reexecuted": false,
    "source_hash": "ef4233c",
    "execution_start": 1622613601635,
    "execution_millis": 6,
    "deepnote_cell_type": "code"
   },
   "source": "a",
   "execution_count": null,
   "outputs": [
    {
     "output_type": "execute_result",
     "execution_count": 11,
     "data": {
      "text/plain": "'This is a sentence said by Shashi Tharoor, and he is going to use worlds like entshuldiging and words imported from thesaurus which none of us can really understand. '"
     },
     "metadata": {}
    }
   ]
  },
  {
   "cell_type": "code",
   "metadata": {
    "tags": [],
    "cell_id": "00009-ae9d0aff-851c-4806-b1c1-b3c17bb8acf4",
    "deepnote_to_be_reexecuted": false,
    "source_hash": "ace7ec61",
    "execution_start": 1622613653022,
    "execution_millis": 0,
    "deepnote_cell_type": "code"
   },
   "source": "a = [1, # roll number of the student\n    'c', # section of the class\n    'rohan', # name of the student\n    3 + 4j] #his answer to quiz",
   "execution_count": null,
   "outputs": []
  },
  {
   "cell_type": "code",
   "metadata": {
    "tags": [],
    "cell_id": "00010-0934db7a-c332-446f-83bd-fc0f9ad07d56",
    "deepnote_to_be_reexecuted": false,
    "source_hash": "ef4233c",
    "execution_start": 1623776104910,
    "execution_millis": 7,
    "deepnote_cell_type": "code"
   },
   "source": "a",
   "outputs": [
    {
     "output_type": "error",
     "ename": "NameError",
     "evalue": "name 'a' is not defined",
     "traceback": [
      "\u001b[0;31m---------------------------------------------------------------------------\u001b[0m",
      "\u001b[0;31mNameError\u001b[0m                                 Traceback (most recent call last)",
      "\u001b[0;32m<ipython-input-8-3f786850e387>\u001b[0m in \u001b[0;36m<module>\u001b[0;34m\u001b[0m\n\u001b[0;32m----> 1\u001b[0;31m \u001b[0ma\u001b[0m\u001b[0;34m\u001b[0m\u001b[0;34m\u001b[0m\u001b[0m\n\u001b[0m",
      "\u001b[0;31mNameError\u001b[0m: name 'a' is not defined"
     ]
    }
   ],
   "execution_count": null
  },
  {
   "cell_type": "code",
   "metadata": {
    "tags": [],
    "cell_id": "00011-089463c8-571d-45b7-b77f-ec462b720706",
    "deepnote_to_be_reexecuted": false,
    "source_hash": "8d912309",
    "execution_start": 1622613665515,
    "execution_millis": 15,
    "deepnote_cell_type": "code"
   },
   "source": "a = [1, #first element\n2 #second element]",
   "execution_count": null,
   "outputs": [
    {
     "output_type": "error",
     "ename": "SyntaxError",
     "evalue": "unexpected EOF while parsing (<ipython-input-14-35babfe296d1>, line 2)",
     "traceback": [
      "\u001b[0;36m  File \u001b[0;32m\"<ipython-input-14-35babfe296d1>\"\u001b[0;36m, line \u001b[0;32m2\u001b[0m\n\u001b[0;31m    2 #second element]\u001b[0m\n\u001b[0m                      ^\u001b[0m\n\u001b[0;31mSyntaxError\u001b[0m\u001b[0;31m:\u001b[0m unexpected EOF while parsing\n"
     ]
    }
   ]
  },
  {
   "cell_type": "code",
   "metadata": {
    "tags": [],
    "cell_id": "00012-5fe0a8e2-2186-4bb1-957a-8144f7b2e49c",
    "deepnote_to_be_reexecuted": false,
    "source_hash": "f4112992",
    "execution_start": 1622613786876,
    "execution_millis": 0,
    "deepnote_cell_type": "code"
   },
   "source": "# It failed above because whatever starts after the hash is a comment. So ] is part of the comment now\na = [1, #first element\n2] #second element",
   "execution_count": null,
   "outputs": []
  },
  {
   "cell_type": "code",
   "metadata": {
    "tags": [],
    "cell_id": "00013-4d572279-a9cc-4b17-b3b4-b504f052367f",
    "deepnote_to_be_reexecuted": false,
    "source_hash": "7526bf3",
    "execution_start": 1622613856142,
    "execution_millis": 0,
    "deepnote_cell_type": "code"
   },
   "source": "# lists, tuples, sets and dicts\nl = [1, \"rohan\", 3.4, 4 + 3j]\n\nt = (1, 2, \"rohan\")\n\ns = { 1, 2, 3, 4}\n\nd = {\"key1\": \"Rohan\", \"key2\": 182, \"key3\": \"Bangalore\"}",
   "execution_count": null,
   "outputs": []
  },
  {
   "cell_type": "code",
   "metadata": {
    "tags": [],
    "cell_id": "00014-2edf019e-6671-43be-a133-fdb07b608b32",
    "deepnote_to_be_reexecuted": false,
    "source_hash": "515adc54",
    "execution_start": 1622613896985,
    "execution_millis": 11,
    "deepnote_cell_type": "code"
   },
   "source": "l[0] = 3\nprint(l)",
   "execution_count": null,
   "outputs": [
    {
     "name": "stdout",
     "text": "[3, 'rohan', 3.4, (4+3j)]\n",
     "output_type": "stream"
    }
   ]
  },
  {
   "cell_type": "code",
   "metadata": {
    "tags": [],
    "cell_id": "00015-d1f72c60-b322-4f0b-a5ee-655a6604245c",
    "deepnote_to_be_reexecuted": false,
    "source_hash": "fee17f9c",
    "execution_start": 1622614180335,
    "execution_millis": 23,
    "deepnote_cell_type": "code"
   },
   "source": "# You can make changes to lists not tuples. Optimization purposes : When you create a list, it stores in such a way to give space for addition of new items. For tuples, it does not anything of such.\nt[0] = 3\nprint(t)",
   "execution_count": null,
   "outputs": [
    {
     "output_type": "error",
     "ename": "TypeError",
     "evalue": "'tuple' object does not support item assignment",
     "traceback": [
      "\u001b[0;31m---------------------------------------------------------------------------\u001b[0m",
      "\u001b[0;31mTypeError\u001b[0m                                 Traceback (most recent call last)",
      "\u001b[0;32m<ipython-input-19-e876e8c73e70>\u001b[0m in \u001b[0;36m<module>\u001b[0;34m\u001b[0m\n\u001b[1;32m      1\u001b[0m \u001b[0;31m# You can make changes to lists not tuples. Optimization purposes : When you create a list, it stores in such a way to give space for addition of new items. For tuples, it does not anything of such.\u001b[0m\u001b[0;34m\u001b[0m\u001b[0;34m\u001b[0m\u001b[0;34m\u001b[0m\u001b[0m\n\u001b[0;32m----> 2\u001b[0;31m \u001b[0mt\u001b[0m\u001b[0;34m[\u001b[0m\u001b[0;36m0\u001b[0m\u001b[0;34m]\u001b[0m \u001b[0;34m=\u001b[0m \u001b[0;36m3\u001b[0m\u001b[0;34m\u001b[0m\u001b[0;34m\u001b[0m\u001b[0m\n\u001b[0m\u001b[1;32m      3\u001b[0m \u001b[0mprint\u001b[0m\u001b[0;34m(\u001b[0m\u001b[0mt\u001b[0m\u001b[0;34m)\u001b[0m\u001b[0;34m\u001b[0m\u001b[0;34m\u001b[0m\u001b[0m\n",
      "\u001b[0;31mTypeError\u001b[0m: 'tuple' object does not support item assignment"
     ]
    }
   ]
  },
  {
   "cell_type": "code",
   "metadata": {
    "tags": [],
    "cell_id": "00016-c28d7603-a652-4452-b5eb-ecd42af8847e",
    "deepnote_to_be_reexecuted": false,
    "source_hash": "a43e0857",
    "execution_start": 1622614238798,
    "execution_millis": 8,
    "deepnote_cell_type": "code"
   },
   "source": "a = (1, # first element\n    2, #second element\n    3, #third element\n    )\n    \na",
   "execution_count": null,
   "outputs": [
    {
     "output_type": "execute_result",
     "execution_count": 20,
     "data": {
      "text/plain": "(1, 2, 3)"
     },
     "metadata": {}
    }
   ]
  },
  {
   "cell_type": "code",
   "metadata": {
    "tags": [],
    "cell_id": "00017-fe6ef861-0180-47b5-9c96-405dba97e4c0",
    "deepnote_to_be_reexecuted": false,
    "source_hash": "340c91fe",
    "execution_start": 1622614240071,
    "execution_millis": 5,
    "deepnote_cell_type": "code"
   },
   "source": "a = {1, # first element\n    2, #second element\n    }",
   "execution_count": null,
   "outputs": []
  },
  {
   "cell_type": "code",
   "metadata": {
    "tags": [],
    "cell_id": "00018-c7b649e9-ca90-4635-b067-f64ae67b23f5",
    "deepnote_to_be_reexecuted": false,
    "source_hash": "ef4233c",
    "execution_start": 1622614241123,
    "execution_millis": 9,
    "deepnote_cell_type": "code"
   },
   "source": "a",
   "execution_count": null,
   "outputs": [
    {
     "output_type": "execute_result",
     "execution_count": 22,
     "data": {
      "text/plain": "{1, 2}"
     },
     "metadata": {}
    }
   ]
  },
  {
   "cell_type": "code",
   "metadata": {
    "tags": [],
    "cell_id": "00019-a2a573d7-77a8-4b1b-b2bb-83d676844e63",
    "deepnote_to_be_reexecuted": false,
    "source_hash": "30780faa",
    "execution_start": 1622614247385,
    "execution_millis": 2,
    "deepnote_cell_type": "code"
   },
   "source": "a = {'key1': 'value1', #comment,\n    'key2': #comment 'value2'\n    'value2' #comment\n    }",
   "execution_count": null,
   "outputs": []
  },
  {
   "cell_type": "code",
   "metadata": {
    "tags": [],
    "cell_id": "00020-292885f1-5028-4cd4-b9ce-5aef1f1814d5",
    "deepnote_to_be_reexecuted": false,
    "source_hash": "ef4233c",
    "execution_start": 1622614248851,
    "execution_millis": 9,
    "deepnote_cell_type": "code"
   },
   "source": "a",
   "execution_count": null,
   "outputs": [
    {
     "output_type": "execute_result",
     "execution_count": 24,
     "data": {
      "text/plain": "{'key1': 'value1', 'key2': 'value2'}"
     },
     "metadata": {}
    }
   ]
  },
  {
   "cell_type": "code",
   "metadata": {
    "tags": [],
    "cell_id": "00021-44d49bdb-3fd1-43b4-8f00-9a8450eddbea",
    "deepnote_to_be_reexecuted": false,
    "source_hash": "a7c3ce0",
    "execution_start": 1622614267718,
    "execution_millis": 6,
    "deepnote_cell_type": "code"
   },
   "source": "def my_func():\n    print(\"This is a combined section\")\n\nmy_func()",
   "execution_count": null,
   "outputs": [
    {
     "name": "stdout",
     "text": "This is a combined section\n",
     "output_type": "stream"
    }
   ]
  },
  {
   "cell_type": "code",
   "metadata": {
    "tags": [],
    "cell_id": "00022-7541c482-8791-45a8-aef1-dd13996869fd",
    "deepnote_to_be_reexecuted": false,
    "source_hash": "511fae55",
    "execution_start": 1622614271210,
    "execution_millis": 8,
    "deepnote_cell_type": "code"
   },
   "source": "def my_func(a, b):\n    print(\"This is a combined section\", a, b)\n\nmy_func(3, \"rohan\")",
   "execution_count": null,
   "outputs": [
    {
     "name": "stdout",
     "text": "This is a combined section 3 rohan\n",
     "output_type": "stream"
    }
   ]
  },
  {
   "cell_type": "code",
   "metadata": {
    "tags": [],
    "cell_id": "00023-1d6a255b-0531-4573-af27-5d5a7d22865a",
    "deepnote_to_be_reexecuted": false,
    "source_hash": "7d9d3776",
    "execution_start": 1622614371022,
    "execution_millis": 25,
    "deepnote_cell_type": "code"
   },
   "source": "# Comments in function\ndef my_func(a, # this is the roll number\n            b # this is the name of the student\n            ):\n    print(\"This is a combined section\", a, b)\n\nmy_func(3, # this is the test roll number\n        \"rohan\" # this is the test name\n        )",
   "execution_count": null,
   "outputs": [
    {
     "name": "stdout",
     "text": "This is a combined section 3 rohan\n",
     "output_type": "stream"
    }
   ]
  },
  {
   "cell_type": "markdown",
   "source": "### Explicit Examples",
   "metadata": {
    "tags": [],
    "cell_id": "00024-433e748b-6d64-4036-bf83-59f05db0fc2d",
    "deepnote_cell_type": "markdown"
   }
  },
  {
   "cell_type": "code",
   "metadata": {
    "tags": [],
    "cell_id": "00024-66987136-db77-4a76-80da-aba08eaa6816",
    "deepnote_to_be_reexecuted": false,
    "source_hash": "b8b6c9e9",
    "execution_start": 1622614614150,
    "execution_millis": 6,
    "deepnote_cell_type": "code"
   },
   "source": "a = 10\nb = 2\nc = 30\n\nif a > 5 \\\n    and b < 10 \\\n    and c > 20:\n    print(\"Yes!!\")",
   "execution_count": null,
   "outputs": [
    {
     "name": "stdout",
     "text": "Yes!!\n",
     "output_type": "stream"
    }
   ]
  },
  {
   "cell_type": "code",
   "metadata": {
    "tags": [],
    "cell_id": "00025-f239c42b-0b0b-4e76-aa3e-2499e1c5c276",
    "deepnote_to_be_reexecuted": false,
    "source_hash": "38f2286c",
    "execution_start": 1622627921801,
    "execution_millis": 1,
    "deepnote_cell_type": "code"
   },
   "source": "# Back slash takes care of indentation\na = 10\nb = 2\nc = 30\n\nif a > 5 \\\nand b < 10 \\\nand c > 20:\n    print(\"Yes!!\")",
   "execution_count": null,
   "outputs": [
    {
     "name": "stdout",
     "text": "Yes!!\n",
     "output_type": "stream"
    }
   ]
  },
  {
   "cell_type": "code",
   "metadata": {
    "tags": [],
    "cell_id": "00027-df694453-8307-41d4-beb2-a92c1f93897d",
    "deepnote_to_be_reexecuted": false,
    "source_hash": "16ea47d",
    "execution_start": 1622627967216,
    "execution_millis": 1297,
    "deepnote_cell_type": "code"
   },
   "source": "# Back slash takes care of indentation\na = 10\nb = 2\nc = 30\n\nif a > 5 \\\n                            and b < 10 \\\n                        and c > 20:\n    print(\"Yes!!\")",
   "execution_count": null,
   "outputs": [
    {
     "name": "stdout",
     "text": "Yes!!\n",
     "output_type": "stream"
    }
   ]
  },
  {
   "cell_type": "code",
   "metadata": {
    "tags": [],
    "cell_id": "00028-f11a625e-dbf6-44c9-8747-e8997e3d2f74",
    "deepnote_to_be_reexecuted": false,
    "source_hash": "5d18b9eb",
    "execution_start": 1622627973043,
    "execution_millis": 0,
    "deepnote_cell_type": "code"
   },
   "source": "a = \"This is a sentence said by Shashi Tharoor, and he is going to use worlds like entshuldiging and words \\\n     imported from thesaurus which none of us can really understand. \"",
   "execution_count": null,
   "outputs": []
  },
  {
   "cell_type": "code",
   "metadata": {
    "tags": [],
    "cell_id": "00029-08a5e730-427c-4734-b36d-10698766146b",
    "deepnote_to_be_reexecuted": false,
    "source_hash": "bad6982e",
    "execution_start": 1622628191730,
    "execution_millis": 6,
    "deepnote_cell_type": "code"
   },
   "source": "# New line character is preserved in triple quote multi line string\na = '''this is a multi\nline statement'''\na",
   "execution_count": null,
   "outputs": [
    {
     "output_type": "execute_result",
     "execution_count": 7,
     "data": {
      "text/plain": "'this is a multi\\nline statement'"
     },
     "metadata": {}
    }
   ]
  },
  {
   "cell_type": "code",
   "metadata": {
    "tags": [],
    "cell_id": "00030-4c0c3531-cfd4-4693-8423-93fb1d25d73b",
    "deepnote_to_be_reexecuted": false,
    "source_hash": "3791362",
    "execution_start": 1622628217779,
    "execution_millis": 11,
    "deepnote_cell_type": "code"
   },
   "source": "print(a)",
   "execution_count": null,
   "outputs": [
    {
     "name": "stdout",
     "text": "this is a multi\nline statement\n",
     "output_type": "stream"
    }
   ]
  },
  {
   "cell_type": "code",
   "metadata": {
    "tags": [],
    "cell_id": "00032-b1f7327b-ff32-434c-9b49-6b650018e6c8",
    "deepnote_to_be_reexecuted": false,
    "source_hash": "85ab1f35",
    "execution_start": 1622628356711,
    "execution_millis": 0,
    "deepnote_cell_type": "code"
   },
   "source": "# Keep indentation in mind\na = \"\"\"sime items:\\n\n        1. item 1\n        2. item 2\"\"\"\na",
   "execution_count": null,
   "outputs": [
    {
     "output_type": "execute_result",
     "execution_count": 12,
     "data": {
      "text/plain": "'sime items:\\n\\n        1. item 1\\n        2. item 2'"
     },
     "metadata": {}
    }
   ]
  },
  {
   "cell_type": "code",
   "metadata": {
    "tags": [],
    "cell_id": "00033-35c0152c-9253-45f6-93f4-c49038a75ad5",
    "deepnote_to_be_reexecuted": false,
    "source_hash": "3791362",
    "execution_start": 1622628361730,
    "execution_millis": 0,
    "deepnote_cell_type": "code"
   },
   "source": "print(a)",
   "execution_count": null,
   "outputs": [
    {
     "name": "stdout",
     "text": "sime items:\n\n        1. item 1\n        2. item 2\n",
     "output_type": "stream"
    }
   ]
  },
  {
   "cell_type": "code",
   "metadata": {
    "tags": [],
    "cell_id": "00034-464e3417-3245-4b95-8aaf-b2b65d8c6ed5",
    "deepnote_to_be_reexecuted": false,
    "source_hash": "c2444663",
    "execution_start": 1622628363153,
    "execution_millis": 0,
    "deepnote_cell_type": "code"
   },
   "source": "def my_func():\n    a = '''a multi-line string\n    that is actually indented in the second line'''\n    return a\n\nprint(my_func())",
   "execution_count": null,
   "outputs": [
    {
     "name": "stdout",
     "text": "a multi-line string\n    that is actually indented in the second line\n",
     "output_type": "stream"
    }
   ]
  },
  {
   "cell_type": "code",
   "metadata": {
    "tags": [],
    "cell_id": "00035-f3d7f004-84ee-4936-9102-b94e271d2238",
    "deepnote_to_be_reexecuted": false,
    "source_hash": "43913e3",
    "execution_start": 1622628665236,
    "execution_millis": 1,
    "deepnote_cell_type": "code"
   },
   "source": "# Multi line statemnts are part of the compiled code and are not comments as such.\n\"\"\"this is a class and i am \nrecording some details about this class\n\nPARAM: int\nVARIABLE: float\n\"\"\"",
   "execution_count": null,
   "outputs": [
    {
     "output_type": "execute_result",
     "execution_count": 16,
     "data": {
      "text/plain": "'this is a class and i am \\nrecording some details about this class\\n\\nPARAM: int\\nVARIABLE: float\\n'"
     },
     "metadata": {}
    }
   ]
  },
  {
   "cell_type": "markdown",
   "source": "## Conditionals",
   "metadata": {
    "tags": [],
    "cell_id": "00036-bf07104c-2264-4d86-98cd-97f4aa03137b",
    "deepnote_cell_type": "markdown"
   }
  },
  {
   "cell_type": "code",
   "metadata": {
    "tags": [],
    "cell_id": "00036-0a8c0343-828e-4678-ba67-302758236d38",
    "deepnote_to_be_reexecuted": false,
    "source_hash": "2e22e6a0",
    "execution_start": 1622639297718,
    "execution_millis": 9,
    "deepnote_cell_type": "code"
   },
   "source": "# if, else, elif, ternary\n\na = 4\nif a< 3:\n    print('a<3')\nelse: \n    print('a>3')",
   "execution_count": null,
   "outputs": [
    {
     "name": "stdout",
     "text": "a>3\n",
     "output_type": "stream"
    }
   ]
  },
  {
   "cell_type": "code",
   "metadata": {
    "tags": [],
    "cell_id": "00038-8ffaee01-42f9-41f2-a11e-9ddc10c38f1a",
    "deepnote_to_be_reexecuted": false,
    "source_hash": "9c960691",
    "execution_start": 1622639300821,
    "execution_millis": 2789095169,
    "deepnote_cell_type": "code"
   },
   "source": "a = 15\n\nif a < 5:\n    print('a < 5')\nelse:\n    if a < 10:\n        print('5 <= a < 10')\n    else:\n        print('a >= 10')",
   "execution_count": null,
   "outputs": [
    {
     "name": "stdout",
     "text": "a >= 10\n",
     "output_type": "stream"
    }
   ]
  },
  {
   "cell_type": "code",
   "metadata": {
    "tags": [],
    "cell_id": "00039-6ef03546-d7c1-4e12-843a-8775b33a5bf2",
    "deepnote_to_be_reexecuted": false,
    "source_hash": "395cccb1",
    "execution_start": 1622639346376,
    "execution_millis": 13,
    "deepnote_cell_type": "code"
   },
   "source": "# 5 < a < 10\n\na = 7\n\nif a < 5:\n    print(\"a is less than five\")\nelif a < 10:\n    print(\" a is less greater than five and less than 10\")\nelse:\n    print(\"a is geater than 10\")",
   "execution_count": null,
   "outputs": [
    {
     "name": "stdout",
     "text": " a is less greater than five and less than 10\n",
     "output_type": "stream"
    }
   ]
  },
  {
   "cell_type": "code",
   "metadata": {
    "tags": [],
    "cell_id": "00040-050deac1-0760-437a-ae0c-5eee5255843e",
    "deepnote_to_be_reexecuted": false,
    "source_hash": "e644978",
    "execution_start": 1622639527289,
    "execution_millis": 16,
    "deepnote_cell_type": "code"
   },
   "source": "# Conditional expression/ternary : do X if (condition is met) else do Y\n\na = 5\n\nresult = 'a is less than 10' if a < 10 else \"a is not less than ten\"\n\nresult",
   "execution_count": null,
   "outputs": [
    {
     "output_type": "execute_result",
     "execution_count": 4,
     "data": {
      "text/plain": "'a is less than 10'"
     },
     "metadata": {}
    }
   ]
  },
  {
   "cell_type": "code",
   "metadata": {
    "tags": [],
    "cell_id": "00041-a60bb6c8-d17e-4111-9146-2ae2a10e2138",
    "deepnote_to_be_reexecuted": false,
    "source_hash": "fef5b983",
    "execution_start": 1622639622809,
    "execution_millis": 1,
    "deepnote_cell_type": "code"
   },
   "source": "def say_hello():\n    print('Hello!')\n    \ndef say_goodbye():\n    print('Goodbye!')",
   "execution_count": null,
   "outputs": []
  },
  {
   "cell_type": "code",
   "metadata": {
    "tags": [],
    "cell_id": "00042-1d80fb84-de64-464a-a557-d7e09ef4f958",
    "deepnote_to_be_reexecuted": false,
    "source_hash": "57914f95",
    "execution_start": 1622639624283,
    "execution_millis": 8,
    "deepnote_cell_type": "code"
   },
   "source": "a = 5\n\nsay_hello() if a < 10 else say_goodbye()",
   "execution_count": null,
   "outputs": [
    {
     "name": "stdout",
     "text": "Hello!\n",
     "output_type": "stream"
    }
   ]
  },
  {
   "cell_type": "markdown",
   "source": "## Functions",
   "metadata": {
    "tags": [],
    "cell_id": "00043-ba88a34b-511f-459b-bbf0-516910095da3",
    "deepnote_cell_type": "markdown"
   }
  },
  {
   "cell_type": "code",
   "metadata": {
    "tags": [],
    "cell_id": "00043-5c32e1bb-b699-41e6-8733-5cd9d2e962b3",
    "deepnote_to_be_reexecuted": false,
    "source_hash": "b0e63c1c",
    "execution_start": 1622639665442,
    "execution_millis": 9,
    "deepnote_cell_type": "code"
   },
   "source": "s = [1, 2, 3]\nlen(s)",
   "execution_count": null,
   "outputs": [
    {
     "output_type": "execute_result",
     "execution_count": 7,
     "data": {
      "text/plain": "3"
     },
     "metadata": {}
    }
   ]
  },
  {
   "cell_type": "code",
   "metadata": {
    "tags": [],
    "cell_id": "00046-f35cf93e-d3b6-40a6-8198-4d2fc3867879",
    "deepnote_to_be_reexecuted": false,
    "source_hash": "887ad7a6",
    "execution_start": 1622639850410,
    "execution_millis": 6,
    "deepnote_cell_type": "code"
   },
   "source": "from math import sqrt\n\nsqrt(4)",
   "execution_count": null,
   "outputs": [
    {
     "output_type": "execute_result",
     "execution_count": 8,
     "data": {
      "text/plain": "2.0"
     },
     "metadata": {}
    }
   ]
  },
  {
   "cell_type": "code",
   "metadata": {
    "tags": [],
    "cell_id": "00047-7be4c0d7-9847-4a80-b11e-90b4d9b3c281",
    "deepnote_to_be_reexecuted": false,
    "source_hash": "ff143fe",
    "execution_start": 1622639855918,
    "execution_millis": 0,
    "deepnote_cell_type": "code"
   },
   "source": "import math",
   "execution_count": null,
   "outputs": []
  },
  {
   "cell_type": "code",
   "metadata": {
    "tags": [],
    "cell_id": "00048-dac35ce8-911d-4c64-a603-f6ef64c1392a",
    "deepnote_to_be_reexecuted": false,
    "source_hash": "b683747e",
    "execution_start": 1622639857038,
    "execution_millis": 11,
    "deepnote_cell_type": "code"
   },
   "source": "math.exp(1)",
   "execution_count": null,
   "outputs": [
    {
     "output_type": "execute_result",
     "execution_count": 10,
     "data": {
      "text/plain": "2.718281828459045"
     },
     "metadata": {}
    }
   ]
  },
  {
   "cell_type": "code",
   "metadata": {
    "tags": [],
    "cell_id": "00049-d1ba412c-ec3b-41e4-8d66-bbb873472dcd",
    "deepnote_to_be_reexecuted": false,
    "source_hash": "fd5b2664",
    "execution_start": 1622639858082,
    "execution_millis": 10,
    "deepnote_cell_type": "code"
   },
   "source": "math.sin(0)",
   "execution_count": null,
   "outputs": [
    {
     "output_type": "execute_result",
     "execution_count": 11,
     "data": {
      "text/plain": "0.0"
     },
     "metadata": {}
    }
   ]
  },
  {
   "cell_type": "code",
   "metadata": {
    "tags": [],
    "cell_id": "00050-581a6fc5-1efe-4ea5-b69c-4bf5c533a188",
    "deepnote_to_be_reexecuted": false,
    "source_hash": "cc899654",
    "execution_start": 1622639873434,
    "execution_millis": 25,
    "deepnote_cell_type": "code"
   },
   "source": "def func_1():\n    print(\"running func1\")\n\nfunc_1() # calling or invoking the function",
   "execution_count": null,
   "outputs": [
    {
     "name": "stdout",
     "text": "running func1\n",
     "output_type": "stream"
    }
   ]
  },
  {
   "cell_type": "code",
   "metadata": {
    "tags": [],
    "cell_id": "00051-94b50f66-214f-4d58-b0d2-3f36bd392d67",
    "deepnote_to_be_reexecuted": false,
    "source_hash": "d171f941",
    "execution_start": 1622640191656,
    "execution_millis": 16,
    "deepnote_cell_type": "code"
   },
   "source": "# It will not crash\nfunc_1",
   "execution_count": null,
   "outputs": [
    {
     "output_type": "execute_result",
     "execution_count": 14,
     "data": {
      "text/plain": "<function __main__.func_1()>"
     },
     "metadata": {}
    }
   ]
  },
  {
   "cell_type": "code",
   "metadata": {
    "tags": [],
    "cell_id": "00052-9af73510-7113-44ab-8a89-10c755ec764d",
    "deepnote_to_be_reexecuted": false,
    "source_hash": "7fdd57f3",
    "execution_start": 1622640221662,
    "execution_millis": 9,
    "deepnote_cell_type": "code"
   },
   "source": "def func_2(a, b):\n    print(\"running func2\", a, b)\n\nfunc_2(10, 1)",
   "execution_count": null,
   "outputs": [
    {
     "name": "stdout",
     "text": "running func2 10 1\n",
     "output_type": "stream"
    }
   ]
  },
  {
   "cell_type": "code",
   "metadata": {
    "tags": [],
    "cell_id": "00050-83a3693c-3cdf-4be1-8721-d8cff48f6e3f",
    "deepnote_to_be_reexecuted": false,
    "source_hash": "eb6f2f0e",
    "execution_start": 1622640537741,
    "execution_millis": 12,
    "deepnote_cell_type": "code"
   },
   "source": "# It's the comma that makes a tuple, not the brackets\nt=(10,1)\nprint (type(t))\nt=10,1\nprint (type(t))\nt=10,\nprint (type(t))",
   "execution_count": null,
   "outputs": [
    {
     "name": "stdout",
     "text": "<class 'tuple'>\n<class 'tuple'>\n<class 'tuple'>\n",
     "output_type": "stream"
    }
   ]
  },
  {
   "cell_type": "code",
   "metadata": {
    "tags": [],
    "cell_id": "00053-9c4dc088-77a8-4a51-93a0-bc6ec86e08ff",
    "deepnote_to_be_reexecuted": false,
    "source_hash": "6a3971e1",
    "execution_start": 1622640563074,
    "execution_millis": 11,
    "deepnote_cell_type": "code"
   },
   "source": "def func_2(a, b):\n    return a * b\n\n# I can send any type of inputs. Python will not stop me. The code should specify/instruct type of inputs\nfunc_2(\"hillary\", \"bush\")",
   "execution_count": null,
   "outputs": [
    {
     "output_type": "error",
     "ename": "TypeError",
     "evalue": "can't multiply sequence by non-int of type 'str'",
     "traceback": [
      "\u001b[0;31m---------------------------------------------------------------------------\u001b[0m",
      "\u001b[0;31mTypeError\u001b[0m                                 Traceback (most recent call last)",
      "\u001b[0;32m<ipython-input-24-bb155f349858>\u001b[0m in \u001b[0;36m<module>\u001b[0;34m\u001b[0m\n\u001b[1;32m      3\u001b[0m \u001b[0;34m\u001b[0m\u001b[0m\n\u001b[1;32m      4\u001b[0m \u001b[0;31m# I can send any type of inputs. Python will not stop me. The code should specify/instruct type of inputs\u001b[0m\u001b[0;34m\u001b[0m\u001b[0;34m\u001b[0m\u001b[0;34m\u001b[0m\u001b[0m\n\u001b[0;32m----> 5\u001b[0;31m \u001b[0mfunc_2\u001b[0m\u001b[0;34m(\u001b[0m\u001b[0;34m\"hillary\"\u001b[0m\u001b[0;34m,\u001b[0m \u001b[0;34m\"bush\"\u001b[0m\u001b[0;34m)\u001b[0m\u001b[0;34m\u001b[0m\u001b[0;34m\u001b[0m\u001b[0m\n\u001b[0m",
      "\u001b[0;32m<ipython-input-24-bb155f349858>\u001b[0m in \u001b[0;36mfunc_2\u001b[0;34m(a, b)\u001b[0m\n\u001b[1;32m      1\u001b[0m \u001b[0;32mdef\u001b[0m \u001b[0mfunc_2\u001b[0m\u001b[0;34m(\u001b[0m\u001b[0ma\u001b[0m\u001b[0;34m,\u001b[0m \u001b[0mb\u001b[0m\u001b[0;34m)\u001b[0m\u001b[0;34m:\u001b[0m\u001b[0;34m\u001b[0m\u001b[0;34m\u001b[0m\u001b[0m\n\u001b[0;32m----> 2\u001b[0;31m     \u001b[0;32mreturn\u001b[0m \u001b[0ma\u001b[0m \u001b[0;34m*\u001b[0m \u001b[0mb\u001b[0m\u001b[0;34m\u001b[0m\u001b[0;34m\u001b[0m\u001b[0m\n\u001b[0m\u001b[1;32m      3\u001b[0m \u001b[0;34m\u001b[0m\u001b[0m\n\u001b[1;32m      4\u001b[0m \u001b[0;31m# I can send any type of inputs. Python will not stop me. The code should specify/instruct type of inputs\u001b[0m\u001b[0;34m\u001b[0m\u001b[0;34m\u001b[0m\u001b[0;34m\u001b[0m\u001b[0m\n\u001b[1;32m      5\u001b[0m \u001b[0mfunc_2\u001b[0m\u001b[0;34m(\u001b[0m\u001b[0;34m\"hillary\"\u001b[0m\u001b[0;34m,\u001b[0m \u001b[0;34m\"bush\"\u001b[0m\u001b[0;34m)\u001b[0m\u001b[0;34m\u001b[0m\u001b[0;34m\u001b[0m\u001b[0m\n",
      "\u001b[0;31mTypeError\u001b[0m: can't multiply sequence by non-int of type 'str'"
     ]
    }
   ]
  },
  {
   "cell_type": "code",
   "metadata": {
    "tags": [],
    "cell_id": "00054-1546a028-196e-4053-ae00-a76b79fe19f7",
    "deepnote_to_be_reexecuted": false,
    "source_hash": "6eba4bf7",
    "execution_start": 1622640612539,
    "execution_millis": 21,
    "deepnote_cell_type": "code"
   },
   "source": "# If you hover over the function, it will show func_2(a: int, b: int)\ndef func_2(a: int, b: int): #type annotations\n    return a * b\n\nfunc_2(\"rohan\", \"shravan\")",
   "execution_count": null,
   "outputs": [
    {
     "output_type": "error",
     "ename": "TypeError",
     "evalue": "can't multiply sequence by non-int of type 'str'",
     "traceback": [
      "\u001b[0;31m---------------------------------------------------------------------------\u001b[0m",
      "\u001b[0;31mTypeError\u001b[0m                                 Traceback (most recent call last)",
      "\u001b[0;32m<ipython-input-26-bb927b6c8b3a>\u001b[0m in \u001b[0;36m<module>\u001b[0;34m\u001b[0m\n\u001b[1;32m      3\u001b[0m     \u001b[0;32mreturn\u001b[0m \u001b[0ma\u001b[0m \u001b[0;34m*\u001b[0m \u001b[0mb\u001b[0m\u001b[0;34m\u001b[0m\u001b[0;34m\u001b[0m\u001b[0m\n\u001b[1;32m      4\u001b[0m \u001b[0;34m\u001b[0m\u001b[0m\n\u001b[0;32m----> 5\u001b[0;31m \u001b[0mfunc_2\u001b[0m\u001b[0;34m(\u001b[0m\u001b[0;34m\"rohan\"\u001b[0m\u001b[0;34m,\u001b[0m \u001b[0;34m\"shravan\"\u001b[0m\u001b[0;34m)\u001b[0m\u001b[0;34m\u001b[0m\u001b[0;34m\u001b[0m\u001b[0m\n\u001b[0m",
      "\u001b[0;32m<ipython-input-26-bb927b6c8b3a>\u001b[0m in \u001b[0;36mfunc_2\u001b[0;34m(a, b)\u001b[0m\n\u001b[1;32m      1\u001b[0m \u001b[0;31m# If you hover over the function, it will show func_2(a: int, b: int)\u001b[0m\u001b[0;34m\u001b[0m\u001b[0;34m\u001b[0m\u001b[0;34m\u001b[0m\u001b[0m\n\u001b[1;32m      2\u001b[0m \u001b[0;32mdef\u001b[0m \u001b[0mfunc_2\u001b[0m\u001b[0;34m(\u001b[0m\u001b[0ma\u001b[0m\u001b[0;34m:\u001b[0m \u001b[0mint\u001b[0m\u001b[0;34m,\u001b[0m \u001b[0mb\u001b[0m\u001b[0;34m:\u001b[0m \u001b[0mint\u001b[0m\u001b[0;34m)\u001b[0m\u001b[0;34m:\u001b[0m \u001b[0;31m#type annotations\u001b[0m\u001b[0;34m\u001b[0m\u001b[0;34m\u001b[0m\u001b[0m\n\u001b[0;32m----> 3\u001b[0;31m     \u001b[0;32mreturn\u001b[0m \u001b[0ma\u001b[0m \u001b[0;34m*\u001b[0m \u001b[0mb\u001b[0m\u001b[0;34m\u001b[0m\u001b[0;34m\u001b[0m\u001b[0m\n\u001b[0m\u001b[1;32m      4\u001b[0m \u001b[0;34m\u001b[0m\u001b[0m\n\u001b[1;32m      5\u001b[0m \u001b[0mfunc_2\u001b[0m\u001b[0;34m(\u001b[0m\u001b[0;34m\"rohan\"\u001b[0m\u001b[0;34m,\u001b[0m \u001b[0;34m\"shravan\"\u001b[0m\u001b[0;34m)\u001b[0m\u001b[0;34m\u001b[0m\u001b[0;34m\u001b[0m\u001b[0m\n",
      "\u001b[0;31mTypeError\u001b[0m: can't multiply sequence by non-int of type 'str'"
     ]
    }
   ]
  },
  {
   "cell_type": "markdown",
   "source": "Class is an object. Functs are objects. Lists are objects. In Python, Everything is an object. Object is an instance of a class. ",
   "metadata": {
    "tags": [],
    "cell_id": "00053-79515567-fa2c-4c9c-b401-bfb74c1203bf",
    "deepnote_cell_type": "text-cell-p"
   }
  },
  {
   "cell_type": "code",
   "metadata": {
    "tags": [],
    "cell_id": "00055-9235d99a-0700-4ff3-925a-b2230585eebf",
    "deepnote_to_be_reexecuted": false,
    "source_hash": "c109138a",
    "execution_start": 1622640815000,
    "execution_millis": 2,
    "deepnote_cell_type": "code"
   },
   "source": "# Assign an object to another\na = 3\nb = a\nprint(b)",
   "execution_count": null,
   "outputs": [
    {
     "name": "stdout",
     "text": "3\n",
     "output_type": "stream"
    }
   ]
  },
  {
   "cell_type": "code",
   "metadata": {
    "tags": [],
    "cell_id": "00056-7bddf295-d1a7-46c0-9125-c09a86b2b181",
    "deepnote_to_be_reexecuted": false,
    "source_hash": "4319341e",
    "execution_start": 1622640843346,
    "execution_millis": 1,
    "deepnote_cell_type": "code"
   },
   "source": "# Works with functions too\nfunc_3 = func_2\n\nfunc_3(10, 3)",
   "execution_count": null,
   "outputs": [
    {
     "output_type": "execute_result",
     "execution_count": 30,
     "data": {
      "text/plain": "30"
     },
     "metadata": {}
    }
   ]
  },
  {
   "cell_type": "code",
   "metadata": {
    "tags": [],
    "cell_id": "00057-3d45e5a5-ec2d-4d33-8e54-d43d28dfef41",
    "deepnote_to_be_reexecuted": false,
    "source_hash": "6621a3ca",
    "execution_start": 1622640999849,
    "execution_millis": 6,
    "deepnote_cell_type": "code"
   },
   "source": "# Functions should always return something, else Python will return None\ndef my_func(a, b):\n    pass\n\nresult = my_func(10, 20)\nprint(result)",
   "execution_count": null,
   "outputs": [
    {
     "name": "stdout",
     "text": "None\n",
     "output_type": "stream"
    }
   ]
  },
  {
   "cell_type": "code",
   "metadata": {
    "tags": [],
    "cell_id": "00058-a9055e15-61da-4f6b-894c-72a8386d6f7e",
    "deepnote_to_be_reexecuted": false,
    "source_hash": "9fef614",
    "execution_start": 1622641047626,
    "execution_millis": 7,
    "deepnote_cell_type": "code"
   },
   "source": "def fn_11():\n    fn_22()\n\nfn_11()\n\ndef fn_22():\n    print(\"Hello\")\n\n\n",
   "execution_count": null,
   "outputs": [
    {
     "output_type": "error",
     "ename": "NameError",
     "evalue": "name 'fn_22' is not defined",
     "traceback": [
      "\u001b[0;31m---------------------------------------------------------------------------\u001b[0m",
      "\u001b[0;31mNameError\u001b[0m                                 Traceback (most recent call last)",
      "\u001b[0;32m<ipython-input-34-0837c55ed7c6>\u001b[0m in \u001b[0;36m<module>\u001b[0;34m\u001b[0m\n\u001b[1;32m      2\u001b[0m     \u001b[0mfn_22\u001b[0m\u001b[0;34m(\u001b[0m\u001b[0;34m)\u001b[0m\u001b[0;34m\u001b[0m\u001b[0;34m\u001b[0m\u001b[0m\n\u001b[1;32m      3\u001b[0m \u001b[0;34m\u001b[0m\u001b[0m\n\u001b[0;32m----> 4\u001b[0;31m \u001b[0mfn_11\u001b[0m\u001b[0;34m(\u001b[0m\u001b[0;34m)\u001b[0m\u001b[0;34m\u001b[0m\u001b[0;34m\u001b[0m\u001b[0m\n\u001b[0m\u001b[1;32m      5\u001b[0m \u001b[0;34m\u001b[0m\u001b[0m\n\u001b[1;32m      6\u001b[0m \u001b[0;32mdef\u001b[0m \u001b[0mfn_22\u001b[0m\u001b[0;34m(\u001b[0m\u001b[0;34m)\u001b[0m\u001b[0;34m:\u001b[0m\u001b[0;34m\u001b[0m\u001b[0;34m\u001b[0m\u001b[0m\n",
      "\u001b[0;32m<ipython-input-34-0837c55ed7c6>\u001b[0m in \u001b[0;36mfn_11\u001b[0;34m()\u001b[0m\n\u001b[1;32m      1\u001b[0m \u001b[0;32mdef\u001b[0m \u001b[0mfn_11\u001b[0m\u001b[0;34m(\u001b[0m\u001b[0;34m)\u001b[0m\u001b[0;34m:\u001b[0m\u001b[0;34m\u001b[0m\u001b[0;34m\u001b[0m\u001b[0m\n\u001b[0;32m----> 2\u001b[0;31m     \u001b[0mfn_22\u001b[0m\u001b[0;34m(\u001b[0m\u001b[0;34m)\u001b[0m\u001b[0;34m\u001b[0m\u001b[0;34m\u001b[0m\u001b[0m\n\u001b[0m\u001b[1;32m      3\u001b[0m \u001b[0;34m\u001b[0m\u001b[0m\n\u001b[1;32m      4\u001b[0m \u001b[0mfn_11\u001b[0m\u001b[0;34m(\u001b[0m\u001b[0;34m)\u001b[0m\u001b[0;34m\u001b[0m\u001b[0;34m\u001b[0m\u001b[0m\n\u001b[1;32m      5\u001b[0m \u001b[0;34m\u001b[0m\u001b[0m\n",
      "\u001b[0;31mNameError\u001b[0m: name 'fn_22' is not defined"
     ]
    }
   ]
  },
  {
   "cell_type": "code",
   "metadata": {
    "tags": [],
    "cell_id": "00059-629eef30-fcd4-4b5f-a6e4-8b1f3a82228b",
    "deepnote_to_be_reexecuted": false,
    "source_hash": "5af8e657",
    "execution_start": 1622641181317,
    "execution_millis": 0,
    "deepnote_cell_type": "code"
   },
   "source": "# You can define fn_2 after fn_1, as long as you call fn_1 after defining\ndef fn_1():\n    fn_2()\n    \ndef fn_2():\n    print('Hello')\n    \nfn_1()",
   "execution_count": null,
   "outputs": [
    {
     "name": "stdout",
     "text": "Hello\n",
     "output_type": "stream"
    }
   ]
  },
  {
   "cell_type": "code",
   "metadata": {
    "tags": [],
    "cell_id": "00060-69a22329-9e9a-4232-a51a-25ab3254d40b",
    "deepnote_to_be_reexecuted": false,
    "source_hash": "955d8005",
    "execution_start": 1622641355333,
    "execution_millis": 27,
    "deepnote_cell_type": "code"
   },
   "source": "# lambda\n\ndef rohan(a, b):\n    return a * b\n\n# Another way of defining function using lambda. We use it when the operation is too simple, and do not want to specify a function for it or use names for it\nrohan = lambda a, b: a * b\nrohan(1, 3)\n\nrohan = 6\n\nrohan(1, 3)",
   "execution_count": null,
   "outputs": [
    {
     "output_type": "error",
     "ename": "TypeError",
     "evalue": "'int' object is not callable",
     "traceback": [
      "\u001b[0;31m---------------------------------------------------------------------------\u001b[0m",
      "\u001b[0;31mTypeError\u001b[0m                                 Traceback (most recent call last)",
      "\u001b[0;32m<ipython-input-37-d14d740e7a30>\u001b[0m in \u001b[0;36m<module>\u001b[0;34m\u001b[0m\n\u001b[1;32m     10\u001b[0m \u001b[0mrohan\u001b[0m \u001b[0;34m=\u001b[0m \u001b[0;36m6\u001b[0m\u001b[0;34m\u001b[0m\u001b[0;34m\u001b[0m\u001b[0m\n\u001b[1;32m     11\u001b[0m \u001b[0;34m\u001b[0m\u001b[0m\n\u001b[0;32m---> 12\u001b[0;31m \u001b[0mrohan\u001b[0m\u001b[0;34m(\u001b[0m\u001b[0;36m1\u001b[0m\u001b[0;34m,\u001b[0m \u001b[0;36m3\u001b[0m\u001b[0;34m)\u001b[0m\u001b[0;34m\u001b[0m\u001b[0;34m\u001b[0m\u001b[0m\n\u001b[0m",
      "\u001b[0;31mTypeError\u001b[0m: 'int' object is not callable"
     ]
    }
   ]
  },
  {
   "cell_type": "markdown",
   "source": "## While Loops",
   "metadata": {
    "tags": [],
    "cell_id": "00061-63692a49-a55d-43c8-8867-aa84e102928d",
    "deepnote_cell_type": "markdown"
   }
  },
  {
   "cell_type": "code",
   "metadata": {
    "tags": [],
    "cell_id": "00061-c47f1b76-327b-4c79-b7b1-0ebd5abde402",
    "deepnote_to_be_reexecuted": false,
    "source_hash": "d3912796",
    "execution_start": 1622642431770,
    "execution_millis": 23,
    "deepnote_cell_type": "code"
   },
   "source": "# while <this condition is true>: execute this code\n\ni = 0\n\nwhile i < 5:\n    print(i)\n    i = i + 1\n",
   "execution_count": null,
   "outputs": [
    {
     "name": "stdout",
     "text": "0\n1\n2\n3\n4\n",
     "output_type": "stream"
    }
   ]
  },
  {
   "cell_type": "code",
   "metadata": {
    "tags": [],
    "cell_id": "00063-84b8d121-f3da-4ad7-b5ac-14184923b123",
    "deepnote_to_be_reexecuted": false,
    "source_hash": "ffe308e5",
    "execution_start": 1622642688812,
    "execution_millis": 7,
    "deepnote_cell_type": "code"
   },
   "source": "i = 5\n\n# Right hand side of assignment operator is computed and stored at an location. And then assigned\nwhile i < 5:\n    print(i)\n    i = i + 1",
   "execution_count": null,
   "outputs": []
  },
  {
   "cell_type": "code",
   "metadata": {
    "tags": [],
    "cell_id": "00064-6d377e54-b8c8-4622-9937-1531c270eac8",
    "deepnote_to_be_reexecuted": false,
    "source_hash": "f2a9949b",
    "execution_start": 1622642474998,
    "execution_millis": 6,
    "deepnote_cell_type": "code"
   },
   "source": "i = 5\n\nwhile True:\n    print(i)\n    if i >= 5:\n        break\n",
   "execution_count": null,
   "outputs": [
    {
     "name": "stdout",
     "text": "5\n",
     "output_type": "stream"
    }
   ]
  },
  {
   "cell_type": "code",
   "metadata": {
    "tags": [],
    "cell_id": "00065-3618d609-0d6e-45c7-a8de-d57a8f2bf6f7",
    "deepnote_to_be_reexecuted": false,
    "source_hash": "d9a1424e",
    "execution_start": 1622645757962,
    "execution_millis": 65077,
    "deepnote_cell_type": "code"
   },
   "source": "min_length = 2\nname = input(\"Please enter your name\")\n\nwhile not(len(name) >= min_length and name.isalpha()):\n    name = input(\"Please enter your name that is more than 2 characters\")\n",
   "execution_count": null,
   "outputs": []
  },
  {
   "cell_type": "markdown",
   "source": "## Loop Breaks and Continue",
   "metadata": {
    "tags": [],
    "cell_id": "00067-39329cd2-126d-406c-8a2c-79f030a87045",
    "deepnote_cell_type": "markdown"
   }
  },
  {
   "cell_type": "code",
   "metadata": {
    "tags": [],
    "cell_id": "00068-ea4420e2-7579-4d43-aaf7-2ef358dc8412",
    "deepnote_to_be_reexecuted": false,
    "source_hash": "bcb83f88",
    "execution_start": 1622646423034,
    "execution_millis": 8,
    "deepnote_cell_type": "code"
   },
   "source": "# Continue : Break the current loop and go to the next iteration\na = 1\nwhile a < 10:\n    a += 1 # a = a + 10\n    if a % 2:\n        continue\n    print(a)",
   "execution_count": null,
   "outputs": [
    {
     "name": "stdout",
     "text": "2\n4\n6\n8\n10\n",
     "output_type": "stream"
    }
   ]
  },
  {
   "cell_type": "code",
   "metadata": {
    "tags": [],
    "cell_id": "00067-990018f8-4177-49d5-b044-eae8b632ff6e",
    "deepnote_to_be_reexecuted": false,
    "source_hash": "ee47b33c",
    "execution_start": 1622646330354,
    "execution_millis": 13,
    "deepnote_cell_type": "code"
   },
   "source": "bool(0)",
   "execution_count": null,
   "outputs": [
    {
     "output_type": "execute_result",
     "execution_count": 49,
     "data": {
      "text/plain": "False"
     },
     "metadata": {}
    }
   ]
  },
  {
   "cell_type": "code",
   "metadata": {
    "tags": [],
    "cell_id": "00069-111b9cb3-b8ac-41dd-9cc3-d21fb6e2f04e",
    "deepnote_to_be_reexecuted": false,
    "source_hash": "2927d488",
    "execution_start": 1622647506176,
    "execution_millis": 19,
    "deepnote_cell_type": "code"
   },
   "source": "# Break stops the loop itself\nl = [\"rohan\", \"sohan\", \"mohan\"]\n\nvisitor = \"lohan\"\n\nfound = False\nidx = 0\n\nwhile idx < len(l):\n    if l[idx] == visitor:\n        found = True\n        break\n    idx += 1\n\nif not found:\n    l.append(visitor)\nprint(l)",
   "execution_count": null,
   "outputs": [
    {
     "name": "stdout",
     "text": "['rohan', 'sohan', 'mohan', 'lohan']\n",
     "output_type": "stream"
    }
   ]
  },
  {
   "cell_type": "code",
   "metadata": {
    "tags": [],
    "cell_id": "00070-2ef8c741-49c3-470c-a165-2893740a9de4",
    "deepnote_to_be_reexecuted": false,
    "source_hash": "b722debe",
    "execution_start": 1622647507705,
    "execution_millis": 6,
    "deepnote_cell_type": "code"
   },
   "source": "l = [\"rohan\", \"sohan\", \"mohan\"]\n\nvisitor = \"lohan\"\n\n\nidx = 0\n\nwhile idx < len(l):\n    if l[idx] == visitor:\n        print(\" I was here\")\n        break\n    idx += 1\nelse: # else is executed if while loop terminated \"without\" hitting the break\n    print(\" I was here in the else\")\n    l.append(visitor)\n\nprint(l)",
   "execution_count": null,
   "outputs": [
    {
     "name": "stdout",
     "text": " I was here in the else\n['rohan', 'sohan', 'mohan', 'lohan']\n",
     "output_type": "stream"
    }
   ]
  },
  {
   "cell_type": "code",
   "metadata": {
    "tags": [],
    "cell_id": "00071-47a00ed7-62ff-47e6-82ba-ab91b0bb3152",
    "deepnote_to_be_reexecuted": false,
    "source_hash": "2fb45145",
    "execution_start": 1622647509261,
    "execution_millis": 37,
    "deepnote_cell_type": "code"
   },
   "source": "a = 10\nb = 1\n\ntry:\n    a / b\nexcept ZeroDivisionError:\n    print(\"Division by Zero\")\nfinally: # Will be executed nonetheless\n    print(\"I will have the last say\")\n\n",
   "execution_count": null,
   "outputs": [
    {
     "name": "stdout",
     "text": "I will have the last say\n",
     "output_type": "stream"
    }
   ]
  },
  {
   "cell_type": "code",
   "metadata": {
    "tags": [],
    "cell_id": "00072-d4c4196d-6a39-459a-94ce-46c49bd8cb04",
    "deepnote_to_be_reexecuted": false,
    "source_hash": "f0feb19b",
    "execution_start": 1622647511125,
    "execution_millis": 7,
    "deepnote_cell_type": "code"
   },
   "source": "# continue cannot overrule finally\na = 0\nb = 2\n\nwhile a < 3:\n    print(\"________________\")\n    a += 1\n    b -= 1\n\n    try:\n        res = a / b\n    except ZeroDivisionError:\n        print(f'a = {a}, b = {b} - division by 0')\n        res = 0\n        continue\n    finally:\n        print(f'a = {a}, b = {b} - always have the last say')\n\n    print(f'a = {a}, b = {b} - main loop')\n    ",
   "execution_count": null,
   "outputs": [
    {
     "name": "stdout",
     "text": "________________\na = 1, b = 1 - always have the last say\na = 1, b = 1 - main loop\n________________\na = 2, b = 0 - division by 0\na = 2, b = 0 - always have the last say\n________________\na = 3, b = -1 - always have the last say\na = 3, b = -1 - main loop\n",
     "output_type": "stream"
    }
   ]
  },
  {
   "cell_type": "code",
   "metadata": {
    "tags": [],
    "cell_id": "00073-16d24f1d-b12f-400c-82c2-7f5920a6eb11",
    "deepnote_to_be_reexecuted": false,
    "source_hash": "2bb2e8b5",
    "execution_start": 1622647512930,
    "execution_millis": 6,
    "deepnote_cell_type": "code"
   },
   "source": "a = 0\nb = 2\n\nwhile a < 3:\n    print(\"________________\")\n    a += 1\n    b -= 1\n\n    try:\n        res = a / b\n    except ZeroDivisionError:\n        print(f'a = {a}, b = {b} - division by 0')\n        res = 0\n        break\n    finally:\n        print(f'a = {a}, b = {b} - always have the last say')\n\n    print(f'a = {a}, b = {b} - main loop')\n    ",
   "execution_count": null,
   "outputs": [
    {
     "name": "stdout",
     "text": "________________\na = 1, b = 1 - always have the last say\na = 1, b = 1 - main loop\n________________\na = 2, b = 0 - division by 0\na = 2, b = 0 - always have the last say\n",
     "output_type": "stream"
    }
   ]
  },
  {
   "cell_type": "code",
   "metadata": {
    "tags": [],
    "cell_id": "00074-95b5143f-0755-42e1-ad86-950b1672c528",
    "deepnote_to_be_reexecuted": false,
    "source_hash": "fc488712",
    "execution_start": 1622647701358,
    "execution_millis": 12,
    "deepnote_cell_type": "code"
   },
   "source": "# else is executed if while loop terminated \"without\" hitting the break\na = 0\nb = 5\n\nwhile a < 3:\n    print(\"________________\")\n    a += 1\n    b -= 1\n    try:\n        res = a / b\n    except ZeroDivisionError:\n        print(f'a = {a}, b = {b} - division by 0')\n        res = 0\n        break\n    finally:\n        print(f'a = {a}, b = {b} - always have the last say')\n\n    print(f'a = {a}, b = {b} - main loop')\nelse:\n    print('\\n\\nNo errors were encountered!')",
   "execution_count": null,
   "outputs": [
    {
     "name": "stdout",
     "text": "________________\na = 1, b = 4 - always have the last say\na = 1, b = 4 - main loop\n________________\na = 2, b = 3 - always have the last say\na = 2, b = 3 - main loop\n________________\na = 3, b = 2 - always have the last say\na = 3, b = 2 - main loop\n\n\nNo errors were encountered!\n",
     "output_type": "stream"
    }
   ]
  },
  {
   "cell_type": "markdown",
   "source": "## For Loops\nProcess of iterating over an iterator",
   "metadata": {
    "tags": [],
    "cell_id": "00075-0c368db5-2279-4dfc-9e05-c39e71328d34",
    "deepnote_cell_type": "markdown"
   }
  },
  {
   "cell_type": "code",
   "metadata": {
    "tags": [],
    "cell_id": "00075-ef72ad37-e862-40e2-87e5-c2f157f25b7c",
    "deepnote_to_be_reexecuted": false,
    "source_hash": "408507b2",
    "execution_start": 1622648116894,
    "execution_millis": 8,
    "deepnote_cell_type": "code"
   },
   "source": "# for(int i=0; i < 5; i++){//code }\n\ni = 0 \nwhile i < 5:\n    # code block!\n    print(i)\n    i += 1\ndel(i)",
   "execution_count": null,
   "outputs": [
    {
     "name": "stdout",
     "text": "0\n1\n2\n3\n4\n",
     "output_type": "stream"
    }
   ]
  },
  {
   "cell_type": "code",
   "metadata": {
    "tags": [],
    "cell_id": "00077-bb93b3ca-b1ce-4300-bf85-b7a1e4ca9f2f",
    "deepnote_to_be_reexecuted": false,
    "source_hash": "12198202",
    "execution_start": 1622648126820,
    "execution_millis": 7,
    "deepnote_cell_type": "code"
   },
   "source": "for i, j in [(1, 2), (3, 4), (4, 5)]:\n    print(i)",
   "execution_count": null,
   "outputs": [
    {
     "name": "stdout",
     "text": "1\n3\n4\n",
     "output_type": "stream"
    }
   ]
  },
  {
   "cell_type": "code",
   "metadata": {
    "tags": [],
    "cell_id": "00078-aca5b19e-9aa6-4c23-9b65-094376ee3c81",
    "deepnote_to_be_reexecuted": false,
    "source_hash": "a285b77a",
    "execution_start": 1619856138016,
    "execution_millis": 29,
    "deepnote_cell_type": "code"
   },
   "source": "for i in range(10):\n    if i == 30:\n        break\n    print(i)\nelse:\n    print(\"no break was found\")",
   "execution_count": null,
   "outputs": [
    {
     "name": "stdout",
     "text": "0\n1\n2\n3\n4\n5\n6\n7\n8\n9\nno break was found\n",
     "output_type": "stream"
    }
   ]
  },
  {
   "cell_type": "code",
   "metadata": {
    "tags": [],
    "cell_id": "00079-a27bcd68-10ce-4315-b0fc-c015b2d2fd4b",
    "deepnote_to_be_reexecuted": false,
    "source_hash": "8100f06c",
    "execution_start": 1622648454140,
    "execution_millis": 132,
    "deepnote_cell_type": "code"
   },
   "source": "for i in range(5):\n    print(\"____________________\")\n    try:\n        10/(i-3)\n    except ZeroDivisionError:\n        print(\"division by zero! 🙄\")\n        break\n    finally:\n        print(\"always running\")\n    print(i)\nelse:\n    print(\"break was not encountered\")",
   "execution_count": null,
   "outputs": [
    {
     "name": "stdout",
     "text": "____________________\nalways running\n0\n____________________\nalways running\n1\n____________________\nalways running\n2\n____________________\ndivision by zero! 🙄\nalways running\n",
     "output_type": "stream"
    }
   ]
  },
  {
   "cell_type": "code",
   "metadata": {
    "tags": [],
    "cell_id": "00080-dbabf81e-5bc8-4dae-bdb5-06243442aba1",
    "deepnote_to_be_reexecuted": false,
    "source_hash": "300f35cf",
    "execution_start": 1622648620667,
    "execution_millis": 24,
    "deepnote_cell_type": "code"
   },
   "source": "s = \"hello to the gardians of galaxy\"\n\nfor c in s:\n    print(c)",
   "execution_count": null,
   "outputs": [
    {
     "name": "stdout",
     "text": "h\ne\nl\nl\no\n \nt\no\n \nt\nh\ne\n \ng\na\nr\nd\ni\na\nn\ns\n \no\nf\n \ng\na\nl\na\nx\ny\n",
     "output_type": "stream"
    }
   ]
  },
  {
   "cell_type": "code",
   "metadata": {
    "tags": [],
    "cell_id": "00081-0f6aec19-0328-4e0e-9592-8327b3c6a094",
    "deepnote_to_be_reexecuted": false,
    "source_hash": "73655a38",
    "execution_start": 1622648631902,
    "execution_millis": 51,
    "deepnote_cell_type": "code"
   },
   "source": "s = \"hello to the gardians of galaxy\"\ni = 1\n\nfor c in s:\n    print(i, c)\n    i += 1",
   "execution_count": null,
   "outputs": [
    {
     "name": "stdout",
     "text": "1 h\n2 e\n3 l\n4 l\n5 o\n6  \n7 t\n8 o\n9  \n10 t\n11 h\n12 e\n13  \n14 g\n15 a\n16 r\n17 d\n18 i\n19 a\n20 n\n21 s\n22  \n23 o\n24 f\n25  \n26 g\n27 a\n28 l\n29 a\n30 x\n31 y\n",
     "output_type": "stream"
    }
   ]
  },
  {
   "cell_type": "code",
   "metadata": {
    "tags": [],
    "cell_id": "00082-b4a2127c-c39d-48ee-a575-c24840209fe7",
    "deepnote_to_be_reexecuted": false,
    "source_hash": "67a6fb22",
    "execution_start": 1619856370499,
    "execution_millis": 35,
    "deepnote_cell_type": "code"
   },
   "source": "s = \"hello to the gardians of galaxy\"\n\nfor i in range(len(s)):\n    print(i, s[i])\n",
   "execution_count": null,
   "outputs": [
    {
     "name": "stdout",
     "text": "0 h\n1 e\n2 l\n3 l\n4 o\n5  \n6 t\n7 o\n8  \n9 t\n10 h\n11 e\n12  \n13 g\n14 a\n15 r\n16 d\n17 i\n18 a\n19 n\n20 s\n21  \n22 o\n23 f\n24  \n25 g\n26 a\n27 l\n28 a\n29 x\n30 y\n",
     "output_type": "stream"
    }
   ]
  },
  {
   "cell_type": "code",
   "metadata": {
    "tags": [],
    "cell_id": "00083-ce74f08e-6dc1-4a1c-ba2d-beec2cad1c7f",
    "deepnote_to_be_reexecuted": false,
    "source_hash": "806bf354",
    "execution_start": 1622648891377,
    "execution_millis": 13,
    "deepnote_cell_type": "code"
   },
   "source": "s = \"hello to the gardians of galaxy\"\n\n# Enumerate returns a tuple\nfor i, c in enumerate(s):\n    print(i, c)",
   "execution_count": null,
   "outputs": [
    {
     "name": "stdout",
     "text": "0 h\n1 e\n2 l\n3 l\n4 o\n5  \n6 t\n7 o\n8  \n9 t\n10 h\n11 e\n12  \n13 g\n14 a\n15 r\n16 d\n17 i\n18 a\n19 n\n20 s\n21  \n22 o\n23 f\n24  \n25 g\n26 a\n27 l\n28 a\n29 x\n30 y\n",
     "output_type": "stream"
    }
   ]
  },
  {
   "cell_type": "markdown",
   "source": "## Classes 😈",
   "metadata": {
    "tags": [],
    "cell_id": "00084-588509ef-dc1f-473d-8b58-d146f866d931",
    "deepnote_cell_type": "markdown"
   }
  },
  {
   "cell_type": "code",
   "metadata": {
    "tags": [],
    "cell_id": "00084-28390cbd-e764-405d-bf08-aa34a643885c",
    "deepnote_to_be_reexecuted": false,
    "source_hash": "2801da9",
    "execution_start": 1623775813758,
    "execution_millis": 0,
    "deepnote_cell_type": "code"
   },
   "source": "class Rectangle:\n    def __init__ (self, width, height):\n        self.width = width\n        self.height = height",
   "outputs": [],
   "execution_count": null
  },
  {
   "cell_type": "code",
   "metadata": {
    "tags": [],
    "cell_id": "00085-1ea56dbf-97b8-4f95-9e1c-9d4f3eb44ba9",
    "deepnote_to_be_reexecuted": false,
    "source_hash": "ac236a6b",
    "execution_start": 1623775815371,
    "execution_millis": 629,
    "deepnote_cell_type": "code"
   },
   "source": "r1 = Rectangle()",
   "outputs": [
    {
     "output_type": "error",
     "ename": "TypeError",
     "evalue": "__init__() missing 2 required positional arguments: 'width' and 'height'",
     "traceback": [
      "\u001b[0;31m---------------------------------------------------------------------------\u001b[0m",
      "\u001b[0;31mTypeError\u001b[0m                                 Traceback (most recent call last)",
      "\u001b[0;32m<ipython-input-3-472e0c464169>\u001b[0m in \u001b[0;36m<module>\u001b[0;34m\u001b[0m\n\u001b[0;32m----> 1\u001b[0;31m \u001b[0mr1\u001b[0m \u001b[0;34m=\u001b[0m \u001b[0mRectangle\u001b[0m\u001b[0;34m(\u001b[0m\u001b[0;34m)\u001b[0m\u001b[0;34m\u001b[0m\u001b[0;34m\u001b[0m\u001b[0m\n\u001b[0m",
      "\u001b[0;31mTypeError\u001b[0m: __init__() missing 2 required positional arguments: 'width' and 'height'"
     ]
    }
   ],
   "execution_count": null
  },
  {
   "cell_type": "code",
   "metadata": {
    "tags": [],
    "cell_id": "00086-0654ba67-6058-4757-929b-e2020b08b42c",
    "deepnote_to_be_reexecuted": false,
    "source_hash": "d4b6d683",
    "execution_start": 1623775818056,
    "execution_millis": 7,
    "deepnote_cell_type": "code"
   },
   "source": "r1 = Rectangle(100, 200) # Python creates a memory block where I store the object of that class Rectangle and has 3 things : self(memory location), width(value) height(value). Now r1=self i.e r1 directly points to the memory location\nr2 = Rectangle(100, 200)",
   "outputs": [],
   "execution_count": null
  },
  {
   "cell_type": "code",
   "metadata": {
    "tags": [],
    "cell_id": "00087-33b9c641-bc5e-4d27-91ce-630ea56f6788",
    "deepnote_to_be_reexecuted": false,
    "source_hash": "abb6b6c9",
    "execution_start": 1623775823338,
    "execution_millis": 11,
    "deepnote_cell_type": "code"
   },
   "source": "r1.width, r2.width",
   "outputs": [
    {
     "output_type": "execute_result",
     "execution_count": 5,
     "data": {
      "text/plain": "(100, 100)"
     },
     "metadata": {}
    }
   ],
   "execution_count": null
  },
  {
   "cell_type": "code",
   "metadata": {
    "tags": [],
    "cell_id": "00088-b7d1d8b9-4e3b-46b4-9f35-2b2b08f3ec09",
    "deepnote_to_be_reexecuted": false,
    "source_hash": "1f1675b9",
    "execution_start": 1623775824594,
    "execution_millis": 10,
    "deepnote_cell_type": "code"
   },
   "source": "id(r1), id(r2)",
   "outputs": [
    {
     "output_type": "execute_result",
     "execution_count": 6,
     "data": {
      "text/plain": "(139845297411792, 139845297411728)"
     },
     "metadata": {}
    }
   ],
   "execution_count": null
  },
  {
   "cell_type": "code",
   "metadata": {
    "tags": [],
    "cell_id": "00089-1b08e8cf-5d10-4df2-bfb5-50cf468fc658",
    "deepnote_to_be_reexecuted": false,
    "source_hash": "1dbedd25",
    "execution_start": 1623776119633,
    "execution_millis": 9,
    "deepnote_cell_type": "code"
   },
   "source": "# r1 = Rectangle(100, 200)\n# print(id(r1))\nr1 = Rectangle(200, 100)\nprint(id(r1))\nr2 = Rectangle(200, 100)\nprint(id(r2))",
   "outputs": [
    {
     "name": "stdout",
     "text": "139845297467344\n139845297465168\n",
     "output_type": "stream"
    }
   ],
   "execution_count": null
  },
  {
   "cell_type": "code",
   "metadata": {
    "tags": [],
    "cell_id": "00090-6974ccc8-09dc-42c0-8381-df6b0c221348",
    "deepnote_to_be_reexecuted": false,
    "source_hash": "395d5eb7",
    "execution_start": 1622650949170,
    "execution_millis": 0,
    "deepnote_cell_type": "code"
   },
   "source": "class Rectangle:\n    def __init__ (self, width, height):\n        self.width = width\n        self.height = height\n\n    def area(self):\n        return self.width * self.height\n\n    def perimeter(self):\n        return 2 *  ( self.width + self.height)",
   "execution_count": null,
   "outputs": []
  },
  {
   "cell_type": "code",
   "metadata": {
    "tags": [],
    "cell_id": "00091-69bb20ce-004e-4da8-aa97-514ee2101a44",
    "deepnote_to_be_reexecuted": false,
    "source_hash": "fcbebabd",
    "execution_start": 1622650950362,
    "execution_millis": 5,
    "deepnote_cell_type": "code"
   },
   "source": "r1 = Rectangle(10, 20)",
   "execution_count": null,
   "outputs": []
  },
  {
   "cell_type": "code",
   "metadata": {
    "tags": [],
    "cell_id": "00092-f9a42460-ace6-4fc6-97de-6aef9fec4f74",
    "deepnote_to_be_reexecuted": false,
    "source_hash": "c72d26e7",
    "execution_start": 1622650953591,
    "execution_millis": 1,
    "deepnote_cell_type": "code"
   },
   "source": "r1.area()",
   "execution_count": null,
   "outputs": [
    {
     "output_type": "execute_result",
     "execution_count": 86,
     "data": {
      "text/plain": "200"
     },
     "metadata": {}
    }
   ]
  },
  {
   "cell_type": "code",
   "metadata": {
    "tags": [],
    "cell_id": "00093-0b816720-1fe1-42ab-b896-68f88a90aa9b",
    "deepnote_to_be_reexecuted": false,
    "source_hash": "ed359c81",
    "execution_start": 1622651198470,
    "execution_millis": 53,
    "deepnote_cell_type": "code"
   },
   "source": "str(10)",
   "execution_count": null,
   "outputs": [
    {
     "output_type": "execute_result",
     "execution_count": 87,
     "data": {
      "text/plain": "'10'"
     },
     "metadata": {}
    }
   ]
  },
  {
   "cell_type": "code",
   "metadata": {
    "tags": [],
    "cell_id": "00094-08c96d62-3641-47fa-ab3d-6787e60b0b6a",
    "deepnote_to_be_reexecuted": false,
    "source_hash": "e5f1986b",
    "execution_start": 1623776206998,
    "execution_millis": 7,
    "deepnote_cell_type": "code"
   },
   "source": "str(r1) # 0x7f95446a35d0 is the self. ",
   "outputs": [
    {
     "output_type": "execute_result",
     "execution_count": 11,
     "data": {
      "text/plain": "'<__main__.Rectangle object at 0x7f3045476fd0>'"
     },
     "metadata": {}
    }
   ],
   "execution_count": null
  },
  {
   "cell_type": "code",
   "metadata": {
    "tags": [],
    "cell_id": "00096-c41e6331-0a96-490e-9e48-baebebadda59",
    "deepnote_to_be_reexecuted": false,
    "source_hash": "27426db3",
    "execution_start": 1622651238613,
    "execution_millis": 1704,
    "deepnote_cell_type": "code"
   },
   "source": "help(r1)",
   "execution_count": null,
   "outputs": [
    {
     "name": "stdout",
     "text": "Help on Rectangle in module __main__ object:\n\nclass Rectangle(builtins.object)\n |  Rectangle(width, height)\n |  \n |  Methods defined here:\n |  \n |  __init__(self, width, height)\n |      Initialize self.  See help(type(self)) for accurate signature.\n |  \n |  area(self)\n |  \n |  perimeter(self)\n |  \n |  ----------------------------------------------------------------------\n |  Data descriptors defined here:\n |  \n |  __dict__\n |      dictionary for instance variables (if defined)\n |  \n |  __weakref__\n |      list of weak references to the object (if defined)\n\n",
     "output_type": "stream"
    }
   ]
  },
  {
   "cell_type": "code",
   "metadata": {
    "tags": [],
    "cell_id": "00096-153eb66b-b16d-4fab-968d-05f940bd8bf4",
    "deepnote_to_be_reexecuted": false,
    "source_hash": "3e901131",
    "execution_start": 1622651253660,
    "execution_millis": 10,
    "deepnote_cell_type": "code"
   },
   "source": "dir(r1)",
   "execution_count": null,
   "outputs": [
    {
     "output_type": "execute_result",
     "execution_count": 90,
     "data": {
      "text/plain": "['__class__',\n '__delattr__',\n '__dict__',\n '__dir__',\n '__doc__',\n '__eq__',\n '__format__',\n '__ge__',\n '__getattribute__',\n '__gt__',\n '__hash__',\n '__init__',\n '__init_subclass__',\n '__le__',\n '__lt__',\n '__module__',\n '__ne__',\n '__new__',\n '__reduce__',\n '__reduce_ex__',\n '__repr__',\n '__setattr__',\n '__sizeof__',\n '__str__',\n '__subclasshook__',\n '__weakref__',\n 'area',\n 'height',\n 'perimeter',\n 'width']"
     },
     "metadata": {}
    }
   ]
  },
  {
   "cell_type": "code",
   "metadata": {
    "tags": [],
    "cell_id": "00097-c22bbb4c-a711-463c-a4ad-fa82b9fd1133",
    "deepnote_to_be_reexecuted": false,
    "source_hash": "2b4b7551",
    "execution_start": 1619857942954,
    "execution_millis": 0,
    "deepnote_cell_type": "code"
   },
   "source": "class Rectangle:\n    def __init__ (self, width, height):\n        self.width = width\n        self.height = height\n\n    def area(self):\n        return self.width * self.height\n\n    def perimeter(self):\n        return 2 *  ( self.width + self.height)\n\n    def __str__(self):\n        return \"This is rectangle stored: \" + str(id(self))",
   "execution_count": null,
   "outputs": []
  },
  {
   "cell_type": "code",
   "metadata": {
    "tags": [],
    "cell_id": "00098-dab2df0d-bf3c-4b8c-80e0-f47e55bb78c9",
    "deepnote_to_be_reexecuted": false,
    "source_hash": "f4288eca",
    "execution_start": 1622651522421,
    "execution_millis": 20,
    "deepnote_cell_type": "code"
   },
   "source": "r1 = Rectangle(10, 20)\nstr(r1), id(r1)",
   "execution_count": null,
   "outputs": [
    {
     "output_type": "execute_result",
     "execution_count": 91,
     "data": {
      "text/plain": "('<__main__.Rectangle object at 0x7f9544463710>', 140279072306960)"
     },
     "metadata": {}
    }
   ]
  },
  {
   "cell_type": "code",
   "metadata": {
    "tags": [],
    "cell_id": "00099-29219af9-35dd-4c9a-8762-86a125b45c57",
    "deepnote_to_be_reexecuted": false,
    "source_hash": "1f262162",
    "execution_start": 1622651531484,
    "execution_millis": 24,
    "deepnote_cell_type": "code"
   },
   "source": "r1 = Rectangle(10, 20)\nr2 = Rectangle(10, 20)\n\nr1 == r2",
   "execution_count": null,
   "outputs": [
    {
     "output_type": "execute_result",
     "execution_count": 92,
     "data": {
      "text/plain": "False"
     },
     "metadata": {}
    }
   ]
  },
  {
   "cell_type": "code",
   "metadata": {
    "tags": [],
    "cell_id": "00100-f1586560-4fe0-4b39-8528-594d82380ad5",
    "deepnote_to_be_reexecuted": false,
    "source_hash": "616520d2",
    "execution_start": 1622651683402,
    "execution_millis": 6,
    "deepnote_cell_type": "code"
   },
   "source": "class Rectangle:\n    def __init__ (self, width, height):\n        self.width = width\n        self.height = height\n\n    def area(self):\n        return self.width * self.height\n\n    def perimeter(self):\n        return 2 *  ( self.width + self.height)\n\n    def __str__(self):\n        return \"This is rectangle stored: \" + str(id(self))\n\n    def __eq__(self, other):\n        print(f'self={self}, other={other}')\n        if isinstance(other, Rectangle):\n            return (self.width, self.height) == (other.width, other.height)\n        else:\n            return False\n",
   "execution_count": null,
   "outputs": []
  },
  {
   "cell_type": "code",
   "metadata": {
    "tags": [],
    "cell_id": "00101-c90478df-a629-4001-9e65-7185a398a8ab",
    "deepnote_to_be_reexecuted": false,
    "source_hash": "1f262162",
    "execution_start": 1622651685069,
    "execution_millis": 6,
    "deepnote_cell_type": "code"
   },
   "source": "r1 = Rectangle(10, 20)\nr2 = Rectangle(10, 20)\n\nr1 == r2",
   "execution_count": null,
   "outputs": [
    {
     "name": "stdout",
     "text": "self=This is rectangle stored: 140279072282768, other=This is rectangle stored: 140279072280784\n",
     "output_type": "stream"
    },
    {
     "output_type": "execute_result",
     "execution_count": 95,
     "data": {
      "text/plain": "True"
     },
     "metadata": {}
    }
   ]
  },
  {
   "cell_type": "code",
   "metadata": {
    "tags": [],
    "cell_id": "00102-6a848ac6-e9e2-4842-9729-3c4af29b59a7",
    "deepnote_to_be_reexecuted": false,
    "source_hash": "a83cb75a",
    "execution_start": 1622651698046,
    "execution_millis": 20,
    "deepnote_cell_type": "code"
   },
   "source": "# checks id()\nr1 is r2",
   "execution_count": null,
   "outputs": [
    {
     "output_type": "execute_result",
     "execution_count": 96,
     "data": {
      "text/plain": "False"
     },
     "metadata": {}
    }
   ]
  },
  {
   "cell_type": "code",
   "metadata": {
    "tags": [],
    "cell_id": "00103-80d1e853-1f7a-4a60-8352-5ba80b59ceba",
    "deepnote_to_be_reexecuted": false,
    "source_hash": "19c01702",
    "execution_start": 1619858211117,
    "execution_millis": 39,
    "deepnote_cell_type": "code"
   },
   "source": "a = 10\nb = 10\nprint(id(a), id(b))\nprint(a is b)",
   "execution_count": null,
   "outputs": [
    {
     "name": "stdout",
     "text": "140424616596832 140424616596832\nTrue\n",
     "output_type": "stream"
    }
   ]
  },
  {
   "cell_type": "code",
   "metadata": {
    "tags": [],
    "cell_id": "00104-9b3c5a29-13f7-42ac-97ac-4993c827404f",
    "deepnote_to_be_reexecuted": false,
    "source_hash": "5c656262",
    "execution_start": 1622651948606,
    "execution_millis": 1,
    "deepnote_cell_type": "code"
   },
   "source": "class Rectangle:\n    def __init__(self, width, height):\n        self.width = width\n        self.height = height\n        \n    def area(self):\n        return self.width * self.height\n    \n    def perimeter(self):\n        return 2 * (self.width + self.height)\n    \n    def __str__(self):\n        return 'Rectangle (width={0}, height={1})'.format(self.width, self.height)\n    \n    def __repr__(self):\n        return 'Rectangle({0}, {1})'.format(self.width, self.height)\n    \n    def __eq__(self, other):\n        if isinstance(other, Rectangle):\n            return (self.width, self.height) == (other.width, other.height)\n        else:\n            return False\n    \n    def __lt__(self, other):\n        if isinstance(other, Rectangle):\n            return self.area() < other.area()\n        else:\n            return NotImplemented",
   "execution_count": null,
   "outputs": []
  },
  {
   "cell_type": "code",
   "metadata": {
    "tags": [],
    "cell_id": "00105-8aa8777a-e18a-481d-9448-70f0f16a8ab9",
    "deepnote_to_be_reexecuted": false,
    "source_hash": "7413e70f",
    "execution_start": 1622651949372,
    "execution_millis": 7,
    "deepnote_cell_type": "code"
   },
   "source": "r1 = Rectangle(100, 200)\nr2 = Rectangle(10, 20)\nr1 < r2",
   "execution_count": null,
   "outputs": [
    {
     "output_type": "execute_result",
     "execution_count": 98,
     "data": {
      "text/plain": "False"
     },
     "metadata": {}
    }
   ]
  },
  {
   "cell_type": "code",
   "metadata": {
    "tags": [],
    "cell_id": "00106-07b6cbf7-e1d8-4a83-9dbd-2704d03bd4d7",
    "deepnote_to_be_reexecuted": false,
    "source_hash": "ccf291c6",
    "execution_start": 1622651950033,
    "execution_millis": 8,
    "deepnote_cell_type": "code"
   },
   "source": "r1 < r2",
   "execution_count": null,
   "outputs": [
    {
     "output_type": "execute_result",
     "execution_count": 99,
     "data": {
      "text/plain": "False"
     },
     "metadata": {}
    }
   ]
  },
  {
   "cell_type": "markdown",
   "source": "<a style='text-decoration:none;line-height:16px;display:flex;color:#5B5B62;padding:10px;justify-content:end;' href='https://deepnote.com?utm_source=created-in-deepnote-cell&projectId=a0adf215-ed55-41c7-8995-7287db495331' target=\"_blank\">\n<img alt='Created in deepnote.com' style='display:inline;max-height:16px;margin:0px;margin-right:7.5px;' src='data:image/svg+xml;base64,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' > </img>\nCreated in <span style='font-weight:600;margin-left:4px;'>Deepnote</span></a>",
   "metadata": {
    "tags": [],
    "created_in_deepnote_cell": true,
    "deepnote_cell_type": "markdown"
   }
  }
 ],
 "nbformat": 4,
 "nbformat_minor": 2,
 "metadata": {
  "orig_nbformat": 2,
  "deepnote": {
   "is_reactive": false
  },
  "deepnote_notebook_id": "0b148b6e-4e06-4fe2-8555-9cc43da3c607",
  "deepnote_execution_queue": []
 }
}