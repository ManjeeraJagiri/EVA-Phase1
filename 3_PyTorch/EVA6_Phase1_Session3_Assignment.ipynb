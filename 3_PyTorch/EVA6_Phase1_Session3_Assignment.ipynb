{
  "nbformat": 4,
  "nbformat_minor": 0,
  "metadata": {
    "colab": {
      "name": "EVA6_Phase1_Session3_Assignment.ipynb",
      "provenance": [],
      "collapsed_sections": []
    },
    "kernelspec": {
      "name": "python3",
      "display_name": "Python 3"
    },
    "language_info": {
      "name": "python"
    },
    "accelerator": "GPU",
    "widgets": {
      "application/vnd.jupyter.widget-state+json": {
        "4d82852d51114b58ad7492e3689e7448": {
          "model_module": "@jupyter-widgets/controls",
          "model_name": "HBoxModel",
          "state": {
            "_view_name": "HBoxView",
            "_dom_classes": [],
            "_model_name": "HBoxModel",
            "_view_module": "@jupyter-widgets/controls",
            "_model_module_version": "1.5.0",
            "_view_count": null,
            "_view_module_version": "1.5.0",
            "box_style": "",
            "layout": "IPY_MODEL_31b4457bb5114b7297043a533ddd72b4",
            "_model_module": "@jupyter-widgets/controls",
            "children": [
              "IPY_MODEL_712d532d23474b389d8b56586bae08df",
              "IPY_MODEL_cb6bc043976840c5989115cc04a4aae1"
            ]
          }
        },
        "31b4457bb5114b7297043a533ddd72b4": {
          "model_module": "@jupyter-widgets/base",
          "model_name": "LayoutModel",
          "state": {
            "_view_name": "LayoutView",
            "grid_template_rows": null,
            "right": null,
            "justify_content": null,
            "_view_module": "@jupyter-widgets/base",
            "overflow": null,
            "_model_module_version": "1.2.0",
            "_view_count": null,
            "flex_flow": null,
            "width": null,
            "min_width": null,
            "border": null,
            "align_items": null,
            "bottom": null,
            "_model_module": "@jupyter-widgets/base",
            "top": null,
            "grid_column": null,
            "overflow_y": null,
            "overflow_x": null,
            "grid_auto_flow": null,
            "grid_area": null,
            "grid_template_columns": null,
            "flex": null,
            "_model_name": "LayoutModel",
            "justify_items": null,
            "grid_row": null,
            "max_height": null,
            "align_content": null,
            "visibility": null,
            "align_self": null,
            "height": null,
            "min_height": null,
            "padding": null,
            "grid_auto_rows": null,
            "grid_gap": null,
            "max_width": null,
            "order": null,
            "_view_module_version": "1.2.0",
            "grid_template_areas": null,
            "object_position": null,
            "object_fit": null,
            "grid_auto_columns": null,
            "margin": null,
            "display": null,
            "left": null
          }
        },
        "712d532d23474b389d8b56586bae08df": {
          "model_module": "@jupyter-widgets/controls",
          "model_name": "FloatProgressModel",
          "state": {
            "_view_name": "ProgressView",
            "style": "IPY_MODEL_fb2e193a9c4c4560b06aa20b8d50361a",
            "_dom_classes": [],
            "description": "",
            "_model_name": "FloatProgressModel",
            "bar_style": "success",
            "max": 9912422,
            "_view_module": "@jupyter-widgets/controls",
            "_model_module_version": "1.5.0",
            "value": 9912422,
            "_view_count": null,
            "_view_module_version": "1.5.0",
            "orientation": "horizontal",
            "min": 0,
            "description_tooltip": null,
            "_model_module": "@jupyter-widgets/controls",
            "layout": "IPY_MODEL_fdffa26609de4710ae6c960ea407faa7"
          }
        },
        "cb6bc043976840c5989115cc04a4aae1": {
          "model_module": "@jupyter-widgets/controls",
          "model_name": "HTMLModel",
          "state": {
            "_view_name": "HTMLView",
            "style": "IPY_MODEL_50eff9061082420dbad3671c7bed7861",
            "_dom_classes": [],
            "description": "",
            "_model_name": "HTMLModel",
            "placeholder": "​",
            "_view_module": "@jupyter-widgets/controls",
            "_model_module_version": "1.5.0",
            "value": " 9913344/? [02:44&lt;00:00, 60103.73it/s]",
            "_view_count": null,
            "_view_module_version": "1.5.0",
            "description_tooltip": null,
            "_model_module": "@jupyter-widgets/controls",
            "layout": "IPY_MODEL_c5f6693c61b4460c8834739e2b8a2ad7"
          }
        },
        "fb2e193a9c4c4560b06aa20b8d50361a": {
          "model_module": "@jupyter-widgets/controls",
          "model_name": "ProgressStyleModel",
          "state": {
            "_view_name": "StyleView",
            "_model_name": "ProgressStyleModel",
            "description_width": "initial",
            "_view_module": "@jupyter-widgets/base",
            "_model_module_version": "1.5.0",
            "_view_count": null,
            "_view_module_version": "1.2.0",
            "bar_color": null,
            "_model_module": "@jupyter-widgets/controls"
          }
        },
        "fdffa26609de4710ae6c960ea407faa7": {
          "model_module": "@jupyter-widgets/base",
          "model_name": "LayoutModel",
          "state": {
            "_view_name": "LayoutView",
            "grid_template_rows": null,
            "right": null,
            "justify_content": null,
            "_view_module": "@jupyter-widgets/base",
            "overflow": null,
            "_model_module_version": "1.2.0",
            "_view_count": null,
            "flex_flow": null,
            "width": null,
            "min_width": null,
            "border": null,
            "align_items": null,
            "bottom": null,
            "_model_module": "@jupyter-widgets/base",
            "top": null,
            "grid_column": null,
            "overflow_y": null,
            "overflow_x": null,
            "grid_auto_flow": null,
            "grid_area": null,
            "grid_template_columns": null,
            "flex": null,
            "_model_name": "LayoutModel",
            "justify_items": null,
            "grid_row": null,
            "max_height": null,
            "align_content": null,
            "visibility": null,
            "align_self": null,
            "height": null,
            "min_height": null,
            "padding": null,
            "grid_auto_rows": null,
            "grid_gap": null,
            "max_width": null,
            "order": null,
            "_view_module_version": "1.2.0",
            "grid_template_areas": null,
            "object_position": null,
            "object_fit": null,
            "grid_auto_columns": null,
            "margin": null,
            "display": null,
            "left": null
          }
        },
        "50eff9061082420dbad3671c7bed7861": {
          "model_module": "@jupyter-widgets/controls",
          "model_name": "DescriptionStyleModel",
          "state": {
            "_view_name": "StyleView",
            "_model_name": "DescriptionStyleModel",
            "description_width": "",
            "_view_module": "@jupyter-widgets/base",
            "_model_module_version": "1.5.0",
            "_view_count": null,
            "_view_module_version": "1.2.0",
            "_model_module": "@jupyter-widgets/controls"
          }
        },
        "c5f6693c61b4460c8834739e2b8a2ad7": {
          "model_module": "@jupyter-widgets/base",
          "model_name": "LayoutModel",
          "state": {
            "_view_name": "LayoutView",
            "grid_template_rows": null,
            "right": null,
            "justify_content": null,
            "_view_module": "@jupyter-widgets/base",
            "overflow": null,
            "_model_module_version": "1.2.0",
            "_view_count": null,
            "flex_flow": null,
            "width": null,
            "min_width": null,
            "border": null,
            "align_items": null,
            "bottom": null,
            "_model_module": "@jupyter-widgets/base",
            "top": null,
            "grid_column": null,
            "overflow_y": null,
            "overflow_x": null,
            "grid_auto_flow": null,
            "grid_area": null,
            "grid_template_columns": null,
            "flex": null,
            "_model_name": "LayoutModel",
            "justify_items": null,
            "grid_row": null,
            "max_height": null,
            "align_content": null,
            "visibility": null,
            "align_self": null,
            "height": null,
            "min_height": null,
            "padding": null,
            "grid_auto_rows": null,
            "grid_gap": null,
            "max_width": null,
            "order": null,
            "_view_module_version": "1.2.0",
            "grid_template_areas": null,
            "object_position": null,
            "object_fit": null,
            "grid_auto_columns": null,
            "margin": null,
            "display": null,
            "left": null
          }
        },
        "2eaed4e66c614df28c498ac75444032f": {
          "model_module": "@jupyter-widgets/controls",
          "model_name": "HBoxModel",
          "state": {
            "_view_name": "HBoxView",
            "_dom_classes": [],
            "_model_name": "HBoxModel",
            "_view_module": "@jupyter-widgets/controls",
            "_model_module_version": "1.5.0",
            "_view_count": null,
            "_view_module_version": "1.5.0",
            "box_style": "",
            "layout": "IPY_MODEL_4dea115bdb904aaf870aea13efd82d87",
            "_model_module": "@jupyter-widgets/controls",
            "children": [
              "IPY_MODEL_6ab0caa024764d6cb5e941bfffc69881",
              "IPY_MODEL_3bf4a4d33ff141c7bf39b586d0aeda5c"
            ]
          }
        },
        "4dea115bdb904aaf870aea13efd82d87": {
          "model_module": "@jupyter-widgets/base",
          "model_name": "LayoutModel",
          "state": {
            "_view_name": "LayoutView",
            "grid_template_rows": null,
            "right": null,
            "justify_content": null,
            "_view_module": "@jupyter-widgets/base",
            "overflow": null,
            "_model_module_version": "1.2.0",
            "_view_count": null,
            "flex_flow": null,
            "width": null,
            "min_width": null,
            "border": null,
            "align_items": null,
            "bottom": null,
            "_model_module": "@jupyter-widgets/base",
            "top": null,
            "grid_column": null,
            "overflow_y": null,
            "overflow_x": null,
            "grid_auto_flow": null,
            "grid_area": null,
            "grid_template_columns": null,
            "flex": null,
            "_model_name": "LayoutModel",
            "justify_items": null,
            "grid_row": null,
            "max_height": null,
            "align_content": null,
            "visibility": null,
            "align_self": null,
            "height": null,
            "min_height": null,
            "padding": null,
            "grid_auto_rows": null,
            "grid_gap": null,
            "max_width": null,
            "order": null,
            "_view_module_version": "1.2.0",
            "grid_template_areas": null,
            "object_position": null,
            "object_fit": null,
            "grid_auto_columns": null,
            "margin": null,
            "display": null,
            "left": null
          }
        },
        "6ab0caa024764d6cb5e941bfffc69881": {
          "model_module": "@jupyter-widgets/controls",
          "model_name": "FloatProgressModel",
          "state": {
            "_view_name": "ProgressView",
            "style": "IPY_MODEL_2b1c9f2e0b554bb888ba7da7e73eade9",
            "_dom_classes": [],
            "description": "",
            "_model_name": "FloatProgressModel",
            "bar_style": "success",
            "max": 28881,
            "_view_module": "@jupyter-widgets/controls",
            "_model_module_version": "1.5.0",
            "value": 28881,
            "_view_count": null,
            "_view_module_version": "1.5.0",
            "orientation": "horizontal",
            "min": 0,
            "description_tooltip": null,
            "_model_module": "@jupyter-widgets/controls",
            "layout": "IPY_MODEL_00e62232235e41df81d2d5e38caa5b9f"
          }
        },
        "3bf4a4d33ff141c7bf39b586d0aeda5c": {
          "model_module": "@jupyter-widgets/controls",
          "model_name": "HTMLModel",
          "state": {
            "_view_name": "HTMLView",
            "style": "IPY_MODEL_9b3b7bf8f2114c488f4d8d56e037666d",
            "_dom_classes": [],
            "description": "",
            "_model_name": "HTMLModel",
            "placeholder": "​",
            "_view_module": "@jupyter-widgets/controls",
            "_model_module_version": "1.5.0",
            "value": " 29696/? [00:00&lt;00:00, 195588.45it/s]",
            "_view_count": null,
            "_view_module_version": "1.5.0",
            "description_tooltip": null,
            "_model_module": "@jupyter-widgets/controls",
            "layout": "IPY_MODEL_0b118c70f9e348bc929e79a8310ba4c1"
          }
        },
        "2b1c9f2e0b554bb888ba7da7e73eade9": {
          "model_module": "@jupyter-widgets/controls",
          "model_name": "ProgressStyleModel",
          "state": {
            "_view_name": "StyleView",
            "_model_name": "ProgressStyleModel",
            "description_width": "initial",
            "_view_module": "@jupyter-widgets/base",
            "_model_module_version": "1.5.0",
            "_view_count": null,
            "_view_module_version": "1.2.0",
            "bar_color": null,
            "_model_module": "@jupyter-widgets/controls"
          }
        },
        "00e62232235e41df81d2d5e38caa5b9f": {
          "model_module": "@jupyter-widgets/base",
          "model_name": "LayoutModel",
          "state": {
            "_view_name": "LayoutView",
            "grid_template_rows": null,
            "right": null,
            "justify_content": null,
            "_view_module": "@jupyter-widgets/base",
            "overflow": null,
            "_model_module_version": "1.2.0",
            "_view_count": null,
            "flex_flow": null,
            "width": null,
            "min_width": null,
            "border": null,
            "align_items": null,
            "bottom": null,
            "_model_module": "@jupyter-widgets/base",
            "top": null,
            "grid_column": null,
            "overflow_y": null,
            "overflow_x": null,
            "grid_auto_flow": null,
            "grid_area": null,
            "grid_template_columns": null,
            "flex": null,
            "_model_name": "LayoutModel",
            "justify_items": null,
            "grid_row": null,
            "max_height": null,
            "align_content": null,
            "visibility": null,
            "align_self": null,
            "height": null,
            "min_height": null,
            "padding": null,
            "grid_auto_rows": null,
            "grid_gap": null,
            "max_width": null,
            "order": null,
            "_view_module_version": "1.2.0",
            "grid_template_areas": null,
            "object_position": null,
            "object_fit": null,
            "grid_auto_columns": null,
            "margin": null,
            "display": null,
            "left": null
          }
        },
        "9b3b7bf8f2114c488f4d8d56e037666d": {
          "model_module": "@jupyter-widgets/controls",
          "model_name": "DescriptionStyleModel",
          "state": {
            "_view_name": "StyleView",
            "_model_name": "DescriptionStyleModel",
            "description_width": "",
            "_view_module": "@jupyter-widgets/base",
            "_model_module_version": "1.5.0",
            "_view_count": null,
            "_view_module_version": "1.2.0",
            "_model_module": "@jupyter-widgets/controls"
          }
        },
        "0b118c70f9e348bc929e79a8310ba4c1": {
          "model_module": "@jupyter-widgets/base",
          "model_name": "LayoutModel",
          "state": {
            "_view_name": "LayoutView",
            "grid_template_rows": null,
            "right": null,
            "justify_content": null,
            "_view_module": "@jupyter-widgets/base",
            "overflow": null,
            "_model_module_version": "1.2.0",
            "_view_count": null,
            "flex_flow": null,
            "width": null,
            "min_width": null,
            "border": null,
            "align_items": null,
            "bottom": null,
            "_model_module": "@jupyter-widgets/base",
            "top": null,
            "grid_column": null,
            "overflow_y": null,
            "overflow_x": null,
            "grid_auto_flow": null,
            "grid_area": null,
            "grid_template_columns": null,
            "flex": null,
            "_model_name": "LayoutModel",
            "justify_items": null,
            "grid_row": null,
            "max_height": null,
            "align_content": null,
            "visibility": null,
            "align_self": null,
            "height": null,
            "min_height": null,
            "padding": null,
            "grid_auto_rows": null,
            "grid_gap": null,
            "max_width": null,
            "order": null,
            "_view_module_version": "1.2.0",
            "grid_template_areas": null,
            "object_position": null,
            "object_fit": null,
            "grid_auto_columns": null,
            "margin": null,
            "display": null,
            "left": null
          }
        },
        "fd3cb7d6131942bca6b91bd2f6743571": {
          "model_module": "@jupyter-widgets/controls",
          "model_name": "HBoxModel",
          "state": {
            "_view_name": "HBoxView",
            "_dom_classes": [],
            "_model_name": "HBoxModel",
            "_view_module": "@jupyter-widgets/controls",
            "_model_module_version": "1.5.0",
            "_view_count": null,
            "_view_module_version": "1.5.0",
            "box_style": "",
            "layout": "IPY_MODEL_9a97ddd76efc452084368ed5932498da",
            "_model_module": "@jupyter-widgets/controls",
            "children": [
              "IPY_MODEL_63a7f2a53351424ebf951e0bece04965",
              "IPY_MODEL_4fef901579d54c09965fa3e566c4ba94"
            ]
          }
        },
        "9a97ddd76efc452084368ed5932498da": {
          "model_module": "@jupyter-widgets/base",
          "model_name": "LayoutModel",
          "state": {
            "_view_name": "LayoutView",
            "grid_template_rows": null,
            "right": null,
            "justify_content": null,
            "_view_module": "@jupyter-widgets/base",
            "overflow": null,
            "_model_module_version": "1.2.0",
            "_view_count": null,
            "flex_flow": null,
            "width": null,
            "min_width": null,
            "border": null,
            "align_items": null,
            "bottom": null,
            "_model_module": "@jupyter-widgets/base",
            "top": null,
            "grid_column": null,
            "overflow_y": null,
            "overflow_x": null,
            "grid_auto_flow": null,
            "grid_area": null,
            "grid_template_columns": null,
            "flex": null,
            "_model_name": "LayoutModel",
            "justify_items": null,
            "grid_row": null,
            "max_height": null,
            "align_content": null,
            "visibility": null,
            "align_self": null,
            "height": null,
            "min_height": null,
            "padding": null,
            "grid_auto_rows": null,
            "grid_gap": null,
            "max_width": null,
            "order": null,
            "_view_module_version": "1.2.0",
            "grid_template_areas": null,
            "object_position": null,
            "object_fit": null,
            "grid_auto_columns": null,
            "margin": null,
            "display": null,
            "left": null
          }
        },
        "63a7f2a53351424ebf951e0bece04965": {
          "model_module": "@jupyter-widgets/controls",
          "model_name": "FloatProgressModel",
          "state": {
            "_view_name": "ProgressView",
            "style": "IPY_MODEL_e9040c031bd04e269769e3bcf6ea7439",
            "_dom_classes": [],
            "description": "",
            "_model_name": "FloatProgressModel",
            "bar_style": "success",
            "max": 1648877,
            "_view_module": "@jupyter-widgets/controls",
            "_model_module_version": "1.5.0",
            "value": 1648877,
            "_view_count": null,
            "_view_module_version": "1.5.0",
            "orientation": "horizontal",
            "min": 0,
            "description_tooltip": null,
            "_model_module": "@jupyter-widgets/controls",
            "layout": "IPY_MODEL_c15210ec948540019515f25b6c50870e"
          }
        },
        "4fef901579d54c09965fa3e566c4ba94": {
          "model_module": "@jupyter-widgets/controls",
          "model_name": "HTMLModel",
          "state": {
            "_view_name": "HTMLView",
            "style": "IPY_MODEL_9edd06360f1141e5b64ed168155da30a",
            "_dom_classes": [],
            "description": "",
            "_model_name": "HTMLModel",
            "placeholder": "​",
            "_view_module": "@jupyter-widgets/controls",
            "_model_module_version": "1.5.0",
            "value": " 1649664/? [02:44&lt;00:00, 10047.93it/s]",
            "_view_count": null,
            "_view_module_version": "1.5.0",
            "description_tooltip": null,
            "_model_module": "@jupyter-widgets/controls",
            "layout": "IPY_MODEL_f68173090ced4a5db7b706479b78dc43"
          }
        },
        "e9040c031bd04e269769e3bcf6ea7439": {
          "model_module": "@jupyter-widgets/controls",
          "model_name": "ProgressStyleModel",
          "state": {
            "_view_name": "StyleView",
            "_model_name": "ProgressStyleModel",
            "description_width": "initial",
            "_view_module": "@jupyter-widgets/base",
            "_model_module_version": "1.5.0",
            "_view_count": null,
            "_view_module_version": "1.2.0",
            "bar_color": null,
            "_model_module": "@jupyter-widgets/controls"
          }
        },
        "c15210ec948540019515f25b6c50870e": {
          "model_module": "@jupyter-widgets/base",
          "model_name": "LayoutModel",
          "state": {
            "_view_name": "LayoutView",
            "grid_template_rows": null,
            "right": null,
            "justify_content": null,
            "_view_module": "@jupyter-widgets/base",
            "overflow": null,
            "_model_module_version": "1.2.0",
            "_view_count": null,
            "flex_flow": null,
            "width": null,
            "min_width": null,
            "border": null,
            "align_items": null,
            "bottom": null,
            "_model_module": "@jupyter-widgets/base",
            "top": null,
            "grid_column": null,
            "overflow_y": null,
            "overflow_x": null,
            "grid_auto_flow": null,
            "grid_area": null,
            "grid_template_columns": null,
            "flex": null,
            "_model_name": "LayoutModel",
            "justify_items": null,
            "grid_row": null,
            "max_height": null,
            "align_content": null,
            "visibility": null,
            "align_self": null,
            "height": null,
            "min_height": null,
            "padding": null,
            "grid_auto_rows": null,
            "grid_gap": null,
            "max_width": null,
            "order": null,
            "_view_module_version": "1.2.0",
            "grid_template_areas": null,
            "object_position": null,
            "object_fit": null,
            "grid_auto_columns": null,
            "margin": null,
            "display": null,
            "left": null
          }
        },
        "9edd06360f1141e5b64ed168155da30a": {
          "model_module": "@jupyter-widgets/controls",
          "model_name": "DescriptionStyleModel",
          "state": {
            "_view_name": "StyleView",
            "_model_name": "DescriptionStyleModel",
            "description_width": "",
            "_view_module": "@jupyter-widgets/base",
            "_model_module_version": "1.5.0",
            "_view_count": null,
            "_view_module_version": "1.2.0",
            "_model_module": "@jupyter-widgets/controls"
          }
        },
        "f68173090ced4a5db7b706479b78dc43": {
          "model_module": "@jupyter-widgets/base",
          "model_name": "LayoutModel",
          "state": {
            "_view_name": "LayoutView",
            "grid_template_rows": null,
            "right": null,
            "justify_content": null,
            "_view_module": "@jupyter-widgets/base",
            "overflow": null,
            "_model_module_version": "1.2.0",
            "_view_count": null,
            "flex_flow": null,
            "width": null,
            "min_width": null,
            "border": null,
            "align_items": null,
            "bottom": null,
            "_model_module": "@jupyter-widgets/base",
            "top": null,
            "grid_column": null,
            "overflow_y": null,
            "overflow_x": null,
            "grid_auto_flow": null,
            "grid_area": null,
            "grid_template_columns": null,
            "flex": null,
            "_model_name": "LayoutModel",
            "justify_items": null,
            "grid_row": null,
            "max_height": null,
            "align_content": null,
            "visibility": null,
            "align_self": null,
            "height": null,
            "min_height": null,
            "padding": null,
            "grid_auto_rows": null,
            "grid_gap": null,
            "max_width": null,
            "order": null,
            "_view_module_version": "1.2.0",
            "grid_template_areas": null,
            "object_position": null,
            "object_fit": null,
            "grid_auto_columns": null,
            "margin": null,
            "display": null,
            "left": null
          }
        },
        "6f257f9f83d04f7b82d4d6d71361cc19": {
          "model_module": "@jupyter-widgets/controls",
          "model_name": "HBoxModel",
          "state": {
            "_view_name": "HBoxView",
            "_dom_classes": [],
            "_model_name": "HBoxModel",
            "_view_module": "@jupyter-widgets/controls",
            "_model_module_version": "1.5.0",
            "_view_count": null,
            "_view_module_version": "1.5.0",
            "box_style": "",
            "layout": "IPY_MODEL_c5bf863a5df3405ea3bf64982e66dfc7",
            "_model_module": "@jupyter-widgets/controls",
            "children": [
              "IPY_MODEL_3668e0b73f924fc490962a0f6786e8f0",
              "IPY_MODEL_58b5d488746d45ba935a1426e097695f"
            ]
          }
        },
        "c5bf863a5df3405ea3bf64982e66dfc7": {
          "model_module": "@jupyter-widgets/base",
          "model_name": "LayoutModel",
          "state": {
            "_view_name": "LayoutView",
            "grid_template_rows": null,
            "right": null,
            "justify_content": null,
            "_view_module": "@jupyter-widgets/base",
            "overflow": null,
            "_model_module_version": "1.2.0",
            "_view_count": null,
            "flex_flow": null,
            "width": null,
            "min_width": null,
            "border": null,
            "align_items": null,
            "bottom": null,
            "_model_module": "@jupyter-widgets/base",
            "top": null,
            "grid_column": null,
            "overflow_y": null,
            "overflow_x": null,
            "grid_auto_flow": null,
            "grid_area": null,
            "grid_template_columns": null,
            "flex": null,
            "_model_name": "LayoutModel",
            "justify_items": null,
            "grid_row": null,
            "max_height": null,
            "align_content": null,
            "visibility": null,
            "align_self": null,
            "height": null,
            "min_height": null,
            "padding": null,
            "grid_auto_rows": null,
            "grid_gap": null,
            "max_width": null,
            "order": null,
            "_view_module_version": "1.2.0",
            "grid_template_areas": null,
            "object_position": null,
            "object_fit": null,
            "grid_auto_columns": null,
            "margin": null,
            "display": null,
            "left": null
          }
        },
        "3668e0b73f924fc490962a0f6786e8f0": {
          "model_module": "@jupyter-widgets/controls",
          "model_name": "FloatProgressModel",
          "state": {
            "_view_name": "ProgressView",
            "style": "IPY_MODEL_6f035338d9e94569a73b9df409ca249d",
            "_dom_classes": [],
            "description": "",
            "_model_name": "FloatProgressModel",
            "bar_style": "success",
            "max": 4542,
            "_view_module": "@jupyter-widgets/controls",
            "_model_module_version": "1.5.0",
            "value": 4542,
            "_view_count": null,
            "_view_module_version": "1.5.0",
            "orientation": "horizontal",
            "min": 0,
            "description_tooltip": null,
            "_model_module": "@jupyter-widgets/controls",
            "layout": "IPY_MODEL_5be7022b4b5449e7b0f4e4379cb49b02"
          }
        },
        "58b5d488746d45ba935a1426e097695f": {
          "model_module": "@jupyter-widgets/controls",
          "model_name": "HTMLModel",
          "state": {
            "_view_name": "HTMLView",
            "style": "IPY_MODEL_b5906b50e5864aa6a3bcf799d19be8a5",
            "_dom_classes": [],
            "description": "",
            "_model_name": "HTMLModel",
            "placeholder": "​",
            "_view_module": "@jupyter-widgets/controls",
            "_model_module_version": "1.5.0",
            "value": " 5120/? [00:00&lt;00:00, 15279.92it/s]",
            "_view_count": null,
            "_view_module_version": "1.5.0",
            "description_tooltip": null,
            "_model_module": "@jupyter-widgets/controls",
            "layout": "IPY_MODEL_8e98ca7d83764e2683a89caab18bd029"
          }
        },
        "6f035338d9e94569a73b9df409ca249d": {
          "model_module": "@jupyter-widgets/controls",
          "model_name": "ProgressStyleModel",
          "state": {
            "_view_name": "StyleView",
            "_model_name": "ProgressStyleModel",
            "description_width": "initial",
            "_view_module": "@jupyter-widgets/base",
            "_model_module_version": "1.5.0",
            "_view_count": null,
            "_view_module_version": "1.2.0",
            "bar_color": null,
            "_model_module": "@jupyter-widgets/controls"
          }
        },
        "5be7022b4b5449e7b0f4e4379cb49b02": {
          "model_module": "@jupyter-widgets/base",
          "model_name": "LayoutModel",
          "state": {
            "_view_name": "LayoutView",
            "grid_template_rows": null,
            "right": null,
            "justify_content": null,
            "_view_module": "@jupyter-widgets/base",
            "overflow": null,
            "_model_module_version": "1.2.0",
            "_view_count": null,
            "flex_flow": null,
            "width": null,
            "min_width": null,
            "border": null,
            "align_items": null,
            "bottom": null,
            "_model_module": "@jupyter-widgets/base",
            "top": null,
            "grid_column": null,
            "overflow_y": null,
            "overflow_x": null,
            "grid_auto_flow": null,
            "grid_area": null,
            "grid_template_columns": null,
            "flex": null,
            "_model_name": "LayoutModel",
            "justify_items": null,
            "grid_row": null,
            "max_height": null,
            "align_content": null,
            "visibility": null,
            "align_self": null,
            "height": null,
            "min_height": null,
            "padding": null,
            "grid_auto_rows": null,
            "grid_gap": null,
            "max_width": null,
            "order": null,
            "_view_module_version": "1.2.0",
            "grid_template_areas": null,
            "object_position": null,
            "object_fit": null,
            "grid_auto_columns": null,
            "margin": null,
            "display": null,
            "left": null
          }
        },
        "b5906b50e5864aa6a3bcf799d19be8a5": {
          "model_module": "@jupyter-widgets/controls",
          "model_name": "DescriptionStyleModel",
          "state": {
            "_view_name": "StyleView",
            "_model_name": "DescriptionStyleModel",
            "description_width": "",
            "_view_module": "@jupyter-widgets/base",
            "_model_module_version": "1.5.0",
            "_view_count": null,
            "_view_module_version": "1.2.0",
            "_model_module": "@jupyter-widgets/controls"
          }
        },
        "8e98ca7d83764e2683a89caab18bd029": {
          "model_module": "@jupyter-widgets/base",
          "model_name": "LayoutModel",
          "state": {
            "_view_name": "LayoutView",
            "grid_template_rows": null,
            "right": null,
            "justify_content": null,
            "_view_module": "@jupyter-widgets/base",
            "overflow": null,
            "_model_module_version": "1.2.0",
            "_view_count": null,
            "flex_flow": null,
            "width": null,
            "min_width": null,
            "border": null,
            "align_items": null,
            "bottom": null,
            "_model_module": "@jupyter-widgets/base",
            "top": null,
            "grid_column": null,
            "overflow_y": null,
            "overflow_x": null,
            "grid_auto_flow": null,
            "grid_area": null,
            "grid_template_columns": null,
            "flex": null,
            "_model_name": "LayoutModel",
            "justify_items": null,
            "grid_row": null,
            "max_height": null,
            "align_content": null,
            "visibility": null,
            "align_self": null,
            "height": null,
            "min_height": null,
            "padding": null,
            "grid_auto_rows": null,
            "grid_gap": null,
            "max_width": null,
            "order": null,
            "_view_module_version": "1.2.0",
            "grid_template_areas": null,
            "object_position": null,
            "object_fit": null,
            "grid_auto_columns": null,
            "margin": null,
            "display": null,
            "left": null
          }
        }
      }
    }
  },
  "cells": [
    {
      "cell_type": "code",
      "metadata": {
        "id": "rHxFaM1Nx5kc"
      },
      "source": [
        "import torch\n",
        "import torch.nn as nn\n",
        "import torch.nn.functional as F\n",
        "import torch.optim as optim\n",
        "import torchvision\n",
        "import torchvision.transforms as transforms\n",
        "from torch.utils.data import Dataset, TensorDataset\n",
        "from torch.utils.data import DataLoader\n",
        "\n",
        "import matplotlib.pyplot as plt\n",
        "import numpy as np\n",
        "\n",
        "import random"
      ],
      "execution_count": null,
      "outputs": []
    },
    {
      "cell_type": "code",
      "metadata": {
        "id": "iY447AcwyEyU"
      },
      "source": [
        "# check if cuda is available\n",
        "use_cuda = torch.cuda.is_available()\n",
        "device = torch.device(\"cuda\" if use_cuda else \"cpu\")"
      ],
      "execution_count": null,
      "outputs": []
    },
    {
      "cell_type": "code",
      "metadata": {
        "colab": {
          "base_uri": "https://localhost:8080/"
        },
        "id": "b5cvz8GOyH8_",
        "outputId": "77824f96-f134-4894-ef34-981e88095c0c"
      },
      "source": [
        "device"
      ],
      "execution_count": null,
      "outputs": [
        {
          "output_type": "execute_result",
          "data": {
            "text/plain": [
              "device(type='cuda')"
            ]
          },
          "metadata": {
            "tags": []
          },
          "execution_count": 3
        }
      ]
    },
    {
      "cell_type": "code",
      "metadata": {
        "colab": {
          "base_uri": "https://localhost:8080/",
          "height": 794,
          "referenced_widgets": [
            "4d82852d51114b58ad7492e3689e7448",
            "31b4457bb5114b7297043a533ddd72b4",
            "712d532d23474b389d8b56586bae08df",
            "cb6bc043976840c5989115cc04a4aae1",
            "fb2e193a9c4c4560b06aa20b8d50361a",
            "fdffa26609de4710ae6c960ea407faa7",
            "50eff9061082420dbad3671c7bed7861",
            "c5f6693c61b4460c8834739e2b8a2ad7",
            "2eaed4e66c614df28c498ac75444032f",
            "4dea115bdb904aaf870aea13efd82d87",
            "6ab0caa024764d6cb5e941bfffc69881",
            "3bf4a4d33ff141c7bf39b586d0aeda5c",
            "2b1c9f2e0b554bb888ba7da7e73eade9",
            "00e62232235e41df81d2d5e38caa5b9f",
            "9b3b7bf8f2114c488f4d8d56e037666d",
            "0b118c70f9e348bc929e79a8310ba4c1",
            "fd3cb7d6131942bca6b91bd2f6743571",
            "9a97ddd76efc452084368ed5932498da",
            "63a7f2a53351424ebf951e0bece04965",
            "4fef901579d54c09965fa3e566c4ba94",
            "e9040c031bd04e269769e3bcf6ea7439",
            "c15210ec948540019515f25b6c50870e",
            "9edd06360f1141e5b64ed168155da30a",
            "f68173090ced4a5db7b706479b78dc43",
            "6f257f9f83d04f7b82d4d6d71361cc19",
            "c5bf863a5df3405ea3bf64982e66dfc7",
            "3668e0b73f924fc490962a0f6786e8f0",
            "58b5d488746d45ba935a1426e097695f",
            "6f035338d9e94569a73b9df409ca249d",
            "5be7022b4b5449e7b0f4e4379cb49b02",
            "b5906b50e5864aa6a3bcf799d19be8a5",
            "8e98ca7d83764e2683a89caab18bd029"
          ]
        },
        "id": "mwUekwuPyUUs",
        "outputId": "1c0541e9-cf18-47cc-ba25-674dec4e5915"
      },
      "source": [
        "# We transform them to tensors\n",
        "# Train Phase transformations\n",
        "train_transforms = transforms.Compose([\n",
        "                                       transforms.ToTensor(),\n",
        "                                       transforms.Normalize((0.1307,), (0.3081,)) # The mean and std have to be sequences (e.g., tuples), therefore you should add a comma after the values. \n",
        "                                       ])\n",
        "\n",
        "# Test Phase transformations\n",
        "test_transforms = transforms.Compose([\n",
        "                                       transforms.ToTensor(),\n",
        "                                       transforms.Normalize((0.1307,), (0.3081,))\n",
        "                                       ])\n",
        "\n",
        "# torchvision.datasets.MNIST outputs a set of PIL images\n",
        "# Load and transform data\n",
        "MNIST_train = torchvision.datasets.MNIST('/tmp', train=True, download=True, transform=train_transforms)\n",
        "MNIST_trainset, MNIST_valset = torch.utils.data.random_split(MNIST_train, [55000, 5000])\n",
        "MNIST_testset = torchvision.datasets.MNIST('/tmp', train=False, download=True, transform=test_transforms)"
      ],
      "execution_count": null,
      "outputs": [
        {
          "output_type": "stream",
          "text": [
            "Downloading http://yann.lecun.com/exdb/mnist/train-images-idx3-ubyte.gz\n",
            "Downloading http://yann.lecun.com/exdb/mnist/train-images-idx3-ubyte.gz to /tmp/MNIST/raw/train-images-idx3-ubyte.gz\n",
            "Failed to download (trying next):\n",
            "HTTP Error 503: Service Unavailable\n",
            "\n",
            "Downloading https://ossci-datasets.s3.amazonaws.com/mnist/train-images-idx3-ubyte.gz\n",
            "Downloading https://ossci-datasets.s3.amazonaws.com/mnist/train-images-idx3-ubyte.gz to /tmp/MNIST/raw/train-images-idx3-ubyte.gz\n"
          ],
          "name": "stdout"
        },
        {
          "output_type": "display_data",
          "data": {
            "application/vnd.jupyter.widget-view+json": {
              "model_id": "4d82852d51114b58ad7492e3689e7448",
              "version_minor": 0,
              "version_major": 2
            },
            "text/plain": [
              "HBox(children=(FloatProgress(value=0.0, max=9912422.0), HTML(value='')))"
            ]
          },
          "metadata": {
            "tags": []
          }
        },
        {
          "output_type": "stream",
          "text": [
            "\n",
            "Extracting /tmp/MNIST/raw/train-images-idx3-ubyte.gz to /tmp/MNIST/raw\n",
            "\n",
            "Downloading http://yann.lecun.com/exdb/mnist/train-labels-idx1-ubyte.gz\n",
            "Failed to download (trying next):\n",
            "HTTP Error 503: Service Unavailable\n",
            "\n",
            "Downloading https://ossci-datasets.s3.amazonaws.com/mnist/train-labels-idx1-ubyte.gz\n",
            "Downloading https://ossci-datasets.s3.amazonaws.com/mnist/train-labels-idx1-ubyte.gz to /tmp/MNIST/raw/train-labels-idx1-ubyte.gz\n"
          ],
          "name": "stdout"
        },
        {
          "output_type": "display_data",
          "data": {
            "application/vnd.jupyter.widget-view+json": {
              "model_id": "2eaed4e66c614df28c498ac75444032f",
              "version_minor": 0,
              "version_major": 2
            },
            "text/plain": [
              "HBox(children=(FloatProgress(value=0.0, max=28881.0), HTML(value='')))"
            ]
          },
          "metadata": {
            "tags": []
          }
        },
        {
          "output_type": "stream",
          "text": [
            "\n",
            "Extracting /tmp/MNIST/raw/train-labels-idx1-ubyte.gz to /tmp/MNIST/raw\n",
            "\n",
            "Downloading http://yann.lecun.com/exdb/mnist/t10k-images-idx3-ubyte.gz\n",
            "Failed to download (trying next):\n",
            "HTTP Error 503: Service Unavailable\n",
            "\n",
            "Downloading https://ossci-datasets.s3.amazonaws.com/mnist/t10k-images-idx3-ubyte.gz\n",
            "Downloading https://ossci-datasets.s3.amazonaws.com/mnist/t10k-images-idx3-ubyte.gz to /tmp/MNIST/raw/t10k-images-idx3-ubyte.gz\n"
          ],
          "name": "stdout"
        },
        {
          "output_type": "display_data",
          "data": {
            "application/vnd.jupyter.widget-view+json": {
              "model_id": "fd3cb7d6131942bca6b91bd2f6743571",
              "version_minor": 0,
              "version_major": 2
            },
            "text/plain": [
              "HBox(children=(FloatProgress(value=0.0, max=1648877.0), HTML(value='')))"
            ]
          },
          "metadata": {
            "tags": []
          }
        },
        {
          "output_type": "stream",
          "text": [
            "\n",
            "Extracting /tmp/MNIST/raw/t10k-images-idx3-ubyte.gz to /tmp/MNIST/raw\n",
            "\n",
            "Downloading http://yann.lecun.com/exdb/mnist/t10k-labels-idx1-ubyte.gz\n",
            "Downloading http://yann.lecun.com/exdb/mnist/t10k-labels-idx1-ubyte.gz to /tmp/MNIST/raw/t10k-labels-idx1-ubyte.gz\n"
          ],
          "name": "stdout"
        },
        {
          "output_type": "display_data",
          "data": {
            "application/vnd.jupyter.widget-view+json": {
              "model_id": "6f257f9f83d04f7b82d4d6d71361cc19",
              "version_minor": 0,
              "version_major": 2
            },
            "text/plain": [
              "HBox(children=(FloatProgress(value=0.0, max=4542.0), HTML(value='')))"
            ]
          },
          "metadata": {
            "tags": []
          }
        },
        {
          "output_type": "stream",
          "text": [
            "\n",
            "Extracting /tmp/MNIST/raw/t10k-labels-idx1-ubyte.gz to /tmp/MNIST/raw\n",
            "\n",
            "Processing...\n",
            "Done!\n"
          ],
          "name": "stdout"
        },
        {
          "output_type": "stream",
          "text": [
            "/usr/local/lib/python3.7/dist-packages/torchvision/datasets/mnist.py:502: UserWarning: The given NumPy array is not writeable, and PyTorch does not support non-writeable tensors. This means you can write to the underlying (supposedly non-writeable) NumPy array using the tensor. You may want to copy the array to protect its data or make it writeable before converting it to a tensor. This type of warning will be suppressed for the rest of this program. (Triggered internally at  /pytorch/torch/csrc/utils/tensor_numpy.cpp:143.)\n",
            "  return torch.from_numpy(parsed.astype(m[2], copy=False)).view(*s)\n"
          ],
          "name": "stderr"
        }
      ]
    },
    {
      "cell_type": "code",
      "metadata": {
        "colab": {
          "base_uri": "https://localhost:8080/"
        },
        "id": "LZE9Raq7y0n_",
        "outputId": "49a38f1b-17ea-4f4e-ceb6-ab2fa056ef15"
      },
      "source": [
        "MNIST_train"
      ],
      "execution_count": null,
      "outputs": [
        {
          "output_type": "execute_result",
          "data": {
            "text/plain": [
              "Dataset MNIST\n",
              "    Number of datapoints: 60000\n",
              "    Root location: /tmp\n",
              "    Split: Train\n",
              "    StandardTransform\n",
              "Transform: Compose(\n",
              "               ToTensor()\n",
              "               Normalize(mean=(0.1307,), std=(0.3081,))\n",
              "           )"
            ]
          },
          "metadata": {
            "tags": []
          },
          "execution_count": 5
        }
      ]
    },
    {
      "cell_type": "code",
      "metadata": {
        "id": "-7nOwYrjzKwa"
      },
      "source": [
        "class RandomMNISTDataset(Dataset):\n",
        "  def __init__(self, MNISTDataset):\n",
        "    self.MNISTDataset = MNISTDataset\n",
        "\n",
        "  def __getitem__(self, index):\n",
        "    image = self.MNISTDataset[index][0] #self.MNISTDataset[index] returns a tuple\n",
        "    label = self.MNISTDataset[index][1]\n",
        "    randomNo = random.randint(0,9)\n",
        "\n",
        "    #Create one hot encoding for random number \n",
        "    one_hotrandomNo = torch.nn.functional.one_hot(torch.arange(0, 10)) #one_hotrandomNo is of shape torch.Size([10, 10])\n",
        "\n",
        "    #add actual label and random number\n",
        "    sum = label + randomNo\n",
        "    return image, label, one_hotrandomNo[randomNo], sum\n",
        "\n",
        "  def __len__(self):\n",
        "    return len(self.MNISTDataset)"
      ],
      "execution_count": null,
      "outputs": []
    },
    {
      "cell_type": "code",
      "metadata": {
        "id": "m4GuCtIrzN4Y"
      },
      "source": [
        "train_dataset = RandomMNISTDataset(MNIST_trainset)\n",
        "val_dataset = RandomMNISTDataset(MNIST_valset)\n",
        "test_dataset = RandomMNISTDataset(MNIST_testset)"
      ],
      "execution_count": null,
      "outputs": []
    },
    {
      "cell_type": "code",
      "metadata": {
        "colab": {
          "base_uri": "https://localhost:8080/"
        },
        "id": "OGLy-kEI0IQE",
        "outputId": "4b3d0e23-c5a2-4671-8136-0a9e68309b2f"
      },
      "source": [
        "print(f'The number of images in train dataset - {len(train_dataset)}')\n",
        "print(f'The number of images in val dataset - {len(val_dataset)}')\n",
        "\n",
        "print(f'The number of images in test dataset - {len(test_dataset)}')"
      ],
      "execution_count": null,
      "outputs": [
        {
          "output_type": "stream",
          "text": [
            "The number of images in train dataset - 55000\n",
            "The number of images in val dataset - 5000\n",
            "The number of images in test dataset - 10000\n"
          ],
          "name": "stdout"
        }
      ]
    },
    {
      "cell_type": "code",
      "metadata": {
        "id": "nKRKlxpZ1kfn"
      },
      "source": [
        "train_loader = DataLoader(train_dataset,batch_size=128,shuffle=True)\n",
        "val_loader = DataLoader(val_dataset,batch_size=128)\n",
        "test_loader = DataLoader(test_dataset,batch_size=128)"
      ],
      "execution_count": null,
      "outputs": []
    },
    {
      "cell_type": "code",
      "metadata": {
        "colab": {
          "base_uri": "https://localhost:8080/"
        },
        "id": "VM45cuD21pV3",
        "outputId": "393626ba-7563-4767-9963-ecc265b74d91"
      },
      "source": [
        "dataiter = iter(train_loader)\n",
        "images, labels, randomNumbers, sums = dataiter.next()\n",
        "\n",
        "print('Images: ', images.shape)\n",
        "print('Labels: ', labels.shape)\n",
        "print('Random Numbers: ', randomNumbers.shape)\n",
        "print('Sum: ', sums.shape)\n",
        "\n",
        "print('\\nLabels: ', labels)\n",
        "print('Random Numbers: ', randomNumbers)\n",
        "print('Sum: ', sums)"
      ],
      "execution_count": null,
      "outputs": [
        {
          "output_type": "stream",
          "text": [
            "Images:  torch.Size([128, 1, 28, 28])\n",
            "Labels:  torch.Size([128])\n",
            "Random Numbers:  torch.Size([128, 10])\n",
            "Sum:  torch.Size([128])\n",
            "\n",
            "Labels:  tensor([6, 2, 7, 7, 8, 9, 9, 2, 1, 2, 5, 1, 7, 2, 6, 7, 1, 4, 2, 1, 6, 5, 0, 7,\n",
            "        6, 4, 0, 9, 5, 5, 5, 8, 2, 1, 8, 7, 1, 4, 7, 5, 1, 4, 5, 8, 8, 1, 2, 7,\n",
            "        3, 8, 1, 5, 1, 7, 8, 2, 1, 7, 7, 7, 3, 3, 2, 3, 5, 0, 2, 7, 6, 3, 3, 3,\n",
            "        0, 8, 4, 5, 1, 7, 0, 7, 3, 7, 6, 7, 4, 7, 2, 2, 3, 6, 5, 9, 2, 0, 1, 3,\n",
            "        7, 4, 2, 6, 1, 1, 9, 1, 8, 1, 7, 8, 7, 6, 0, 5, 7, 7, 8, 6, 0, 1, 3, 3,\n",
            "        6, 7, 8, 4, 2, 3, 1, 3])\n",
            "Random Numbers:  tensor([[0, 0, 0,  ..., 0, 0, 0],\n",
            "        [0, 1, 0,  ..., 0, 0, 0],\n",
            "        [0, 0, 0,  ..., 0, 0, 0],\n",
            "        ...,\n",
            "        [0, 0, 1,  ..., 0, 0, 0],\n",
            "        [0, 0, 0,  ..., 0, 0, 0],\n",
            "        [0, 0, 0,  ..., 0, 0, 0]])\n",
            "Sum:  tensor([ 9,  3, 10, 13, 12, 12, 13,  6,  6,  8,  7,  3,  7,  7, 11, 11,  6, 11,\n",
            "         4,  6,  6,  5,  6, 15, 13, 10,  5, 16,  9, 13,  6, 12, 11,  9, 11, 13,\n",
            "         5,  5,  9, 10,  6,  7,  8, 10,  9,  9,  2, 12, 10, 17, 10, 12,  5,  8,\n",
            "        11, 10,  2, 15, 13, 12,  4,  5,  7,  7,  9,  5,  3, 13, 13, 10,  8, 12,\n",
            "         1,  9, 12,  8,  9, 15,  2, 13, 10, 16,  7, 13,  8,  7,  7,  2, 11,  7,\n",
            "        13, 18,  9,  4,  6,  7, 14,  7,  6, 14,  6,  6, 12, 10,  9,  3,  7, 13,\n",
            "         9, 13,  4, 11, 11, 16, 10, 15,  8,  6,  5,  3,  7, 13, 16, 12,  2,  5,\n",
            "         5,  6])\n"
          ],
          "name": "stdout"
        }
      ]
    },
    {
      "cell_type": "code",
      "metadata": {
        "id": "VeW5Ou5Q17se"
      },
      "source": [
        "class Net(nn.Module):\n",
        "    def __init__(self):\n",
        "        super(Net, self).__init__()\n",
        "        self.conv1 = nn.Conv2d(1, 32, 3, padding=1)       #Input: 28*28*1    Output:28 * 28 * 32    GRF:3 * 3  (GRF - Global Receptive Field)\n",
        "        self.conv2 = nn.Conv2d(32, 64, 3, padding=1)      #Input: 28*28*32   Output:28 * 28 * 64    GRF:5 * 5\n",
        "        self.pool1 = nn.MaxPool2d(2, 2)                   #Input: 28*28*64   Output:14 * 14 * 64    GRF:10*10 (for now we are considering that with max pooling, receptive field doubles - but this is not entirely correct)\n",
        "        self.conv3 = nn.Conv2d(64, 128, 3, padding=1)     #Input: 14*14*64   Output:14 * 14 * 128   GRF:12*12\n",
        "        self.conv4 = nn.Conv2d(128, 256, 3, padding=1)    #Input: 14*14*128  Output:14 * 14 * 256   GRF:14*14\n",
        "        self.pool2 = nn.MaxPool2d(2, 2)                   #Input: 14*14*256  Output: 7 * 7 * 256    GRF:28*28\n",
        "        self.conv5 = nn.Conv2d(256, 512, 3)               #Input: 7*7*256    Output: 5 * 5 * 12     GRF:30*30\n",
        "        self.conv6 = nn.Conv2d(512, 1024, 3)              #Input: 5*5*12     Output: 3 * 3 * 1024   GRF:32*32\n",
        "        self.conv7 = nn.Conv2d(1024, 10, 3)               #Input: 3*3*1024   Output: 1 * 1 * 10     GRF:34*34\n",
        "\n",
        "\n",
        "        self.fc1 = nn.Linear(10+10, 128)                  #Concatenate two inputs \n",
        "        # self.fc2 = nn.Linear(128, 30)\n",
        "        self.fc2 = nn.Linear(128, 19)\n",
        "\n",
        "    def forward(self, image, randomNumber):\n",
        "        #The first convolutional layer self.conv1 has a convolutional operation on input tensor x, followed by a relu activation operation \n",
        "        #whcih is then passed to second convolution operation self.conv2 followed by a relu whose output is then passed to a max pooling \n",
        "        x = self.pool1(F.relu(self.conv2(F.relu(self.conv1(image)))))\n",
        "\n",
        "        #The output of the max pool operation is passed to another two convolution and relu activation operation followed by max pooling. \n",
        "        #The relu() and the max_pool2d() calls are just pure operations. Neither of these have weights  \n",
        "        x = self.pool2(F.relu(self.conv4(F.relu(self.conv3(x)))))\n",
        "\n",
        "        #The output of the max pool operation from 4th convolution is passed to another two sets of convolution and relu activation operation\n",
        "        x = F.relu(self.conv6(F.relu(self.conv5(x))))\n",
        "\n",
        "        # The output from 6th convolution is then passed to a linear layer\n",
        "        x = self.conv7(x)  \n",
        "        # print (x.shape), torch.Size([128, 10, 1, 1])\n",
        "        \n",
        "        #The flatten's all of the tensor's elements into a single dimension.\n",
        "        x = x.view(-1, 10) \n",
        "        # print (x.shape), torch.Size([128, 10])\n",
        "        \n",
        "        #concatenate second input to the output from above convolution\n",
        "        x1 = torch.cat((x, randomNumber), dim=1)\n",
        "        # print (randomNumber.shape), torch.Size([128, 10])\n",
        "        # print (x1.shape), torch.Size([128, 20])\n",
        "        \n",
        "        # Further train the network on Dense Layer\n",
        "        x1 = F.relu(self.fc1(x1))\n",
        "        #x1 = F.relu(self.fc2(x1))    \n",
        "        x1 = self.fc2(x1)  \n",
        "\n",
        "        # Inside the network we usually use relu() as our non-linear activation function, but for the output layer, we use Softmax function for predicting category with maximum probability. \n",
        "        #The softmax function returns a positive probability for each of the prediction classes, and the values sum to 1.\n",
        "\n",
        "        #Model returns two outputs:\n",
        "          #Output1 : \"number\" represented by the MNIST image \n",
        "          #Output2 : \"sum\" of this number with the random number that was generated\n",
        "\n",
        "        return F.log_softmax(x, dim = 1), F.log_softmax(x1, dim = 1)"
      ],
      "execution_count": null,
      "outputs": []
    },
    {
      "cell_type": "code",
      "metadata": {
        "colab": {
          "base_uri": "https://localhost:8080/"
        },
        "id": "InV2HfGi7bvH",
        "outputId": "b9b0f62b-90b6-44a1-b080-70c3af92b3a5"
      },
      "source": [
        "# move the model to the specified device\n",
        "model = Net().to(device)\n",
        "model.eval()"
      ],
      "execution_count": null,
      "outputs": [
        {
          "output_type": "execute_result",
          "data": {
            "text/plain": [
              "Net(\n",
              "  (conv1): Conv2d(1, 32, kernel_size=(3, 3), stride=(1, 1), padding=(1, 1))\n",
              "  (conv2): Conv2d(32, 64, kernel_size=(3, 3), stride=(1, 1), padding=(1, 1))\n",
              "  (pool1): MaxPool2d(kernel_size=2, stride=2, padding=0, dilation=1, ceil_mode=False)\n",
              "  (conv3): Conv2d(64, 128, kernel_size=(3, 3), stride=(1, 1), padding=(1, 1))\n",
              "  (conv4): Conv2d(128, 256, kernel_size=(3, 3), stride=(1, 1), padding=(1, 1))\n",
              "  (pool2): MaxPool2d(kernel_size=2, stride=2, padding=0, dilation=1, ceil_mode=False)\n",
              "  (conv5): Conv2d(256, 512, kernel_size=(3, 3), stride=(1, 1))\n",
              "  (conv6): Conv2d(512, 1024, kernel_size=(3, 3), stride=(1, 1))\n",
              "  (conv7): Conv2d(1024, 10, kernel_size=(3, 3), stride=(1, 1))\n",
              "  (fc1): Linear(in_features=20, out_features=128, bias=True)\n",
              "  (fc2): Linear(in_features=128, out_features=19, bias=True)\n",
              ")"
            ]
          },
          "metadata": {
            "tags": []
          },
          "execution_count": 12
        }
      ]
    },
    {
      "cell_type": "code",
      "metadata": {
        "colab": {
          "base_uri": "https://localhost:8080/"
        },
        "id": "oavsPiYu-Zw4",
        "outputId": "e0152da1-ee65-4bfd-b2d5-203a0b1e0d24"
      },
      "source": [
        "def count_parameters(model):\n",
        "    return sum(p.numel() for p in model.parameters() if p.requires_grad) # Removing if cond doesn't change no. of trainable parameters\n",
        "\n",
        "print(f'The model has {count_parameters(model):,} trainable parameters')"
      ],
      "execution_count": null,
      "outputs": [
        {
          "output_type": "stream",
          "text": [
            "The model has 6,384,925 trainable parameters\n"
          ],
          "name": "stdout"
        }
      ]
    },
    {
      "cell_type": "markdown",
      "metadata": {
        "id": "ptZR-I6m_Hma"
      },
      "source": [
        "***What about biases?***"
      ]
    },
    {
      "cell_type": "code",
      "metadata": {
        "id": "LfRf7hGf_08j"
      },
      "source": [
        "def train(model, device, train_loader, optimizer, epoch):\n",
        "    # set the model in training model\n",
        "    model.train()\n",
        "\n",
        "    epoch_loss = 0\n",
        "\n",
        "    # run for all the data in train_loader\n",
        "    for batch_idx, (data, target, random_number, sum) in enumerate(train_loader):\n",
        "\n",
        "        # fetch the data and the target values\n",
        "        target = target.type(torch.LongTensor)\n",
        "        # print (target.shape)\n",
        "        sum = sum.type(torch.LongTensor)\n",
        "        # print (sum.shape)\n",
        "\n",
        "        # move the data to device\n",
        "        data, target, sum = data.to(device), target.to(device), sum.to(device)\n",
        "\n",
        "        # zero out the gradients\n",
        "        optimizer.zero_grad()\n",
        "\n",
        "        # forward pass the model with the data\n",
        "        output, sum_output = model(data,random_number.to(device))\n",
        "        # print (output.shape)\n",
        "        # print (sum_output.shape)\n",
        "        # print ('------------------')\n",
        "\n",
        "        '''\n",
        "        torch.Size([128]), target\n",
        "        torch.Size([128]), sum\n",
        "        torch.Size([128, 10]), output\n",
        "        torch.Size([128, 19]), sum_output'''\n",
        "\n",
        "        # compute the loss occured\n",
        "        mnist_loss = F.nll_loss(output, target)\n",
        "        addition_loss = F.nll_loss(sum_output, sum)\n",
        "        loss= (mnist_loss + addition_loss)/2\n",
        "\n",
        "        epoch_loss += loss.item()\n",
        "\n",
        "        # compute the backward gradients\n",
        "        loss.backward()\n",
        "\n",
        "        # update the optimizer params\n",
        "        optimizer.step()\n",
        "    print('Train set: Average loss: {:.4f}'.format(loss.item()))\n",
        "\n",
        "    train_loss = epoch_loss / len(train_loader) #len(train_loader)==>430 i.e average loss per batch for this epoch\n",
        "    return train_loss"
      ],
      "execution_count": null,
      "outputs": []
    },
    {
      "cell_type": "code",
      "metadata": {
        "id": "qgYsREkPCKP8"
      },
      "source": [
        "def test(model, device, test_loader,test_type='Val'):\n",
        "    # set the model in evaluation model\n",
        "    model.eval()\n",
        "\n",
        "    # set the loss to zero\n",
        "    test_loss = 0\n",
        "    \n",
        "    # the number of correct classifications\n",
        "    correct_mnist = 0\n",
        "    correct_addition = 0\n",
        "\n",
        "    # turn off gradients during the testing\n",
        "    with torch.no_grad():\n",
        "        for (data, target, random_number, sum) in test_loader:\n",
        "\n",
        "            # move the data to device\n",
        "            target = target.type(torch.LongTensor)\n",
        "            sum = sum.type(torch.LongTensor)\n",
        "            data, target,sum = data.to(device), target.to(device), sum.to(device)\n",
        "\n",
        "            # forward pass the model and get the output\n",
        "            output, sum_output = model(data,random_number.to(device))\n",
        "\n",
        "            # accumulate the loss from both the network outputs\n",
        "            test_loss += (F.nll_loss(output, target, reduction='sum').item() + F.nll_loss(sum_output, sum, reduction='sum').item())/2\n",
        "\n",
        "            # get the index of max log-probability\n",
        "            mnist_pred = output.argmax(dim=1, keepdim=True) # torch.Size([128, 1]), if keep_dim=False, then torch.Size([128])\n",
        "            # print (mnist_pred.shape)\n",
        "            addition_pred = sum_output.argmax(dim=1, keepdim=True) # torch.Size([128, 1])\n",
        "            # print (addition_pred.shape)\n",
        "            # print ('-----------')\n",
        "\n",
        "            # increment the correct prediction count if pred is correct\n",
        "            correct_mnist += mnist_pred.eq(target.view_as(mnist_pred)).sum().item()\n",
        "            correct_addition += addition_pred.eq(sum.view_as(addition_pred)).sum().item()\n",
        "\n",
        "\n",
        "    # test loss divided by the total number of items in test dataset\n",
        "    test_loss /= len(test_loader.dataset) # Average loss per image in this epoch\n",
        "    print(f'{test_type} set: Average loss: {test_loss:.3f}, MNist Accuracy:{100. * correct_mnist/len(test_loader.dataset)}, Sum_Accuracy:{100. * correct_addition/len(test_loader.dataset)}')\n",
        "\n",
        "    return test_loss"
      ],
      "execution_count": null,
      "outputs": []
    },
    {
      "cell_type": "code",
      "metadata": {
        "colab": {
          "base_uri": "https://localhost:8080/"
        },
        "id": "hh0L4yhCEJoF",
        "outputId": "8f473686-fabf-4328-879d-345de0d36b6b"
      },
      "source": [
        "# move the model to the specified device\n",
        "model = Net().to(device)\n",
        "\n",
        "# use Stochastic Gradient Descent as the optimizer\n",
        "optimizer = optim.SGD(model.parameters(), lr=0.01, momentum=0.7)\n",
        "\n",
        "# set the number of epochs to train for\n",
        "num_epoch = 25\n",
        "\n",
        "train_loss_values = []\n",
        "valid_loss_values = []\n",
        "\n",
        "# run it for epoch number of times\n",
        "for epoch in range(1, num_epoch+1):\n",
        "    print('\\nEpoch {} : '.format(epoch))\n",
        "    # train the model\n",
        "    train_loss = train(model, device, train_loader, optimizer, epoch)\n",
        "    valid_loss = test(model, device, val_loader)\n",
        "    # test the model\n",
        "\n",
        "    train_loss_values.append(train_loss)\n",
        "    valid_loss_values.append(valid_loss)\n",
        "   "
      ],
      "execution_count": null,
      "outputs": [
        {
          "output_type": "stream",
          "text": [
            "\n",
            "Epoch 1 : \n",
            "Train set: Average loss: 1.3371\n",
            "Val set: Average loss: 1.350, MNist Accuracy:92.8, Sum_Accuracy:12.24\n",
            "\n",
            "Epoch 2 : \n",
            "Train set: Average loss: 1.1886\n",
            "Val set: Average loss: 1.229, MNist Accuracy:96.08, Sum_Accuracy:16.62\n",
            "\n",
            "Epoch 3 : \n",
            "Train set: Average loss: 1.2034\n",
            "Val set: Average loss: 1.160, MNist Accuracy:98.12, Sum_Accuracy:20.96\n",
            "\n",
            "Epoch 4 : \n",
            "Train set: Average loss: 1.0661\n",
            "Val set: Average loss: 1.107, MNist Accuracy:98.4, Sum_Accuracy:26.42\n",
            "\n",
            "Epoch 5 : \n",
            "Train set: Average loss: 1.0658\n",
            "Val set: Average loss: 1.061, MNist Accuracy:98.3, Sum_Accuracy:32.6\n",
            "\n",
            "Epoch 6 : \n",
            "Train set: Average loss: 1.0008\n",
            "Val set: Average loss: 0.991, MNist Accuracy:98.64, Sum_Accuracy:46.76\n",
            "\n",
            "Epoch 7 : \n",
            "Train set: Average loss: 0.9076\n",
            "Val set: Average loss: 0.915, MNist Accuracy:98.84, Sum_Accuracy:52.54\n",
            "\n",
            "Epoch 8 : \n",
            "Train set: Average loss: 0.8371\n",
            "Val set: Average loss: 0.827, MNist Accuracy:98.94, Sum_Accuracy:69.6\n",
            "\n",
            "Epoch 9 : \n",
            "Train set: Average loss: 0.7605\n",
            "Val set: Average loss: 0.745, MNist Accuracy:98.96, Sum_Accuracy:78.64\n",
            "\n",
            "Epoch 10 : \n",
            "Train set: Average loss: 0.6318\n",
            "Val set: Average loss: 0.656, MNist Accuracy:99.02, Sum_Accuracy:86.84\n",
            "\n",
            "Epoch 11 : \n",
            "Train set: Average loss: 0.5687\n",
            "Val set: Average loss: 0.559, MNist Accuracy:99.14, Sum_Accuracy:92.9\n",
            "\n",
            "Epoch 12 : \n",
            "Train set: Average loss: 0.4310\n",
            "Val set: Average loss: 0.468, MNist Accuracy:99.08, Sum_Accuracy:96.72\n",
            "\n",
            "Epoch 13 : \n",
            "Train set: Average loss: 0.3859\n",
            "Val set: Average loss: 0.386, MNist Accuracy:99.24, Sum_Accuracy:97.76\n",
            "\n",
            "Epoch 14 : \n",
            "Train set: Average loss: 0.2773\n",
            "Val set: Average loss: 0.320, MNist Accuracy:99.08, Sum_Accuracy:98.54\n",
            "\n",
            "Epoch 15 : \n",
            "Train set: Average loss: 0.2369\n",
            "Val set: Average loss: 0.255, MNist Accuracy:99.2, Sum_Accuracy:98.84\n",
            "\n",
            "Epoch 16 : \n",
            "Train set: Average loss: 0.1809\n",
            "Val set: Average loss: 0.217, MNist Accuracy:99.0, Sum_Accuracy:98.64\n",
            "\n",
            "Epoch 17 : \n",
            "Train set: Average loss: 0.1537\n",
            "Val set: Average loss: 0.178, MNist Accuracy:99.2, Sum_Accuracy:98.96\n",
            "\n",
            "Epoch 18 : \n",
            "Train set: Average loss: 0.1172\n",
            "Val set: Average loss: 0.148, MNist Accuracy:99.34, Sum_Accuracy:98.98\n",
            "\n",
            "Epoch 19 : \n",
            "Train set: Average loss: 0.1046\n",
            "Val set: Average loss: 0.128, MNist Accuracy:99.22, Sum_Accuracy:99.08\n",
            "\n",
            "Epoch 20 : \n",
            "Train set: Average loss: 0.0908\n",
            "Val set: Average loss: 0.111, MNist Accuracy:99.3, Sum_Accuracy:99.02\n",
            "\n",
            "Epoch 21 : \n",
            "Train set: Average loss: 0.0759\n",
            "Val set: Average loss: 0.101, MNist Accuracy:99.18, Sum_Accuracy:99.04\n",
            "\n",
            "Epoch 22 : \n",
            "Train set: Average loss: 0.0641\n",
            "Val set: Average loss: 0.088, MNist Accuracy:99.32, Sum_Accuracy:99.36\n",
            "\n",
            "Epoch 23 : \n",
            "Train set: Average loss: 0.0618\n",
            "Val set: Average loss: 0.082, MNist Accuracy:99.3, Sum_Accuracy:99.2\n",
            "\n",
            "Epoch 24 : \n",
            "Train set: Average loss: 0.0503\n",
            "Val set: Average loss: 0.072, MNist Accuracy:99.36, Sum_Accuracy:99.22\n",
            "\n",
            "Epoch 25 : \n",
            "Train set: Average loss: 0.0482\n",
            "Val set: Average loss: 0.070, MNist Accuracy:99.3, Sum_Accuracy:99.14\n"
          ],
          "name": "stdout"
        }
      ]
    },
    {
      "cell_type": "code",
      "metadata": {
        "colab": {
          "base_uri": "https://localhost:8080/",
          "height": 427
        },
        "id": "LBbda5V_EoZs",
        "outputId": "9ed6fcc8-ba53-45a8-c87a-e28f17658cea"
      },
      "source": [
        "import matplotlib.pyplot as plt\n",
        "% matplotlib inline\n",
        "\n",
        "import seaborn as sns\n",
        "\n",
        "# Use plot styling from seaborn.\n",
        "sns.set(style='darkgrid')\n",
        "\n",
        "# Increase the plot size and font size.\n",
        "sns.set(font_scale=1.5)\n",
        "plt.rcParams[\"figure.figsize\"] = (12,6)\n",
        "\n",
        "# Plot the learning curve.\n",
        "plt.plot(np.array(train_loss_values), 'b-o', label=\"Training\")\n",
        "plt.plot(np.array(valid_loss_values), 'g-o', label=\"Validation\")\n",
        "\n",
        "\n",
        "# Label the plot.\n",
        "plt.title(\"Training & Validation Loss\")\n",
        "plt.xlabel(\"Epoch\")\n",
        "plt.ylabel(\"Loss\")\n",
        "plt.legend()\n",
        "plt.show()"
      ],
      "execution_count": null,
      "outputs": [
        {
          "output_type": "display_data",
          "data": {
            "image/png": "[encoded data removed]",
            "text/plain": [
              "<Figure size 864x432 with 1 Axes>"
            ]
          },
          "metadata": {
            "tags": []
          }
        }
      ]
    },
    {
      "cell_type": "code",
      "metadata": {
        "colab": {
          "base_uri": "https://localhost:8080/"
        },
        "id": "Zsx5ijLuYw-A",
        "outputId": "94c3d1c3-a98e-421f-bc23-eb31de95b061"
      },
      "source": [
        "test_loss = test(model, device, test_loader,'Test')"
      ],
      "execution_count": null,
      "outputs": [
        {
          "output_type": "stream",
          "text": [
            "Test set: Average loss: 0.068, MNist Accuracy:99.28, Sum_Accuracy:99.24\n"
          ],
          "name": "stdout"
        }
      ]
    },
    {
      "cell_type": "code",
      "metadata": {
        "id": "a3ZMQpeWaLCS"
      },
      "source": [
        "def prediction(image,rnum):\n",
        "\n",
        "    rnum_ohe = torch.zeros(11).long() #tensor([0, 0, 0, 0, 0, 0, 0, 0, 0, 0, 0]), long() keeps it int instead of 0.\n",
        "    rnum_ohe[rnum] = 1\n",
        "    rnum_ohe = rnum_ohe[:-1] # removes the last zero :/\n",
        "\n",
        "    #tensored_image = image.unsqueeze(dim=1).to(device)\n",
        "    output_1,output_2 = model(image.unsqueeze(dim=1).to(device),rnum_ohe.reshape(-1,10).to(device)) #tensor([[0, 0, 1, 0, 0, 0, 0, 0, 0, 0]]) is what .reshape(-1,10) does as we need to fake a batch\n",
        "    # image.unsqueeze(dim=1) is giving same shape as image.unsqueeze(dim=0) i.e torch.Size([1, 1, 28, 28])\n",
        "\n",
        "    mnist_pred = output_1.argmax(dim=1, keepdim=True)\n",
        "    sum_pred = output_2.argmax(dim=1, keepdim=True)\n",
        "\n",
        "    #print(f\"Random Number Generated is {rnum}\")\n",
        "    fig = plt.figure(figsize=(5, 5))\n",
        "    ax = fig.add_subplot(3, 3, 1)\n",
        "    ax.axis('off')\n",
        "    ax.imshow(image.cpu().numpy().squeeze())\n",
        "    ax.set_title(f'Random Number Generated : {rnum} \\n'\n",
        "                 f'Mnist Prediction: {mnist_pred.item()} \\n'\n",
        "                 f'Sum: {rnum} + {mnist_pred.item()} = {sum_pred.item()}')\n",
        "    return mnist_pred, sum_pred"
      ],
      "execution_count": null,
      "outputs": []
    },
    {
      "cell_type": "code",
      "metadata": {
        "colab": {
          "base_uri": "https://localhost:8080/",
          "height": 172
        },
        "id": "ica2BsYdcK-k",
        "outputId": "57be2d58-4f35-46d2-ad6b-469716d7a3ff"
      },
      "source": [
        "image,_,_,_ = test_dataset[random.randint(1,10000)]\n",
        "rnum=random.randint(0,9)\n",
        "mnist_pred, sum_pred =prediction(image,rnum)"
      ],
      "execution_count": null,
      "outputs": [
        {
          "output_type": "display_data",
          "data": {
            "image/png": "[encoded data removed]",
            "text/plain": [
              "<Figure size 360x360 with 1 Axes>"
            ]
          },
          "metadata": {
            "tags": []
          }
        }
      ]
    },
    {
      "cell_type": "code",
      "metadata": {
        "colab": {
          "base_uri": "https://localhost:8080/"
        },
        "id": "p6pid7l5fT0L",
        "outputId": "eab2b559-c918-4c9a-8d06-9c859070a812"
      },
      "source": [
        "image.unsqueeze(dim=1).shape"
      ],
      "execution_count": null,
      "outputs": [
        {
          "output_type": "execute_result",
          "data": {
            "text/plain": [
              "torch.Size([1, 1, 28, 28])"
            ]
          },
          "metadata": {
            "tags": []
          },
          "execution_count": 64
        }
      ]
    },
    {
      "cell_type": "code",
      "metadata": {
        "id": "0LwlmDiGdaX5"
      },
      "source": [
        "x = torch.zeros(11).long()"
      ],
      "execution_count": null,
      "outputs": []
    },
    {
      "cell_type": "code",
      "metadata": {
        "id": "K58OWEdVda4u"
      },
      "source": [
        "x[2]=1"
      ],
      "execution_count": null,
      "outputs": []
    },
    {
      "cell_type": "code",
      "metadata": {
        "colab": {
          "base_uri": "https://localhost:8080/"
        },
        "id": "rOY-llS9dvUf",
        "outputId": "f08a1b56-8a56-4a4c-ee7f-2e284d247a88"
      },
      "source": [
        "x"
      ],
      "execution_count": null,
      "outputs": [
        {
          "output_type": "execute_result",
          "data": {
            "text/plain": [
              "tensor([0, 0, 1, 0, 0, 0, 0, 0, 0, 0, 0])"
            ]
          },
          "metadata": {
            "tags": []
          },
          "execution_count": 52
        }
      ]
    },
    {
      "cell_type": "code",
      "metadata": {
        "id": "lxpB4pdodv07"
      },
      "source": [
        "x=x[:-1]"
      ],
      "execution_count": null,
      "outputs": []
    },
    {
      "cell_type": "code",
      "metadata": {
        "colab": {
          "base_uri": "https://localhost:8080/"
        },
        "id": "075JhQY7dz3l",
        "outputId": "d6ebb050-11f5-48e2-cac1-6b8b0a72cf52"
      },
      "source": [
        "x.reshape(-1,10)"
      ],
      "execution_count": null,
      "outputs": [
        {
          "output_type": "execute_result",
          "data": {
            "text/plain": [
              "tensor([[0, 0, 1, 0, 0, 0, 0, 0, 0, 0]])"
            ]
          },
          "metadata": {
            "tags": []
          },
          "execution_count": 55
        }
      ]
    },
    {
      "cell_type": "code",
      "metadata": {
        "id": "QGVUwaV7eSDl"
      },
      "source": [
        ""
      ],
      "execution_count": null,
      "outputs": []
    }
  ]
}